{
 "cells": [
  {
   "cell_type": "code",
   "execution_count": 1,
   "id": "4c6a236c-9563-400e-ad73-858a0e9ac4c9",
   "metadata": {},
   "outputs": [
    {
     "name": "stderr",
     "output_type": "stream",
     "text": [
      "/Users/dodkins/.conda/envs/stocks/lib/python3.8/site-packages/scipy/__init__.py:146: UserWarning: A NumPy version >=1.16.5 and <1.23.0 is required for this version of SciPy (detected version 1.23.3\n",
      "  warnings.warn(f\"A NumPy version >={np_minversion} and <{np_maxversion}\"\n"
     ]
    }
   ],
   "source": [
    "%matplotlib inline\n",
    "%load_ext autoreload\n",
    "%autoreload 2\n",
    "\n",
    "import sys\n",
    "sys.path.append('/Users/dodkins/PythonProjects/stocks/options_testing/options_testing')\n",
    "\n",
    "import os\n",
    "from datetime import datetime \n",
    "import pandas as pd\n",
    "import opstrat as op\n",
    "\n",
    "from robinhood import get_options_plays\n",
    "from yahoo import get_tsla \n",
    "from plots import plot_candles, plot_line, plot\n",
    "from strategies import get_option_history, weekly_short_calls, LEAPS\n",
    "from utils import aggregate\n",
    "from quantconnect import load_tsla_hourly"
   ]
  },
  {
   "cell_type": "code",
   "execution_count": 13,
   "id": "49d61937-e7b0-46f2-9888-1c55bf2e5567",
   "metadata": {},
   "outputs": [
    {
     "data": {
      "text/html": [
       "<div>\n",
       "<style scoped>\n",
       "    .dataframe tbody tr th:only-of-type {\n",
       "        vertical-align: middle;\n",
       "    }\n",
       "\n",
       "    .dataframe tbody tr th {\n",
       "        vertical-align: top;\n",
       "    }\n",
       "\n",
       "    .dataframe thead th {\n",
       "        text-align: right;\n",
       "    }\n",
       "</style>\n",
       "<table border=\"1\" class=\"dataframe\">\n",
       "  <thead>\n",
       "    <tr style=\"text-align: right;\">\n",
       "      <th></th>\n",
       "      <th>2022-04-06 10:00:00 TSLA  220414C01035000</th>\n",
       "      <th>Bid=41.7 Ask=42.4 Last=42.65 OI=498.0 sigma=0.744 NPV=62.784                             delta=0.564 gamma=0.003 vega=74.819 beta=17.35 theta=-2.29 IV=0.47</th>\n",
       "    </tr>\n",
       "  </thead>\n",
       "  <tbody>\n",
       "    <tr>\n",
       "      <th>0</th>\n",
       "      <td>2022-04-06 10:00:00 TSLA  220414C01040000</td>\n",
       "      <td>Bid=38.95 Ask=39.5 Last=39.22 OI=466.0 sigma=0...</td>\n",
       "    </tr>\n",
       "    <tr>\n",
       "      <th>1</th>\n",
       "      <td>2022-04-06 10:00:00 TSLA  220414C01045000</td>\n",
       "      <td>Bid=36.2 Ask=36.75 Last=36.7 OI=374.0 sigma=0....</td>\n",
       "    </tr>\n",
       "    <tr>\n",
       "      <th>2</th>\n",
       "      <td>2022-04-06 10:00:00 TSLA  220414C01050000</td>\n",
       "      <td>Bid=33.6 Ask=34.1 Last=34.01 OI=2204.0 sigma=0...</td>\n",
       "    </tr>\n",
       "    <tr>\n",
       "      <th>3</th>\n",
       "      <td>2022-04-06 10:00:00 TSLA  220414C01055000</td>\n",
       "      <td>Bid=31.15 Ask=31.6 Last=31.5 OI=354.0 sigma=0....</td>\n",
       "    </tr>\n",
       "    <tr>\n",
       "      <th>4</th>\n",
       "      <td>2022-04-06 10:00:00 TSLA  220414C01060000</td>\n",
       "      <td>Bid=28.8 Ask=29.25 Last=29.12 OI=823.0 sigma=0...</td>\n",
       "    </tr>\n",
       "    <tr>\n",
       "      <th>...</th>\n",
       "      <td>...</td>\n",
       "      <td>...</td>\n",
       "    </tr>\n",
       "    <tr>\n",
       "      <th>629</th>\n",
       "      <td>2022-04-12 16:00:00 TSLA  220414P01015000</td>\n",
       "      <td>Bid=33.15 Ask=34.5 Last=33.98 OI=628.0 sigma=0...</td>\n",
       "    </tr>\n",
       "    <tr>\n",
       "      <th>630</th>\n",
       "      <td>2022-04-12 16:00:00 TSLA  220414P01020000</td>\n",
       "      <td>Bid=37.05 Ask=38.45 Last=38.0 OI=1143.0 sigma=...</td>\n",
       "    </tr>\n",
       "    <tr>\n",
       "      <th>631</th>\n",
       "      <td>2022-04-12 16:00:00 TSLA  220414P01025000</td>\n",
       "      <td>Bid=41.15 Ask=42.65 Last=42.28 OI=1861.0 sigma...</td>\n",
       "    </tr>\n",
       "    <tr>\n",
       "      <th>632</th>\n",
       "      <td>2022-04-12 16:00:00 TSLA  220414P01030000</td>\n",
       "      <td>Bid=45.45 Ask=47.05 Last=46.44 OI=1842.0 sigma...</td>\n",
       "    </tr>\n",
       "    <tr>\n",
       "      <th>633</th>\n",
       "      <td>2022-04-12 16:00:00 Algorithm Id:(8b4d1d105a61...</td>\n",
       "      <td>003 data points.</td>\n",
       "    </tr>\n",
       "  </tbody>\n",
       "</table>\n",
       "<p>634 rows × 2 columns</p>\n",
       "</div>"
      ],
      "text/plain": [
       "             2022-04-06 10:00:00 TSLA  220414C01035000  \\\n",
       "0            2022-04-06 10:00:00 TSLA  220414C01040000   \n",
       "1            2022-04-06 10:00:00 TSLA  220414C01045000   \n",
       "2            2022-04-06 10:00:00 TSLA  220414C01050000   \n",
       "3            2022-04-06 10:00:00 TSLA  220414C01055000   \n",
       "4            2022-04-06 10:00:00 TSLA  220414C01060000   \n",
       "..                                                 ...   \n",
       "629          2022-04-12 16:00:00 TSLA  220414P01015000   \n",
       "630          2022-04-12 16:00:00 TSLA  220414P01020000   \n",
       "631          2022-04-12 16:00:00 TSLA  220414P01025000   \n",
       "632          2022-04-12 16:00:00 TSLA  220414P01030000   \n",
       "633  2022-04-12 16:00:00 Algorithm Id:(8b4d1d105a61...   \n",
       "\n",
       "    Bid=41.7 Ask=42.4 Last=42.65 OI=498.0 sigma=0.744 NPV=62.784                             delta=0.564 gamma=0.003 vega=74.819 beta=17.35 theta=-2.29 IV=0.47  \n",
       "0    Bid=38.95 Ask=39.5 Last=39.22 OI=466.0 sigma=0...                                                                                                           \n",
       "1    Bid=36.2 Ask=36.75 Last=36.7 OI=374.0 sigma=0....                                                                                                           \n",
       "2    Bid=33.6 Ask=34.1 Last=34.01 OI=2204.0 sigma=0...                                                                                                           \n",
       "3    Bid=31.15 Ask=31.6 Last=31.5 OI=354.0 sigma=0....                                                                                                           \n",
       "4    Bid=28.8 Ask=29.25 Last=29.12 OI=823.0 sigma=0...                                                                                                           \n",
       "..                                                 ...                                                                                                           \n",
       "629  Bid=33.15 Ask=34.5 Last=33.98 OI=628.0 sigma=0...                                                                                                           \n",
       "630  Bid=37.05 Ask=38.45 Last=38.0 OI=1143.0 sigma=...                                                                                                           \n",
       "631  Bid=41.15 Ask=42.65 Last=42.28 OI=1861.0 sigma...                                                                                                           \n",
       "632  Bid=45.45 Ask=47.05 Last=46.44 OI=1842.0 sigma...                                                                                                           \n",
       "633                                   003 data points.                                                                                                           \n",
       "\n",
       "[634 rows x 2 columns]"
      ]
     },
     "execution_count": 13,
     "metadata": {},
     "output_type": "execute_result"
    }
   ],
   "source": [
    "pd.read_csv('../data/CalmFluorescentOrangeBee.txt', header=4)"
   ]
  },
  {
   "cell_type": "code",
   "execution_count": 15,
   "id": "30ff56c4-a3fe-4602-948e-8fb1a24c0664",
   "metadata": {},
   "outputs": [],
   "source": [
    "filename = '../data/CalmFluorescentOrangeBee.txt'"
   ]
  },
  {
   "cell_type": "code",
   "execution_count": 16,
   "id": "890d6add-39ac-4c62-9cb0-d723a9e45f95",
   "metadata": {},
   "outputs": [],
   "source": [
    "with open(filename) as f:\n",
    "    lines = f.readlines()"
   ]
  },
  {
   "cell_type": "code",
   "execution_count": 25,
   "id": "5cc5d23e-1213-4904-ad02-e61d313d028c",
   "metadata": {},
   "outputs": [
    {
     "name": "stdout",
     "output_type": "stream",
     "text": [
      "2022-03-25 00:00:00 Warning: The following securities were set to raw price normalization mode to work with options: TSLA...\n",
      " 1\n",
      "2022-03-25 00:00:00 Algorithm starting warm up...\n",
      " 2\n",
      "2022-03-29 10:00:00 Algorithm finished warming up.\n",
      " 3\n"
     ]
    }
   ],
   "source": [
    "l = 0\n",
    "line = lines[l]\n",
    "while 'Algorithm finished warming up' not in line:\n",
    "    l += 1\n",
    "    line = lines[l]\n",
    "    print(line, l)\n",
    "lines = lines[l+1:]"
   ]
  },
  {
   "cell_type": "code",
   "execution_count": 30,
   "id": "2e4c53bf-98be-4e74-8720-f3b4f3e7d1b1",
   "metadata": {},
   "outputs": [],
   "source": [
    "l = -1\n",
    "line = lines[l]\n",
    "while 'completed in' not in line:\n",
    "    l -= 1\n",
    "    line = lines[l]\n",
    "    print(line, l)\n",
    "lines = lines[:l]"
   ]
  },
  {
   "cell_type": "code",
   "execution_count": 31,
   "id": "24f7cc4c-fe6c-49fb-9a74-0b41f8277fe5",
   "metadata": {
    "collapsed": true,
    "jupyter": {
     "outputs_hidden": true
    },
    "tags": []
   },
   "outputs": [
    {
     "data": {
      "text/plain": [
       "['2022-04-06 10:00:00 TSLA  220414C01035000,Bid=41.7 Ask=42.4 Last=42.65 OI=498.0 sigma=0.744 NPV=62.784                             delta=0.564 gamma=0.003 vega=74.819 beta=17.35 theta=-2.29 IV=0.47\\n',\n",
       " '2022-04-06 10:00:00 TSLA  220414C01040000,Bid=38.95 Ask=39.5 Last=39.22 OI=466.0 sigma=0.744 NPV=60.270                             delta=0.550 gamma=0.003 vega=75.201 beta=16.95 theta=-2.30 IV=0.46\\n',\n",
       " '2022-04-06 10:00:00 TSLA  220414C01045000,Bid=36.2 Ask=36.75 Last=36.7 OI=374.0 sigma=0.744 NPV=57.826                             delta=0.536 gamma=0.003 vega=75.487 beta=16.55 theta=-2.31 IV=0.46\\n',\n",
       " '2022-04-06 10:00:00 TSLA  220414C01050000,Bid=33.6 Ask=34.1 Last=34.01 OI=2204.0 sigma=0.744 NPV=55.454                             delta=0.521 gamma=0.003 vega=75.678 beta=16.14 theta=-2.31 IV=0.46\\n',\n",
       " '2022-04-06 10:00:00 TSLA  220414C01055000,Bid=31.15 Ask=31.6 Last=31.5 OI=354.0 sigma=0.744 NPV=53.151                             delta=0.507 gamma=0.003 vega=75.774 beta=15.73 theta=-2.32 IV=0.46\\n',\n",
       " '2022-04-06 10:00:00 TSLA  220414C01060000,Bid=28.8 Ask=29.25 Last=29.12 OI=823.0 sigma=0.744 NPV=50.919                             delta=0.493 gamma=0.003 vega=75.777 beta=15.32 theta=-2.32 IV=0.45\\n',\n",
       " '2022-04-06 10:00:00 TSLA  220414P01035000,Bid=29.0 Ask=29.35 Last=29.05 OI=340.0 sigma=0.744 NPV=49.744                             delta=-0.436 gamma=0.003 vega=74.820 beta=-15.39 theta=-2.26 IV=0.47\\n',\n",
       " '2022-04-06 10:00:00 TSLA  220414P01040000,Bid=31.1 Ask=31.5 Last=31.23 OI=742.0 sigma=0.744 NPV=52.229                             delta=-0.451 gamma=0.003 vega=75.201 beta=-15.89 theta=-2.27 IV=0.47\\n',\n",
       " '2022-04-06 10:00:00 TSLA  220414P01045000,Bid=33.35 Ask=33.75 Last=33.55 OI=603.0 sigma=0.744 NPV=54.785                             delta=-0.465 gamma=0.003 vega=75.486 beta=-16.36 theta=-2.28 IV=0.46\\n',\n",
       " '2022-04-06 10:00:00 TSLA  220414P01050000,Bid=35.8 Ask=36.15 Last=35.9 OI=5957.0 sigma=0.744 NPV=57.412                             delta=-0.479 gamma=0.003 vega=75.676 beta=-16.84 theta=-2.29 IV=0.46\\n',\n",
       " '2022-04-06 10:00:00 TSLA  220414P01055000,Bid=38.25 Ask=38.7 Last=38.35 OI=648.0 sigma=0.744 NPV=60.108                             delta=-0.493 gamma=0.003 vega=75.771 beta=-17.31 theta=-2.29 IV=0.46\\n',\n",
       " '2022-04-06 10:00:00 TSLA  220414P01060000,Bid=40.9 Ask=41.35 Last=41.05 OI=767.0 sigma=0.744 NPV=62.875                             delta=-0.507 gamma=0.003 vega=75.772 beta=-17.76 theta=-2.29 IV=0.46\\n',\n",
       " '2022-04-06 11:00:00 TSLA  220414C01035000,Bid=38.4 Ask=39.0 Last=39.45 OI=498.0 sigma=0.744 NPV=60.044                             delta=0.550 gamma=0.003 vega=74.840 beta=16.88 theta=-2.29 IV=0.46\\n',\n",
       " '2022-04-06 11:00:00 TSLA  220414C01040000,Bid=35.75 Ask=36.25 Last=36.19 OI=466.0 sigma=0.744 NPV=57.600                             delta=0.536 gamma=0.003 vega=75.128 beta=16.48 theta=-2.30 IV=0.46\\n',\n",
       " '2022-04-06 11:00:00 TSLA  220414C01045000,Bid=33.15 Ask=33.5 Last=33.54 OI=374.0 sigma=0.744 NPV=55.226                             delta=0.522 gamma=0.003 vega=75.320 beta=16.07 theta=-2.30 IV=0.45\\n',\n",
       " '2022-04-06 11:00:00 TSLA  220414C01050000,Bid=30.65 Ask=31.1 Last=30.9 OI=2204.0 sigma=0.744 NPV=52.923                             delta=0.508 gamma=0.003 vega=75.418 beta=15.66 theta=-2.31 IV=0.45\\n',\n",
       " '2022-04-06 11:00:00 TSLA  220414C01055000,Bid=28.3 Ask=28.7 Last=28.85 OI=354.0 sigma=0.744 NPV=50.689                             delta=0.493 gamma=0.003 vega=75.421 beta=15.25 theta=-2.31 IV=0.45\\n',\n",
       " '2022-04-06 11:00:00 TSLA  220414C01060000,Bid=26.1 Ask=26.45 Last=27.55 OI=823.0 sigma=0.744 NPV=48.525                             delta=0.480 gamma=0.003 vega=75.332 beta=14.85 theta=-2.30 IV=0.45\\n',\n",
       " '2022-04-06 11:00:00 TSLA  220414P01035000,Bid=30.55 Ask=30.95 Last=29.85 OI=340.0 sigma=0.744 NPV=51.925                             delta=-0.450 gamma=0.003 vega=74.840 beta=-15.80 theta=-2.26 IV=0.46\\n',\n",
       " '2022-04-06 11:00:00 TSLA  220414P01040000,Bid=32.8 Ask=33.2 Last=33.0 OI=742.0 sigma=0.744 NPV=54.480                             delta=-0.464 gamma=0.003 vega=75.127 beta=-16.27 theta=-2.27 IV=0.46\\n',\n",
       " '2022-04-06 11:00:00 TSLA  220414P01045000,Bid=35.15 Ask=35.6 Last=35.15 OI=603.0 sigma=0.744 NPV=57.105                             delta=-0.479 gamma=0.003 vega=75.319 beta=-16.76 theta=-2.28 IV=0.46\\n',\n",
       " '2022-04-06 11:00:00 TSLA  220414P01050000,Bid=37.65 Ask=38.0 Last=37.8 OI=5957.0 sigma=0.744 NPV=59.801                             delta=-0.493 gamma=0.003 vega=75.415 beta=-17.22 theta=-2.28 IV=0.45\\n',\n",
       " '2022-04-06 11:00:00 TSLA  220414P01055000,Bid=40.25 Ask=40.75 Last=40.1 OI=648.0 sigma=0.744 NPV=62.567                             delta=-0.507 gamma=0.003 vega=75.416 beta=-17.67 theta=-2.28 IV=0.45\\n',\n",
       " '2022-04-06 11:00:00 TSLA  220414P01060000,Bid=43.0 Ask=43.55 Last=41.05 OI=767.0 sigma=0.744 NPV=65.402                             delta=-0.521 gamma=0.003 vega=75.329 beta=-18.16 theta=-2.27 IV=0.45\\n',\n",
       " '2022-04-06 11:00:00 TSLA  220414C01030000,Bid=41.2 Ask=41.9 Last=42.0 OI=345.0 sigma=0.744 NPV=62.560                             delta=0.564 gamma=0.003 vega=74.456 beta=17.28 theta=-2.28 IV=0.46\\n',\n",
       " '2022-04-06 11:00:00 TSLA  220414P01030000,Bid=28.45 Ask=28.8 Last=27.0 OI=1106.0 sigma=0.744 NPV=49.442                             delta=-0.436 gamma=0.003 vega=74.457 beta=-15.30 theta=-2.25 IV=0.46\\n',\n",
       " '2022-04-06 12:00:00 TSLA  220414C01030000,Bid=40.65 Ask=41.25 Last=40.68 OI=345.0 sigma=0.744 NPV=62.031                             delta=0.561 gamma=0.003 vega=74.467 beta=17.19 theta=-2.28 IV=0.46\\n',\n",
       " '2022-04-06 12:00:00 TSLA  220414C01035000,Bid=37.9 Ask=38.4 Last=38.09 OI=498.0 sigma=0.744 NPV=59.529                             delta=0.547 gamma=0.003 vega=74.833 beta=16.79 theta=-2.29 IV=0.46\\n',\n",
       " '2022-04-06 12:00:00 TSLA  220414C01040000,Bid=35.2 Ask=35.7 Last=35.2 OI=466.0 sigma=0.744 NPV=57.097                             delta=0.533 gamma=0.003 vega=75.103 beta=16.38 theta=-2.30 IV=0.46\\n',\n",
       " '2022-04-06 12:00:00 TSLA  220414C01045000,Bid=32.65 Ask=33.1 Last=32.6 OI=374.0 sigma=0.744 NPV=54.737                             delta=0.519 gamma=0.003 vega=75.278 beta=15.98 theta=-2.30 IV=0.45\\n',\n",
       " '2022-04-06 12:00:00 TSLA  220414C01050000,Bid=30.2 Ask=30.6 Last=30.3 OI=2204.0 sigma=0.744 NPV=52.447                             delta=0.505 gamma=0.003 vega=75.358 beta=15.57 theta=-2.30 IV=0.45\\n',\n",
       " '2022-04-06 12:00:00 TSLA  220414C01055000,Bid=27.85 Ask=28.3 Last=28.1 OI=354.0 sigma=0.744 NPV=50.227                             delta=0.491 gamma=0.003 vega=75.343 beta=15.16 theta=-2.30 IV=0.45\\n',\n",
       " '2022-04-06 12:00:00 TSLA  220414C01060000,Bid=25.65 Ask=26.05 Last=25.75 OI=823.0 sigma=0.744 NPV=48.076                             delta=0.477 gamma=0.003 vega=75.237 beta=14.75 theta=-2.30 IV=0.45\\n',\n",
       " '2022-04-06 12:00:00 TSLA  220414P01030000,Bid=28.9 Ask=29.3 Last=29.15 OI=1106.0 sigma=0.744 NPV=49.853                             delta=-0.439 gamma=0.003 vega=74.468 beta=-15.39 theta=-2.25 IV=0.47\\n',\n",
       " '2022-04-06 12:00:00 TSLA  220414P01035000,Bid=31.05 Ask=31.5 Last=31.2 OI=340.0 sigma=0.744 NPV=52.350                             delta=-0.453 gamma=0.003 vega=74.834 beta=-15.88 theta=-2.26 IV=0.46\\n',\n",
       " '2022-04-06 12:00:00 TSLA  220414P01040000,Bid=33.35 Ask=33.8 Last=33.55 OI=742.0 sigma=0.744 NPV=54.917                             delta=-0.467 gamma=0.003 vega=75.103 beta=-16.34 theta=-2.27 IV=0.46\\n',\n",
       " '2022-04-06 12:00:00 TSLA  220414P01045000,Bid=35.7 Ask=36.2 Last=36.09 OI=603.0 sigma=0.744 NPV=57.556                             delta=-0.481 gamma=0.003 vega=75.277 beta=-16.84 theta=-2.27 IV=0.46\\n',\n",
       " '2022-04-06 12:00:00 TSLA  220414P01050000,Bid=38.3 Ask=38.75 Last=39.0 OI=5957.0 sigma=0.744 NPV=60.265                             delta=-0.495 gamma=0.003 vega=75.354 beta=-17.29 theta=-2.28 IV=0.46\\n',\n",
       " '2022-04-06 12:00:00 TSLA  220414P01055000,Bid=41.0 Ask=41.45 Last=41.35 OI=648.0 sigma=0.744 NPV=63.045                             delta=-0.509 gamma=0.003 vega=75.338 beta=-17.74 theta=-2.28 IV=0.45\\n',\n",
       " '2022-04-06 12:00:00 TSLA  220414P01060000,Bid=43.75 Ask=44.3 Last=42.2 OI=767.0 sigma=0.744 NPV=65.893                             delta=-0.523 gamma=0.003 vega=75.232 beta=-18.23 theta=-2.27 IV=0.45\\n',\n",
       " '2022-04-06 13:00:00 TSLA  220414C01030000,Bid=36.15 Ask=36.65 Last=37.36 OI=345.0 sigma=0.744 NPV=56.926                             delta=0.535 gamma=0.003 vega=74.400 beta=16.30 theta=-2.27 IV=0.47\\n',\n",
       " '2022-04-06 13:00:00 TSLA  220414C01035000,Bid=33.55 Ask=34.05 Last=33.75 OI=498.0 sigma=0.744 NPV=54.556                             delta=0.521 gamma=0.003 vega=74.588 beta=15.89 theta=-2.28 IV=0.47\\n',\n",
       " '2022-04-06 13:00:00 TSLA  220414C01040000,Bid=31.1 Ask=31.55 Last=31.0 OI=466.0 sigma=0.744 NPV=52.257                             delta=0.507 gamma=0.003 vega=74.679 beta=15.48 theta=-2.28 IV=0.46\\n',\n",
       " '2022-04-06 13:00:00 TSLA  220414C01045000,Bid=28.75 Ask=29.2 Last=30.0 OI=374.0 sigma=0.744 NPV=50.029                             delta=0.492 gamma=0.003 vega=74.676 beta=15.07 theta=-2.28 IV=0.46\\n',\n",
       " '2022-04-06 13:00:00 TSLA  220414C01050000,Bid=26.55 Ask=26.95 Last=27.0 OI=2204.0 sigma=0.744 NPV=47.870                             delta=0.478 gamma=0.003 vega=74.580 beta=14.67 theta=-2.28 IV=0.46\\n',\n",
       " '2022-04-06 13:00:00 TSLA  220414C01055000,Bid=24.5 Ask=24.85 Last=25.1 OI=354.0 sigma=0.744 NPV=45.780                             delta=0.464 gamma=0.003 vega=74.392 beta=14.26 theta=-2.27 IV=0.46\\n',\n",
       " '2022-04-06 13:00:00 TSLA  220414C01060000,Bid=22.55 Ask=22.85 Last=23.49 OI=823.0 sigma=0.744 NPV=43.759                             delta=0.450 gamma=0.003 vega=74.114 beta=13.85 theta=-2.27 IV=0.46\\n',\n",
       " '2022-04-06 13:00:00 TSLA  220414P01030000,Bid=33.35 Ask=33.8 Last=33.6 OI=1106.0 sigma=0.744 NPV=54.060                             delta=-0.465 gamma=0.003 vega=74.399 beta=-16.14 theta=-2.25 IV=0.47\\n',\n",
       " '2022-04-06 13:00:00 TSLA  220414P01035000,Bid=35.7 Ask=36.15 Last=35.88 OI=340.0 sigma=0.744 NPV=56.689                             delta=-0.479 gamma=0.003 vega=74.586 beta=-16.62 theta=-2.25 IV=0.47\\n',\n",
       " '2022-04-06 13:00:00 TSLA  220414P01040000,Bid=38.2 Ask=38.7 Last=39.0 OI=742.0 sigma=0.744 NPV=59.389                             delta=-0.494 gamma=0.003 vega=74.677 beta=-17.08 theta=-2.26 IV=0.46\\n',\n",
       " '2022-04-06 13:00:00 TSLA  220414P01045000,Bid=40.85 Ask=41.4 Last=40.2 OI=603.0 sigma=0.744 NPV=62.160                             delta=-0.508 gamma=0.003 vega=74.671 beta=-17.53 theta=-2.26 IV=0.46\\n',\n",
       " '2022-04-06 13:00:00 TSLA  220414P01050000,Bid=43.6 Ask=44.2 Last=43.58 OI=5957.0 sigma=0.744 NPV=65.000                             delta=-0.522 gamma=0.003 vega=74.576 beta=-18.02 theta=-2.25 IV=0.46\\n',\n",
       " '2022-04-06 13:00:00 TSLA  220414P01055000,Bid=46.5 Ask=47.1 Last=45.85 OI=648.0 sigma=0.744 NPV=67.910                             delta=-0.536 gamma=0.003 vega=74.384 beta=-18.46 theta=-2.25 IV=0.46\\n',\n",
       " '2022-04-06 13:00:00 TSLA  220414P01060000,Bid=49.5 Ask=50.1 Last=50.0 OI=767.0 sigma=0.744 NPV=70.888                             delta=-0.550 gamma=0.003 vega=74.107 beta=-18.91 theta=-2.24 IV=0.46\\n',\n",
       " '2022-04-06 13:00:00 TSLA  220414C01020000,Bid=41.65 Ask=42.25 Last=43.05 OI=877.0 sigma=0.744 NPV=61.882                             delta=0.564 gamma=0.003 vega=73.735 beta=17.10 theta=-2.26 IV=0.47\\n',\n",
       " '2022-04-06 13:00:00 TSLA  220414C01025000,Bid=38.8 Ask=39.35 Last=39.79 OI=5394.0 sigma=0.744 NPV=59.368                             delta=0.549 gamma=0.003 vega=74.116 beta=16.70 theta=-2.27 IV=0.47\\n',\n",
       " '2022-04-06 13:00:00 TSLA  220414P01020000,Bid=28.9 Ask=29.3 Last=28.9 OI=720.0 sigma=0.744 NPV=49.017                             delta=-0.436 gamma=0.003 vega=73.735 beta=-15.17 theta=-2.23 IV=0.47\\n',\n",
       " '2022-04-06 13:00:00 TSLA  220414P01025000,Bid=31.05 Ask=31.45 Last=31.65 OI=1052.0 sigma=0.744 NPV=51.502                             delta=-0.451 gamma=0.003 vega=74.116 beta=-15.66 theta=-2.24 IV=0.47\\n',\n",
       " '2022-04-06 14:00:00 TSLA  220414C01020000,Bid=50.0 Ask=55.1 Last=53.05 OI=877.0 sigma=0.744 NPV=72.150                             delta=0.612 gamma=0.003 vega=72.938 beta=18.76 theta=-2.23 IV=0.47\\n',\n",
       " '2022-04-06 14:00:00 TSLA  220414C01025000,Bid=47.35 Ask=51.65 Last=48.71 OI=5394.0 sigma=0.744 NPV=69.389                             delta=0.598 gamma=0.003 vega=73.645 beta=18.37 theta=-2.25 IV=0.47\\n',\n",
       " '2022-04-06 14:00:00 TSLA  220414C01030000,Bid=43.9 Ask=48.15 Last=45.8 OI=345.0 sigma=0.744 NPV=66.700                             delta=0.584 gamma=0.003 vega=74.259 beta=17.97 theta=-2.27 IV=0.46\\n',\n",
       " '2022-04-06 14:00:00 TSLA  220414C01035000,Bid=40.5 Ask=46.05 Last=45.15 OI=498.0 sigma=0.744 NPV=64.082                             delta=0.570 gamma=0.003 vega=74.779 beta=17.57 theta=-2.29 IV=0.47\\n',\n",
       " '2022-04-06 14:00:00 TSLA  220414C01040000,Bid=38.1 Ask=42.0 Last=40.71 OI=466.0 sigma=0.744 NPV=61.536                             delta=0.556 gamma=0.003 vega=75.203 beta=17.17 theta=-2.30 IV=0.46\\n',\n",
       " '2022-04-06 14:00:00 TSLA  220414C01045000,Bid=35.6 Ask=39.55 Last=37.0 OI=374.0 sigma=0.744 NPV=59.060                             delta=0.542 gamma=0.003 vega=75.533 beta=16.77 theta=-2.31 IV=0.46\\n',\n",
       " '2022-04-06 14:00:00 TSLA  220414C01050000,Bid=33.0 Ask=36.9 Last=34.95 OI=2204.0 sigma=0.744 NPV=56.655                             delta=0.528 gamma=0.003 vega=75.767 beta=16.36 theta=-2.32 IV=0.46\\n',\n",
       " '2022-04-06 14:00:00 TSLA  220414C01055000,Bid=30.6 Ask=32.9 Last=32.2 OI=354.0 sigma=0.744 NPV=54.321                             delta=0.514 gamma=0.003 vega=75.907 beta=15.95 theta=-2.32 IV=0.45\\n',\n",
       " '2022-04-06 14:00:00 TSLA  220414C01060000,Bid=29.2 Ask=32.4 Last=30.6 OI=823.0 sigma=0.744 NPV=52.056                             delta=0.500 gamma=0.003 vega=75.953 beta=15.55 theta=-2.32 IV=0.46\\n',\n",
       " '2022-04-06 14:00:00 TSLA  220414P01020000,Bid=19.85 Ask=23.6 Last=21.51 OI=720.0 sigma=0.744 NPV=41.823                             delta=-0.388 gamma=0.003 vega=72.943 beta=-13.76 theta=-2.21 IV=0.47\\n',\n",
       " '2022-04-06 14:00:00 TSLA  220414P01025000,Bid=21.1 Ask=23.9 Last=23.55 OI=1052.0 sigma=0.744 NPV=44.061                             delta=-0.402 gamma=0.003 vega=73.648 beta=-14.25 theta=-2.23 IV=0.45\\n',\n",
       " '2022-04-06 14:00:00 TSLA  220414P01030000,Bid=23.55 Ask=27.0 Last=25.4 OI=1106.0 sigma=0.744 NPV=46.371                             delta=-0.416 gamma=0.003 vega=74.262 beta=-14.74 theta=-2.25 IV=0.46\\n',\n",
       " '2022-04-06 14:00:00 TSLA  220414P01035000,Bid=26.7 Ask=29.35 Last=27.35 OI=340.0 sigma=0.744 NPV=48.752                             delta=-0.430 gamma=0.003 vega=74.782 beta=-15.21 theta=-2.26 IV=0.47\\n',\n",
       " '2022-04-06 14:00:00 TSLA  220414P01040000,Bid=27.55 Ask=31.1 Last=29.55 OI=742.0 sigma=0.744 NPV=51.205                             delta=-0.444 gamma=0.003 vega=75.204 beta=-15.71 theta=-2.27 IV=0.45\\n',\n",
       " '2022-04-06 14:00:00 TSLA  220414P01045000,Bid=31.05 Ask=34.05 Last=32.0 OI=603.0 sigma=0.744 NPV=53.728                             delta=-0.458 gamma=0.003 vega=75.533 beta=-16.17 theta=-2.28 IV=0.46\\n',\n",
       " '2022-04-06 14:00:00 TSLA  220414P01050000,Bid=31.1 Ask=35.7 Last=34.0 OI=5957.0 sigma=0.744 NPV=56.323                             delta=-0.472 gamma=0.003 vega=75.766 beta=-16.64 theta=-2.29 IV=0.44\\n',\n",
       " '2022-04-06 14:00:00 TSLA  220414P01055000,Bid=34.1 Ask=39.5 Last=37.0 OI=648.0 sigma=0.744 NPV=58.987                             delta=-0.486 gamma=0.003 vega=75.905 beta=-17.13 theta=-2.29 IV=0.45\\n',\n",
       " '2022-04-06 14:00:00 TSLA  220414P01060000,Bid=38.6 Ask=41.95 Last=39.4 OI=767.0 sigma=0.744 NPV=61.722                             delta=-0.500 gamma=0.003 vega=75.949 beta=-17.59 theta=-2.29 IV=0.46\\n',\n",
       " '2022-04-06 14:00:00 TSLA  220414C01065000,Bid=25.9 Ask=29.6 Last=28.25 OI=329.0 sigma=0.744 NPV=49.860                             delta=0.486 gamma=0.003 vega=75.906 beta=15.14 theta=-2.32 IV=0.45\\n',\n",
       " '2022-04-06 14:00:00 TSLA  220414P01065000,Bid=39.2 Ask=44.3 Last=41.5 OI=331.0 sigma=0.744 NPV=64.525                             delta=-0.514 gamma=0.003 vega=75.902 beta=-18.06 theta=-2.29 IV=0.44\\n',\n",
       " '2022-04-06 15:00:00 TSLA  220414C01020000,Bid=54.9 Ask=56.2 Last=55.18 OI=877.0 sigma=0.744 NPV=76.141                             delta=0.629 gamma=0.003 vega=72.373 beta=19.35 theta=-2.22 IV=0.45\\n',\n",
       " '2022-04-06 15:00:00 TSLA  220414C01025000,Bid=51.55 Ask=52.8 Last=52.53 OI=5394.0 sigma=0.744 NPV=73.291                             delta=0.616 gamma=0.003 vega=73.194 beta=18.97 theta=-2.24 IV=0.45\\n',\n",
       " '2022-04-06 15:00:00 TSLA  220414C01030000,Bid=48.9 Ask=49.55 Last=48.85 OI=345.0 sigma=0.744 NPV=70.512                             delta=0.602 gamma=0.003 vega=73.925 beta=18.58 theta=-2.26 IV=0.45\\n',\n",
       " '2022-04-06 15:00:00 TSLA  220414C01035000,Bid=45.6 Ask=46.4 Last=45.75 OI=498.0 sigma=0.744 NPV=67.804                             delta=0.588 gamma=0.003 vega=74.563 beta=18.19 theta=-2.28 IV=0.45\\n',\n",
       " '2022-04-06 15:00:00 TSLA  220414C01040000,Bid=42.6 Ask=43.35 Last=42.44 OI=466.0 sigma=0.744 NPV=65.168                             delta=0.574 gamma=0.003 vega=75.107 beta=17.79 theta=-2.30 IV=0.45\\n',\n",
       " '2022-04-06 15:00:00 TSLA  220414C01045000,Bid=39.75 Ask=40.4 Last=40.45 OI=374.0 sigma=0.744 NPV=62.602                             delta=0.560 gamma=0.003 vega=75.557 beta=17.39 theta=-2.31 IV=0.45\\n',\n",
       " '2022-04-06 15:00:00 TSLA  220414C01050000,Bid=37.0 Ask=37.65 Last=37.4 OI=2204.0 sigma=0.744 NPV=60.107                             delta=0.546 gamma=0.003 vega=75.913 beta=16.98 theta=-2.32 IV=0.44\\n',\n",
       " '2022-04-06 15:00:00 TSLA  220414C01055000,Bid=34.4 Ask=34.9 Last=34.3 OI=354.0 sigma=0.744 NPV=57.683                             delta=0.532 gamma=0.003 vega=76.174 beta=16.58 theta=-2.33 IV=0.44\\n',\n",
       " '2022-04-06 15:00:00 TSLA  220414C01060000,Bid=31.9 Ask=32.4 Last=31.79 OI=823.0 sigma=0.744 NPV=55.328                             delta=0.518 gamma=0.003 vega=76.341 beta=16.17 theta=-2.33 IV=0.44\\n',\n",
       " '2022-04-06 15:00:00 TSLA  220414C01065000,Bid=29.55 Ask=30.0 Last=29.5 OI=329.0 sigma=0.744 NPV=53.043                             delta=0.504 gamma=0.003 vega=76.414 beta=15.76 theta=-2.34 IV=0.44\\n',\n",
       " '2022-04-06 15:00:00 TSLA  220414P01020000,Bid=19.15 Ask=19.45 Last=19.5 OI=720.0 sigma=0.744 NPV=39.383                             delta=-0.371 gamma=0.003 vega=72.376 beta=-13.26 theta=-2.19 IV=0.46\\n',\n",
       " '2022-04-06 15:00:00 TSLA  220414P01025000,Bid=20.8 Ask=21.1 Last=20.85 OI=1052.0 sigma=0.744 NPV=41.532                             delta=-0.385 gamma=0.003 vega=73.198 beta=-13.73 theta=-2.22 IV=0.46\\n',\n",
       " '2022-04-06 15:00:00 TSLA  220414P01030000,Bid=22.55 Ask=22.85 Last=22.5 OI=1106.0 sigma=0.744 NPV=43.752                             delta=-0.398 gamma=0.003 vega=73.930 beta=-14.20 theta=-2.24 IV=0.46\\n',\n",
       " '2022-04-06 15:00:00 TSLA  220414P01035000,Bid=24.4 Ask=24.75 Last=24.8 OI=340.0 sigma=0.744 NPV=46.044                             delta=-0.412 gamma=0.003 vega=74.565 beta=-14.70 theta=-2.25 IV=0.45\\n',\n",
       " '2022-04-06 15:00:00 TSLA  220414P01040000,Bid=26.35 Ask=26.75 Last=26.4 OI=742.0 sigma=0.744 NPV=48.406                             delta=-0.426 gamma=0.003 vega=75.110 beta=-15.18 theta=-2.27 IV=0.45\\n',\n",
       " '2022-04-06 15:00:00 TSLA  220414P01045000,Bid=28.45 Ask=28.85 Last=29.0 OI=603.0 sigma=0.744 NPV=50.840                             delta=-0.440 gamma=0.003 vega=75.558 beta=-15.66 theta=-2.28 IV=0.45\\n',\n",
       " '2022-04-06 15:00:00 TSLA  220414P01050000,Bid=30.65 Ask=31.15 Last=31.0 OI=5957.0 sigma=0.744 NPV=53.344                             delta=-0.454 gamma=0.003 vega=75.913 beta=-16.15 theta=-2.29 IV=0.45\\n',\n",
       " '2022-04-06 15:00:00 TSLA  220414P01055000,Bid=33.0 Ask=33.5 Last=33.4 OI=648.0 sigma=0.744 NPV=55.918                             delta=-0.468 gamma=0.003 vega=76.173 beta=-16.61 theta=-2.30 IV=0.45\\n',\n",
       " '2022-04-06 15:00:00 TSLA  220414P01060000,Bid=35.5 Ask=36.05 Last=36.0 OI=767.0 sigma=0.744 NPV=58.563                             delta=-0.482 gamma=0.003 vega=76.340 beta=-17.11 theta=-2.31 IV=0.45\\n',\n",
       " '2022-04-06 15:00:00 TSLA  220414P01065000,Bid=38.1 Ask=38.7 Last=38.6 OI=331.0 sigma=0.744 NPV=61.277                             delta=-0.496 gamma=0.003 vega=76.410 beta=-17.56 theta=-2.31 IV=0.44\\n',\n",
       " '2022-04-06 15:00:00 TSLA  220414C01070000,Bid=27.35 Ask=27.75 Last=27.55 OI=708.0 sigma=0.744 NPV=50.827                             delta=0.490 gamma=0.003 vega=76.395 beta=15.35 theta=-2.33 IV=0.44\\n',\n",
       " '2022-04-06 15:00:00 TSLA  220414P01070000,Bid=40.85 Ask=41.45 Last=40.8 OI=673.0 sigma=0.744 NPV=64.060                             delta=-0.510 gamma=0.003 vega=76.391 beta=-18.01 theta=-2.31 IV=0.44\\n',\n",
       " '2022-04-06 16:00:00 TSLA  220414C01020000,Bid=48.4 Ask=49.6 Last=50.7 OI=877.0 sigma=0.744 NPV=69.579                             delta=0.601 gamma=0.003 vega=73.233 beta=18.36 theta=-2.24 IV=0.46\\n',\n",
       " '2022-04-06 16:00:00 TSLA  220414C01025000,Bid=45.35 Ask=46.65 Last=46.55 OI=5394.0 sigma=0.744 NPV=66.878                             delta=0.586 gamma=0.003 vega=73.863 beta=17.97 theta=-2.26 IV=0.46\\n',\n",
       " '2022-04-06 16:00:00 TSLA  220414C01030000,Bid=42.35 Ask=43.65 Last=42.95 OI=345.0 sigma=0.744 NPV=64.248                             delta=0.572 gamma=0.003 vega=74.398 beta=17.57 theta=-2.28 IV=0.46\\n',\n",
       " '2022-04-06 16:00:00 TSLA  220414C01035000,Bid=39.6 Ask=40.75 Last=40.5 OI=498.0 sigma=0.744 NPV=61.690                             delta=0.558 gamma=0.003 vega=74.838 beta=17.17 theta=-2.29 IV=0.46\\n',\n",
       " '2022-04-06 16:00:00 TSLA  220414C01040000,Bid=36.9 Ask=37.9 Last=37.0 OI=466.0 sigma=0.744 NPV=59.203                             delta=0.544 gamma=0.003 vega=75.183 beta=16.76 theta=-2.30 IV=0.45\\n',\n",
       " '2022-04-06 16:00:00 TSLA  220414C01045000,Bid=34.3 Ask=35.4 Last=34.8 OI=374.0 sigma=0.744 NPV=56.788                             delta=0.530 gamma=0.003 vega=75.432 beta=16.36 theta=-2.31 IV=0.45\\n',\n",
       " '2022-04-06 16:00:00 TSLA  220414C01050000,Bid=32.0 Ask=32.7 Last=32.25 OI=2204.0 sigma=0.744 NPV=54.442                             delta=0.516 gamma=0.003 vega=75.586 beta=15.95 theta=-2.31 IV=0.45\\n',\n",
       " '2022-04-06 16:00:00 TSLA  220414C01055000,Bid=29.55 Ask=30.55 Last=30.12 OI=354.0 sigma=0.744 NPV=52.167                             delta=0.502 gamma=0.003 vega=75.645 beta=15.54 theta=-2.31 IV=0.45\\n',\n",
       " '2022-04-06 16:00:00 TSLA  220414C01060000,Bid=27.35 Ask=28.15 Last=27.75 OI=823.0 sigma=0.744 NPV=49.962                             delta=0.488 gamma=0.003 vega=75.612 beta=15.13 theta=-2.31 IV=0.45\\n',\n",
       " '2022-04-06 16:00:00 TSLA  220414C01065000,Bid=25.25 Ask=26.0 Last=25.74 OI=329.0 sigma=0.744 NPV=47.825                             delta=0.474 gamma=0.003 vega=75.486 beta=14.73 theta=-2.31 IV=0.45\\n',\n",
       " '2022-04-06 16:00:00 TSLA  220414C01070000,Bid=23.3 Ask=24.05 Last=23.68 OI=708.0 sigma=0.744 NPV=45.756                             delta=0.460 gamma=0.003 vega=75.271 beta=14.32 theta=-2.30 IV=0.45\\n',\n",
       " '2022-04-06 16:00:00 TSLA  220414P01020000,Bid=22.9 Ask=23.55 Last=23.1 OI=720.0 sigma=0.744 NPV=43.493                             delta=-0.400 gamma=0.003 vega=73.235 beta=-14.10 theta=-2.22 IV=0.46\\n',\n",
       " '2022-04-06 16:00:00 TSLA  220414P01025000,Bid=24.85 Ask=25.45 Last=25.15 OI=1052.0 sigma=0.744 NPV=45.790                             delta=-0.414 gamma=0.003 vega=73.865 beta=-14.60 theta=-2.23 IV=0.46\\n',\n",
       " '2022-04-06 16:00:00 TSLA  220414P01030000,Bid=26.85 Ask=27.65 Last=27.02 OI=1106.0 sigma=0.744 NPV=48.159                             delta=-0.428 gamma=0.003 vega=74.401 beta=-15.07 theta=-2.25 IV=0.46\\n',\n",
       " '2022-04-06 16:00:00 TSLA  220414P01035000,Bid=28.95 Ask=29.7 Last=29.35 OI=340.0 sigma=0.744 NPV=50.600                             delta=-0.442 gamma=0.003 vega=74.839 beta=-15.56 theta=-2.26 IV=0.46\\n',\n",
       " '2022-04-06 16:00:00 TSLA  220414P01040000,Bid=31.05 Ask=31.95 Last=31.5 OI=742.0 sigma=0.744 NPV=53.113                             delta=-0.456 gamma=0.003 vega=75.183 beta=-16.03 theta=-2.27 IV=0.46\\n',\n",
       " '2022-04-06 16:00:00 TSLA  220414P01045000,Bid=33.6 Ask=34.6 Last=33.97 OI=603.0 sigma=0.744 NPV=55.696                             delta=-0.470 gamma=0.003 vega=75.431 beta=-16.50 theta=-2.28 IV=0.46\\n',\n",
       " '2022-04-06 16:00:00 TSLA  220414P01050000,Bid=36.05 Ask=36.9 Last=36.46 OI=5957.0 sigma=0.744 NPV=58.350                             delta=-0.484 gamma=0.003 vega=75.584 beta=-17.00 theta=-2.28 IV=0.46\\n',\n",
       " '2022-04-06 16:00:00 TSLA  220414P01055000,Bid=38.6 Ask=39.65 Last=38.9 OI=648.0 sigma=0.744 NPV=61.075                             delta=-0.498 gamma=0.003 vega=75.641 beta=-17.46 theta=-2.28 IV=0.45\\n',\n",
       " '2022-04-06 16:00:00 TSLA  220414P01060000,Bid=41.35 Ask=42.35 Last=40.9 OI=767.0 sigma=0.744 NPV=63.868                             delta=-0.512 gamma=0.003 vega=75.608 beta=-17.92 theta=-2.28 IV=0.45\\n',\n",
       " '2022-04-06 16:00:00 TSLA  220414P01065000,Bid=44.25 Ask=45.3 Last=42.65 OI=331.0 sigma=0.744 NPV=66.731                             delta=-0.526 gamma=0.003 vega=75.481 beta=-18.39 theta=-2.28 IV=0.45\\n',\n",
       " '2022-04-06 16:00:00 TSLA  220414P01070000,Bid=47.4 Ask=48.35 Last=46.8 OI=673.0 sigma=0.744 NPV=69.661                             delta=-0.540 gamma=0.003 vega=75.262 beta=-18.84 theta=-2.27 IV=0.45\\n',\n",
       " '2022-04-07 10:00:00 TSLA  220414C01060000,Bid=38.8 Ask=39.3 Last=39.0 OI=989.0 sigma=0.702 NPV=57.742                             delta=0.560 gamma=0.003 vega=73.360 beta=16.33 theta=-2.30 IV=0.45\\n',\n",
       " '2022-04-07 10:00:00 TSLA  220414C01065000,Bid=35.95 Ask=36.55 Last=36.15 OI=602.0 sigma=0.702 NPV=55.225                             delta=0.544 gamma=0.003 vega=73.732 beta=15.91 theta=-2.31 IV=0.44\\n',\n",
       " '2022-04-07 10:00:00 TSLA  220414C01070000,Bid=33.5 Ask=33.95 Last=33.7 OI=936.0 sigma=0.702 NPV=52.784                             delta=0.529 gamma=0.003 vega=73.994 beta=15.49 theta=-2.32 IV=0.44\\n',\n",
       " '2022-04-07 10:00:00 TSLA  220414P01060000,Bid=27.25 Ask=27.65 Last=27.43 OI=830.0 sigma=0.702 NPV=46.172                             delta=-0.440 gamma=0.003 vega=73.361 beta=-14.43 theta=-2.28 IV=0.45\\n',\n",
       " '2022-04-07 10:00:00 TSLA  220414P01065000,Bid=29.5 Ask=29.95 Last=29.6 OI=350.0 sigma=0.702 NPV=48.654                             delta=-0.456 gamma=0.003 vega=73.732 beta=-14.90 theta=-2.29 IV=0.44\\n',\n",
       " '2022-04-07 10:00:00 TSLA  220414P01070000,Bid=31.9 Ask=32.4 Last=32.0 OI=819.0 sigma=0.702 NPV=51.213                             delta=-0.471 gamma=0.003 vega=73.993 beta=-15.38 theta=-2.29 IV=0.44\\n',\n",
       " '2022-04-07 10:00:00 TSLA  220414C01075000,Bid=31.0 Ask=31.45 Last=31.35 OI=962.0 sigma=0.702 NPV=50.420                             delta=0.514 gamma=0.003 vega=74.147 beta=15.07 theta=-2.33 IV=0.44\\n',\n",
       " '2022-04-07 10:00:00 TSLA  220414C01080000,Bid=28.6 Ask=29.1 Last=28.85 OI=1471.0 sigma=0.702 NPV=48.132                             delta=0.499 gamma=0.003 vega=74.191 beta=14.65 theta=-2.33 IV=0.44\\n',\n",
       " '2022-04-07 10:00:00 TSLA  220414C01085000,Bid=26.45 Ask=26.9 Last=26.95 OI=391.0 sigma=0.702 NPV=45.919                             delta=0.484 gamma=0.003 vega=74.129 beta=14.23 theta=-2.33 IV=0.44\\n',\n",
       " '2022-04-07 10:00:00 TSLA  220414P01075000,Bid=34.4 Ask=35.0 Last=36.45 OI=889.0 sigma=0.702 NPV=53.849                             delta=-0.486 gamma=0.003 vega=74.145 beta=-15.86 theta=-2.30 IV=0.44\\n',\n",
       " '2022-04-07 10:00:00 TSLA  220414P01080000,Bid=37.05 Ask=37.7 Last=37.12 OI=1478.0 sigma=0.702 NPV=56.560                             delta=-0.501 gamma=0.003 vega=74.188 beta=-16.33 theta=-2.30 IV=0.44\\n',\n",
       " '2022-04-07 10:00:00 TSLA  220414P01085000,Bid=39.85 Ask=40.55 Last=41.0 OI=270.0 sigma=0.702 NPV=59.347                             delta=-0.517 gamma=0.003 vega=74.125 beta=-16.79 theta=-2.30 IV=0.44\\n',\n",
       " '2022-04-07 11:00:00 TSLA  220414C01060000,Bid=28.55 Ask=29.0 Last=28.74 OI=989.0 sigma=0.702 NPV=47.570                             delta=0.501 gamma=0.003 vega=72.863 beta=14.44 theta=-2.29 IV=0.44\\n',\n",
       " '2022-04-07 11:00:00 TSLA  220414C01065000,Bid=26.4 Ask=26.8 Last=26.55 OI=602.0 sigma=0.702 NPV=45.348                             delta=0.485 gamma=0.003 vega=72.814 beta=14.02 theta=-2.28 IV=0.44\\n',\n",
       " '2022-04-07 11:00:00 TSLA  220414C01075000,Bid=22.3 Ask=22.65 Last=21.95 OI=962.0 sigma=0.702 NPV=41.130                             delta=0.455 gamma=0.003 vega=72.397 beta=13.18 theta=-2.27 IV=0.44\\n',\n",
       " '2022-04-07 11:00:00 TSLA  220414C01080000,Bid=20.45 Ask=20.8 Last=20.5 OI=1471.0 sigma=0.702 NPV=39.132                             delta=0.440 gamma=0.003 vega=72.033 beta=12.76 theta=-2.26 IV=0.44\\n',\n",
       " '2022-04-07 11:00:00 TSLA  220414C01085000,Bid=18.75 Ask=19.1 Last=18.95 OI=391.0 sigma=0.702 NPV=37.208                             delta=0.425 gamma=0.003 vega=71.569 beta=12.35 theta=-2.25 IV=0.44\\n',\n",
       " '2022-04-07 11:00:00 TSLA  220414P01060000,Bid=36.25 Ask=36.8 Last=36.56 OI=830.0 sigma=0.702 NPV=55.183                             delta=-0.499 gamma=0.003 vega=72.860 beta=-15.98 theta=-2.26 IV=0.45\\n',\n",
       " '2022-04-07 11:00:00 TSLA  220414P01065000,Bid=39.0 Ask=39.55 Last=38.77 OI=350.0 sigma=0.702 NPV=57.960                             delta=-0.515 gamma=0.003 vega=72.811 beta=-16.44 theta=-2.26 IV=0.44\\n',\n",
       " '2022-04-07 11:00:00 TSLA  220414P01075000,Bid=44.9 Ask=45.6 Last=44.35 OI=889.0 sigma=0.702 NPV=63.741                             delta=-0.545 gamma=0.003 vega=72.386 beta=-17.35 theta=-2.24 IV=0.44\\n',\n",
       " '2022-04-07 11:00:00 TSLA  220414P01080000,Bid=48.0 Ask=48.75 Last=46.85 OI=1478.0 sigma=0.702 NPV=66.743                             delta=-0.560 gamma=0.003 vega=72.024 beta=-17.79 theta=-2.23 IV=0.44\\n',\n",
       " '2022-04-07 11:00:00 TSLA  220414P01085000,Bid=51.25 Ask=52.1 Last=53.35 OI=270.0 sigma=0.702 NPV=69.819                             delta=-0.575 gamma=0.003 vega=71.556 beta=-18.23 theta=-2.22 IV=0.44\\n',\n",
       " '2022-04-07 11:00:00 TSLA  220414C01040000,Bid=38.8 Ask=39.4 Last=39.11 OI=1409.0 sigma=0.702 NPV=57.232                             delta=0.563 gamma=0.003 vega=71.958 beta=16.12 theta=-2.26 IV=0.45\\n',\n",
       " '2022-04-07 11:00:00 TSLA  220414C01045000,Bid=36.05 Ask=36.6 Last=36.4 OI=522.0 sigma=0.702 NPV=54.699                             delta=0.547 gamma=0.003 vega=72.351 beta=15.71 theta=-2.27 IV=0.45\\n',\n",
       " '2022-04-07 11:00:00 TSLA  220414C01050000,Bid=33.4 Ask=33.9 Last=33.54 OI=3382.0 sigma=0.702 NPV=52.245                             delta=0.532 gamma=0.003 vega=72.632 beta=15.29 theta=-2.28 IV=0.45\\n',\n",
       " '2022-04-07 11:00:00 TSLA  220414C01055000,Bid=30.9 Ask=31.4 Last=31.2 OI=511.0 sigma=0.702 NPV=49.869                             delta=0.516 gamma=0.003 vega=72.803 beta=14.87 theta=-2.28 IV=0.44\\n',\n",
       " '2022-04-07 11:00:00 TSLA  220414P01040000,Bid=26.65 Ask=27.05 Last=27.35 OI=923.0 sigma=0.702 NPV=44.848                             delta=-0.437 gamma=0.003 vega=71.959 beta=-14.06 theta=-2.23 IV=0.45\\n',\n",
       " '2022-04-07 11:00:00 TSLA  220414P01045000,Bid=29.0 Ask=29.25 Last=29.2 OI=738.0 sigma=0.702 NPV=47.315                             delta=-0.453 gamma=0.003 vega=72.351 beta=-14.55 theta=-2.24 IV=0.45\\n',\n",
       " '2022-04-07 11:00:00 TSLA  220414P01050000,Bid=31.15 Ask=31.65 Last=31.64 OI=5662.0 sigma=0.702 NPV=49.860                             delta=-0.468 gamma=0.003 vega=72.631 beta=-15.02 theta=-2.25 IV=0.45\\n',\n",
       " '2022-04-07 11:00:00 TSLA  220414P01055000,Bid=33.65 Ask=34.1 Last=34.5 OI=726.0 sigma=0.702 NPV=52.483                             delta=-0.484 gamma=0.003 vega=72.802 beta=-15.50 theta=-2.26 IV=0.45\\n',\n",
       " '2022-04-07 12:00:00 TSLA  220414C01040000,Bid=29.4 Ask=29.85 Last=28.95 OI=1409.0 sigma=0.702 NPV=47.069                             delta=0.503 gamma=0.003 vega=71.541 beta=14.25 theta=-2.25 IV=0.46\\n',\n",
       " '2022-04-07 12:00:00 TSLA  220414C01045000,Bid=27.1 Ask=27.55 Last=26.25 OI=522.0 sigma=0.702 NPV=44.835                             delta=0.488 gamma=0.003 vega=71.509 beta=13.83 theta=-2.24 IV=0.46\\n',\n",
       " '2022-04-07 12:00:00 TSLA  220414C01050000,Bid=24.95 Ask=25.4 Last=25.21 OI=3382.0 sigma=0.702 NPV=42.679                             delta=0.472 gamma=0.003 vega=71.367 beta=13.41 theta=-2.24 IV=0.46\\n',\n",
       " '2022-04-07 12:00:00 TSLA  220414C01055000,Bid=22.95 Ask=23.35 Last=22.5 OI=511.0 sigma=0.702 NPV=40.598                             delta=0.456 gamma=0.003 vega=71.117 beta=12.99 theta=-2.23 IV=0.45\\n',\n",
       " '2022-04-07 12:00:00 TSLA  220414C01075000,Bid=16.05 Ask=16.4 Last=16.0 OI=962.0 sigma=0.702 NPV=33.022                             delta=0.396 gamma=0.003 vega=69.105 beta=11.34 theta=-2.17 IV=0.45\\n',\n",
       " '2022-04-07 12:00:00 TSLA  220414C01080000,Bid=14.7 Ask=15.0 Last=14.75 OI=1471.0 sigma=0.702 NPV=31.308                             delta=0.381 gamma=0.003 vega=68.366 beta=10.93 theta=-2.15 IV=0.45\\n',\n",
       " '2022-04-07 12:00:00 TSLA  220414C01085000,Bid=13.4 Ask=13.65 Last=13.23 OI=391.0 sigma=0.702 NPV=29.663                             delta=0.367 gamma=0.003 vega=67.541 beta=10.53 theta=-2.12 IV=0.45\\n',\n",
       " '2022-04-07 12:00:00 TSLA  220414P01040000,Bid=36.25 Ask=36.75 Last=36.5 OI=923.0 sigma=0.702 NPV=53.748                             delta=-0.497 gamma=0.003 vega=71.538 beta=-15.61 theta=-2.22 IV=0.46\\n',\n",
       " '2022-04-07 12:00:00 TSLA  220414P01045000,Bid=38.9 Ask=39.45 Last=40.25 OI=738.0 sigma=0.702 NPV=56.514                             delta=-0.513 gamma=0.003 vega=71.503 beta=-16.07 theta=-2.22 IV=0.46\\n',\n",
       " '2022-04-07 12:00:00 TSLA  220414P01050000,Bid=41.7 Ask=42.25 Last=42.5 OI=5662.0 sigma=0.702 NPV=59.356                             delta=-0.528 gamma=0.003 vega=71.361 beta=-16.54 theta=-2.21 IV=0.46\\n',\n",
       " '2022-04-07 12:00:00 TSLA  220414P01055000,Bid=44.6 Ask=45.25 Last=45.58 OI=726.0 sigma=0.702 NPV=62.276                             delta=-0.544 gamma=0.003 vega=71.107 beta=-16.98 theta=-2.20 IV=0.46\\n',\n",
       " '2022-04-07 12:00:00 TSLA  220414P01075000,Bid=57.4 Ask=58.75 Last=62.0 OI=889.0 sigma=0.702 NPV=74.698                             delta=-0.604 gamma=0.003 vega=69.090 beta=-18.71 theta=-2.14 IV=0.45\\n',\n",
       " '2022-04-07 12:00:00 TSLA  220414P01080000,Bid=61.0 Ask=62.35 Last=63.53 OI=1478.0 sigma=0.702 NPV=77.983                             delta=-0.619 gamma=0.003 vega=68.342 beta=-19.11 theta=-2.12 IV=0.45\\n',\n",
       " '2022-04-07 12:00:00 TSLA  220414P01085000,Bid=64.35 Ask=66.05 Last=67.24 OI=270.0 sigma=0.702 NPV=81.338                             delta=-0.633 gamma=0.003 vega=67.524 beta=-19.51 theta=-2.10 IV=0.45\\n',\n",
       " '2022-04-07 12:00:00 TSLA  220414C01020000,Bid=39.9 Ask=40.4 Last=39.63 OI=918.0 sigma=0.702 NPV=56.793                             delta=0.567 gamma=0.003 vega=70.547 beta=15.93 theta=-2.22 IV=0.47\\n',\n",
       " '2022-04-07 12:00:00 TSLA  220414C01025000,Bid=37.05 Ask=37.6 Last=35.62 OI=5367.0 sigma=0.702 NPV=54.243                             delta=0.551 gamma=0.003 vega=70.965 beta=15.51 theta=-2.23 IV=0.46\\n',\n",
       " '2022-04-07 12:00:00 TSLA  220414C01030000,Bid=34.45 Ask=34.85 Last=34.2 OI=540.0 sigma=0.702 NPV=51.772                             delta=0.535 gamma=0.003 vega=71.270 beta=15.09 theta=-2.24 IV=0.46\\n',\n",
       " '2022-04-07 12:00:00 TSLA  220414C01035000,Bid=31.9 Ask=32.3 Last=31.9 OI=1266.0 sigma=0.702 NPV=49.381                             delta=0.519 gamma=0.003 vega=71.462 beta=14.67 theta=-2.24 IV=0.46\\n',\n",
       " '2022-04-07 12:00:00 TSLA  220414P01020000,Bid=26.8 Ask=27.25 Last=27.0 OI=835.0 sigma=0.702 NPV=43.475                             delta=-0.434 gamma=0.003 vega=70.549 beta=-13.70 theta=-2.19 IV=0.47\\n',\n",
       " '2022-04-07 12:00:00 TSLA  220414P01025000,Bid=28.95 Ask=29.45 Last=29.75 OI=1346.0 sigma=0.702 NPV=45.924                             delta=-0.449 gamma=0.003 vega=70.966 beta=-14.18 theta=-2.20 IV=0.47\\n',\n",
       " '2022-04-07 12:00:00 TSLA  220414P01030000,Bid=31.25 Ask=31.75 Last=31.68 OI=1400.0 sigma=0.702 NPV=48.453                             delta=-0.465 gamma=0.003 vega=71.270 beta=-14.65 theta=-2.21 IV=0.46\\n',\n",
       " '2022-04-07 12:00:00 TSLA  220414P01035000,Bid=33.7 Ask=34.2 Last=34.5 OI=398.0 sigma=0.702 NPV=51.061                             delta=-0.481 gamma=0.003 vega=71.461 beta=-15.14 theta=-2.22 IV=0.46\\n',\n",
       " '2022-04-07 13:00:00 TSLA  220414C01020000,Bid=37.25 Ask=37.75 Last=37.4 OI=918.0 sigma=0.702 NPV=53.341                             delta=0.547 gamma=0.003 vega=70.620 beta=15.32 theta=-2.22 IV=0.48\\n',\n",
       " '2022-04-07 13:00:00 TSLA  220414C01025000,Bid=34.6 Ask=35.05 Last=34.6 OI=5367.0 sigma=0.702 NPV=50.889                             delta=0.531 gamma=0.003 vega=70.898 beta=14.90 theta=-2.23 IV=0.48\\n',\n",
       " '2022-04-07 13:00:00 TSLA  220414C01030000,Bid=32.05 Ask=32.55 Last=32.06 OI=540.0 sigma=0.702 NPV=48.517                             delta=0.515 gamma=0.003 vega=71.062 beta=14.48 theta=-2.23 IV=0.47\\n',\n",
       " '2022-04-07 13:00:00 TSLA  220414C01035000,Bid=29.65 Ask=30.15 Last=30.07 OI=1266.0 sigma=0.702 NPV=46.225                             delta=0.499 gamma=0.003 vega=71.114 beta=14.06 theta=-2.23 IV=0.47\\n',\n",
       " '2022-04-07 13:00:00 TSLA  220414C01040000,Bid=27.4 Ask=27.85 Last=27.4 OI=1409.0 sigma=0.702 NPV=44.010                             delta=0.484 gamma=0.003 vega=71.054 beta=13.64 theta=-2.23 IV=0.47\\n',\n",
       " '2022-04-07 13:00:00 TSLA  220414C01045000,Bid=25.3 Ask=25.65 Last=25.3 OI=522.0 sigma=0.702 NPV=41.873                             delta=0.468 gamma=0.003 vega=70.884 beta=13.22 theta=-2.22 IV=0.47\\n',\n",
       " '2022-04-07 13:00:00 TSLA  220414C01050000,Bid=23.3 Ask=23.65 Last=23.27 OI=3382.0 sigma=0.702 NPV=39.814                             delta=0.452 gamma=0.003 vega=70.606 beta=12.80 theta=-2.22 IV=0.47\\n',\n",
       " '2022-04-07 13:00:00 TSLA  220414C01055000,Bid=21.4 Ask=21.75 Last=21.6 OI=511.0 sigma=0.702 NPV=37.829                             delta=0.437 gamma=0.003 vega=70.224 beta=12.38 theta=-2.20 IV=0.47\\n',\n",
       " '2022-04-07 13:00:00 TSLA  220414C01075000,Bid=15.05 Ask=15.35 Last=15.39 OI=962.0 sigma=0.702 NPV=30.625                             delta=0.377 gamma=0.003 vega=67.720 beta=10.75 theta=-2.13 IV=0.47\\n',\n",
       " '2022-04-07 13:00:00 TSLA  220414C01080000,Bid=13.75 Ask=14.05 Last=14.0 OI=1471.0 sigma=0.702 NPV=29.001                             delta=0.363 gamma=0.003 vega=66.870 beta=10.35 theta=-2.10 IV=0.47\\n',\n",
       " '2022-04-07 13:00:00 TSLA  220414C01085000,Bid=12.55 Ask=12.85 Last=12.8 OI=391.0 sigma=0.702 NPV=27.445                             delta=0.349 gamma=0.003 vega=65.940 beta=9.96 theta=-2.08 IV=0.47\\n',\n",
       " '2022-04-07 13:00:00 TSLA  220414P01020000,Bid=30.3 Ask=30.7 Last=30.3 OI=835.0 sigma=0.702 NPV=46.224                             delta=-0.453 gamma=0.003 vega=70.620 beta=-14.21 theta=-2.19 IV=0.48\\n',\n",
       " '2022-04-07 13:00:00 TSLA  220414P01025000,Bid=32.6 Ask=33.05 Last=33.3 OI=1346.0 sigma=0.702 NPV=48.771                             delta=-0.469 gamma=0.003 vega=70.897 beta=-14.68 theta=-2.20 IV=0.48\\n',\n",
       " '2022-04-07 13:00:00 TSLA  220414P01030000,Bid=35.1 Ask=35.55 Last=35.57 OI=1400.0 sigma=0.702 NPV=51.399                             delta=-0.485 gamma=0.003 vega=71.061 beta=-15.16 theta=-2.20 IV=0.48\\n',\n",
       " '2022-04-07 13:00:00 TSLA  220414P01035000,Bid=37.7 Ask=38.15 Last=37.95 OI=398.0 sigma=0.702 NPV=54.105                             delta=-0.501 gamma=0.003 vega=71.110 beta=-15.63 theta=-2.20 IV=0.47\\n',\n",
       " '2022-04-07 13:00:00 TSLA  220414P01040000,Bid=40.35 Ask=40.95 Last=40.15 OI=923.0 sigma=0.702 NPV=56.890                             delta=-0.517 gamma=0.003 vega=71.050 beta=-16.10 theta=-2.20 IV=0.47\\n',\n",
       " '2022-04-07 13:00:00 TSLA  220414P01045000,Bid=43.2 Ask=43.85 Last=43.65 OI=738.0 sigma=0.702 NPV=59.753                             delta=-0.532 gamma=0.003 vega=70.877 beta=-16.56 theta=-2.20 IV=0.47\\n',\n",
       " '2022-04-07 13:00:00 TSLA  220414P01050000,Bid=46.15 Ask=46.85 Last=46.7 OI=5662.0 sigma=0.702 NPV=62.693                             delta=-0.548 gamma=0.003 vega=70.596 beta=-17.00 theta=-2.19 IV=0.47\\n',\n",
       " '2022-04-07 13:00:00 TSLA  220414P01055000,Bid=49.3 Ask=50.0 Last=49.55 OI=726.0 sigma=0.702 NPV=65.708                             delta=-0.563 gamma=0.003 vega=70.215 beta=-17.45 theta=-2.18 IV=0.47\\n',\n",
       " '2022-04-07 13:00:00 TSLA  220414P01075000,Bid=62.85 Ask=64.15 Last=63.66 OI=889.0 sigma=0.702 NPV=78.503                             delta=-0.623 gamma=0.003 vega=67.694 beta=-19.11 theta=-2.10 IV=0.47\\n',\n",
       " '2022-04-07 13:00:00 TSLA  220414P01080000,Bid=66.5 Ask=67.9 Last=67.96 OI=1478.0 sigma=0.702 NPV=81.878                             delta=-0.638 gamma=0.003 vega=66.850 beta=-19.51 theta=-2.08 IV=0.47\\n',\n",
       " '2022-04-07 13:00:00 TSLA  220414P01085000,Bid=70.3 Ask=71.7 Last=71.85 OI=270.0 sigma=0.702 NPV=85.322                             delta=-0.652 gamma=0.003 vega=65.911 beta=-19.87 theta=-2.05 IV=0.47\\n',\n",
       " '2022-04-07 13:00:00 TSLA  220414C01015000,Bid=39.9 Ask=40.5 Last=39.96 OI=512.0 sigma=0.702 NPV=55.873                             delta=0.563 gamma=0.003 vega=70.227 beta=15.74 theta=-2.21 IV=0.48\\n',\n",
       " '2022-04-07 13:00:00 TSLA  220414P01015000,Bid=28.1 Ask=28.5 Last=28.43 OI=302.0 sigma=0.702 NPV=43.757                             delta=-0.437 gamma=0.003 vega=70.228 beta=-13.72 theta=-2.18 IV=0.48\\n',\n",
       " '2022-04-07 14:00:00 TSLA  220414C01015000,Bid=51.15 Ask=52.4 Last=47.25 OI=512.0 sigma=0.702 NPV=67.945                             delta=0.625 gamma=0.003 vega=68.921 beta=17.68 theta=-2.17 IV=0.46\\n',\n",
       " '2022-04-07 14:00:00 TSLA  220414C01020000,Bid=48.15 Ask=48.95 Last=49.0 OI=918.0 sigma=0.702 NPV=65.094                             delta=0.610 gamma=0.003 vega=69.757 beta=17.28 theta=-2.19 IV=0.46\\n',\n",
       " '2022-04-07 14:00:00 TSLA  220414C01025000,Bid=45.0 Ask=45.8 Last=45.7 OI=5367.0 sigma=0.702 NPV=62.323                             delta=0.594 gamma=0.003 vega=70.484 beta=16.88 theta=-2.22 IV=0.46\\n',\n",
       " '2022-04-07 14:00:00 TSLA  220414C01030000,Bid=42.0 Ask=42.75 Last=42.5 OI=540.0 sigma=0.702 NPV=59.630                             delta=0.579 gamma=0.003 vega=71.102 beta=16.47 theta=-2.23 IV=0.46\\n',\n",
       " '2022-04-07 14:00:00 TSLA  220414C01035000,Bid=39.15 Ask=39.8 Last=39.52 OI=1266.0 sigma=0.702 NPV=57.017                             delta=0.563 gamma=0.003 vega=71.609 beta=16.06 theta=-2.25 IV=0.46\\n',\n",
       " '2022-04-07 14:00:00 TSLA  220414C01040000,Bid=36.45 Ask=37.0 Last=36.65 OI=1409.0 sigma=0.702 NPV=54.483                             delta=0.548 gamma=0.003 vega=72.005 beta=15.64 theta=-2.26 IV=0.45\\n',\n",
       " '2022-04-07 14:00:00 TSLA  220414C01045000,Bid=33.8 Ask=34.4 Last=34.13 OI=522.0 sigma=0.702 NPV=52.028                             delta=0.532 gamma=0.003 vega=72.288 beta=15.22 theta=-2.27 IV=0.45\\n',\n",
       " '2022-04-07 14:00:00 TSLA  220414C01050000,Bid=31.35 Ask=31.9 Last=31.9 OI=3382.0 sigma=0.702 NPV=49.651                             delta=0.516 gamma=0.003 vega=72.460 beta=14.80 theta=-2.27 IV=0.45\\n',\n",
       " '2022-04-07 14:00:00 TSLA  220414C01055000,Bid=29.0 Ask=29.55 Last=29.0 OI=511.0 sigma=0.702 NPV=47.352                             delta=0.501 gamma=0.003 vega=72.520 beta=14.38 theta=-2.28 IV=0.45\\n',\n",
       " '2022-04-07 14:00:00 TSLA  220414C01075000,Bid=20.9 Ask=21.3 Last=21.2 OI=962.0 sigma=0.702 NPV=38.916                             delta=0.439 gamma=0.003 vega=71.687 beta=12.70 theta=-2.25 IV=0.45\\n',\n",
       " '2022-04-07 14:00:00 TSLA  220414C01080000,Bid=19.2 Ask=19.6 Last=19.42 OI=1471.0 sigma=0.702 NPV=36.993                             delta=0.425 gamma=0.003 vega=71.221 beta=12.28 theta=-2.24 IV=0.45\\n',\n",
       " '2022-04-07 14:00:00 TSLA  220414C01085000,Bid=17.65 Ask=18.0 Last=16.73 OI=391.0 sigma=0.702 NPV=35.142                             delta=0.410 gamma=0.003 vega=70.660 beta=11.87 theta=-2.22 IV=0.45\\n',\n",
       " '2022-04-07 14:00:00 TSLA  220414P01015000,Bid=19.4 Ask=19.8 Last=20.5 OI=302.0 sigma=0.702 NPV=35.516                             delta=-0.375 gamma=0.003 vega=68.924 beta=-12.06 theta=-2.14 IV=0.47\\n',\n",
       " '2022-04-07 14:00:00 TSLA  220414P01020000,Bid=21.15 Ask=21.5 Last=21.5 OI=835.0 sigma=0.702 NPV=37.664                             delta=-0.390 gamma=0.003 vega=69.761 beta=-12.54 theta=-2.17 IV=0.46\\n',\n",
       " '2022-04-07 14:00:00 TSLA  220414P01025000,Bid=23.0 Ask=23.5 Last=23.15 OI=1346.0 sigma=0.702 NPV=39.892                             delta=-0.406 gamma=0.003 vega=70.487 beta=-13.03 theta=-2.19 IV=0.46\\n',\n",
       " '2022-04-07 14:00:00 TSLA  220414P01030000,Bid=24.95 Ask=25.4 Last=24.87 OI=1400.0 sigma=0.702 NPV=42.199                             delta=-0.421 gamma=0.003 vega=71.105 beta=-13.51 theta=-2.21 IV=0.46\\n',\n",
       " '2022-04-07 14:00:00 TSLA  220414P01035000,Bid=27.05 Ask=27.55 Last=27.0 OI=398.0 sigma=0.702 NPV=44.585                             delta=-0.437 gamma=0.003 vega=71.612 beta=-13.99 theta=-2.22 IV=0.46\\n',\n",
       " '2022-04-07 14:00:00 TSLA  220414P01040000,Bid=29.25 Ask=29.75 Last=29.35 OI=923.0 sigma=0.702 NPV=47.050                             delta=-0.453 gamma=0.003 vega=72.005 beta=-14.48 theta=-2.23 IV=0.46\\n',\n",
       " '2022-04-07 14:00:00 TSLA  220414P01045000,Bid=31.6 Ask=32.2 Last=32.1 OI=738.0 sigma=0.702 NPV=49.594                             delta=-0.468 gamma=0.003 vega=72.287 beta=-14.94 theta=-2.24 IV=0.46\\n',\n",
       " '2022-04-07 14:00:00 TSLA  220414P01050000,Bid=34.1 Ask=34.7 Last=34.1 OI=5662.0 sigma=0.702 NPV=52.217                             delta=-0.484 gamma=0.003 vega=72.458 beta=-15.43 theta=-2.25 IV=0.46\\n',\n",
       " '2022-04-07 14:00:00 TSLA  220414P01055000,Bid=36.7 Ask=37.4 Last=38.33 OI=726.0 sigma=0.702 NPV=54.916                             delta=-0.499 gamma=0.003 vega=72.517 beta=-15.90 theta=-2.25 IV=0.46\\n',\n",
       " '2022-04-07 14:00:00 TSLA  220414P01075000,Bid=48.45 Ask=49.3 Last=56.65 OI=889.0 sigma=0.702 NPV=66.479                             delta=-0.561 gamma=0.003 vega=71.679 beta=-17.72 theta=-2.22 IV=0.45\\n',\n",
       " '2022-04-07 14:00:00 TSLA  220414P01080000,Bid=51.7 Ask=52.65 Last=52.07 OI=1478.0 sigma=0.702 NPV=69.555                             delta=-0.576 gamma=0.003 vega=71.209 beta=-18.15 theta=-2.21 IV=0.45\\n',\n",
       " '2022-04-07 14:00:00 TSLA  220414P01085000,Bid=55.05 Ask=56.3 Last=55.15 OI=270.0 sigma=0.702 NPV=72.704                             delta=-0.591 gamma=0.003 vega=70.649 beta=-18.57 theta=-2.19 IV=0.46\\n',\n",
       " '2022-04-07 14:00:00 TSLA  220414C01060000,Bid=26.8 Ask=27.3 Last=27.0 OI=989.0 sigma=0.702 NPV=45.129                             delta=0.485 gamma=0.003 vega=72.471 beta=13.96 theta=-2.27 IV=0.45\\n',\n",
       " '2022-04-07 14:00:00 TSLA  220414P01060000,Bid=39.45 Ask=40.15 Last=40.85 OI=830.0 sigma=0.702 NPV=57.694                             delta=-0.515 gamma=0.003 vega=72.468 beta=-16.36 theta=-2.25 IV=0.45\\n',\n",
       " '2022-04-07 15:00:00 TSLA  220414C01015000,Bid=58.75 Ask=60.4 Last=54.3 OI=512.0 sigma=0.702 NPV=74.882                             delta=0.657 gamma=0.003 vega=67.544 beta=18.68 theta=-2.13 IV=0.47\\n',\n",
       " '2022-04-07 15:00:00 TSLA  220414C01020000,Bid=55.25 Ask=56.95 Last=55.95 OI=918.0 sigma=0.702 NPV=71.867                             delta=0.642 gamma=0.003 vega=68.596 beta=18.30 theta=-2.16 IV=0.47\\n',\n",
       " '2022-04-07 15:00:00 TSLA  220414C01025000,Bid=52.1 Ask=53.35 Last=52.5 OI=5367.0 sigma=0.702 NPV=68.930                             delta=0.627 gamma=0.003 vega=69.546 beta=17.91 theta=-2.19 IV=0.46\\n',\n",
       " '2022-04-07 15:00:00 TSLA  220414C01030000,Bid=48.85 Ask=49.75 Last=49.2 OI=540.0 sigma=0.702 NPV=66.071                             delta=0.611 gamma=0.003 vega=70.392 beta=17.51 theta=-2.21 IV=0.46\\n',\n",
       " '2022-04-07 15:00:00 TSLA  220414C01035000,Bid=45.7 Ask=46.55 Last=46.8 OI=1266.0 sigma=0.702 NPV=63.290                             delta=0.596 gamma=0.003 vega=71.132 beta=17.10 theta=-2.24 IV=0.46\\n',\n",
       " '2022-04-07 15:00:00 TSLA  220414C01040000,Bid=42.85 Ask=43.5 Last=43.75 OI=1409.0 sigma=0.702 NPV=60.588                             delta=0.581 gamma=0.003 vega=71.764 beta=16.69 theta=-2.25 IV=0.46\\n',\n",
       " '2022-04-07 15:00:00 TSLA  220414C01045000,Bid=39.8 Ask=40.6 Last=41.0 OI=522.0 sigma=0.702 NPV=57.965                             delta=0.565 gamma=0.003 vega=72.286 beta=16.28 theta=-2.27 IV=0.46\\n',\n",
       " '2022-04-07 15:00:00 TSLA  220414C01050000,Bid=37.15 Ask=37.85 Last=37.5 OI=3382.0 sigma=0.702 NPV=55.420                             delta=0.550 gamma=0.003 vega=72.697 beta=15.86 theta=-2.28 IV=0.46\\n',\n",
       " '2022-04-07 15:00:00 TSLA  220414C01055000,Bid=34.55 Ask=35.2 Last=35.5 OI=511.0 sigma=0.702 NPV=52.952                             delta=0.534 gamma=0.003 vega=72.997 beta=15.44 theta=-2.29 IV=0.45\\n',\n",
       " '2022-04-07 15:00:00 TSLA  220414C01060000,Bid=32.15 Ask=32.7 Last=32.3 OI=989.0 sigma=0.702 NPV=50.563                             delta=0.519 gamma=0.003 vega=73.187 beta=15.02 theta=-2.30 IV=0.45\\n',\n",
       " '2022-04-07 15:00:00 TSLA  220414C01075000,Bid=25.45 Ask=25.9 Last=26.2 OI=962.0 sigma=0.702 NPV=43.853                             delta=0.473 gamma=0.003 vega=73.102 beta=13.76 theta=-2.29 IV=0.45\\n',\n",
       " '2022-04-07 15:00:00 TSLA  220414C01080000,Bid=23.5 Ask=23.8 Last=23.8 OI=1471.0 sigma=0.702 NPV=41.767                             delta=0.458 gamma=0.003 vega=72.861 beta=13.34 theta=-2.29 IV=0.45\\n',\n",
       " '2022-04-07 15:00:00 TSLA  220414C01085000,Bid=21.65 Ask=22.05 Last=22.25 OI=391.0 sigma=0.702 NPV=39.754                             delta=0.443 gamma=0.003 vega=72.517 beta=12.92 theta=-2.28 IV=0.45\\n',\n",
       " '2022-04-07 15:00:00 TSLA  220414P01015000,Bid=16.3 Ask=16.65 Last=16.49 OI=302.0 sigma=0.702 NPV=31.632                             delta=-0.343 gamma=0.003 vega=67.548 beta=-11.19 theta=-2.10 IV=0.47\\n',\n",
       " '2022-04-07 15:00:00 TSLA  220414P01020000,Bid=17.8 Ask=18.05 Last=17.5 OI=835.0 sigma=0.702 NPV=33.616                             delta=-0.358 gamma=0.003 vega=68.602 beta=-11.65 theta=-2.13 IV=0.47\\n',\n",
       " '2022-04-07 15:00:00 TSLA  220414P01025000,Bid=19.4 Ask=19.8 Last=19.15 OI=1346.0 sigma=0.702 NPV=35.678                             delta=-0.373 gamma=0.003 vega=69.549 beta=-12.14 theta=-2.16 IV=0.47\\n',\n",
       " '2022-04-07 15:00:00 TSLA  220414P01030000,Bid=21.15 Ask=21.55 Last=20.8 OI=1400.0 sigma=0.702 NPV=37.818                             delta=-0.389 gamma=0.003 vega=70.397 beta=-12.62 theta=-2.19 IV=0.46\\n',\n",
       " '2022-04-07 15:00:00 TSLA  220414P01035000,Bid=23.0 Ask=23.4 Last=22.9 OI=398.0 sigma=0.702 NPV=40.037                             delta=-0.404 gamma=0.003 vega=71.134 beta=-13.11 theta=-2.21 IV=0.46\\n',\n",
       " '2022-04-07 15:00:00 TSLA  220414P01040000,Bid=24.95 Ask=25.4 Last=24.8 OI=923.0 sigma=0.702 NPV=42.334                             delta=-0.419 gamma=0.003 vega=71.766 beta=-13.59 theta=-2.23 IV=0.46\\n',\n",
       " '2022-04-07 15:00:00 TSLA  220414P01045000,Bid=27.05 Ask=27.55 Last=27.0 OI=738.0 sigma=0.702 NPV=44.710                             delta=-0.435 gamma=0.003 vega=72.288 beta=-14.06 theta=-2.24 IV=0.46\\n',\n",
       " '2022-04-07 15:00:00 TSLA  220414P01050000,Bid=29.3 Ask=29.8 Last=29.45 OI=5662.0 sigma=0.702 NPV=47.163                             delta=-0.450 gamma=0.003 vega=72.697 beta=-14.55 theta=-2.25 IV=0.46\\n',\n",
       " '2022-04-07 15:00:00 TSLA  220414P01055000,Bid=31.7 Ask=32.2 Last=31.7 OI=726.0 sigma=0.702 NPV=49.695                             delta=-0.466 gamma=0.003 vega=72.997 beta=-15.02 theta=-2.26 IV=0.46\\n',\n",
       " '2022-04-07 15:00:00 TSLA  220414P01060000,Bid=34.15 Ask=34.75 Last=34.35 OI=830.0 sigma=0.702 NPV=52.305                             delta=-0.481 gamma=0.003 vega=73.186 beta=-15.51 theta=-2.27 IV=0.46\\n',\n",
       " '2022-04-07 15:00:00 TSLA  220414P01075000,Bid=42.35 Ask=43.15 Last=42.95 OI=889.0 sigma=0.702 NPV=60.593                             delta=-0.527 gamma=0.003 vega=73.097 beta=-16.91 theta=-2.27 IV=0.46\\n',\n",
       " '2022-04-07 15:00:00 TSLA  220414P01080000,Bid=45.4 Ask=46.2 Last=46.43 OI=1478.0 sigma=0.702 NPV=63.507                             delta=-0.542 gamma=0.003 vega=72.852 beta=-17.34 theta=-2.26 IV=0.46\\n',\n",
       " '2022-04-07 15:00:00 TSLA  220414P01085000,Bid=48.5 Ask=49.35 Last=49.0 OI=270.0 sigma=0.702 NPV=66.494                             delta=-0.557 gamma=0.003 vega=72.510 beta=-17.81 theta=-2.25 IV=0.46\\n',\n",
       " '2022-04-07 15:00:00 TSLA  220414C01065000,Bid=29.7 Ask=30.3 Last=29.9 OI=602.0 sigma=0.702 NPV=48.250                             delta=0.504 gamma=0.003 vega=73.267 beta=14.60 theta=-2.30 IV=0.45\\n',\n",
       " '2022-04-07 15:00:00 TSLA  220414C01070000,Bid=27.6 Ask=28.05 Last=27.8 OI=936.0 sigma=0.702 NPV=46.013                             delta=0.488 gamma=0.003 vega=73.238 beta=14.18 theta=-2.30 IV=0.45\\n',\n",
       " '2022-04-07 15:00:00 TSLA  220414P01065000,Bid=36.75 Ask=37.45 Last=36.31 OI=350.0 sigma=0.702 NPV=54.991                             delta=-0.497 gamma=0.003 vega=73.264 beta=-15.98 theta=-2.27 IV=0.46\\n',\n",
       " '2022-04-07 15:00:00 TSLA  220414P01070000,Bid=39.5 Ask=40.25 Last=39.9 OI=819.0 sigma=0.702 NPV=57.755                             delta=-0.512 gamma=0.003 vega=73.233 beta=-16.43 theta=-2.27 IV=0.46\\n',\n",
       " '2022-04-07 16:00:00 TSLA  220414C01015000,Bid=57.4 Ask=59.4 Last=58.4 OI=512.0 sigma=0.702 NPV=74.429                             delta=0.655 gamma=0.003 vega=67.645 beta=18.62 theta=-2.13 IV=0.46\\n',\n",
       " '2022-04-07 16:00:00 TSLA  220414C01020000,Bid=53.8 Ask=55.85 Last=54.82 OI=918.0 sigma=0.702 NPV=71.424                             delta=0.640 gamma=0.003 vega=68.683 beta=18.23 theta=-2.16 IV=0.45\\n',\n",
       " '2022-04-07 16:00:00 TSLA  220414C01025000,Bid=50.8 Ask=52.35 Last=51.75 OI=5367.0 sigma=0.702 NPV=68.498                             delta=0.625 gamma=0.003 vega=69.620 beta=17.84 theta=-2.19 IV=0.45\\n',\n",
       " '2022-04-07 16:00:00 TSLA  220414C01030000,Bid=47.55 Ask=48.8 Last=48.35 OI=540.0 sigma=0.702 NPV=65.649                             delta=0.609 gamma=0.003 vega=70.452 beta=17.44 theta=-2.22 IV=0.45\\n',\n",
       " '2022-04-07 16:00:00 TSLA  220414C01035000,Bid=44.45 Ask=45.9 Last=44.3 OI=1266.0 sigma=0.702 NPV=62.880                             delta=0.594 gamma=0.003 vega=71.178 beta=17.04 theta=-2.24 IV=0.45\\n',\n",
       " '2022-04-07 16:00:00 TSLA  220414C01040000,Bid=41.45 Ask=42.8 Last=41.95 OI=1409.0 sigma=0.702 NPV=60.188                             delta=0.579 gamma=0.003 vega=71.794 beta=16.63 theta=-2.26 IV=0.45\\n',\n",
       " '2022-04-07 16:00:00 TSLA  220414C01045000,Bid=38.75 Ask=39.85 Last=38.95 OI=522.0 sigma=0.702 NPV=57.576                             delta=0.563 gamma=0.003 vega=72.301 beta=16.21 theta=-2.27 IV=0.45\\n',\n",
       " '2022-04-07 16:00:00 TSLA  220414C01050000,Bid=36.1 Ask=37.0 Last=36.1 OI=3382.0 sigma=0.702 NPV=55.041                             delta=0.548 gamma=0.003 vega=72.697 beta=15.79 theta=-2.28 IV=0.45\\n',\n",
       " '2022-04-07 16:00:00 TSLA  220414C01055000,Bid=33.35 Ask=34.2 Last=34.15 OI=511.0 sigma=0.702 NPV=52.584                             delta=0.532 gamma=0.003 vega=72.982 beta=15.38 theta=-2.29 IV=0.44\\n',\n",
       " '2022-04-07 16:00:00 TSLA  220414C01060000,Bid=31.0 Ask=32.15 Last=31.25 OI=989.0 sigma=0.702 NPV=50.205                             delta=0.517 gamma=0.003 vega=73.157 beta=14.96 theta=-2.30 IV=0.45\\n',\n",
       " '2022-04-07 16:00:00 TSLA  220414C01065000,Bid=28.5 Ask=29.45 Last=28.75 OI=602.0 sigma=0.702 NPV=47.903                             delta=0.501 gamma=0.003 vega=73.222 beta=14.53 theta=-2.30 IV=0.44\\n',\n",
       " '2022-04-07 16:00:00 TSLA  220414C01070000,Bid=26.5 Ask=27.6 Last=26.7 OI=936.0 sigma=0.702 NPV=45.677                             delta=0.486 gamma=0.003 vega=73.178 beta=14.11 theta=-2.30 IV=0.45\\n',\n",
       " '2022-04-07 16:00:00 TSLA  220414C01075000,Bid=24.35 Ask=25.15 Last=24.85 OI=962.0 sigma=0.702 NPV=43.527                             delta=0.471 gamma=0.003 vega=73.027 beta=13.69 theta=-2.29 IV=0.44\\n',\n",
       " '2022-04-07 16:00:00 TSLA  220414C01080000,Bid=22.45 Ask=23.2 Last=22.9 OI=1471.0 sigma=0.702 NPV=41.451                             delta=0.456 gamma=0.003 vega=72.771 beta=13.27 theta=-2.28 IV=0.44\\n',\n",
       " '2022-04-07 16:00:00 TSLA  220414C01085000,Bid=20.7 Ask=21.45 Last=21.1 OI=391.0 sigma=0.702 NPV=39.450                             delta=0.441 gamma=0.003 vega=72.413 beta=12.85 theta=-2.27 IV=0.44\\n',\n",
       " '2022-04-07 16:00:00 TSLA  220414P01015000,Bid=15.75 Ask=16.4 Last=16.0 OI=302.0 sigma=0.702 NPV=31.869                             delta=-0.345 gamma=0.003 vega=67.649 beta=-11.23 theta=-2.11 IV=0.46\\n',\n",
       " '2022-04-07 16:00:00 TSLA  220414P01020000,Bid=17.25 Ask=18.0 Last=17.7 OI=835.0 sigma=0.702 NPV=33.864                             delta=-0.360 gamma=0.003 vega=68.690 beta=-11.71 theta=-2.14 IV=0.46\\n',\n",
       " '2022-04-07 16:00:00 TSLA  220414P01025000,Bid=18.85 Ask=19.8 Last=19.15 OI=1346.0 sigma=0.702 NPV=35.936                             delta=-0.375 gamma=0.003 vega=69.623 beta=-12.19 theta=-2.16 IV=0.46\\n',\n",
       " '2022-04-07 16:00:00 TSLA  220414P01030000,Bid=20.6 Ask=21.5 Last=21.13 OI=1400.0 sigma=0.702 NPV=38.087                             delta=-0.391 gamma=0.003 vega=70.457 beta=-12.67 theta=-2.19 IV=0.46\\n',\n",
       " '2022-04-07 16:00:00 TSLA  220414P01035000,Bid=22.4 Ask=23.45 Last=22.77 OI=398.0 sigma=0.702 NPV=40.316                             delta=-0.406 gamma=0.003 vega=71.180 beta=-13.16 theta=-2.21 IV=0.46\\n',\n",
       " '2022-04-07 16:00:00 TSLA  220414P01040000,Bid=24.45 Ask=25.35 Last=24.75 OI=923.0 sigma=0.702 NPV=42.624                             delta=-0.421 gamma=0.003 vega=71.797 beta=-13.64 theta=-2.23 IV=0.45\\n',\n",
       " '2022-04-07 16:00:00 TSLA  220414P01045000,Bid=26.5 Ask=27.6 Last=27.0 OI=738.0 sigma=0.702 NPV=45.010                             delta=-0.437 gamma=0.003 vega=72.304 beta=-14.12 theta=-2.24 IV=0.45\\n',\n",
       " '2022-04-07 16:00:00 TSLA  220414P01050000,Bid=29.0 Ask=29.8 Last=29.25 OI=5662.0 sigma=0.702 NPV=47.475                             delta=-0.452 gamma=0.003 vega=72.697 beta=-14.61 theta=-2.25 IV=0.45\\n',\n",
       " '2022-04-07 16:00:00 TSLA  220414P01055000,Bid=31.1 Ask=32.0 Last=31.77 OI=726.0 sigma=0.702 NPV=50.018                             delta=-0.468 gamma=0.003 vega=72.981 beta=-15.08 theta=-2.26 IV=0.45\\n',\n",
       " '2022-04-07 16:00:00 TSLA  220414P01060000,Bid=33.6 Ask=34.9 Last=34.49 OI=830.0 sigma=0.702 NPV=52.638                             delta=-0.483 gamma=0.003 vega=73.156 beta=-15.56 theta=-2.27 IV=0.45\\n',\n",
       " '2022-04-07 16:00:00 TSLA  220414P01065000,Bid=36.25 Ask=37.55 Last=37.06 OI=350.0 sigma=0.702 NPV=55.335                             delta=-0.499 gamma=0.003 vega=73.218 beta=-16.03 theta=-2.27 IV=0.45\\n',\n",
       " '2022-04-07 16:00:00 TSLA  220414P01070000,Bid=39.05 Ask=40.4 Last=39.6 OI=819.0 sigma=0.702 NPV=58.109                             delta=-0.514 gamma=0.003 vega=73.174 beta=-16.49 theta=-2.27 IV=0.45\\n',\n",
       " '2022-04-07 16:00:00 TSLA  220414P01075000,Bid=42.0 Ask=43.35 Last=41.15 OI=889.0 sigma=0.702 NPV=60.958                             delta=-0.529 gamma=0.003 vega=73.021 beta=-16.96 theta=-2.26 IV=0.45\\n',\n",
       " '2022-04-07 16:00:00 TSLA  220414P01080000,Bid=45.0 Ask=46.45 Last=45.9 OI=1478.0 sigma=0.702 NPV=63.882                             delta=-0.545 gamma=0.003 vega=72.761 beta=-17.40 theta=-2.26 IV=0.45\\n',\n",
       " '2022-04-07 16:00:00 TSLA  220414P01085000,Bid=48.15 Ask=49.65 Last=47.25 OI=270.0 sigma=0.702 NPV=66.879                             delta=-0.560 gamma=0.003 vega=72.406 beta=-17.85 theta=-2.24 IV=0.45\\n',\n",
       " '2022-04-08 10:00:00 TSLA  220414C01020000,Bid=36.7 Ask=37.35 Last=36.8 OI=967.0 sigma=0.699 NPV=53.404                             delta=0.562 gamma=0.003 vega=67.280 beta=14.42 theta=-2.31 IV=0.46\\n',\n",
       " '2022-04-08 10:00:00 TSLA  220414C01025000,Bid=34.0 Ask=34.6 Last=34.37 OI=5457.0 sigma=0.699 NPV=50.865                             delta=0.545 gamma=0.003 vega=67.666 beta=14.02 theta=-2.32 IV=0.45\\n',\n",
       " '2022-04-08 10:00:00 TSLA  220414C01030000,Bid=31.45 Ask=31.95 Last=31.75 OI=651.0 sigma=0.699 NPV=48.411                             delta=0.529 gamma=0.003 vega=67.931 beta=13.62 theta=-2.33 IV=0.45\\n',\n",
       " '2022-04-08 10:00:00 TSLA  220414C01035000,Bid=29.0 Ask=29.5 Last=29.25 OI=1417.0 sigma=0.699 NPV=46.040                             delta=0.512 gamma=0.003 vega=68.077 beta=13.21 theta=-2.34 IV=0.45\\n',\n",
       " '2022-04-08 10:00:00 TSLA  220414C01040000,Bid=26.75 Ask=27.15 Last=26.91 OI=1512.0 sigma=0.699 NPV=43.752                             delta=0.496 gamma=0.003 vega=68.105 beta=12.80 theta=-2.34 IV=0.45\\n',\n",
       " '2022-04-08 10:00:00 TSLA  220414C01045000,Bid=24.55 Ask=24.95 Last=24.88 OI=705.0 sigma=0.699 NPV=41.546                             delta=0.479 gamma=0.003 vega=68.015 beta=12.40 theta=-2.33 IV=0.45\\n',\n",
       " '2022-04-08 10:00:00 TSLA  220414P01020000,Bid=25.4 Ask=25.8 Last=25.65 OI=879.0 sigma=0.699 NPV=41.703                             delta=-0.438 gamma=0.003 vega=67.282 beta=-12.51 theta=-2.28 IV=0.46\\n',\n",
       " '2022-04-08 10:00:00 TSLA  220414P01025000,Bid=27.6 Ask=28.05 Last=27.69 OI=1513.0 sigma=0.699 NPV=44.163                             delta=-0.455 gamma=0.003 vega=67.666 beta=-12.97 theta=-2.30 IV=0.46\\n',\n",
       " '2022-04-08 10:00:00 TSLA  220414P01030000,Bid=30.05 Ask=30.5 Last=30.09 OI=1235.0 sigma=0.699 NPV=46.708                             delta=-0.471 gamma=0.003 vega=67.931 beta=-13.42 theta=-2.30 IV=0.46\\n',\n",
       " '2022-04-08 10:00:00 TSLA  220414P01035000,Bid=32.5 Ask=32.95 Last=32.9 OI=738.0 sigma=0.699 NPV=49.337                             delta=-0.488 gamma=0.003 vega=68.075 beta=-13.88 theta=-2.31 IV=0.46\\n',\n",
       " '2022-04-08 10:00:00 TSLA  220414P01040000,Bid=35.2 Ask=35.7 Last=35.25 OI=1412.0 sigma=0.699 NPV=52.048                             delta=-0.505 gamma=0.003 vega=68.101 beta=-14.32 theta=-2.31 IV=0.46\\n',\n",
       " '2022-04-08 10:00:00 TSLA  220414P01045000,Bid=37.95 Ask=38.6 Last=38.33 OI=944.0 sigma=0.699 NPV=54.842                             delta=-0.521 gamma=0.003 vega=68.011 beta=-14.77 theta=-2.31 IV=0.45\\n',\n",
       " '2022-04-08 11:00:00 TSLA  220414C01025000,Bid=35.55 Ask=36.1 Last=34.9 OI=5457.0 sigma=0.699 NPV=53.342                             delta=0.560 gamma=0.003 vega=67.622 beta=14.44 theta=-2.32 IV=0.44\\n',\n",
       " '2022-04-08 11:00:00 TSLA  220414C01030000,Bid=32.9 Ask=33.35 Last=33.11 OI=651.0 sigma=0.699 NPV=50.813                             delta=0.544 gamma=0.003 vega=67.994 beta=14.04 theta=-2.33 IV=0.44\\n',\n",
       " '2022-04-08 11:00:00 TSLA  220414C01035000,Bid=30.35 Ask=30.8 Last=30.7 OI=1417.0 sigma=0.699 NPV=48.367                             delta=0.527 gamma=0.003 vega=68.247 beta=13.63 theta=-2.34 IV=0.44\\n',\n",
       " '2022-04-08 11:00:00 TSLA  220414C01040000,Bid=28.0 Ask=28.35 Last=28.03 OI=1512.0 sigma=0.699 NPV=46.005                             delta=0.510 gamma=0.003 vega=68.381 beta=13.23 theta=-2.35 IV=0.44\\n',\n",
       " '2022-04-08 11:00:00 TSLA  220414C01045000,Bid=25.75 Ask=26.1 Last=25.3 OI=705.0 sigma=0.699 NPV=43.725                             delta=0.494 gamma=0.003 vega=68.397 beta=12.82 theta=-2.35 IV=0.44\\n',\n",
       " '2022-04-08 11:00:00 TSLA  220414P01025000,Bid=24.9 Ask=25.15 Last=25.0 OI=1513.0 sigma=0.699 NPV=42.160                             delta=-0.440 gamma=0.003 vega=67.623 beta=-12.62 theta=-2.30 IV=0.45\\n',\n",
       " '2022-04-08 11:00:00 TSLA  220414P01030000,Bid=27.1 Ask=27.5 Last=27.4 OI=1235.0 sigma=0.699 NPV=44.630                             delta=-0.456 gamma=0.003 vega=67.994 beta=-13.08 theta=-2.31 IV=0.44\\n',\n",
       " '2022-04-08 11:00:00 TSLA  220414P01035000,Bid=29.5 Ask=29.95 Last=29.9 OI=738.0 sigma=0.699 NPV=47.184                             delta=-0.473 gamma=0.003 vega=68.247 beta=-13.52 theta=-2.32 IV=0.44\\n',\n",
       " '2022-04-08 11:00:00 TSLA  220414P01040000,Bid=32.1 Ask=32.55 Last=33.01 OI=1412.0 sigma=0.699 NPV=49.821                             delta=-0.490 gamma=0.003 vega=68.379 beta=-13.98 theta=-2.32 IV=0.44\\n',\n",
       " '2022-04-08 11:00:00 TSLA  220414P01045000,Bid=34.8 Ask=35.3 Last=35.5 OI=944.0 sigma=0.699 NPV=52.540                             delta=-0.506 gamma=0.003 vega=68.393 beta=-14.42 theta=-2.32 IV=0.44\\n',\n",
       " '2022-04-08 11:00:00 TSLA  220414C01050000,Bid=23.75 Ask=23.95 Last=23.83 OI=4367.0 sigma=0.699 NPV=41.527                             delta=0.477 gamma=0.003 vega=68.296 beta=12.41 theta=-2.34 IV=0.44\\n',\n",
       " '2022-04-08 11:00:00 TSLA  220414P01050000,Bid=37.6 Ask=38.2 Last=38.0 OI=9736.0 sigma=0.699 NPV=55.342                             delta=-0.523 gamma=0.003 vega=68.292 beta=-14.87 theta=-2.32 IV=0.44\\n',\n",
       " '2022-04-08 12:00:00 TSLA  220414C01025000,Bid=33.05 Ask=33.55 Last=33.8 OI=5457.0 sigma=0.699 NPV=51.742                             delta=0.551 gamma=0.003 vega=67.661 beta=14.17 theta=-2.32 IV=0.43\\n',\n",
       " '2022-04-08 12:00:00 TSLA  220414C01030000,Bid=30.45 Ask=30.9 Last=30.7 OI=651.0 sigma=0.699 NPV=49.261                             delta=0.534 gamma=0.003 vega=67.965 beta=13.77 theta=-2.33 IV=0.43\\n',\n",
       " '2022-04-08 12:00:00 TSLA  220414C01035000,Bid=28.0 Ask=28.4 Last=28.25 OI=1417.0 sigma=0.699 NPV=46.863                             delta=0.517 gamma=0.003 vega=68.149 beta=13.36 theta=-2.34 IV=0.43\\n',\n",
       " '2022-04-08 12:00:00 TSLA  220414C01040000,Bid=25.65 Ask=26.05 Last=25.81 OI=1512.0 sigma=0.699 NPV=44.549                             delta=0.501 gamma=0.003 vega=68.214 beta=12.96 theta=-2.34 IV=0.42\\n',\n",
       " '2022-04-08 12:00:00 TSLA  220414C01045000,Bid=23.5 Ask=23.9 Last=23.93 OI=705.0 sigma=0.699 NPV=42.317                             delta=0.484 gamma=0.003 vega=68.162 beta=12.55 theta=-2.34 IV=0.43\\n',\n",
       " '2022-04-08 12:00:00 TSLA  220414C01050000,Bid=21.5 Ask=21.85 Last=21.9 OI=4367.0 sigma=0.699 NPV=40.166                             delta=0.468 gamma=0.003 vega=67.994 beta=12.14 theta=-2.33 IV=0.43\\n',\n",
       " '2022-04-08 12:00:00 TSLA  220414P01025000,Bid=24.7 Ask=25.0 Last=25.2 OI=1513.0 sigma=0.699 NPV=43.440                             delta=-0.449 gamma=0.003 vega=67.661 beta=-12.84 theta=-2.30 IV=0.42\\n',\n",
       " '2022-04-08 12:00:00 TSLA  220414P01030000,Bid=27.05 Ask=27.45 Last=26.88 OI=1235.0 sigma=0.699 NPV=45.958                             delta=-0.466 gamma=0.003 vega=67.964 beta=-13.29 theta=-2.31 IV=0.42\\n',\n",
       " '2022-04-08 12:00:00 TSLA  220414P01035000,Bid=29.55 Ask=30.0 Last=29.84 OI=738.0 sigma=0.699 NPV=48.560                             delta=-0.483 gamma=0.003 vega=68.148 beta=-13.75 theta=-2.31 IV=0.42\\n',\n",
       " '2022-04-08 12:00:00 TSLA  220414P01040000,Bid=32.2 Ask=32.7 Last=32.4 OI=1412.0 sigma=0.699 NPV=51.245                             delta=-0.499 gamma=0.003 vega=68.211 beta=-14.20 theta=-2.31 IV=0.42\\n',\n",
       " '2022-04-08 12:00:00 TSLA  220414P01045000,Bid=35.0 Ask=35.5 Last=34.91 OI=944.0 sigma=0.699 NPV=54.012                             delta=-0.516 gamma=0.003 vega=68.159 beta=-14.64 theta=-2.31 IV=0.42\\n',\n",
       " '2022-04-08 12:00:00 TSLA  220414P01050000,Bid=37.9 Ask=38.5 Last=38.47 OI=9736.0 sigma=0.699 NPV=56.861                             delta=-0.532 gamma=0.003 vega=67.989 beta=-15.08 theta=-2.31 IV=0.42\\n',\n",
       " '2022-04-08 12:00:00 TSLA  220414C01020000,Bid=35.8 Ask=36.4 Last=36.52 OI=967.0 sigma=0.699 NPV=54.307                             delta=0.567 gamma=0.003 vega=67.237 beta=14.57 theta=-2.31 IV=0.43\\n',\n",
       " '2022-04-08 12:00:00 TSLA  220414P01020000,Bid=22.5 Ask=22.8 Last=22.68 OI=879.0 sigma=0.699 NPV=41.006                             delta=-0.433 gamma=0.003 vega=67.239 beta=-12.38 theta=-2.28 IV=0.43\\n',\n",
       " '2022-04-08 13:00:00 TSLA  220414C01020000,Bid=41.1 Ask=41.8 Last=41.15 OI=967.0 sigma=0.699 NPV=60.115                             delta=0.600 gamma=0.003 vega=66.708 beta=15.49 theta=-2.29 IV=0.42\\n',\n",
       " '2022-04-08 13:00:00 TSLA  220414C01030000,Bid=35.05 Ask=35.7 Last=35.32 OI=651.0 sigma=0.699 NPV=54.739                             delta=0.567 gamma=0.003 vega=67.902 beta=14.70 theta=-2.33 IV=0.41\\n',\n",
       " '2022-04-08 13:00:00 TSLA  220414C01035000,Bid=32.3 Ask=32.85 Last=32.55 OI=1417.0 sigma=0.699 NPV=52.176                             delta=0.550 gamma=0.003 vega=68.322 beta=14.30 theta=-2.35 IV=0.41\\n',\n",
       " '2022-04-08 13:00:00 TSLA  220414C01040000,Bid=29.8 Ask=30.2 Last=29.77 OI=1512.0 sigma=0.699 NPV=49.697                             delta=0.534 gamma=0.003 vega=68.623 beta=13.89 theta=-2.36 IV=0.41\\n',\n",
       " '2022-04-08 13:00:00 TSLA  220414C01045000,Bid=27.25 Ask=27.7 Last=27.43 OI=705.0 sigma=0.699 NPV=47.300                             delta=0.517 gamma=0.003 vega=68.806 beta=13.49 theta=-2.36 IV=0.41\\n',\n",
       " '2022-04-08 13:00:00 TSLA  220414C01050000,Bid=25.0 Ask=25.25 Last=25.25 OI=4367.0 sigma=0.699 NPV=44.986                             delta=0.501 gamma=0.003 vega=68.871 beta=13.08 theta=-2.36 IV=0.41\\n',\n",
       " '2022-04-08 13:00:00 TSLA  220414P01020000,Bid=18.6 Ask=18.85 Last=18.65 OI=879.0 sigma=0.699 NPV=36.863                             delta=-0.400 gamma=0.003 vega=66.713 beta=-11.60 theta=-2.27 IV=0.42\\n',\n",
       " '2022-04-08 13:00:00 TSLA  220414P01030000,Bid=22.55 Ask=22.85 Last=22.75 OI=1235.0 sigma=0.699 NPV=41.485                             delta=-0.433 gamma=0.003 vega=67.904 beta=-12.52 theta=-2.30 IV=0.42\\n',\n",
       " '2022-04-08 13:00:00 TSLA  220414P01035000,Bid=24.85 Ask=25.05 Last=24.5 OI=738.0 sigma=0.699 NPV=43.922                             delta=-0.450 gamma=0.003 vega=68.322 beta=-12.98 theta=-2.32 IV=0.42\\n',\n",
       " '2022-04-08 13:00:00 TSLA  220414P01040000,Bid=27.05 Ask=27.5 Last=27.26 OI=1412.0 sigma=0.699 NPV=46.442                             delta=-0.466 gamma=0.003 vega=68.623 beta=-13.43 theta=-2.33 IV=0.42\\n',\n",
       " '2022-04-08 13:00:00 TSLA  220414P01045000,Bid=29.55 Ask=30.0 Last=30.0 OI=944.0 sigma=0.699 NPV=49.044                             delta=-0.483 gamma=0.003 vega=68.805 beta=-13.89 theta=-2.33 IV=0.42\\n',\n",
       " '2022-04-08 13:00:00 TSLA  220414P01050000,Bid=32.3 Ask=32.75 Last=32.45 OI=9736.0 sigma=0.699 NPV=51.729                             delta=-0.499 gamma=0.003 vega=68.868 beta=-14.34 theta=-2.34 IV=0.42\\n',\n",
       " '2022-04-08 13:00:00 TSLA  220414C01055000,Bid=22.8 Ask=23.15 Last=23.0 OI=739.0 sigma=0.699 NPV=42.753                             delta=0.485 gamma=0.003 vega=68.820 beta=12.68 theta=-2.36 IV=0.41\\n',\n",
       " '2022-04-08 13:00:00 TSLA  220414P01055000,Bid=35.0 Ask=35.6 Last=35.89 OI=883.0 sigma=0.699 NPV=54.496                             delta=-0.516 gamma=0.003 vega=68.817 beta=-14.78 theta=-2.33 IV=0.42\\n',\n",
       " '2022-04-08 14:00:00 TSLA  220414C01020000,Bid=34.5 Ask=35.1 Last=35.05 OI=967.0 sigma=0.699 NPV=53.826                             delta=0.565 gamma=0.003 vega=67.261 beta=14.49 theta=-2.31 IV=0.42\\n',\n",
       " '2022-04-08 14:00:00 TSLA  220414C01030000,Bid=29.25 Ask=29.65 Last=29.5 OI=651.0 sigma=0.699 NPV=48.808                             delta=0.531 gamma=0.003 vega=67.949 beta=13.69 theta=-2.33 IV=0.41\\n',\n",
       " '2022-04-08 14:00:00 TSLA  220414C01035000,Bid=26.85 Ask=27.1 Last=26.98 OI=1417.0 sigma=0.699 NPV=46.425                             delta=0.515 gamma=0.003 vega=68.112 beta=13.28 theta=-2.34 IV=0.41\\n',\n",
       " '2022-04-08 14:00:00 TSLA  220414C01040000,Bid=24.45 Ask=24.85 Last=24.8 OI=1512.0 sigma=0.699 NPV=44.124                             delta=0.498 gamma=0.003 vega=68.158 beta=12.88 theta=-2.34 IV=0.41\\n',\n",
       " '2022-04-08 14:00:00 TSLA  220414C01045000,Bid=22.3 Ask=22.65 Last=22.4 OI=705.0 sigma=0.699 NPV=41.906                             delta=0.481 gamma=0.003 vega=68.085 beta=12.47 theta=-2.34 IV=0.41\\n',\n",
       " '2022-04-08 14:00:00 TSLA  220414C01050000,Bid=20.3 Ask=20.6 Last=20.42 OI=4367.0 sigma=0.699 NPV=39.769                             delta=0.465 gamma=0.003 vega=67.898 beta=12.06 theta=-2.33 IV=0.41\\n',\n",
       " '2022-04-08 14:00:00 TSLA  220414C01055000,Bid=18.55 Ask=18.75 Last=18.56 OI=739.0 sigma=0.699 NPV=37.713                             delta=0.449 gamma=0.003 vega=67.597 beta=11.66 theta=-2.32 IV=0.41\\n',\n",
       " '2022-04-08 14:00:00 TSLA  220414P01020000,Bid=22.25 Ask=22.6 Last=22.6 OI=879.0 sigma=0.699 NPV=41.375                             delta=-0.435 gamma=0.003 vega=67.264 beta=-12.45 theta=-2.28 IV=0.42\\n',\n",
       " '2022-04-08 14:00:00 TSLA  220414P01030000,Bid=26.8 Ask=27.25 Last=27.0 OI=1235.0 sigma=0.699 NPV=46.356                             delta=-0.469 gamma=0.003 vega=67.948 beta=-13.36 theta=-2.31 IV=0.41\\n',\n",
       " '2022-04-08 14:00:00 TSLA  220414P01035000,Bid=29.3 Ask=29.8 Last=29.7 OI=738.0 sigma=0.699 NPV=48.972                             delta=-0.486 gamma=0.003 vega=68.111 beta=-13.82 theta=-2.31 IV=0.41\\n',\n",
       " '2022-04-08 14:00:00 TSLA  220414P01040000,Bid=31.95 Ask=32.35 Last=32.28 OI=1412.0 sigma=0.699 NPV=51.671                             delta=-0.502 gamma=0.003 vega=68.154 beta=-14.26 theta=-2.31 IV=0.41\\n',\n",
       " '2022-04-08 14:00:00 TSLA  220414P01045000,Bid=34.75 Ask=35.35 Last=35.27 OI=944.0 sigma=0.699 NPV=54.452                             delta=-0.519 gamma=0.003 vega=68.082 beta=-14.71 theta=-2.31 IV=0.41\\n',\n",
       " '2022-04-08 14:00:00 TSLA  220414P01050000,Bid=37.75 Ask=38.3 Last=38.0 OI=9736.0 sigma=0.699 NPV=57.315                             delta=-0.535 gamma=0.003 vega=67.892 beta=-15.15 theta=-2.30 IV=0.41\\n',\n",
       " '2022-04-08 14:00:00 TSLA  220414P01055000,Bid=40.9 Ask=41.6 Last=41.75 OI=883.0 sigma=0.699 NPV=60.258                             delta=-0.551 gamma=0.003 vega=67.587 beta=-15.57 theta=-2.29 IV=0.41\\n',\n",
       " '2022-04-08 14:00:00 TSLA  220414C01025000,Bid=31.85 Ask=32.3 Last=32.0 OI=5457.0 sigma=0.699 NPV=51.275                             delta=0.548 gamma=0.003 vega=67.665 beta=14.09 theta=-2.32 IV=0.42\\n',\n",
       " '2022-04-08 14:00:00 TSLA  220414P01025000,Bid=24.45 Ask=24.85 Last=24.75 OI=1513.0 sigma=0.699 NPV=43.823                             delta=-0.452 gamma=0.003 vega=67.665 beta=-12.91 theta=-2.30 IV=0.42\\n',\n",
       " '2022-04-08 15:00:00 TSLA  220414C01020000,Bid=35.3 Ask=35.8 Last=35.2 OI=967.0 sigma=0.699 NPV=55.702                             delta=0.575 gamma=0.003 vega=67.149 beta=14.80 theta=-2.31 IV=0.40\\n',\n",
       " '2022-04-08 15:00:00 TSLA  220414C01025000,Bid=32.4 Ask=32.9 Last=32.58 OI=5457.0 sigma=0.699 NPV=53.096                             delta=0.559 gamma=0.003 vega=67.631 beta=14.40 theta=-2.32 IV=0.40\\n',\n",
       " '2022-04-08 15:00:00 TSLA  220414C01030000,Bid=29.7 Ask=30.15 Last=29.65 OI=651.0 sigma=0.699 NPV=50.574                             delta=0.542 gamma=0.003 vega=67.993 beta=14.00 theta=-2.33 IV=0.40\\n',\n",
       " '2022-04-08 15:00:00 TSLA  220414C01035000,Bid=27.2 Ask=27.7 Last=27.68 OI=1417.0 sigma=0.699 NPV=48.136                             delta=0.526 gamma=0.003 vega=68.235 beta=13.59 theta=-2.34 IV=0.40\\n',\n",
       " '2022-04-08 15:00:00 TSLA  220414C01040000,Bid=24.8 Ask=25.2 Last=25.0 OI=1512.0 sigma=0.699 NPV=45.781                             delta=0.509 gamma=0.003 vega=68.358 beta=13.19 theta=-2.35 IV=0.40\\n',\n",
       " '2022-04-08 15:00:00 TSLA  220414C01045000,Bid=22.6 Ask=23.05 Last=22.75 OI=705.0 sigma=0.699 NPV=43.508                             delta=0.492 gamma=0.003 vega=68.363 beta=12.78 theta=-2.35 IV=0.40\\n',\n",
       " '2022-04-08 15:00:00 TSLA  220414C01050000,Bid=20.55 Ask=20.9 Last=20.8 OI=4367.0 sigma=0.699 NPV=41.317                             delta=0.476 gamma=0.003 vega=68.252 beta=12.37 theta=-2.34 IV=0.40\\n',\n",
       " '2022-04-08 15:00:00 TSLA  220414C01055000,Bid=18.65 Ask=19.0 Last=18.82 OI=739.0 sigma=0.699 NPV=39.207                             delta=0.460 gamma=0.003 vega=68.027 beta=11.97 theta=-2.33 IV=0.40\\n',\n",
       " '2022-04-08 15:00:00 TSLA  220414P01020000,Bid=19.9 Ask=20.25 Last=19.9 OI=879.0 sigma=0.699 NPV=39.960                             delta=-0.425 gamma=0.003 vega=67.151 beta=-12.19 theta=-2.28 IV=0.40\\n',\n",
       " '2022-04-08 15:00:00 TSLA  220414P01025000,Bid=22.0 Ask=22.3 Last=21.95 OI=1513.0 sigma=0.699 NPV=42.354                             delta=-0.441 gamma=0.003 vega=67.631 beta=-12.65 theta=-2.30 IV=0.40\\n',\n",
       " '2022-04-08 15:00:00 TSLA  220414P01030000,Bid=24.2 Ask=24.6 Last=24.5 OI=1235.0 sigma=0.699 NPV=44.831                             delta=-0.458 gamma=0.003 vega=67.992 beta=-13.11 theta=-2.31 IV=0.40\\n',\n",
       " '2022-04-08 15:00:00 TSLA  220414P01035000,Bid=26.7 Ask=27.05 Last=26.62 OI=738.0 sigma=0.699 NPV=47.392                             delta=-0.475 gamma=0.003 vega=68.234 beta=-13.56 theta=-2.31 IV=0.40\\n',\n",
       " '2022-04-08 15:00:00 TSLA  220414P01040000,Bid=29.25 Ask=29.75 Last=29.3 OI=1412.0 sigma=0.699 NPV=50.037                             delta=-0.491 gamma=0.003 vega=68.356 beta=-14.02 theta=-2.32 IV=0.40\\n',\n",
       " '2022-04-08 15:00:00 TSLA  220414P01045000,Bid=32.05 Ask=32.55 Last=31.83 OI=944.0 sigma=0.699 NPV=52.764                             delta=-0.508 gamma=0.003 vega=68.359 beta=-14.46 theta=-2.32 IV=0.40\\n',\n",
       " '2022-04-08 15:00:00 TSLA  220414P01050000,Bid=34.9 Ask=35.5 Last=34.7 OI=9736.0 sigma=0.699 NPV=55.572                             delta=-0.524 gamma=0.003 vega=68.248 beta=-14.90 theta=-2.31 IV=0.40\\n',\n",
       " '2022-04-08 15:00:00 TSLA  220414P01055000,Bid=38.0 Ask=38.55 Last=37.95 OI=883.0 sigma=0.699 NPV=58.462                             delta=-0.541 gamma=0.003 vega=68.020 beta=-15.33 theta=-2.31 IV=0.40\\n',\n",
       " '2022-04-08 16:00:00 TSLA  220414C01020000,Bid=28.6 Ask=29.35 Last=28.85 OI=967.0 sigma=0.699 NPV=50.123                             delta=0.542 gamma=0.003 vega=67.333 beta=13.87 theta=-2.31 IV=0.38\\n',\n",
       " '2022-04-08 16:00:00 TSLA  220414C01025000,Bid=26.05 Ask=26.7 Last=26.32 OI=5457.0 sigma=0.699 NPV=47.684                             delta=0.526 gamma=0.003 vega=67.576 beta=13.46 theta=-2.32 IV=0.38\\n',\n",
       " '2022-04-08 16:00:00 TSLA  220414C01030000,Bid=23.5 Ask=24.15 Last=23.85 OI=651.0 sigma=0.699 NPV=45.329                             delta=0.509 gamma=0.003 vega=67.700 beta=13.06 theta=-2.32 IV=0.38\\n',\n",
       " '2022-04-08 16:00:00 TSLA  220414C01035000,Bid=21.4 Ask=21.85 Last=21.64 OI=1417.0 sigma=0.699 NPV=43.057                             delta=0.492 gamma=0.003 vega=67.704 beta=12.65 theta=-2.32 IV=0.38\\n',\n",
       " '2022-04-08 16:00:00 TSLA  220414C01040000,Bid=19.25 Ask=19.7 Last=19.4 OI=1512.0 sigma=0.699 NPV=40.868                             delta=0.476 gamma=0.003 vega=67.590 beta=12.24 theta=-2.32 IV=0.38\\n',\n",
       " '2022-04-08 16:00:00 TSLA  220414C01050000,Bid=15.75 Ask=16.0 Last=15.73 OI=4367.0 sigma=0.699 NPV=36.733                             delta=0.443 gamma=0.003 vega=67.021 beta=11.44 theta=-2.30 IV=0.38\\n',\n",
       " '2022-04-08 16:00:00 TSLA  220414C01055000,Bid=14.05 Ask=14.6 Last=14.25 OI=739.0 sigma=0.699 NPV=34.785                             delta=0.427 gamma=0.003 vega=66.571 beta=11.03 theta=-2.29 IV=0.38\\n',\n",
       " '2022-04-08 16:00:00 TSLA  220414P01020000,Bid=23.15 Ask=23.85 Last=23.25 OI=879.0 sigma=0.699 NPV=44.362                             delta=-0.458 gamma=0.003 vega=67.333 beta=-12.98 theta=-2.28 IV=0.39\\n',\n",
       " '2022-04-08 16:00:00 TSLA  220414P01025000,Bid=25.5 Ask=26.1 Last=25.96 OI=1513.0 sigma=0.699 NPV=46.923                             delta=-0.474 gamma=0.003 vega=67.576 beta=-13.43 theta=-2.29 IV=0.39\\n',\n",
       " '2022-04-08 16:00:00 TSLA  220414P01030000,Bid=28.05 Ask=28.85 Last=28.5 OI=1235.0 sigma=0.699 NPV=49.567                             delta=-0.491 gamma=0.003 vega=67.698 beta=-13.89 theta=-2.30 IV=0.39\\n',\n",
       " '2022-04-08 16:00:00 TSLA  220414P01035000,Bid=30.75 Ask=31.65 Last=31.18 OI=738.0 sigma=0.699 NPV=52.295                             delta=-0.508 gamma=0.003 vega=67.699 beta=-14.33 theta=-2.30 IV=0.39\\n',\n",
       " '2022-04-08 16:00:00 TSLA  220414P01040000,Bid=33.7 Ask=34.5 Last=34.0 OI=1412.0 sigma=0.699 NPV=55.105                             delta=-0.525 gamma=0.003 vega=67.586 beta=-14.77 theta=-2.29 IV=0.39\\n',\n",
       " '2022-04-08 16:00:00 TSLA  220414P01050000,Bid=39.95 Ask=40.9 Last=40.35 OI=9736.0 sigma=0.699 NPV=60.969                             delta=-0.557 gamma=0.003 vega=67.015 beta=-15.63 theta=-2.27 IV=0.39\\n',\n",
       " '2022-04-08 16:00:00 TSLA  220414P01055000,Bid=43.3 Ask=44.4 Last=43.95 OI=883.0 sigma=0.699 NPV=64.021                             delta=-0.574 gamma=0.003 vega=66.561 beta=-16.05 theta=-2.26 IV=0.39\\n',\n",
       " '2022-04-08 16:00:00 TSLA  220414C01015000,Bid=31.3 Ask=32.1 Last=31.9 OI=453.0 sigma=0.699 NPV=52.646                             delta=0.559 gamma=0.003 vega=66.968 beta=14.27 theta=-2.30 IV=0.39\\n',\n",
       " '2022-04-08 16:00:00 TSLA  220414P01015000,Bid=20.9 Ask=21.6 Last=21.2 OI=407.0 sigma=0.699 NPV=41.887                             delta=-0.441 gamma=0.003 vega=66.969 beta=-12.52 theta=-2.27 IV=0.39\\n',\n",
       " '2022-04-11 10:00:00 TSLA  220414C00980000,Bid=30.55 Ask=31.1 Last=31.02 OI=630.0 sigma=0.691 NPV=44.610                             delta=0.574 gamma=0.004 vega=53.905 beta=10.08 theta=-7.33 IV=0.43\\n',\n",
       " '2022-04-11 10:00:00 TSLA  220414C00985000,Bid=27.6 Ask=28.1 Last=28.2 OI=299.0 sigma=0.691 NPV=41.980                             delta=0.553 gamma=0.004 vega=54.368 beta=9.74 theta=-7.38 IV=0.43\\n',\n",
       " '2022-04-11 10:00:00 TSLA  220414C00990000,Bid=24.85 Ask=25.35 Last=25.15 OI=513.0 sigma=0.691 NPV=39.456                             delta=0.532 gamma=0.004 vega=54.679 beta=9.38 theta=-7.42 IV=0.43\\n',\n",
       " '2022-04-11 10:00:00 TSLA  220414C00995000,Bid=22.3 Ask=22.7 Last=22.68 OI=852.0 sigma=0.691 NPV=37.038                             delta=0.512 gamma=0.004 vega=54.838 beta=9.03 theta=-7.44 IV=0.43\\n',\n",
       " '2022-04-11 10:00:00 TSLA  220414C01000000,Bid=19.95 Ask=20.3 Last=20.35 OI=6834.0 sigma=0.691 NPV=34.724                             delta=0.491 gamma=0.004 vega=54.846 beta=8.68 theta=-7.44 IV=0.42\\n',\n",
       " '2022-04-11 10:00:00 TSLA  220414C01005000,Bid=17.8 Ask=18.1 Last=18.1 OI=740.0 sigma=0.691 NPV=32.513                             delta=0.470 gamma=0.004 vega=54.705 beta=8.32 theta=-7.42 IV=0.42\\n',\n",
       " '2022-04-11 10:00:00 TSLA  220414P00980000,Bid=17.35 Ask=17.6 Last=17.35 OI=3610.0 sigma=0.691 NPV=31.427                             delta=-0.426 gamma=0.004 vega=53.906 beta=-8.11 theta=-7.25 IV=0.43\\n',\n",
       " '2022-04-11 10:00:00 TSLA  220414P00985000,Bid=19.35 Ask=19.65 Last=19.4 OI=1276.0 sigma=0.691 NPV=33.797                             delta=-0.447 gamma=0.004 vega=54.368 beta=-8.49 theta=-7.30 IV=0.43\\n',\n",
       " '2022-04-11 10:00:00 TSLA  220414P00990000,Bid=21.55 Ask=21.9 Last=21.62 OI=1943.0 sigma=0.691 NPV=36.273                             delta=-0.468 gamma=0.004 vega=54.679 beta=-8.87 theta=-7.34 IV=0.43\\n',\n",
       " '2022-04-11 10:00:00 TSLA  220414P00995000,Bid=23.95 Ask=24.35 Last=23.95 OI=1160.0 sigma=0.691 NPV=38.854                             delta=-0.489 gamma=0.004 vega=54.837 beta=-9.25 theta=-7.36 IV=0.42\\n',\n",
       " '2022-04-11 10:00:00 TSLA  220414P01000000,Bid=26.55 Ask=27.0 Last=26.8 OI=9479.0 sigma=0.691 NPV=41.539                             delta=-0.510 gamma=0.004 vega=54.843 beta=-9.62 theta=-7.36 IV=0.42\\n',\n",
       " '2022-04-11 10:00:00 TSLA  220414P01005000,Bid=29.3 Ask=29.85 Last=29.28 OI=822.0 sigma=0.691 NPV=44.328                             delta=-0.530 gamma=0.004 vega=54.701 beta=-9.99 theta=-7.35 IV=0.42\\n',\n",
       " '2022-04-11 11:00:00 TSLA  220414C00980000,Bid=26.25 Ask=26.75 Last=27.63 OI=630.0 sigma=0.691 NPV=40.794                             delta=0.546 gamma=0.004 vega=54.122 beta=9.55 theta=-7.34 IV=0.43\\n',\n",
       " '2022-04-11 11:00:00 TSLA  220414C00985000,Bid=23.6 Ask=24.1 Last=23.79 OI=299.0 sigma=0.691 NPV=38.308                             delta=0.525 gamma=0.004 vega=54.378 beta=9.19 theta=-7.37 IV=0.43\\n',\n",
       " '2022-04-11 11:00:00 TSLA  220414C00990000,Bid=21.1 Ask=21.55 Last=21.1 OI=513.0 sigma=0.691 NPV=35.928                             delta=0.504 gamma=0.004 vega=54.482 beta=8.84 theta=-7.39 IV=0.42\\n',\n",
       " '2022-04-11 11:00:00 TSLA  220414C00995000,Bid=18.9 Ask=19.2 Last=19.05 OI=852.0 sigma=0.691 NPV=33.652                             delta=0.483 gamma=0.004 vega=54.434 beta=8.49 theta=-7.38 IV=0.42\\n',\n",
       " '2022-04-11 11:00:00 TSLA  220414C01000000,Bid=16.85 Ask=17.0 Last=17.0 OI=6834.0 sigma=0.691 NPV=31.480                             delta=0.462 gamma=0.004 vega=54.238 beta=8.13 theta=-7.36 IV=0.42\\n',\n",
       " '2022-04-11 11:00:00 TSLA  220414C01005000,Bid=14.85 Ask=15.1 Last=14.89 OI=740.0 sigma=0.691 NPV=29.410                             delta=0.441 gamma=0.004 vega=53.896 beta=7.78 theta=-7.33 IV=0.42\\n',\n",
       " '2022-04-11 11:00:00 TSLA  220414P00980000,Bid=20.1 Ask=20.4 Last=20.25 OI=3610.0 sigma=0.691 NPV=34.422                             delta=-0.454 gamma=0.004 vega=54.122 beta=-8.58 theta=-7.27 IV=0.43\\n',\n",
       " '2022-04-11 11:00:00 TSLA  220414P00985000,Bid=22.4 Ask=22.75 Last=22.65 OI=1276.0 sigma=0.691 NPV=36.936                             delta=-0.475 gamma=0.004 vega=54.378 beta=-8.95 theta=-7.30 IV=0.43\\n',\n",
       " '2022-04-11 11:00:00 TSLA  220414P00990000,Bid=24.9 Ask=25.3 Last=25.03 OI=1943.0 sigma=0.691 NPV=39.555                             delta=-0.496 gamma=0.004 vega=54.481 beta=-9.33 theta=-7.31 IV=0.43\\n',\n",
       " '2022-04-11 11:00:00 TSLA  220414P00995000,Bid=27.55 Ask=28.0 Last=27.85 OI=1160.0 sigma=0.691 NPV=42.279                             delta=-0.517 gamma=0.004 vega=54.431 beta=-9.70 theta=-7.31 IV=0.42\\n',\n",
       " '2022-04-11 11:00:00 TSLA  220414P01000000,Bid=30.35 Ask=30.95 Last=30.95 OI=9479.0 sigma=0.691 NPV=45.106                             delta=-0.538 gamma=0.004 vega=54.234 beta=-10.07 theta=-7.29 IV=0.42\\n',\n",
       " '2022-04-11 11:00:00 TSLA  220414P01005000,Bid=33.5 Ask=34.05 Last=33.26 OI=822.0 sigma=0.691 NPV=48.037                             delta=-0.559 gamma=0.004 vega=53.890 beta=-10.41 theta=-7.25 IV=0.42\\n',\n",
       " '2022-04-11 11:00:00 TSLA  220414C00975000,Bid=29.1 Ask=29.6 Last=29.01 OI=831.0 sigma=0.691 NPV=43.387                             delta=0.567 gamma=0.004 vega=53.712 beta=9.89 theta=-7.30 IV=0.43\\n',\n",
       " '2022-04-11 11:00:00 TSLA  220414P00975000,Bid=17.95 Ask=18.25 Last=18.1 OI=1877.0 sigma=0.691 NPV=32.015                             delta=-0.433 gamma=0.004 vega=53.713 beta=-8.19 theta=-7.22 IV=0.43\\n',\n",
       " '2022-04-11 12:00:00 TSLA  220414C00975000,Bid=26.8 Ask=27.25 Last=27.45 OI=831.0 sigma=0.691 NPV=42.575                             delta=0.561 gamma=0.004 vega=53.765 beta=9.78 theta=-7.30 IV=0.40\\n',\n",
       " '2022-04-11 12:00:00 TSLA  220414C00980000,Bid=24.0 Ask=24.35 Last=24.93 OI=630.0 sigma=0.691 NPV=40.012                             delta=0.540 gamma=0.004 vega=54.132 beta=9.43 theta=-7.34 IV=0.40\\n',\n",
       " '2022-04-11 12:00:00 TSLA  220414C00985000,Bid=21.35 Ask=21.75 Last=21.5 OI=299.0 sigma=0.691 NPV=37.557                             delta=0.519 gamma=0.004 vega=54.344 beta=9.08 theta=-7.37 IV=0.40\\n',\n",
       " '2022-04-11 12:00:00 TSLA  220414C00990000,Bid=18.95 Ask=19.25 Last=18.95 OI=513.0 sigma=0.691 NPV=35.207                             delta=0.498 gamma=0.004 vega=54.404 beta=8.73 theta=-7.38 IV=0.39\\n',\n",
       " '2022-04-11 12:00:00 TSLA  220414C00995000,Bid=16.7 Ask=17.0 Last=16.86 OI=852.0 sigma=0.691 NPV=32.961                             delta=0.477 gamma=0.004 vega=54.313 beta=8.37 theta=-7.37 IV=0.39\\n',\n",
       " '2022-04-11 12:00:00 TSLA  220414C01000000,Bid=14.75 Ask=14.95 Last=14.8 OI=6834.0 sigma=0.691 NPV=30.819                             delta=0.456 gamma=0.004 vega=54.074 beta=8.02 theta=-7.34 IV=0.39\\n',\n",
       " '2022-04-11 12:00:00 TSLA  220414C01005000,Bid=12.9 Ask=13.15 Last=13.0 OI=740.0 sigma=0.691 NPV=28.779                             delta=0.435 gamma=0.004 vega=53.690 beta=7.67 theta=-7.30 IV=0.39\\n',\n",
       " '2022-04-11 12:00:00 TSLA  220414P00975000,Bid=17.0 Ask=17.25 Last=16.95 OI=1877.0 sigma=0.691 NPV=32.643                             delta=-0.439 gamma=0.004 vega=53.767 beta=-8.29 theta=-7.22 IV=0.40\\n',\n",
       " '2022-04-11 12:00:00 TSLA  220414P00980000,Bid=19.15 Ask=19.45 Last=19.3 OI=3610.0 sigma=0.691 NPV=35.080                             delta=-0.460 gamma=0.004 vega=54.132 beta=-8.67 theta=-7.27 IV=0.40\\n',\n",
       " '2022-04-11 12:00:00 TSLA  220414P00985000,Bid=21.45 Ask=21.85 Last=21.55 OI=1276.0 sigma=0.691 NPV=37.624                             delta=-0.481 gamma=0.004 vega=54.344 beta=-9.04 theta=-7.29 IV=0.40\\n',\n",
       " '2022-04-11 12:00:00 TSLA  220414P00990000,Bid=24.0 Ask=24.4 Last=24.24 OI=1943.0 sigma=0.691 NPV=40.274                             delta=-0.502 gamma=0.004 vega=54.402 beta=-9.42 theta=-7.30 IV=0.40\\n',\n",
       " '2022-04-11 12:00:00 TSLA  220414P00995000,Bid=26.7 Ask=27.2 Last=26.8 OI=1160.0 sigma=0.691 NPV=43.028                             delta=-0.523 gamma=0.004 vega=54.311 beta=-9.78 theta=-7.29 IV=0.39\\n',\n",
       " '2022-04-11 12:00:00 TSLA  220414P01000000,Bid=29.75 Ask=30.25 Last=29.95 OI=9479.0 sigma=0.691 NPV=45.886                             delta=-0.544 gamma=0.004 vega=54.069 beta=-10.15 theta=-7.27 IV=0.39\\n',\n",
       " '2022-04-11 12:00:00 TSLA  220414P01005000,Bid=32.85 Ask=33.4 Last=32.54 OI=822.0 sigma=0.691 NPV=48.846                             delta=-0.565 gamma=0.004 vega=53.685 beta=-10.50 theta=-7.22 IV=0.39\\n',\n",
       " '2022-04-11 12:00:00 TSLA  220414C00970000,Bid=29.8 Ask=30.35 Last=30.65 OI=635.0 sigma=0.691 NPV=45.243                             delta=0.582 gamma=0.004 vega=53.247 beta=10.13 theta=-7.24 IV=0.40\\n',\n",
       " '2022-04-11 12:00:00 TSLA  220414P00970000,Bid=15.05 Ask=15.3 Last=14.8 OI=1528.0 sigma=0.691 NPV=30.312                             delta=-0.418 gamma=0.004 vega=53.248 beta=-7.91 theta=-7.16 IV=0.40\\n',\n",
       " '2022-04-11 13:00:00 TSLA  220414C00970000,Bid=29.75 Ask=30.3 Last=31.3 OI=635.0 sigma=0.691 NPV=45.482                             delta=0.584 gamma=0.004 vega=53.220 beta=10.16 theta=-7.24 IV=0.40\\n',\n",
       " '2022-04-11 13:00:00 TSLA  220414C00975000,Bid=26.7 Ask=27.25 Last=26.95 OI=831.0 sigma=0.691 NPV=42.805                             delta=0.563 gamma=0.004 vega=53.751 beta=9.81 theta=-7.30 IV=0.40\\n',\n",
       " '2022-04-11 13:00:00 TSLA  220414C00980000,Bid=24.05 Ask=24.35 Last=24.2 OI=630.0 sigma=0.691 NPV=40.234                             delta=0.542 gamma=0.004 vega=54.130 beta=9.46 theta=-7.34 IV=0.39\\n',\n",
       " '2022-04-11 13:00:00 TSLA  220414C00985000,Bid=21.35 Ask=21.7 Last=21.67 OI=299.0 sigma=0.691 NPV=37.770                             delta=0.521 gamma=0.004 vega=54.355 beta=9.11 theta=-7.37 IV=0.39\\n',\n",
       " '2022-04-11 13:00:00 TSLA  220414C00990000,Bid=19.0 Ask=19.25 Last=19.25 OI=513.0 sigma=0.691 NPV=35.411                             delta=0.499 gamma=0.004 vega=54.428 beta=8.76 theta=-7.38 IV=0.39\\n',\n",
       " '2022-04-11 13:00:00 TSLA  220414C00995000,Bid=16.75 Ask=17.0 Last=16.85 OI=852.0 sigma=0.691 NPV=33.157                             delta=0.478 gamma=0.004 vega=54.349 beta=8.40 theta=-7.37 IV=0.39\\n',\n",
       " '2022-04-11 13:00:00 TSLA  220414C01000000,Bid=14.75 Ask=14.95 Last=14.79 OI=6834.0 sigma=0.691 NPV=31.006                             delta=0.458 gamma=0.004 vega=54.122 beta=8.05 theta=-7.35 IV=0.39\\n',\n",
       " '2022-04-11 13:00:00 TSLA  220414C01005000,Bid=12.85 Ask=13.15 Last=13.2 OI=740.0 sigma=0.691 NPV=28.958                             delta=0.437 gamma=0.004 vega=53.750 beta=7.70 theta=-7.31 IV=0.39\\n',\n",
       " '2022-04-11 13:00:00 TSLA  220414P00970000,Bid=14.7 Ask=14.95 Last=14.8 OI=1528.0 sigma=0.691 NPV=30.141                             delta=-0.416 gamma=0.004 vega=53.222 beta=-7.88 theta=-7.16 IV=0.40\\n',\n",
       " '2022-04-11 13:00:00 TSLA  220414P00975000,Bid=16.65 Ask=16.9 Last=16.7 OI=1877.0 sigma=0.691 NPV=32.463                             delta=-0.437 gamma=0.004 vega=53.753 beta=-8.26 theta=-7.22 IV=0.40\\n',\n",
       " '2022-04-11 13:00:00 TSLA  220414P00980000,Bid=18.85 Ask=19.0 Last=18.75 OI=3610.0 sigma=0.691 NPV=34.892                             delta=-0.458 gamma=0.004 vega=54.130 beta=-8.64 theta=-7.27 IV=0.40\\n',\n",
       " '2022-04-11 13:00:00 TSLA  220414P00985000,Bid=21.2 Ask=21.5 Last=21.35 OI=1276.0 sigma=0.691 NPV=37.427                             delta=-0.480 gamma=0.004 vega=54.355 beta=-9.02 theta=-7.29 IV=0.40\\n',\n",
       " '2022-04-11 13:00:00 TSLA  220414P00990000,Bid=23.65 Ask=23.95 Last=23.8 OI=1943.0 sigma=0.691 NPV=40.068                             delta=-0.501 gamma=0.004 vega=54.426 beta=-9.40 theta=-7.30 IV=0.39\\n',\n",
       " '2022-04-11 13:00:00 TSLA  220414P00995000,Bid=26.4 Ask=26.75 Last=26.65 OI=1160.0 sigma=0.691 NPV=42.814                             delta=-0.522 gamma=0.004 vega=54.347 beta=-9.76 theta=-7.30 IV=0.39\\n',\n",
       " '2022-04-11 13:00:00 TSLA  220414P01000000,Bid=29.35 Ask=29.7 Last=29.35 OI=9479.0 sigma=0.691 NPV=45.663                             delta=-0.542 gamma=0.004 vega=54.117 beta=-10.12 theta=-7.27 IV=0.39\\n',\n",
       " '2022-04-11 13:00:00 TSLA  220414P01005000,Bid=32.45 Ask=33.1 Last=32.12 OI=822.0 sigma=0.691 NPV=48.614                             delta=-0.563 gamma=0.004 vega=53.746 beta=-10.47 theta=-7.23 IV=0.39\\n',\n",
       " '2022-04-11 14:00:00 TSLA  220414C00970000,Bid=31.8 Ask=32.55 Last=30.74 OI=635.0 sigma=0.691 NPV=47.438                             delta=0.598 gamma=0.004 vega=52.972 beta=10.42 theta=-7.21 IV=0.40\\n',\n",
       " '2022-04-11 14:00:00 TSLA  220414C00975000,Bid=28.6 Ask=29.2 Last=28.0 OI=831.0 sigma=0.691 NPV=44.691                             delta=0.577 gamma=0.004 vega=53.601 beta=10.07 theta=-7.29 IV=0.39\\n',\n",
       " '2022-04-11 14:00:00 TSLA  220414C00980000,Bid=25.7 Ask=26.2 Last=25.95 OI=630.0 sigma=0.691 NPV=42.050                             delta=0.556 gamma=0.004 vega=54.080 beta=9.73 theta=-7.34 IV=0.39\\n',\n",
       " '2022-04-11 14:00:00 TSLA  220414C00985000,Bid=23.05 Ask=23.45 Last=23.3 OI=299.0 sigma=0.691 NPV=39.516                             delta=0.535 gamma=0.004 vega=54.406 beta=9.38 theta=-7.38 IV=0.39\\n',\n",
       " '2022-04-11 14:00:00 TSLA  220414C00990000,Bid=20.5 Ask=21.0 Last=20.75 OI=513.0 sigma=0.691 NPV=37.087                             delta=0.513 gamma=0.004 vega=54.579 beta=9.02 theta=-7.40 IV=0.39\\n',\n",
       " '2022-04-11 14:00:00 TSLA  220414C00995000,Bid=18.2 Ask=18.6 Last=18.53 OI=852.0 sigma=0.691 NPV=34.764                             delta=0.492 gamma=0.004 vega=54.601 beta=8.67 theta=-7.41 IV=0.39\\n',\n",
       " '2022-04-11 14:00:00 TSLA  220414C01000000,Bid=16.15 Ask=16.5 Last=16.25 OI=6834.0 sigma=0.691 NPV=32.544                             delta=0.472 gamma=0.004 vega=54.472 beta=8.32 theta=-7.39 IV=0.39\\n',\n",
       " '2022-04-11 14:00:00 TSLA  220414C01005000,Bid=14.2 Ask=14.55 Last=14.45 OI=740.0 sigma=0.691 NPV=30.427                             delta=0.451 gamma=0.004 vega=54.197 beta=7.96 theta=-7.36 IV=0.39\\n',\n",
       " '2022-04-11 14:00:00 TSLA  220414P00970000,Bid=13.45 Ask=13.8 Last=13.65 OI=1528.0 sigma=0.691 NPV=28.786                             delta=-0.403 gamma=0.004 vega=52.973 beta=-7.65 theta=-7.13 IV=0.40\\n',\n",
       " '2022-04-11 14:00:00 TSLA  220414P00975000,Bid=15.25 Ask=15.7 Last=15.45 OI=1877.0 sigma=0.691 NPV=31.039                             delta=-0.423 gamma=0.004 vega=53.603 beta=-8.03 theta=-7.21 IV=0.40\\n',\n",
       " '2022-04-11 14:00:00 TSLA  220414P00980000,Bid=17.3 Ask=17.7 Last=17.5 OI=3610.0 sigma=0.691 NPV=33.398                             delta=-0.445 gamma=0.004 vega=54.080 beta=-8.41 theta=-7.26 IV=0.40\\n',\n",
       " '2022-04-11 14:00:00 TSLA  220414P00985000,Bid=19.55 Ask=20.0 Last=19.81 OI=1276.0 sigma=0.691 NPV=35.863                             delta=-0.466 gamma=0.004 vega=54.406 beta=-8.80 theta=-7.30 IV=0.40\\n',\n",
       " '2022-04-11 14:00:00 TSLA  220414P00990000,Bid=22.0 Ask=22.5 Last=22.29 OI=1943.0 sigma=0.691 NPV=38.434                             delta=-0.487 gamma=0.004 vega=54.578 beta=-9.17 theta=-7.32 IV=0.39\\n',\n",
       " '2022-04-11 14:00:00 TSLA  220414P00995000,Bid=24.65 Ask=25.2 Last=25.4 OI=1160.0 sigma=0.691 NPV=41.110                             delta=-0.508 gamma=0.004 vega=54.598 beta=-9.55 theta=-7.33 IV=0.39\\n',\n",
       " '2022-04-11 14:00:00 TSLA  220414P01000000,Bid=27.45 Ask=28.0 Last=27.79 OI=9479.0 sigma=0.691 NPV=43.890                             delta=-0.529 gamma=0.004 vega=54.469 beta=-9.91 theta=-7.31 IV=0.39\\n',\n",
       " '2022-04-11 14:00:00 TSLA  220414P01005000,Bid=30.45 Ask=31.2 Last=31.65 OI=822.0 sigma=0.691 NPV=46.773                             delta=-0.549 gamma=0.004 vega=54.192 beta=-10.28 theta=-7.28 IV=0.39\\n',\n",
       " '2022-04-11 15:00:00 TSLA  220414C00970000,Bid=31.6 Ask=32.05 Last=31.56 OI=635.0 sigma=0.691 NPV=46.931                             delta=0.594 gamma=0.004 vega=53.042 beta=10.35 theta=-7.22 IV=0.40\\n',\n",
       " '2022-04-11 15:00:00 TSLA  220414C00975000,Bid=28.45 Ask=28.9 Last=28.3 OI=831.0 sigma=0.691 NPV=44.202                             delta=0.573 gamma=0.004 vega=53.646 beta=10.01 theta=-7.29 IV=0.40\\n',\n",
       " '2022-04-11 15:00:00 TSLA  220414C00980000,Bid=25.5 Ask=25.95 Last=25.8 OI=630.0 sigma=0.691 NPV=41.580                             delta=0.552 gamma=0.004 vega=54.099 beta=9.66 theta=-7.34 IV=0.40\\n',\n",
       " '2022-04-11 15:00:00 TSLA  220414C00985000,Bid=22.9 Ask=23.2 Last=22.91 OI=299.0 sigma=0.691 NPV=39.063                             delta=0.531 gamma=0.004 vega=54.399 beta=9.31 theta=-7.38 IV=0.40\\n',\n",
       " '2022-04-11 15:00:00 TSLA  220414C00990000,Bid=20.4 Ask=20.65 Last=20.7 OI=513.0 sigma=0.691 NPV=36.652                             delta=0.510 gamma=0.004 vega=54.547 beta=8.95 theta=-7.40 IV=0.40\\n',\n",
       " '2022-04-11 15:00:00 TSLA  220414C00995000,Bid=18.1 Ask=18.35 Last=18.26 OI=852.0 sigma=0.691 NPV=34.347                             delta=0.489 gamma=0.004 vega=54.542 beta=8.60 theta=-7.40 IV=0.40\\n',\n",
       " '2022-04-11 15:00:00 TSLA  220414C01000000,Bid=16.0 Ask=16.2 Last=16.06 OI=6834.0 sigma=0.691 NPV=32.145                             delta=0.468 gamma=0.004 vega=54.388 beta=8.25 theta=-7.38 IV=0.39\\n',\n",
       " '2022-04-11 15:00:00 TSLA  220414C01005000,Bid=14.1 Ask=14.3 Last=14.19 OI=740.0 sigma=0.691 NPV=30.046                             delta=0.447 gamma=0.004 vega=54.089 beta=7.90 theta=-7.35 IV=0.39\\n',\n",
       " '2022-04-11 15:00:00 TSLA  220414P00970000,Bid=13.95 Ask=14.15 Last=14.01 OI=1528.0 sigma=0.691 NPV=29.130                             delta=-0.406 gamma=0.004 vega=53.043 beta=-7.71 theta=-7.14 IV=0.40\\n',\n",
       " '2022-04-11 15:00:00 TSLA  220414P00975000,Bid=15.85 Ask=16.1 Last=15.9 OI=1877.0 sigma=0.691 NPV=31.400                             delta=-0.427 gamma=0.004 vega=53.647 beta=-8.09 theta=-7.21 IV=0.40\\n',\n",
       " '2022-04-11 15:00:00 TSLA  220414P00980000,Bid=17.95 Ask=18.15 Last=18.0 OI=3610.0 sigma=0.691 NPV=33.777                             delta=-0.448 gamma=0.004 vega=54.099 beta=-8.47 theta=-7.26 IV=0.40\\n',\n",
       " '2022-04-11 15:00:00 TSLA  220414P00985000,Bid=20.15 Ask=20.55 Last=20.57 OI=1276.0 sigma=0.691 NPV=36.260                             delta=-0.469 gamma=0.004 vega=54.399 beta=-8.85 theta=-7.30 IV=0.40\\n',\n",
       " '2022-04-11 15:00:00 TSLA  220414P00990000,Bid=22.6 Ask=23.05 Last=22.65 OI=1943.0 sigma=0.691 NPV=38.849                             delta=-0.490 gamma=0.004 vega=54.546 beta=-9.23 theta=-7.32 IV=0.40\\n',\n",
       " '2022-04-11 15:00:00 TSLA  220414P00995000,Bid=25.25 Ask=25.75 Last=25.55 OI=1160.0 sigma=0.691 NPV=41.543                             delta=-0.511 gamma=0.004 vega=54.540 beta=-9.60 theta=-7.32 IV=0.40\\n',\n",
       " '2022-04-11 15:00:00 TSLA  220414P01000000,Bid=28.15 Ask=28.7 Last=28.7 OI=9479.0 sigma=0.691 NPV=44.341                             delta=-0.532 gamma=0.004 vega=54.385 beta=-9.98 theta=-7.30 IV=0.40\\n',\n",
       " '2022-04-11 15:00:00 TSLA  220414P01005000,Bid=31.2 Ask=31.65 Last=31.55 OI=822.0 sigma=0.691 NPV=47.242                             delta=-0.553 gamma=0.004 vega=54.083 beta=-10.33 theta=-7.27 IV=0.40\\n',\n",
       " '2022-04-11 16:00:00 TSLA  220414C00970000,Bid=25.35 Ask=26.1 Last=25.6 OI=635.0 sigma=0.691 NPV=40.271                             delta=0.545 gamma=0.004 vega=53.571 beta=9.43 theta=-7.27 IV=0.42\\n',\n",
       " '2022-04-11 16:00:00 TSLA  220414C00975000,Bid=22.75 Ask=23.4 Last=23.1 OI=831.0 sigma=0.691 NPV=37.789                             delta=0.524 gamma=0.004 vega=53.821 beta=9.08 theta=-7.30 IV=0.42\\n',\n",
       " '2022-04-11 16:00:00 TSLA  220414C00980000,Bid=20.3 Ask=20.5 Last=20.5 OI=630.0 sigma=0.691 NPV=35.415                             delta=0.503 gamma=0.004 vega=53.917 beta=8.73 theta=-7.31 IV=0.41\\n',\n",
       " '2022-04-11 16:00:00 TSLA  220414C00985000,Bid=17.95 Ask=18.4 Last=17.95 OI=299.0 sigma=0.691 NPV=33.146                             delta=0.481 gamma=0.004 vega=53.859 beta=8.37 theta=-7.31 IV=0.41\\n',\n",
       " '2022-04-11 16:00:00 TSLA  220414C00990000,Bid=16.0 Ask=16.35 Last=16.14 OI=513.0 sigma=0.691 NPV=30.982                             delta=0.460 gamma=0.004 vega=53.651 beta=8.02 theta=-7.28 IV=0.41\\n',\n",
       " '2022-04-11 16:00:00 TSLA  220414C00995000,Bid=14.0 Ask=14.5 Last=14.05 OI=852.0 sigma=0.691 NPV=28.921                             delta=0.439 gamma=0.004 vega=53.297 beta=7.67 theta=-7.25 IV=0.41\\n',\n",
       " '2022-04-11 16:00:00 TSLA  220414C01000000,Bid=12.45 Ask=12.65 Last=12.51 OI=6834.0 sigma=0.691 NPV=26.961                             delta=0.419 gamma=0.004 vega=52.802 beta=7.32 theta=-7.19 IV=0.41\\n',\n",
       " '2022-04-11 16:00:00 TSLA  220414C01005000,Bid=10.8 Ask=11.2 Last=11.0 OI=740.0 sigma=0.691 NPV=25.101                             delta=0.399 gamma=0.004 vega=52.172 beta=6.98 theta=-7.12 IV=0.41\\n',\n",
       " '2022-04-11 16:00:00 TSLA  220414P00970000,Bid=19.55 Ask=20.0 Last=19.93 OI=1528.0 sigma=0.691 NPV=34.160                             delta=-0.455 gamma=0.004 vega=53.572 beta=-8.51 theta=-7.19 IV=0.42\\n',\n",
       " '2022-04-11 16:00:00 TSLA  220414P00975000,Bid=22.05 Ask=22.55 Last=22.25 OI=1877.0 sigma=0.691 NPV=36.679                             delta=-0.476 gamma=0.004 vega=53.821 beta=-8.87 theta=-7.22 IV=0.42\\n',\n",
       " '2022-04-11 16:00:00 TSLA  220414P00980000,Bid=24.45 Ask=25.1 Last=24.7 OI=3610.0 sigma=0.691 NPV=39.303                             delta=-0.498 gamma=0.004 vega=53.915 beta=-9.26 theta=-7.23 IV=0.42\\n',\n",
       " '2022-04-11 16:00:00 TSLA  220414P00985000,Bid=27.1 Ask=27.85 Last=27.55 OI=1276.0 sigma=0.691 NPV=42.034                             delta=-0.519 gamma=0.004 vega=53.856 beta=-9.62 theta=-7.23 IV=0.42\\n',\n",
       " '2022-04-11 16:00:00 TSLA  220414P00990000,Bid=30.0 Ask=30.7 Last=30.05 OI=1943.0 sigma=0.691 NPV=44.870                             delta=-0.540 gamma=0.004 vega=53.648 beta=-9.99 theta=-7.21 IV=0.42\\n',\n",
       " '2022-04-11 16:00:00 TSLA  220414P00995000,Bid=33.05 Ask=33.85 Last=33.5 OI=1160.0 sigma=0.691 NPV=47.809                             delta=-0.561 gamma=0.004 vega=53.293 beta=-10.34 theta=-7.17 IV=0.42\\n',\n",
       " '2022-04-11 16:00:00 TSLA  220414P01000000,Bid=36.3 Ask=37.2 Last=36.8 OI=9479.0 sigma=0.691 NPV=50.849                             delta=-0.581 gamma=0.004 vega=52.794 beta=-10.68 theta=-7.11 IV=0.42\\n',\n",
       " '2022-04-11 16:00:00 TSLA  220414P01005000,Bid=39.8 Ask=40.85 Last=40.0 OI=822.0 sigma=0.691 NPV=53.989                             delta=-0.602 gamma=0.004 vega=52.165 beta=-11.01 theta=-7.04 IV=0.42\\n',\n",
       " '2022-04-11 16:00:00 TSLA  220414C00965000,Bid=28.1 Ask=28.95 Last=28.0 OI=213.0 sigma=0.691 NPV=42.860                             delta=0.567 gamma=0.004 vega=53.167 beta=9.78 theta=-7.22 IV=0.42\\n',\n",
       " '2022-04-11 16:00:00 TSLA  220414P00965000,Bid=17.4 Ask=17.9 Last=17.67 OI=839.0 sigma=0.691 NPV=31.750                             delta=-0.434 gamma=0.004 vega=53.168 beta=-8.12 theta=-7.14 IV=0.42\\n',\n",
       " '2022-04-12 10:00:00 TSLA  220414C01005000,Bid=25.9 Ask=26.45 Last=26.0 OI=995.0 sigma=0.669 NPV=41.376                             delta=0.576 gamma=0.004 vega=51.115 beta=8.95 theta=-2.76 IV=0.37\\n',\n",
       " '2022-04-12 10:00:00 TSLA  220414P01005000,Bid=13.35 Ask=13.65 Last=13.4 OI=719.0 sigma=0.669 NPV=28.565                             delta=-0.424 gamma=0.004 vega=51.117 beta=-7.06 theta=-2.73 IV=0.37\\n',\n",
       " '2022-04-12 10:00:00 TSLA  220414C01010000,Bid=23.0 Ask=23.5 Last=23.3 OI=1655.0 sigma=0.669 NPV=38.725                             delta=0.553 gamma=0.005 vega=51.595 beta=8.61 theta=-2.78 IV=0.37\\n',\n",
       " '2022-04-12 10:00:00 TSLA  220414C01015000,Bid=20.3 Ask=20.75 Last=20.59 OI=730.0 sigma=0.669 NPV=36.189                             delta=0.530 gamma=0.005 vega=51.905 beta=8.27 theta=-2.80 IV=0.37\\n',\n",
       " '2022-04-12 10:00:00 TSLA  220414C01020000,Bid=17.85 Ask=18.2 Last=17.85 OI=2859.0 sigma=0.669 NPV=33.768                             delta=0.507 gamma=0.005 vega=52.044 beta=7.93 theta=-2.80 IV=0.37\\n',\n",
       " '2022-04-12 10:00:00 TSLA  220414C01025000,Bid=15.65 Ask=15.95 Last=15.83 OI=3300.0 sigma=0.669 NPV=31.460                             delta=0.484 gamma=0.005 vega=52.012 beta=7.59 theta=-2.80 IV=0.37\\n',\n",
       " '2022-04-12 10:00:00 TSLA  220414C01030000,Bid=13.65 Ask=13.9 Last=13.6 OI=3225.0 sigma=0.669 NPV=29.265                             delta=0.462 gamma=0.005 vega=51.814 beta=7.25 theta=-2.79 IV=0.37\\n',\n",
       " '2022-04-12 10:00:00 TSLA  220414P01010000,Bid=15.35 Ask=15.75 Last=15.5 OI=952.0 sigma=0.669 NPV=30.914                             delta=-0.447 gamma=0.005 vega=51.596 beta=-7.43 theta=-2.75 IV=0.37\\n',\n",
       " '2022-04-12 10:00:00 TSLA  220414P01015000,Bid=17.6 Ask=18.0 Last=18.0 OI=628.0 sigma=0.669 NPV=33.378                             delta=-0.470 gamma=0.005 vega=51.905 beta=-7.79 theta=-2.77 IV=0.37\\n',\n",
       " '2022-04-12 10:00:00 TSLA  220414P01020000,Bid=20.1 Ask=20.55 Last=20.75 OI=1143.0 sigma=0.669 NPV=35.956                             delta=-0.493 gamma=0.005 vega=52.043 beta=-8.15 theta=-2.78 IV=0.37\\n',\n",
       " '2022-04-12 10:00:00 TSLA  220414P01025000,Bid=22.8 Ask=23.35 Last=23.45 OI=1861.0 sigma=0.669 NPV=38.648                             delta=-0.516 gamma=0.005 vega=52.010 beta=-8.50 theta=-2.77 IV=0.37\\n',\n",
       " '2022-04-12 10:00:00 TSLA  220414P01030000,Bid=25.75 Ask=26.4 Last=26.85 OI=1842.0 sigma=0.669 NPV=41.453                             delta=-0.538 gamma=0.005 vega=51.811 beta=-8.84 theta=-2.76 IV=0.37\\n',\n",
       " '2022-04-12 11:00:00 TSLA  220414C01005000,Bid=14.7 Ask=14.95 Last=15.0 OI=995.0 sigma=0.669 NPV=30.497                             delta=0.481 gamma=0.005 vega=50.942 beta=7.38 theta=-2.74 IV=0.36\\n',\n",
       " '2022-04-12 11:00:00 TSLA  220414C01010000,Bid=12.65 Ask=12.9 Last=12.85 OI=1655.0 sigma=0.669 NPV=28.320                             delta=0.458 gamma=0.005 vega=50.718 beta=7.04 theta=-2.73 IV=0.36\\n',\n",
       " '2022-04-12 11:00:00 TSLA  220414C01015000,Bid=10.85 Ask=11.05 Last=11.05 OI=730.0 sigma=0.669 NPV=26.255                             delta=0.435 gamma=0.005 vega=50.328 beta=6.70 theta=-2.71 IV=0.36\\n',\n",
       " '2022-04-12 11:00:00 TSLA  220414C01020000,Bid=9.35 Ask=9.45 Last=9.5 OI=2859.0 sigma=0.669 NPV=24.302                             delta=0.413 gamma=0.005 vega=49.779 beta=6.37 theta=-2.69 IV=0.36\\n',\n",
       " '2022-04-12 11:00:00 TSLA  220414C01025000,Bid=7.9 Ask=8.1 Last=8.1 OI=3300.0 sigma=0.669 NPV=22.457                             delta=0.391 gamma=0.004 vega=49.080 beta=6.04 theta=-2.65 IV=0.36\\n',\n",
       " '2022-04-12 11:00:00 TSLA  220414C01030000,Bid=6.7 Ask=6.85 Last=6.91 OI=3225.0 sigma=0.669 NPV=20.719                             delta=0.369 gamma=0.004 vega=48.237 beta=5.71 theta=-2.61 IV=0.36\\n',\n",
       " '2022-04-12 11:00:00 TSLA  220414P01005000,Bid=22.45 Ask=22.9 Last=22.6 OI=719.0 sigma=0.669 NPV=38.268                             delta=-0.519 gamma=0.005 vega=50.940 beta=-8.37 theta=-2.72 IV=0.36\\n',\n",
       " '2022-04-12 11:00:00 TSLA  220414P01010000,Bid=25.4 Ask=25.9 Last=25.35 OI=952.0 sigma=0.669 NPV=41.091                             delta=-0.542 gamma=0.005 vega=50.714 beta=-8.72 theta=-2.71 IV=0.36\\n',\n",
       " '2022-04-12 11:00:00 TSLA  220414P01015000,Bid=28.55 Ask=29.15 Last=28.7 OI=628.0 sigma=0.669 NPV=44.026                             delta=-0.565 gamma=0.005 vega=50.324 beta=-9.05 theta=-2.69 IV=0.36\\n',\n",
       " '2022-04-12 11:00:00 TSLA  220414P01020000,Bid=31.8 Ask=32.7 Last=32.34 OI=1143.0 sigma=0.669 NPV=47.073                             delta=-0.587 gamma=0.005 vega=49.772 beta=-9.38 theta=-2.66 IV=0.36\\n',\n",
       " '2022-04-12 11:00:00 TSLA  220414P01025000,Bid=35.2 Ask=36.55 Last=35.56 OI=1861.0 sigma=0.669 NPV=50.228                             delta=-0.609 gamma=0.004 vega=49.073 beta=-9.70 theta=-2.62 IV=0.36\\n',\n",
       " '2022-04-12 11:00:00 TSLA  220414P01030000,Bid=38.9 Ask=40.25 Last=39.0 OI=1842.0 sigma=0.669 NPV=53.490                             delta=-0.631 gamma=0.004 vega=48.226 beta=-10.00 theta=-2.58 IV=0.36\\n',\n",
       " '2022-04-12 11:00:00 TSLA  220414C00985000,Bid=25.15 Ask=25.6 Last=25.3 OI=1250.0 sigma=0.669 NPV=40.364                             delta=0.574 gamma=0.005 vega=50.118 beta=8.75 theta=-2.70 IV=0.37\\n',\n",
       " '2022-04-12 11:00:00 TSLA  220414C00990000,Bid=22.1 Ask=22.6 Last=22.85 OI=1916.0 sigma=0.669 NPV=37.722                             delta=0.551 gamma=0.005 vega=50.585 beta=8.41 theta=-2.73 IV=0.36\\n',\n",
       " '2022-04-12 11:00:00 TSLA  220414C00995000,Bid=19.5 Ask=19.8 Last=19.35 OI=1279.0 sigma=0.669 NPV=35.197                             delta=0.528 gamma=0.005 vega=50.878 beta=8.07 theta=-2.74 IV=0.36\\n',\n",
       " '2022-04-12 11:00:00 TSLA  220414C01000000,Bid=17.0 Ask=17.25 Last=17.22 OI=9048.0 sigma=0.669 NPV=32.789                             delta=0.504 gamma=0.005 vega=50.996 beta=7.73 theta=-2.75 IV=0.36\\n',\n",
       " '2022-04-12 11:00:00 TSLA  220414P00985000,Bid=13.1 Ask=13.35 Last=13.2 OI=1687.0 sigma=0.669 NPV=28.136                             delta=-0.426 gamma=0.005 vega=50.119 beta=-6.94 theta=-2.68 IV=0.37\\n',\n",
       " '2022-04-12 11:00:00 TSLA  220414P00990000,Bid=15.05 Ask=15.35 Last=15.1 OI=2487.0 sigma=0.669 NPV=30.494                             delta=-0.449 gamma=0.005 vega=50.585 beta=-7.31 theta=-2.70 IV=0.37\\n',\n",
       " '2022-04-12 11:00:00 TSLA  220414P00995000,Bid=17.3 Ask=17.6 Last=17.2 OI=1170.0 sigma=0.669 NPV=32.969                             delta=-0.473 gamma=0.005 vega=50.878 beta=-7.67 theta=-2.71 IV=0.36\\n',\n",
       " '2022-04-12 11:00:00 TSLA  220414P01000000,Bid=19.75 Ask=20.15 Last=20.0 OI=7847.0 sigma=0.669 NPV=35.561                             delta=-0.496 gamma=0.005 vega=50.995 beta=-8.03 theta=-2.72 IV=0.36\\n',\n",
       " '2022-04-12 12:00:00 TSLA  220414C00985000,Bid=24.85 Ask=25.55 Last=26.93 OI=1250.0 sigma=0.669 NPV=41.317                             delta=0.582 gamma=0.005 vega=50.011 beta=8.87 theta=-2.70 IV=0.34\\n',\n",
       " '2022-04-12 12:00:00 TSLA  220414C00990000,Bid=21.8 Ask=22.3 Last=22.0 OI=1916.0 sigma=0.669 NPV=38.637                             delta=0.558 gamma=0.005 vega=50.535 beta=8.53 theta=-2.72 IV=0.34\\n',\n",
       " '2022-04-12 12:00:00 TSLA  220414C00995000,Bid=19.0 Ask=19.55 Last=19.15 OI=1279.0 sigma=0.669 NPV=36.074                             delta=0.535 gamma=0.005 vega=50.885 beta=8.19 theta=-2.74 IV=0.34\\n',\n",
       " '2022-04-12 12:00:00 TSLA  220414C01000000,Bid=16.45 Ask=16.8 Last=16.76 OI=9048.0 sigma=0.669 NPV=33.628                             delta=0.512 gamma=0.005 vega=51.061 beta=7.85 theta=-2.75 IV=0.34\\n',\n",
       " '2022-04-12 12:00:00 TSLA  220414C01005000,Bid=14.1 Ask=14.6 Last=14.32 OI=995.0 sigma=0.669 NPV=31.297                             delta=0.489 gamma=0.005 vega=51.063 beta=7.51 theta=-2.75 IV=0.34\\n',\n",
       " '2022-04-12 12:00:00 TSLA  220414C01010000,Bid=12.05 Ask=12.4 Last=12.2 OI=1655.0 sigma=0.669 NPV=29.082                             delta=0.466 gamma=0.005 vega=50.895 beta=7.17 theta=-2.74 IV=0.34\\n',\n",
       " '2022-04-12 12:00:00 TSLA  220414C01015000,Bid=10.2 Ask=10.55 Last=10.46 OI=730.0 sigma=0.669 NPV=26.980                             delta=0.443 gamma=0.005 vega=50.560 beta=6.83 theta=-2.72 IV=0.33\\n',\n",
       " '2022-04-12 12:00:00 TSLA  220414C01020000,Bid=8.6 Ask=8.9 Last=8.7 OI=2859.0 sigma=0.669 NPV=24.989                             delta=0.420 gamma=0.005 vega=50.064 beta=6.49 theta=-2.70 IV=0.34\\n',\n",
       " '2022-04-12 12:00:00 TSLA  220414C01025000,Bid=7.2 Ask=7.5 Last=7.35 OI=3300.0 sigma=0.669 NPV=23.108                             delta=0.398 gamma=0.005 vega=49.415 beta=6.16 theta=-2.67 IV=0.34\\n',\n",
       " '2022-04-12 12:00:00 TSLA  220414C01030000,Bid=6.0 Ask=6.3 Last=6.3 OI=3225.0 sigma=0.669 NPV=21.334                             delta=0.376 gamma=0.004 vega=48.620 beta=5.83 theta=-2.63 IV=0.34\\n',\n",
       " '2022-04-12 12:00:00 TSLA  220414P00985000,Bid=11.4 Ask=11.7 Last=11.5 OI=1687.0 sigma=0.669 NPV=27.440                             delta=-0.418 gamma=0.005 vega=50.012 beta=-6.84 theta=-2.67 IV=0.35\\n',\n",
       " '2022-04-12 12:00:00 TSLA  220414P00990000,Bid=13.25 Ask=13.65 Last=13.49 OI=2487.0 sigma=0.669 NPV=29.759                             delta=-0.442 gamma=0.005 vega=50.536 beta=-7.19 theta=-2.70 IV=0.34\\n',\n",
       " '2022-04-12 12:00:00 TSLA  220414P00995000,Bid=15.45 Ask=15.7 Last=15.6 OI=1170.0 sigma=0.669 NPV=32.195                             delta=-0.465 gamma=0.005 vega=50.885 beta=-7.56 theta=-2.71 IV=0.34\\n',\n",
       " '2022-04-12 12:00:00 TSLA  220414P01000000,Bid=17.9 Ask=18.2 Last=18.11 OI=7847.0 sigma=0.669 NPV=34.749                             delta=-0.488 gamma=0.005 vega=51.060 beta=-7.92 theta=-2.72 IV=0.34\\n',\n",
       " '2022-04-12 12:00:00 TSLA  220414P01005000,Bid=20.35 Ask=20.95 Last=20.7 OI=719.0 sigma=0.669 NPV=37.418                             delta=-0.511 gamma=0.005 vega=51.061 beta=-8.27 theta=-2.72 IV=0.34\\n',\n",
       " '2022-04-12 12:00:00 TSLA  220414P01010000,Bid=23.2 Ask=23.9 Last=23.3 OI=952.0 sigma=0.669 NPV=40.203                             delta=-0.534 gamma=0.005 vega=50.893 beta=-8.62 theta=-2.72 IV=0.34\\n',\n",
       " '2022-04-12 12:00:00 TSLA  220414P01015000,Bid=26.45 Ask=27.05 Last=27.0 OI=628.0 sigma=0.669 NPV=43.101                             delta=-0.557 gamma=0.005 vega=50.555 beta=-8.96 theta=-2.70 IV=0.34\\n',\n",
       " '2022-04-12 12:00:00 TSLA  220414P01020000,Bid=29.65 Ask=30.6 Last=30.3 OI=1143.0 sigma=0.669 NPV=46.110                             delta=-0.580 gamma=0.005 vega=50.059 beta=-9.29 theta=-2.67 IV=0.34\\n',\n",
       " '2022-04-12 12:00:00 TSLA  220414P01025000,Bid=33.2 Ask=34.25 Last=34.0 OI=1861.0 sigma=0.669 NPV=49.229                             delta=-0.602 gamma=0.005 vega=49.408 beta=-9.59 theta=-2.64 IV=0.34\\n',\n",
       " '2022-04-12 12:00:00 TSLA  220414P01030000,Bid=37.0 Ask=38.2 Last=37.11 OI=1842.0 sigma=0.669 NPV=52.455                             delta=-0.624 gamma=0.004 vega=48.609 beta=-9.91 theta=-2.60 IV=0.34\\n',\n",
       " '2022-04-12 13:00:00 TSLA  220414C00985000,Bid=24.3 Ask=24.85 Last=24.3 OI=1250.0 sigma=0.669 NPV=40.778                             delta=0.577 gamma=0.005 vega=50.074 beta=8.80 theta=-2.70 IV=0.34\\n',\n",
       " '2022-04-12 13:00:00 TSLA  220414C00990000,Bid=21.35 Ask=21.75 Last=21.4 OI=1916.0 sigma=0.669 NPV=38.120                             delta=0.554 gamma=0.005 vega=50.565 beta=8.46 theta=-2.72 IV=0.34\\n',\n",
       " '2022-04-12 13:00:00 TSLA  220414C00995000,Bid=18.55 Ask=18.9 Last=18.8 OI=1279.0 sigma=0.669 NPV=35.578                             delta=0.531 gamma=0.005 vega=50.883 beta=8.12 theta=-2.74 IV=0.34\\n',\n",
       " '2022-04-12 13:00:00 TSLA  220414C01000000,Bid=16.0 Ask=16.25 Last=16.25 OI=9048.0 sigma=0.669 NPV=33.154                             delta=0.508 gamma=0.005 vega=51.027 beta=7.78 theta=-2.75 IV=0.34\\n',\n",
       " '2022-04-12 13:00:00 TSLA  220414C01005000,Bid=13.7 Ask=14.0 Last=13.9 OI=995.0 sigma=0.669 NPV=30.845                             delta=0.484 gamma=0.005 vega=50.997 beta=7.44 theta=-2.75 IV=0.33\\n',\n",
       " '2022-04-12 13:00:00 TSLA  220414C01010000,Bid=11.7 Ask=11.9 Last=11.65 OI=1655.0 sigma=0.669 NPV=28.651                             delta=0.461 gamma=0.005 vega=50.797 beta=7.10 theta=-2.74 IV=0.33\\n',\n",
       " '2022-04-12 13:00:00 TSLA  220414C01015000,Bid=9.9 Ask=10.1 Last=9.85 OI=730.0 sigma=0.669 NPV=26.570                             delta=0.439 gamma=0.005 vega=50.431 beta=6.76 theta=-2.72 IV=0.33\\n',\n",
       " '2022-04-12 13:00:00 TSLA  220414C01020000,Bid=8.3 Ask=8.5 Last=8.4 OI=2859.0 sigma=0.669 NPV=24.601                             delta=0.416 gamma=0.005 vega=49.906 beta=6.42 theta=-2.69 IV=0.33\\n',\n",
       " '2022-04-12 13:00:00 TSLA  220414C01025000,Bid=6.95 Ask=7.15 Last=6.92 OI=3300.0 sigma=0.669 NPV=22.740                             delta=0.394 gamma=0.004 vega=49.228 beta=6.09 theta=-2.66 IV=0.33\\n',\n",
       " '2022-04-12 13:00:00 TSLA  220414C01030000,Bid=5.8 Ask=5.95 Last=5.9 OI=3225.0 sigma=0.669 NPV=20.986                             delta=0.372 gamma=0.004 vega=48.406 beta=5.76 theta=-2.62 IV=0.34\\n',\n",
       " '2022-04-12 13:00:00 TSLA  220414P00985000,Bid=11.5 Ask=11.7 Last=11.75 OI=1687.0 sigma=0.669 NPV=27.831                             delta=-0.423 gamma=0.005 vega=50.075 beta=-6.90 theta=-2.67 IV=0.34\\n',\n",
       " '2022-04-12 13:00:00 TSLA  220414P00990000,Bid=13.4 Ask=13.7 Last=13.63 OI=2487.0 sigma=0.669 NPV=30.172                             delta=-0.446 gamma=0.005 vega=50.566 beta=-7.26 theta=-2.70 IV=0.34\\n',\n",
       " '2022-04-12 13:00:00 TSLA  220414P00995000,Bid=15.55 Ask=15.85 Last=15.8 OI=1170.0 sigma=0.669 NPV=32.630                             delta=-0.469 gamma=0.005 vega=50.883 beta=-7.62 theta=-2.71 IV=0.34\\n',\n",
       " '2022-04-12 13:00:00 TSLA  220414P01000000,Bid=18.05 Ask=18.4 Last=18.4 OI=7847.0 sigma=0.669 NPV=35.205                             delta=-0.493 gamma=0.005 vega=51.026 beta=-7.98 theta=-2.72 IV=0.34\\n',\n",
       " '2022-04-12 13:00:00 TSLA  220414P01005000,Bid=20.65 Ask=21.1 Last=20.5 OI=719.0 sigma=0.669 NPV=37.896                             delta=-0.516 gamma=0.005 vega=50.995 beta=-8.33 theta=-2.72 IV=0.33\\n',\n",
       " '2022-04-12 13:00:00 TSLA  220414P01010000,Bid=23.5 Ask=24.0 Last=24.12 OI=952.0 sigma=0.669 NPV=40.702                             delta=-0.539 gamma=0.005 vega=50.794 beta=-8.68 theta=-2.71 IV=0.33\\n',\n",
       " '2022-04-12 13:00:00 TSLA  220414P01015000,Bid=26.6 Ask=27.25 Last=27.21 OI=628.0 sigma=0.669 NPV=43.621                             delta=-0.562 gamma=0.005 vega=50.425 beta=-9.00 theta=-2.69 IV=0.33\\n',\n",
       " '2022-04-12 13:00:00 TSLA  220414P01020000,Bid=30.05 Ask=30.7 Last=30.45 OI=1143.0 sigma=0.669 NPV=46.651                             delta=-0.584 gamma=0.005 vega=49.899 beta=-9.34 theta=-2.67 IV=0.33\\n',\n",
       " '2022-04-12 13:00:00 TSLA  220414P01025000,Bid=33.75 Ask=34.75 Last=35.17 OI=1861.0 sigma=0.669 NPV=49.791                             delta=-0.606 gamma=0.004 vega=49.221 beta=-9.66 theta=-2.63 IV=0.34\\n',\n",
       " '2022-04-12 13:00:00 TSLA  220414P01030000,Bid=37.55 Ask=38.65 Last=38.7 OI=1842.0 sigma=0.669 NPV=53.037                             delta=-0.628 gamma=0.004 vega=48.395 beta=-9.96 theta=-2.59 IV=0.34\\n',\n",
       " '2022-04-12 14:00:00 TSLA  220414C00985000,Bid=20.15 Ask=20.65 Last=20.5 OI=1250.0 sigma=0.669 NPV=36.637                             delta=0.543 gamma=0.005 vega=50.361 beta=8.24 theta=-2.71 IV=0.35\\n',\n",
       " '2022-04-12 14:00:00 TSLA  220414C00990000,Bid=17.55 Ask=17.9 Last=17.9 OI=1916.0 sigma=0.669 NPV=34.151                             delta=0.520 gamma=0.005 vega=50.596 beta=7.90 theta=-2.72 IV=0.34\\n',\n",
       " '2022-04-12 14:00:00 TSLA  220414C00995000,Bid=15.1 Ask=15.45 Last=15.3 OI=1279.0 sigma=0.669 NPV=31.783                             delta=0.496 gamma=0.005 vega=50.656 beta=7.56 theta=-2.73 IV=0.34\\n',\n",
       " '2022-04-12 14:00:00 TSLA  220414C01000000,Bid=13.05 Ask=13.2 Last=13.1 OI=9048.0 sigma=0.669 NPV=29.530                             delta=0.473 gamma=0.005 vega=50.543 beta=7.22 theta=-2.72 IV=0.34\\n',\n",
       " '2022-04-12 14:00:00 TSLA  220414C01005000,Bid=11.0 Ask=11.25 Last=11.2 OI=995.0 sigma=0.669 NPV=27.392                             delta=0.450 gamma=0.005 vega=50.260 beta=6.88 theta=-2.71 IV=0.34\\n',\n",
       " '2022-04-12 14:00:00 TSLA  220414C01010000,Bid=9.3 Ask=9.5 Last=9.4 OI=1655.0 sigma=0.669 NPV=25.368                             delta=0.427 gamma=0.005 vega=49.813 beta=6.54 theta=-2.69 IV=0.34\\n',\n",
       " '2022-04-12 14:00:00 TSLA  220414C01015000,Bid=7.85 Ask=8.0 Last=8.1 OI=730.0 sigma=0.669 NPV=23.454                             delta=0.405 gamma=0.005 vega=49.208 beta=6.20 theta=-2.66 IV=0.34\\n',\n",
       " '2022-04-12 14:00:00 TSLA  220414C01020000,Bid=6.6 Ask=6.7 Last=6.65 OI=2859.0 sigma=0.669 NPV=21.649                             delta=0.383 gamma=0.004 vega=48.454 beta=5.87 theta=-2.62 IV=0.34\\n',\n",
       " '2022-04-12 14:00:00 TSLA  220414C01025000,Bid=5.5 Ask=5.6 Last=5.55 OI=3300.0 sigma=0.669 NPV=19.950                             delta=0.361 gamma=0.004 vega=47.561 beta=5.55 theta=-2.57 IV=0.34\\n',\n",
       " '2022-04-12 14:00:00 TSLA  220414C01030000,Bid=4.5 Ask=4.65 Last=4.6 OI=3225.0 sigma=0.669 NPV=18.354                             delta=0.340 gamma=0.004 vega=46.538 beta=5.24 theta=-2.52 IV=0.34\\n',\n",
       " '2022-04-12 14:00:00 TSLA  220414P00985000,Bid=14.65 Ask=14.95 Last=14.45 OI=1687.0 sigma=0.669 NPV=31.080                             delta=-0.457 gamma=0.005 vega=50.361 beta=-7.38 theta=-2.69 IV=0.35\\n',\n",
       " '2022-04-12 14:00:00 TSLA  220414P00990000,Bid=16.9 Ask=17.25 Last=17.09 OI=2487.0 sigma=0.669 NPV=33.594                             delta=-0.480 gamma=0.005 vega=50.596 beta=-7.73 theta=-2.70 IV=0.34\\n',\n",
       " '2022-04-12 14:00:00 TSLA  220414P00995000,Bid=19.45 Ask=19.8 Last=19.6 OI=1170.0 sigma=0.669 NPV=36.225                             delta=-0.504 gamma=0.005 vega=50.654 beta=-8.09 theta=-2.70 IV=0.34\\n',\n",
       " '2022-04-12 14:00:00 TSLA  220414P01000000,Bid=22.2 Ask=22.5 Last=22.3 OI=7847.0 sigma=0.669 NPV=38.972                             delta=-0.527 gamma=0.005 vega=50.540 beta=-8.44 theta=-2.70 IV=0.34\\n',\n",
       " '2022-04-12 14:00:00 TSLA  220414P01005000,Bid=25.2 Ask=25.8 Last=25.0 OI=719.0 sigma=0.669 NPV=41.834                             delta=-0.550 gamma=0.005 vega=50.256 beta=-8.78 theta=-2.68 IV=0.34\\n',\n",
       " '2022-04-12 14:00:00 TSLA  220414P01010000,Bid=28.35 Ask=29.1 Last=28.2 OI=952.0 sigma=0.669 NPV=44.810                             delta=-0.573 gamma=0.005 vega=49.809 beta=-9.12 theta=-2.66 IV=0.34\\n',\n",
       " '2022-04-12 14:00:00 TSLA  220414P01015000,Bid=31.65 Ask=32.65 Last=32.05 OI=628.0 sigma=0.669 NPV=47.896                             delta=-0.595 gamma=0.005 vega=49.200 beta=-9.44 theta=-2.63 IV=0.34\\n',\n",
       " '2022-04-12 14:00:00 TSLA  220414P01020000,Bid=35.3 Ask=36.4 Last=35.8 OI=1143.0 sigma=0.669 NPV=51.091                             delta=-0.618 gamma=0.004 vega=48.446 beta=-9.74 theta=-2.59 IV=0.34\\n',\n",
       " '2022-04-12 14:00:00 TSLA  220414P01025000,Bid=39.2 Ask=40.3 Last=39.4 OI=1861.0 sigma=0.669 NPV=54.392                             delta=-0.639 gamma=0.004 vega=47.546 beta=-10.03 theta=-2.55 IV=0.34\\n',\n",
       " '2022-04-12 14:00:00 TSLA  220414P01030000,Bid=43.25 Ask=44.25 Last=43.4 OI=1842.0 sigma=0.669 NPV=57.796                             delta=-0.660 gamma=0.004 vega=46.524 beta=-10.32 theta=-2.50 IV=0.34\\n',\n",
       " '2022-04-12 14:00:00 TSLA  220414C00980000,Bid=23.05 Ask=23.65 Last=23.63 OI=1244.0 sigma=0.669 NPV=39.241                             delta=0.567 gamma=0.005 vega=49.950 beta=8.58 theta=-2.69 IV=0.35\\n',\n",
       " '2022-04-12 14:00:00 TSLA  220414P00980000,Bid=12.6 Ask=12.8 Last=12.6 OI=4022.0 sigma=0.669 NPV=28.685                             delta=-0.433 gamma=0.005 vega=49.951 beta=-7.02 theta=-2.67 IV=0.35\\n',\n",
       " '2022-04-12 15:00:00 TSLA  220414C00980000,Bid=18.55 Ask=18.95 Last=18.8 OI=1244.0 sigma=0.669 NPV=35.539                             delta=0.535 gamma=0.005 vega=50.118 beta=8.07 theta=-2.70 IV=0.33\\n',\n",
       " '2022-04-12 15:00:00 TSLA  220414C00985000,Bid=16.0 Ask=16.3 Last=16.3 OI=1250.0 sigma=0.669 NPV=33.093                             delta=0.512 gamma=0.005 vega=50.293 beta=7.73 theta=-2.71 IV=0.33\\n',\n",
       " '2022-04-12 15:00:00 TSLA  220414C00990000,Bid=13.6 Ask=13.9 Last=13.8 OI=1916.0 sigma=0.669 NPV=30.765                             delta=0.488 gamma=0.005 vega=50.292 beta=7.39 theta=-2.71 IV=0.33\\n',\n",
       " '2022-04-12 15:00:00 TSLA  220414C00995000,Bid=11.6 Ask=11.8 Last=11.7 OI=1279.0 sigma=0.669 NPV=28.553                             delta=0.465 gamma=0.005 vega=50.118 beta=7.05 theta=-2.70 IV=0.33\\n',\n",
       " '2022-04-12 15:00:00 TSLA  220414C01000000,Bid=9.7 Ask=9.95 Last=9.8 OI=9048.0 sigma=0.669 NPV=26.457                             delta=0.442 gamma=0.005 vega=49.775 beta=6.71 theta=-2.68 IV=0.33\\n',\n",
       " '2022-04-12 15:00:00 TSLA  220414C01010000,Bid=6.75 Ask=6.95 Last=6.92 OI=1655.0 sigma=0.669 NPV=22.602                             delta=0.396 gamma=0.005 vega=48.607 beta=6.04 theta=-2.62 IV=0.33\\n',\n",
       " '2022-04-12 15:00:00 TSLA  220414C01015000,Bid=5.6 Ask=5.75 Last=5.8 OI=730.0 sigma=0.669 NPV=20.837                             delta=0.374 gamma=0.004 vega=47.798 beta=5.71 theta=-2.58 IV=0.33\\n',\n",
       " '2022-04-12 15:00:00 TSLA  220414C01020000,Bid=4.6 Ask=4.8 Last=4.7 OI=2859.0 sigma=0.669 NPV=19.179                             delta=0.353 gamma=0.004 vega=46.853 beta=5.39 theta=-2.54 IV=0.33\\n',\n",
       " '2022-04-12 15:00:00 TSLA  220414C01025000,Bid=3.8 Ask=3.95 Last=3.9 OI=3300.0 sigma=0.669 NPV=17.623                             delta=0.332 gamma=0.004 vega=45.781 beta=5.08 theta=-2.48 IV=0.33\\n',\n",
       " '2022-04-12 15:00:00 TSLA  220414C01030000,Bid=3.15 Ask=3.25 Last=3.2 OI=3225.0 sigma=0.669 NPV=16.165                             delta=0.311 gamma=0.004 vega=44.596 beta=4.77 theta=-2.42 IV=0.34\\n',\n",
       " '2022-04-12 15:00:00 TSLA  220414P00980000,Bid=14.9 Ask=15.25 Last=15.0 OI=4022.0 sigma=0.669 NPV=31.703                             delta=-0.465 gamma=0.005 vega=50.118 beta=-7.44 theta=-2.67 IV=0.34\\n',\n",
       " '2022-04-12 15:00:00 TSLA  220414P00985000,Bid=17.3 Ask=17.6 Last=17.35 OI=1687.0 sigma=0.669 NPV=34.256                             delta=-0.488 gamma=0.005 vega=50.292 beta=-7.81 theta=-2.68 IV=0.33\\n',\n",
       " '2022-04-12 15:00:00 TSLA  220414P00990000,Bid=19.9 Ask=20.3 Last=20.15 OI=2487.0 sigma=0.669 NPV=36.928                             delta=-0.512 gamma=0.005 vega=50.290 beta=-8.16 theta=-2.68 IV=0.33\\n',\n",
       " '2022-04-12 15:00:00 TSLA  220414P00995000,Bid=22.8 Ask=23.3 Last=23.2 OI=1170.0 sigma=0.669 NPV=39.717                             delta=-0.535 gamma=0.005 vega=50.116 beta=-8.51 theta=-2.67 IV=0.33\\n',\n",
       " '2022-04-12 15:00:00 TSLA  220414P01000000,Bid=25.9 Ask=26.45 Last=26.45 OI=7847.0 sigma=0.669 NPV=42.620                             delta=-0.559 gamma=0.005 vega=49.770 beta=-8.84 theta=-2.66 IV=0.33\\n',\n",
       " '2022-04-12 15:00:00 TSLA  220414P01010000,Bid=32.8 Ask=33.6 Last=32.45 OI=952.0 sigma=0.669 NPV=48.765                             delta=-0.604 gamma=0.005 vega=48.600 beta=-9.48 theta=-2.60 IV=0.33\\n',\n",
       " '2022-04-12 15:00:00 TSLA  220414P01015000,Bid=36.4 Ask=37.65 Last=35.7 OI=628.0 sigma=0.669 NPV=52.001                             delta=-0.626 gamma=0.004 vega=47.788 beta=-9.79 theta=-2.56 IV=0.33\\n',\n",
       " '2022-04-12 15:00:00 TSLA  220414P01020000,Bid=40.4 Ask=41.65 Last=39.4 OI=1143.0 sigma=0.669 NPV=55.342                             delta=-0.647 gamma=0.004 vega=46.844 beta=-10.09 theta=-2.51 IV=0.34\\n',\n",
       " '2022-04-12 15:00:00 TSLA  220414P01025000,Bid=44.5 Ask=45.85 Last=43.42 OI=1861.0 sigma=0.669 NPV=58.786                             delta=-0.668 gamma=0.004 vega=45.766 beta=-10.37 theta=-2.46 IV=0.34\\n',\n",
       " '2022-04-12 15:00:00 TSLA  220414P01030000,Bid=48.8 Ask=50.15 Last=46.35 OI=1842.0 sigma=0.669 NPV=62.329                             delta=-0.689 gamma=0.004 vega=44.582 beta=-10.63 theta=-2.40 IV=0.34\\n',\n",
       " '2022-04-12 15:00:00 TSLA  220414C00970000,Bid=24.45 Ask=24.95 Last=24.84 OI=808.0 sigma=0.669 NPV=40.787                             delta=0.582 gamma=0.005 vega=49.238 beta=8.75 theta=-2.66 IV=0.34\\n',\n",
       " '2022-04-12 15:00:00 TSLA  220414C00975000,Bid=21.35 Ask=21.85 Last=22.5 OI=1673.0 sigma=0.669 NPV=38.103                             delta=0.559 gamma=0.005 vega=49.766 beta=8.41 theta=-2.68 IV=0.34\\n',\n",
       " '2022-04-12 15:00:00 TSLA  220414P00970000,Bid=10.95 Ask=11.2 Last=11.0 OI=3296.0 sigma=0.669 NPV=26.951                             delta=-0.418 gamma=0.005 vega=49.239 beta=-6.72 theta=-2.63 IV=0.34\\n',\n",
       " '2022-04-12 15:00:00 TSLA  220414P00975000,Bid=12.8 Ask=13.05 Last=12.86 OI=3794.0 sigma=0.669 NPV=29.267                             delta=-0.441 gamma=0.005 vega=49.767 beta=-7.08 theta=-2.66 IV=0.34\\n',\n",
       " '2022-04-12 16:00:00 TSLA  220414C00970000,Bid=25.75 Ask=26.7 Last=26.66 OI=808.0 sigma=0.669 NPV=42.716                             delta=0.597 gamma=0.005 vega=48.969 beta=8.99 theta=-2.64 IV=0.32\\n',\n",
       " '2022-04-12 16:00:00 TSLA  220414C00975000,Bid=22.4 Ask=23.35 Last=22.6 OI=1673.0 sigma=0.669 NPV=39.956                             delta=0.574 gamma=0.005 vega=49.609 beta=8.66 theta=-2.68 IV=0.32\\n',\n",
       " '2022-04-12 16:00:00 TSLA  220414C00980000,Bid=19.5 Ask=20.2 Last=19.9 OI=1244.0 sigma=0.669 NPV=37.314                             delta=0.551 gamma=0.005 vega=50.075 beta=8.32 theta=-2.70 IV=0.32\\n',\n",
       " '2022-04-12 16:00:00 TSLA  220414C00985000,Bid=16.8 Ask=17.4 Last=17.05 OI=1250.0 sigma=0.669 NPV=34.791                             delta=0.527 gamma=0.005 vega=50.366 beta=7.98 theta=-2.71 IV=0.32\\n',\n",
       " '2022-04-12 16:00:00 TSLA  220414C00990000,Bid=14.25 Ask=14.85 Last=14.81 OI=1916.0 sigma=0.669 NPV=32.386                             delta=0.504 gamma=0.005 vega=50.480 beta=7.64 theta=-2.72 IV=0.32\\n',\n",
       " '2022-04-12 16:00:00 TSLA  220414C00995000,Bid=12.1 Ask=12.6 Last=12.45 OI=1279.0 sigma=0.669 NPV=30.098                             delta=0.480 gamma=0.005 vega=50.419 beta=7.29 theta=-2.72 IV=0.32\\n',\n",
       " '2022-04-12 16:00:00 TSLA  220414C01000000,Bid=10.1 Ask=10.65 Last=10.26 OI=9048.0 sigma=0.669 NPV=27.926                             delta=0.457 gamma=0.005 vega=50.187 beta=6.95 theta=-2.70 IV=0.31\\n',\n",
       " '2022-04-12 16:00:00 TSLA  220414C01010000,Bid=7.0 Ask=7.4 Last=7.15 OI=1655.0 sigma=0.669 NPV=23.922                             delta=0.411 gamma=0.005 vega=49.230 beta=6.28 theta=-2.66 IV=0.32\\n',\n",
       " '2022-04-12 16:00:00 TSLA  220414C01015000,Bid=5.7 Ask=6.1 Last=6.0 OI=730.0 sigma=0.669 NPV=22.085                             delta=0.389 gamma=0.005 vega=48.519 beta=5.95 theta=-2.62 IV=0.32\\n',\n",
       " '2022-04-12 16:00:00 TSLA  220414C01020000,Bid=4.8 Ask=5.0 Last=5.0 OI=2859.0 sigma=0.669 NPV=20.356                             delta=0.367 gamma=0.004 vega=47.664 beta=5.62 theta=-2.58 IV=0.32\\n',\n",
       " '2022-04-12 16:00:00 TSLA  220414C01025000,Bid=3.9 Ask=4.15 Last=4.02 OI=3300.0 sigma=0.669 NPV=18.731                             delta=0.346 gamma=0.004 vega=46.677 beta=5.31 theta=-2.53 IV=0.32\\n',\n",
       " '2022-04-12 16:00:00 TSLA  220414C01030000,Bid=3.2 Ask=3.4 Last=3.32 OI=3225.0 sigma=0.669 NPV=17.206                             delta=0.325 gamma=0.004 vega=45.568 beta=5.00 theta=-2.47 IV=0.32\\n',\n",
       " '2022-04-12 16:00:00 TSLA  220414P00970000,Bid=8.95 Ask=9.4 Last=9.5 OI=3296.0 sigma=0.669 NPV=25.610                             delta=-0.403 gamma=0.005 vega=48.972 beta=-6.50 theta=-2.62 IV=0.33\\n',\n",
       " '2022-04-12 16:00:00 TSLA  220414P00975000,Bid=10.65 Ask=11.1 Last=10.8 OI=3794.0 sigma=0.669 NPV=27.849                             delta=-0.426 gamma=0.005 vega=49.610 beta=-6.87 theta=-2.65 IV=0.32\\n',\n",
       " '2022-04-12 16:00:00 TSLA  220414P00980000,Bid=12.55 Ask=13.1 Last=12.82 OI=4022.0 sigma=0.669 NPV=30.208                             delta=-0.449 gamma=0.005 vega=50.076 beta=-7.24 theta=-2.67 IV=0.32\\n',\n",
       " '2022-04-12 16:00:00 TSLA  220414P00985000,Bid=14.75 Ask=15.2 Last=15.2 OI=1687.0 sigma=0.669 NPV=32.684                             delta=-0.473 gamma=0.005 vega=50.365 beta=-7.60 theta=-2.69 IV=0.32\\n',\n",
       " '2022-04-12 16:00:00 TSLA  220414P00990000,Bid=17.2 Ask=17.85 Last=17.65 OI=2487.0 sigma=0.669 NPV=35.279                             delta=-0.497 gamma=0.005 vega=50.479 beta=-7.96 theta=-2.69 IV=0.32\\n',\n",
       " '2022-04-12 16:00:00 TSLA  220414P00995000,Bid=20.05 Ask=20.6 Last=20.4 OI=1170.0 sigma=0.669 NPV=37.991                             delta=-0.520 gamma=0.005 vega=50.417 beta=-8.30 theta=-2.69 IV=0.32\\n',\n",
       " '2022-04-12 16:00:00 TSLA  220414P01000000,Bid=22.95 Ask=23.75 Last=23.5 OI=7847.0 sigma=0.669 NPV=40.819                             delta=-0.543 gamma=0.005 vega=50.183 beta=-8.65 theta=-2.68 IV=0.32\\n',\n",
       " '2022-04-12 16:00:00 TSLA  220414P01010000,Bid=29.55 Ask=30.75 Last=30.2 OI=952.0 sigma=0.669 NPV=46.814                             delta=-0.589 gamma=0.005 vega=49.222 beta=-9.31 theta=-2.63 IV=0.32\\n',\n",
       " '2022-04-12 16:00:00 TSLA  220414P01015000,Bid=33.15 Ask=34.5 Last=33.98 OI=628.0 sigma=0.669 NPV=49.978                             delta=-0.611 gamma=0.005 vega=48.512 beta=-9.63 theta=-2.59 IV=0.32\\n',\n",
       " '2022-04-12 16:00:00 TSLA  220414P01020000,Bid=37.05 Ask=38.45 Last=38.0 OI=1143.0 sigma=0.669 NPV=53.249                             delta=-0.633 gamma=0.004 vega=47.652 beta=-9.93 theta=-2.55 IV=0.32\\n',\n",
       " '2022-04-12 16:00:00 TSLA  220414P01025000,Bid=41.15 Ask=42.65 Last=42.28 OI=1861.0 sigma=0.669 NPV=56.623                             delta=-0.654 gamma=0.004 vega=46.666 beta=-10.21 theta=-2.50 IV=0.32\\n',\n",
       " '2022-04-12 16:00:00 TSLA  220414P01030000,Bid=45.45 Ask=47.05 Last=46.44 OI=1842.0 sigma=0.669 NPV=60.099                             delta=-0.675 gamma=0.004 vega=45.550 beta=-10.47 theta=-2.45 IV=0.32\\n']"
      ]
     },
     "execution_count": 31,
     "metadata": {},
     "output_type": "execute_result"
    }
   ],
   "source": [
    "lines"
   ]
  },
  {
   "cell_type": "code",
   "execution_count": 118,
   "id": "504fcb5d-01dc-4ed3-b6a4-d758bd861ae0",
   "metadata": {},
   "outputs": [],
   "source": [
    "columns=['date', 'Bid', 'Ask', 'Last', 'OI', 'sigma', 'NPV', \n",
    "             'delta', 'gamma', 'vega', 'beta', 'theta', 'IV']"
   ]
  },
  {
   "cell_type": "code",
   "execution_count": 150,
   "id": "a102b938-9410-409e-a3f5-dfdb825bdae3",
   "metadata": {},
   "outputs": [],
   "source": [
    "df = pd.DataFrame(\n",
    "    index=range(len(lines)),\n",
    "    dtype=float\n",
    ")"
   ]
  },
  {
   "cell_type": "code",
   "execution_count": 109,
   "id": "a86579c1-d56e-43c7-b3d8-6a1e1e08c217",
   "metadata": {},
   "outputs": [
    {
     "data": {
      "text/plain": [
       "datetime.datetime(2022, 4, 6, 10, 0)"
      ]
     },
     "execution_count": 109,
     "metadata": {},
     "output_type": "execute_result"
    }
   ],
   "source": [
    "datetime.strptime(f'{s[0]} {s[1]}', '%Y-%m-%d %H:%M:%S')"
   ]
  },
  {
   "cell_type": "code",
   "execution_count": 110,
   "id": "80b6eea4-4808-465c-8c98-e12cead629bc",
   "metadata": {},
   "outputs": [],
   "source": [
    "col_locs = np.zeros(len(columns))\n",
    "words = line.split(' ')\n",
    "for iw, word in enumerate(words):\n",
    "    for ic, col in enumerate(columns):\n",
    "        if col in word:\n",
    "            col_locs[ic] = iw"
   ]
  },
  {
   "cell_type": "code",
   "execution_count": 111,
   "id": "049fc3db-116e-439d-9553-86e9827b2fc4",
   "metadata": {},
   "outputs": [
    {
     "data": {
      "text/plain": [
       "array([ 0.,  4.,  5.,  6.,  7.,  8.,  9., 38., 39., 40., 41., 42., 43.])"
      ]
     },
     "execution_count": 111,
     "metadata": {},
     "output_type": "execute_result"
    }
   ],
   "source": [
    "col_locs"
   ]
  },
  {
   "cell_type": "code",
   "execution_count": 157,
   "id": "f2d0dcc7-bea9-437f-9508-3428299453d9",
   "metadata": {
    "tags": []
   },
   "outputs": [],
   "source": [
    "for l, line in enumerate(lines):\n",
    "    words = line.split(' ')\n",
    "    df.at[l,'date'] = datetime.strptime(f'{words[0]} {words[1]}', '%Y-%m-%d %H:%M:%S')\n",
    "    for ic, col in enumerate(columns[1:], start=1):\n",
    "        df.at[l, col] = float(words[int(col_locs[ic])].split('=')[-1].split('\\n')[0])\n",
    "        # print(col, float(words[int(col_locs[ic])].split('=')[-1].split('\\n')[0])**2)"
   ]
  },
  {
   "cell_type": "code",
   "execution_count": 158,
   "id": "05c8ccaa-481a-4797-b20e-64db27674107",
   "metadata": {},
   "outputs": [
    {
     "data": {
      "text/html": [
       "<div>\n",
       "<style scoped>\n",
       "    .dataframe tbody tr th:only-of-type {\n",
       "        vertical-align: middle;\n",
       "    }\n",
       "\n",
       "    .dataframe tbody tr th {\n",
       "        vertical-align: top;\n",
       "    }\n",
       "\n",
       "    .dataframe thead th {\n",
       "        text-align: right;\n",
       "    }\n",
       "</style>\n",
       "<table border=\"1\" class=\"dataframe\">\n",
       "  <thead>\n",
       "    <tr style=\"text-align: right;\">\n",
       "      <th></th>\n",
       "      <th>date</th>\n",
       "      <th>Bid</th>\n",
       "      <th>Ask</th>\n",
       "      <th>Last</th>\n",
       "      <th>OI</th>\n",
       "      <th>sigma</th>\n",
       "      <th>NPV</th>\n",
       "      <th>delta</th>\n",
       "      <th>gamma</th>\n",
       "      <th>vega</th>\n",
       "      <th>beta</th>\n",
       "      <th>theta</th>\n",
       "      <th>IV</th>\n",
       "    </tr>\n",
       "  </thead>\n",
       "  <tbody>\n",
       "    <tr>\n",
       "      <th>0</th>\n",
       "      <td>2022-04-06 10:00:00</td>\n",
       "      <td>41.70</td>\n",
       "      <td>42.40</td>\n",
       "      <td>42.65</td>\n",
       "      <td>498.0</td>\n",
       "      <td>0.744</td>\n",
       "      <td>62.784</td>\n",
       "      <td>0.564</td>\n",
       "      <td>0.003</td>\n",
       "      <td>74.819</td>\n",
       "      <td>17.35</td>\n",
       "      <td>-2.29</td>\n",
       "      <td>0.47</td>\n",
       "    </tr>\n",
       "    <tr>\n",
       "      <th>1</th>\n",
       "      <td>2022-04-06 10:00:00</td>\n",
       "      <td>38.95</td>\n",
       "      <td>39.50</td>\n",
       "      <td>39.22</td>\n",
       "      <td>466.0</td>\n",
       "      <td>0.744</td>\n",
       "      <td>60.270</td>\n",
       "      <td>0.550</td>\n",
       "      <td>0.003</td>\n",
       "      <td>75.201</td>\n",
       "      <td>16.95</td>\n",
       "      <td>-2.30</td>\n",
       "      <td>0.46</td>\n",
       "    </tr>\n",
       "    <tr>\n",
       "      <th>2</th>\n",
       "      <td>2022-04-06 10:00:00</td>\n",
       "      <td>36.20</td>\n",
       "      <td>36.75</td>\n",
       "      <td>36.70</td>\n",
       "      <td>374.0</td>\n",
       "      <td>0.744</td>\n",
       "      <td>57.826</td>\n",
       "      <td>0.536</td>\n",
       "      <td>0.003</td>\n",
       "      <td>75.487</td>\n",
       "      <td>16.55</td>\n",
       "      <td>-2.31</td>\n",
       "      <td>0.46</td>\n",
       "    </tr>\n",
       "    <tr>\n",
       "      <th>3</th>\n",
       "      <td>2022-04-06 10:00:00</td>\n",
       "      <td>33.60</td>\n",
       "      <td>34.10</td>\n",
       "      <td>34.01</td>\n",
       "      <td>2204.0</td>\n",
       "      <td>0.744</td>\n",
       "      <td>55.454</td>\n",
       "      <td>0.521</td>\n",
       "      <td>0.003</td>\n",
       "      <td>75.678</td>\n",
       "      <td>16.14</td>\n",
       "      <td>-2.31</td>\n",
       "      <td>0.46</td>\n",
       "    </tr>\n",
       "    <tr>\n",
       "      <th>4</th>\n",
       "      <td>2022-04-06 10:00:00</td>\n",
       "      <td>31.15</td>\n",
       "      <td>31.60</td>\n",
       "      <td>31.50</td>\n",
       "      <td>354.0</td>\n",
       "      <td>0.744</td>\n",
       "      <td>53.151</td>\n",
       "      <td>0.507</td>\n",
       "      <td>0.003</td>\n",
       "      <td>75.774</td>\n",
       "      <td>15.73</td>\n",
       "      <td>-2.32</td>\n",
       "      <td>0.46</td>\n",
       "    </tr>\n",
       "    <tr>\n",
       "      <th>...</th>\n",
       "      <td>...</td>\n",
       "      <td>...</td>\n",
       "      <td>...</td>\n",
       "      <td>...</td>\n",
       "      <td>...</td>\n",
       "      <td>...</td>\n",
       "      <td>...</td>\n",
       "      <td>...</td>\n",
       "      <td>...</td>\n",
       "      <td>...</td>\n",
       "      <td>...</td>\n",
       "      <td>...</td>\n",
       "      <td>...</td>\n",
       "    </tr>\n",
       "    <tr>\n",
       "      <th>629</th>\n",
       "      <td>2022-04-12 16:00:00</td>\n",
       "      <td>29.55</td>\n",
       "      <td>30.75</td>\n",
       "      <td>30.20</td>\n",
       "      <td>952.0</td>\n",
       "      <td>0.669</td>\n",
       "      <td>46.814</td>\n",
       "      <td>-0.589</td>\n",
       "      <td>0.005</td>\n",
       "      <td>49.222</td>\n",
       "      <td>-9.31</td>\n",
       "      <td>-2.63</td>\n",
       "      <td>0.32</td>\n",
       "    </tr>\n",
       "    <tr>\n",
       "      <th>630</th>\n",
       "      <td>2022-04-12 16:00:00</td>\n",
       "      <td>33.15</td>\n",
       "      <td>34.50</td>\n",
       "      <td>33.98</td>\n",
       "      <td>628.0</td>\n",
       "      <td>0.669</td>\n",
       "      <td>49.978</td>\n",
       "      <td>-0.611</td>\n",
       "      <td>0.005</td>\n",
       "      <td>48.512</td>\n",
       "      <td>-9.63</td>\n",
       "      <td>-2.59</td>\n",
       "      <td>0.32</td>\n",
       "    </tr>\n",
       "    <tr>\n",
       "      <th>631</th>\n",
       "      <td>2022-04-12 16:00:00</td>\n",
       "      <td>37.05</td>\n",
       "      <td>38.45</td>\n",
       "      <td>38.00</td>\n",
       "      <td>1143.0</td>\n",
       "      <td>0.669</td>\n",
       "      <td>53.249</td>\n",
       "      <td>-0.633</td>\n",
       "      <td>0.004</td>\n",
       "      <td>47.652</td>\n",
       "      <td>-9.93</td>\n",
       "      <td>-2.55</td>\n",
       "      <td>0.32</td>\n",
       "    </tr>\n",
       "    <tr>\n",
       "      <th>632</th>\n",
       "      <td>2022-04-12 16:00:00</td>\n",
       "      <td>41.15</td>\n",
       "      <td>42.65</td>\n",
       "      <td>42.28</td>\n",
       "      <td>1861.0</td>\n",
       "      <td>0.669</td>\n",
       "      <td>56.623</td>\n",
       "      <td>-0.654</td>\n",
       "      <td>0.004</td>\n",
       "      <td>46.666</td>\n",
       "      <td>-10.21</td>\n",
       "      <td>-2.50</td>\n",
       "      <td>0.32</td>\n",
       "    </tr>\n",
       "    <tr>\n",
       "      <th>633</th>\n",
       "      <td>2022-04-12 16:00:00</td>\n",
       "      <td>45.45</td>\n",
       "      <td>47.05</td>\n",
       "      <td>46.44</td>\n",
       "      <td>1842.0</td>\n",
       "      <td>0.669</td>\n",
       "      <td>60.099</td>\n",
       "      <td>-0.675</td>\n",
       "      <td>0.004</td>\n",
       "      <td>45.550</td>\n",
       "      <td>-10.47</td>\n",
       "      <td>-2.45</td>\n",
       "      <td>0.32</td>\n",
       "    </tr>\n",
       "  </tbody>\n",
       "</table>\n",
       "<p>634 rows × 13 columns</p>\n",
       "</div>"
      ],
      "text/plain": [
       "                   date    Bid    Ask   Last      OI  sigma     NPV  delta  \\\n",
       "0   2022-04-06 10:00:00  41.70  42.40  42.65   498.0  0.744  62.784  0.564   \n",
       "1   2022-04-06 10:00:00  38.95  39.50  39.22   466.0  0.744  60.270  0.550   \n",
       "2   2022-04-06 10:00:00  36.20  36.75  36.70   374.0  0.744  57.826  0.536   \n",
       "3   2022-04-06 10:00:00  33.60  34.10  34.01  2204.0  0.744  55.454  0.521   \n",
       "4   2022-04-06 10:00:00  31.15  31.60  31.50   354.0  0.744  53.151  0.507   \n",
       "..                  ...    ...    ...    ...     ...    ...     ...    ...   \n",
       "629 2022-04-12 16:00:00  29.55  30.75  30.20   952.0  0.669  46.814 -0.589   \n",
       "630 2022-04-12 16:00:00  33.15  34.50  33.98   628.0  0.669  49.978 -0.611   \n",
       "631 2022-04-12 16:00:00  37.05  38.45  38.00  1143.0  0.669  53.249 -0.633   \n",
       "632 2022-04-12 16:00:00  41.15  42.65  42.28  1861.0  0.669  56.623 -0.654   \n",
       "633 2022-04-12 16:00:00  45.45  47.05  46.44  1842.0  0.669  60.099 -0.675   \n",
       "\n",
       "     gamma    vega   beta  theta    IV  \n",
       "0    0.003  74.819  17.35  -2.29  0.47  \n",
       "1    0.003  75.201  16.95  -2.30  0.46  \n",
       "2    0.003  75.487  16.55  -2.31  0.46  \n",
       "3    0.003  75.678  16.14  -2.31  0.46  \n",
       "4    0.003  75.774  15.73  -2.32  0.46  \n",
       "..     ...     ...    ...    ...   ...  \n",
       "629  0.005  49.222  -9.31  -2.63  0.32  \n",
       "630  0.005  48.512  -9.63  -2.59  0.32  \n",
       "631  0.004  47.652  -9.93  -2.55  0.32  \n",
       "632  0.004  46.666 -10.21  -2.50  0.32  \n",
       "633  0.004  45.550 -10.47  -2.45  0.32  \n",
       "\n",
       "[634 rows x 13 columns]"
      ]
     },
     "execution_count": 158,
     "metadata": {},
     "output_type": "execute_result"
    }
   ],
   "source": [
    "df"
   ]
  },
  {
   "cell_type": "code",
   "execution_count": 162,
   "id": "863608f3-f531-4c34-96a1-79392a41b513",
   "metadata": {},
   "outputs": [
    {
     "data": {
      "text/plain": [
       "(dtype('float64'), dtype('<M8[ns]'))"
      ]
     },
     "execution_count": 162,
     "metadata": {},
     "output_type": "execute_result"
    }
   ],
   "source": [
    "df['delta'].dtype, df['date'].dtype"
   ]
  },
  {
   "cell_type": "code",
   "execution_count": 164,
   "id": "d3e32f3d-2ca4-46cc-b98a-3f310a50cef8",
   "metadata": {},
   "outputs": [
    {
     "data": {
      "text/plain": [
       "[<matplotlib.lines.Line2D at 0x7ff591708f10>]"
      ]
     },
     "execution_count": 164,
     "metadata": {},
     "output_type": "execute_result"
    },
    {
     "data": {
      "image/png": "[encoded data removed]",
      "text/plain": [
       "<Figure size 432x288 with 1 Axes>"
      ]
     },
     "metadata": {
      "needs_background": "light"
     },
     "output_type": "display_data"
    }
   ],
   "source": [
    "plt.plot(df['date'], df['IV'])"
   ]
  },
  {
   "cell_type": "code",
   "execution_count": 169,
   "id": "878b1d7c-e2cf-46f4-a8a4-e60fea25e737",
   "metadata": {},
   "outputs": [
    {
     "data": {
      "application/vnd.plotly.v1+json": {
       "config": {
        "plotlyServerURL": "https://plot.ly"
       },
       "data": [
        {
         "type": "scatter",
         "x": [
          "2022-04-06T10:00:00",
          "2022-04-06T10:00:00",
          "2022-04-06T10:00:00",
          "2022-04-06T10:00:00",
          "2022-04-06T10:00:00",
          "2022-04-06T10:00:00",
          "2022-04-06T10:00:00",
          "2022-04-06T10:00:00",
          "2022-04-06T10:00:00",
          "2022-04-06T10:00:00",
          "2022-04-06T10:00:00",
          "2022-04-06T10:00:00",
          "2022-04-06T11:00:00",
          "2022-04-06T11:00:00",
          "2022-04-06T11:00:00",
          "2022-04-06T11:00:00",
          "2022-04-06T11:00:00",
          "2022-04-06T11:00:00",
          "2022-04-06T11:00:00",
          "2022-04-06T11:00:00",
          "2022-04-06T11:00:00",
          "2022-04-06T11:00:00",
          "2022-04-06T11:00:00",
          "2022-04-06T11:00:00",
          "2022-04-06T11:00:00",
          "2022-04-06T11:00:00",
          "2022-04-06T12:00:00",
          "2022-04-06T12:00:00",
          "2022-04-06T12:00:00",
          "2022-04-06T12:00:00",
          "2022-04-06T12:00:00",
          "2022-04-06T12:00:00",
          "2022-04-06T12:00:00",
          "2022-04-06T12:00:00",
          "2022-04-06T12:00:00",
          "2022-04-06T12:00:00",
          "2022-04-06T12:00:00",
          "2022-04-06T12:00:00",
          "2022-04-06T12:00:00",
          "2022-04-06T12:00:00",
          "2022-04-06T13:00:00",
          "2022-04-06T13:00:00",
          "2022-04-06T13:00:00",
          "2022-04-06T13:00:00",
          "2022-04-06T13:00:00",
          "2022-04-06T13:00:00",
          "2022-04-06T13:00:00",
          "2022-04-06T13:00:00",
          "2022-04-06T13:00:00",
          "2022-04-06T13:00:00",
          "2022-04-06T13:00:00",
          "2022-04-06T13:00:00",
          "2022-04-06T13:00:00",
          "2022-04-06T13:00:00",
          "2022-04-06T13:00:00",
          "2022-04-06T13:00:00",
          "2022-04-06T13:00:00",
          "2022-04-06T13:00:00",
          "2022-04-06T14:00:00",
          "2022-04-06T14:00:00",
          "2022-04-06T14:00:00",
          "2022-04-06T14:00:00",
          "2022-04-06T14:00:00",
          "2022-04-06T14:00:00",
          "2022-04-06T14:00:00",
          "2022-04-06T14:00:00",
          "2022-04-06T14:00:00",
          "2022-04-06T14:00:00",
          "2022-04-06T14:00:00",
          "2022-04-06T14:00:00",
          "2022-04-06T14:00:00",
          "2022-04-06T14:00:00",
          "2022-04-06T14:00:00",
          "2022-04-06T14:00:00",
          "2022-04-06T14:00:00",
          "2022-04-06T14:00:00",
          "2022-04-06T14:00:00",
          "2022-04-06T14:00:00",
          "2022-04-06T15:00:00",
          "2022-04-06T15:00:00",
          "2022-04-06T15:00:00",
          "2022-04-06T15:00:00",
          "2022-04-06T15:00:00",
          "2022-04-06T15:00:00",
          "2022-04-06T15:00:00",
          "2022-04-06T15:00:00",
          "2022-04-06T15:00:00",
          "2022-04-06T15:00:00",
          "2022-04-06T15:00:00",
          "2022-04-06T15:00:00",
          "2022-04-06T15:00:00",
          "2022-04-06T15:00:00",
          "2022-04-06T15:00:00",
          "2022-04-06T15:00:00",
          "2022-04-06T15:00:00",
          "2022-04-06T15:00:00",
          "2022-04-06T15:00:00",
          "2022-04-06T15:00:00",
          "2022-04-06T15:00:00",
          "2022-04-06T15:00:00",
          "2022-04-06T16:00:00",
          "2022-04-06T16:00:00",
          "2022-04-06T16:00:00",
          "2022-04-06T16:00:00",
          "2022-04-06T16:00:00",
          "2022-04-06T16:00:00",
          "2022-04-06T16:00:00",
          "2022-04-06T16:00:00",
          "2022-04-06T16:00:00",
          "2022-04-06T16:00:00",
          "2022-04-06T16:00:00",
          "2022-04-06T16:00:00",
          "2022-04-06T16:00:00",
          "2022-04-06T16:00:00",
          "2022-04-06T16:00:00",
          "2022-04-06T16:00:00",
          "2022-04-06T16:00:00",
          "2022-04-06T16:00:00",
          "2022-04-06T16:00:00",
          "2022-04-06T16:00:00",
          "2022-04-06T16:00:00",
          "2022-04-06T16:00:00",
          "2022-04-07T10:00:00",
          "2022-04-07T10:00:00",
          "2022-04-07T10:00:00",
          "2022-04-07T10:00:00",
          "2022-04-07T10:00:00",
          "2022-04-07T10:00:00",
          "2022-04-07T10:00:00",
          "2022-04-07T10:00:00",
          "2022-04-07T10:00:00",
          "2022-04-07T10:00:00",
          "2022-04-07T10:00:00",
          "2022-04-07T10:00:00",
          "2022-04-07T11:00:00",
          "2022-04-07T11:00:00",
          "2022-04-07T11:00:00",
          "2022-04-07T11:00:00",
          "2022-04-07T11:00:00",
          "2022-04-07T11:00:00",
          "2022-04-07T11:00:00",
          "2022-04-07T11:00:00",
          "2022-04-07T11:00:00",
          "2022-04-07T11:00:00",
          "2022-04-07T11:00:00",
          "2022-04-07T11:00:00",
          "2022-04-07T11:00:00",
          "2022-04-07T11:00:00",
          "2022-04-07T11:00:00",
          "2022-04-07T11:00:00",
          "2022-04-07T11:00:00",
          "2022-04-07T11:00:00",
          "2022-04-07T12:00:00",
          "2022-04-07T12:00:00",
          "2022-04-07T12:00:00",
          "2022-04-07T12:00:00",
          "2022-04-07T12:00:00",
          "2022-04-07T12:00:00",
          "2022-04-07T12:00:00",
          "2022-04-07T12:00:00",
          "2022-04-07T12:00:00",
          "2022-04-07T12:00:00",
          "2022-04-07T12:00:00",
          "2022-04-07T12:00:00",
          "2022-04-07T12:00:00",
          "2022-04-07T12:00:00",
          "2022-04-07T12:00:00",
          "2022-04-07T12:00:00",
          "2022-04-07T12:00:00",
          "2022-04-07T12:00:00",
          "2022-04-07T12:00:00",
          "2022-04-07T12:00:00",
          "2022-04-07T12:00:00",
          "2022-04-07T12:00:00",
          "2022-04-07T13:00:00",
          "2022-04-07T13:00:00",
          "2022-04-07T13:00:00",
          "2022-04-07T13:00:00",
          "2022-04-07T13:00:00",
          "2022-04-07T13:00:00",
          "2022-04-07T13:00:00",
          "2022-04-07T13:00:00",
          "2022-04-07T13:00:00",
          "2022-04-07T13:00:00",
          "2022-04-07T13:00:00",
          "2022-04-07T13:00:00",
          "2022-04-07T13:00:00",
          "2022-04-07T13:00:00",
          "2022-04-07T13:00:00",
          "2022-04-07T13:00:00",
          "2022-04-07T13:00:00",
          "2022-04-07T13:00:00",
          "2022-04-07T13:00:00",
          "2022-04-07T13:00:00",
          "2022-04-07T13:00:00",
          "2022-04-07T13:00:00",
          "2022-04-07T13:00:00",
          "2022-04-07T13:00:00",
          "2022-04-07T14:00:00",
          "2022-04-07T14:00:00",
          "2022-04-07T14:00:00",
          "2022-04-07T14:00:00",
          "2022-04-07T14:00:00",
          "2022-04-07T14:00:00",
          "2022-04-07T14:00:00",
          "2022-04-07T14:00:00",
          "2022-04-07T14:00:00",
          "2022-04-07T14:00:00",
          "2022-04-07T14:00:00",
          "2022-04-07T14:00:00",
          "2022-04-07T14:00:00",
          "2022-04-07T14:00:00",
          "2022-04-07T14:00:00",
          "2022-04-07T14:00:00",
          "2022-04-07T14:00:00",
          "2022-04-07T14:00:00",
          "2022-04-07T14:00:00",
          "2022-04-07T14:00:00",
          "2022-04-07T14:00:00",
          "2022-04-07T14:00:00",
          "2022-04-07T14:00:00",
          "2022-04-07T14:00:00",
          "2022-04-07T14:00:00",
          "2022-04-07T14:00:00",
          "2022-04-07T15:00:00",
          "2022-04-07T15:00:00",
          "2022-04-07T15:00:00",
          "2022-04-07T15:00:00",
          "2022-04-07T15:00:00",
          "2022-04-07T15:00:00",
          "2022-04-07T15:00:00",
          "2022-04-07T15:00:00",
          "2022-04-07T15:00:00",
          "2022-04-07T15:00:00",
          "2022-04-07T15:00:00",
          "2022-04-07T15:00:00",
          "2022-04-07T15:00:00",
          "2022-04-07T15:00:00",
          "2022-04-07T15:00:00",
          "2022-04-07T15:00:00",
          "2022-04-07T15:00:00",
          "2022-04-07T15:00:00",
          "2022-04-07T15:00:00",
          "2022-04-07T15:00:00",
          "2022-04-07T15:00:00",
          "2022-04-07T15:00:00",
          "2022-04-07T15:00:00",
          "2022-04-07T15:00:00",
          "2022-04-07T15:00:00",
          "2022-04-07T15:00:00",
          "2022-04-07T15:00:00",
          "2022-04-07T15:00:00",
          "2022-04-07T15:00:00",
          "2022-04-07T15:00:00",
          "2022-04-07T16:00:00",
          "2022-04-07T16:00:00",
          "2022-04-07T16:00:00",
          "2022-04-07T16:00:00",
          "2022-04-07T16:00:00",
          "2022-04-07T16:00:00",
          "2022-04-07T16:00:00",
          "2022-04-07T16:00:00",
          "2022-04-07T16:00:00",
          "2022-04-07T16:00:00",
          "2022-04-07T16:00:00",
          "2022-04-07T16:00:00",
          "2022-04-07T16:00:00",
          "2022-04-07T16:00:00",
          "2022-04-07T16:00:00",
          "2022-04-07T16:00:00",
          "2022-04-07T16:00:00",
          "2022-04-07T16:00:00",
          "2022-04-07T16:00:00",
          "2022-04-07T16:00:00",
          "2022-04-07T16:00:00",
          "2022-04-07T16:00:00",
          "2022-04-07T16:00:00",
          "2022-04-07T16:00:00",
          "2022-04-07T16:00:00",
          "2022-04-07T16:00:00",
          "2022-04-07T16:00:00",
          "2022-04-07T16:00:00",
          "2022-04-07T16:00:00",
          "2022-04-07T16:00:00",
          "2022-04-08T10:00:00",
          "2022-04-08T10:00:00",
          "2022-04-08T10:00:00",
          "2022-04-08T10:00:00",
          "2022-04-08T10:00:00",
          "2022-04-08T10:00:00",
          "2022-04-08T10:00:00",
          "2022-04-08T10:00:00",
          "2022-04-08T10:00:00",
          "2022-04-08T10:00:00",
          "2022-04-08T10:00:00",
          "2022-04-08T10:00:00",
          "2022-04-08T11:00:00",
          "2022-04-08T11:00:00",
          "2022-04-08T11:00:00",
          "2022-04-08T11:00:00",
          "2022-04-08T11:00:00",
          "2022-04-08T11:00:00",
          "2022-04-08T11:00:00",
          "2022-04-08T11:00:00",
          "2022-04-08T11:00:00",
          "2022-04-08T11:00:00",
          "2022-04-08T11:00:00",
          "2022-04-08T11:00:00",
          "2022-04-08T12:00:00",
          "2022-04-08T12:00:00",
          "2022-04-08T12:00:00",
          "2022-04-08T12:00:00",
          "2022-04-08T12:00:00",
          "2022-04-08T12:00:00",
          "2022-04-08T12:00:00",
          "2022-04-08T12:00:00",
          "2022-04-08T12:00:00",
          "2022-04-08T12:00:00",
          "2022-04-08T12:00:00",
          "2022-04-08T12:00:00",
          "2022-04-08T12:00:00",
          "2022-04-08T12:00:00",
          "2022-04-08T13:00:00",
          "2022-04-08T13:00:00",
          "2022-04-08T13:00:00",
          "2022-04-08T13:00:00",
          "2022-04-08T13:00:00",
          "2022-04-08T13:00:00",
          "2022-04-08T13:00:00",
          "2022-04-08T13:00:00",
          "2022-04-08T13:00:00",
          "2022-04-08T13:00:00",
          "2022-04-08T13:00:00",
          "2022-04-08T13:00:00",
          "2022-04-08T13:00:00",
          "2022-04-08T13:00:00",
          "2022-04-08T14:00:00",
          "2022-04-08T14:00:00",
          "2022-04-08T14:00:00",
          "2022-04-08T14:00:00",
          "2022-04-08T14:00:00",
          "2022-04-08T14:00:00",
          "2022-04-08T14:00:00",
          "2022-04-08T14:00:00",
          "2022-04-08T14:00:00",
          "2022-04-08T14:00:00",
          "2022-04-08T14:00:00",
          "2022-04-08T14:00:00",
          "2022-04-08T14:00:00",
          "2022-04-08T14:00:00",
          "2022-04-08T14:00:00",
          "2022-04-08T14:00:00",
          "2022-04-08T15:00:00",
          "2022-04-08T15:00:00",
          "2022-04-08T15:00:00",
          "2022-04-08T15:00:00",
          "2022-04-08T15:00:00",
          "2022-04-08T15:00:00",
          "2022-04-08T15:00:00",
          "2022-04-08T15:00:00",
          "2022-04-08T15:00:00",
          "2022-04-08T15:00:00",
          "2022-04-08T15:00:00",
          "2022-04-08T15:00:00",
          "2022-04-08T15:00:00",
          "2022-04-08T15:00:00",
          "2022-04-08T15:00:00",
          "2022-04-08T15:00:00",
          "2022-04-08T16:00:00",
          "2022-04-08T16:00:00",
          "2022-04-08T16:00:00",
          "2022-04-08T16:00:00",
          "2022-04-08T16:00:00",
          "2022-04-08T16:00:00",
          "2022-04-08T16:00:00",
          "2022-04-08T16:00:00",
          "2022-04-08T16:00:00",
          "2022-04-08T16:00:00",
          "2022-04-08T16:00:00",
          "2022-04-08T16:00:00",
          "2022-04-08T16:00:00",
          "2022-04-08T16:00:00",
          "2022-04-08T16:00:00",
          "2022-04-08T16:00:00",
          "2022-04-11T10:00:00",
          "2022-04-11T10:00:00",
          "2022-04-11T10:00:00",
          "2022-04-11T10:00:00",
          "2022-04-11T10:00:00",
          "2022-04-11T10:00:00",
          "2022-04-11T10:00:00",
          "2022-04-11T10:00:00",
          "2022-04-11T10:00:00",
          "2022-04-11T10:00:00",
          "2022-04-11T10:00:00",
          "2022-04-11T10:00:00",
          "2022-04-11T11:00:00",
          "2022-04-11T11:00:00",
          "2022-04-11T11:00:00",
          "2022-04-11T11:00:00",
          "2022-04-11T11:00:00",
          "2022-04-11T11:00:00",
          "2022-04-11T11:00:00",
          "2022-04-11T11:00:00",
          "2022-04-11T11:00:00",
          "2022-04-11T11:00:00",
          "2022-04-11T11:00:00",
          "2022-04-11T11:00:00",
          "2022-04-11T11:00:00",
          "2022-04-11T11:00:00",
          "2022-04-11T12:00:00",
          "2022-04-11T12:00:00",
          "2022-04-11T12:00:00",
          "2022-04-11T12:00:00",
          "2022-04-11T12:00:00",
          "2022-04-11T12:00:00",
          "2022-04-11T12:00:00",
          "2022-04-11T12:00:00",
          "2022-04-11T12:00:00",
          "2022-04-11T12:00:00",
          "2022-04-11T12:00:00",
          "2022-04-11T12:00:00",
          "2022-04-11T12:00:00",
          "2022-04-11T12:00:00",
          "2022-04-11T12:00:00",
          "2022-04-11T12:00:00",
          "2022-04-11T13:00:00",
          "2022-04-11T13:00:00",
          "2022-04-11T13:00:00",
          "2022-04-11T13:00:00",
          "2022-04-11T13:00:00",
          "2022-04-11T13:00:00",
          "2022-04-11T13:00:00",
          "2022-04-11T13:00:00",
          "2022-04-11T13:00:00",
          "2022-04-11T13:00:00",
          "2022-04-11T13:00:00",
          "2022-04-11T13:00:00",
          "2022-04-11T13:00:00",
          "2022-04-11T13:00:00",
          "2022-04-11T13:00:00",
          "2022-04-11T13:00:00",
          "2022-04-11T14:00:00",
          "2022-04-11T14:00:00",
          "2022-04-11T14:00:00",
          "2022-04-11T14:00:00",
          "2022-04-11T14:00:00",
          "2022-04-11T14:00:00",
          "2022-04-11T14:00:00",
          "2022-04-11T14:00:00",
          "2022-04-11T14:00:00",
          "2022-04-11T14:00:00",
          "2022-04-11T14:00:00",
          "2022-04-11T14:00:00",
          "2022-04-11T14:00:00",
          "2022-04-11T14:00:00",
          "2022-04-11T14:00:00",
          "2022-04-11T14:00:00",
          "2022-04-11T15:00:00",
          "2022-04-11T15:00:00",
          "2022-04-11T15:00:00",
          "2022-04-11T15:00:00",
          "2022-04-11T15:00:00",
          "2022-04-11T15:00:00",
          "2022-04-11T15:00:00",
          "2022-04-11T15:00:00",
          "2022-04-11T15:00:00",
          "2022-04-11T15:00:00",
          "2022-04-11T15:00:00",
          "2022-04-11T15:00:00",
          "2022-04-11T15:00:00",
          "2022-04-11T15:00:00",
          "2022-04-11T15:00:00",
          "2022-04-11T15:00:00",
          "2022-04-11T16:00:00",
          "2022-04-11T16:00:00",
          "2022-04-11T16:00:00",
          "2022-04-11T16:00:00",
          "2022-04-11T16:00:00",
          "2022-04-11T16:00:00",
          "2022-04-11T16:00:00",
          "2022-04-11T16:00:00",
          "2022-04-11T16:00:00",
          "2022-04-11T16:00:00",
          "2022-04-11T16:00:00",
          "2022-04-11T16:00:00",
          "2022-04-11T16:00:00",
          "2022-04-11T16:00:00",
          "2022-04-11T16:00:00",
          "2022-04-11T16:00:00",
          "2022-04-11T16:00:00",
          "2022-04-11T16:00:00",
          "2022-04-12T10:00:00",
          "2022-04-12T10:00:00",
          "2022-04-12T10:00:00",
          "2022-04-12T10:00:00",
          "2022-04-12T10:00:00",
          "2022-04-12T10:00:00",
          "2022-04-12T10:00:00",
          "2022-04-12T10:00:00",
          "2022-04-12T10:00:00",
          "2022-04-12T10:00:00",
          "2022-04-12T10:00:00",
          "2022-04-12T10:00:00",
          "2022-04-12T11:00:00",
          "2022-04-12T11:00:00",
          "2022-04-12T11:00:00",
          "2022-04-12T11:00:00",
          "2022-04-12T11:00:00",
          "2022-04-12T11:00:00",
          "2022-04-12T11:00:00",
          "2022-04-12T11:00:00",
          "2022-04-12T11:00:00",
          "2022-04-12T11:00:00",
          "2022-04-12T11:00:00",
          "2022-04-12T11:00:00",
          "2022-04-12T11:00:00",
          "2022-04-12T11:00:00",
          "2022-04-12T11:00:00",
          "2022-04-12T11:00:00",
          "2022-04-12T11:00:00",
          "2022-04-12T11:00:00",
          "2022-04-12T11:00:00",
          "2022-04-12T11:00:00",
          "2022-04-12T12:00:00",
          "2022-04-12T12:00:00",
          "2022-04-12T12:00:00",
          "2022-04-12T12:00:00",
          "2022-04-12T12:00:00",
          "2022-04-12T12:00:00",
          "2022-04-12T12:00:00",
          "2022-04-12T12:00:00",
          "2022-04-12T12:00:00",
          "2022-04-12T12:00:00",
          "2022-04-12T12:00:00",
          "2022-04-12T12:00:00",
          "2022-04-12T12:00:00",
          "2022-04-12T12:00:00",
          "2022-04-12T12:00:00",
          "2022-04-12T12:00:00",
          "2022-04-12T12:00:00",
          "2022-04-12T12:00:00",
          "2022-04-12T12:00:00",
          "2022-04-12T12:00:00",
          "2022-04-12T13:00:00",
          "2022-04-12T13:00:00",
          "2022-04-12T13:00:00",
          "2022-04-12T13:00:00",
          "2022-04-12T13:00:00",
          "2022-04-12T13:00:00",
          "2022-04-12T13:00:00",
          "2022-04-12T13:00:00",
          "2022-04-12T13:00:00",
          "2022-04-12T13:00:00",
          "2022-04-12T13:00:00",
          "2022-04-12T13:00:00",
          "2022-04-12T13:00:00",
          "2022-04-12T13:00:00",
          "2022-04-12T13:00:00",
          "2022-04-12T13:00:00",
          "2022-04-12T13:00:00",
          "2022-04-12T13:00:00",
          "2022-04-12T13:00:00",
          "2022-04-12T13:00:00",
          "2022-04-12T14:00:00",
          "2022-04-12T14:00:00",
          "2022-04-12T14:00:00",
          "2022-04-12T14:00:00",
          "2022-04-12T14:00:00",
          "2022-04-12T14:00:00",
          "2022-04-12T14:00:00",
          "2022-04-12T14:00:00",
          "2022-04-12T14:00:00",
          "2022-04-12T14:00:00",
          "2022-04-12T14:00:00",
          "2022-04-12T14:00:00",
          "2022-04-12T14:00:00",
          "2022-04-12T14:00:00",
          "2022-04-12T14:00:00",
          "2022-04-12T14:00:00",
          "2022-04-12T14:00:00",
          "2022-04-12T14:00:00",
          "2022-04-12T14:00:00",
          "2022-04-12T14:00:00",
          "2022-04-12T14:00:00",
          "2022-04-12T14:00:00",
          "2022-04-12T15:00:00",
          "2022-04-12T15:00:00",
          "2022-04-12T15:00:00",
          "2022-04-12T15:00:00",
          "2022-04-12T15:00:00",
          "2022-04-12T15:00:00",
          "2022-04-12T15:00:00",
          "2022-04-12T15:00:00",
          "2022-04-12T15:00:00",
          "2022-04-12T15:00:00",
          "2022-04-12T15:00:00",
          "2022-04-12T15:00:00",
          "2022-04-12T15:00:00",
          "2022-04-12T15:00:00",
          "2022-04-12T15:00:00",
          "2022-04-12T15:00:00",
          "2022-04-12T15:00:00",
          "2022-04-12T15:00:00",
          "2022-04-12T15:00:00",
          "2022-04-12T15:00:00",
          "2022-04-12T15:00:00",
          "2022-04-12T15:00:00",
          "2022-04-12T15:00:00",
          "2022-04-12T15:00:00",
          "2022-04-12T16:00:00",
          "2022-04-12T16:00:00",
          "2022-04-12T16:00:00",
          "2022-04-12T16:00:00",
          "2022-04-12T16:00:00",
          "2022-04-12T16:00:00",
          "2022-04-12T16:00:00",
          "2022-04-12T16:00:00",
          "2022-04-12T16:00:00",
          "2022-04-12T16:00:00",
          "2022-04-12T16:00:00",
          "2022-04-12T16:00:00",
          "2022-04-12T16:00:00",
          "2022-04-12T16:00:00",
          "2022-04-12T16:00:00",
          "2022-04-12T16:00:00",
          "2022-04-12T16:00:00",
          "2022-04-12T16:00:00",
          "2022-04-12T16:00:00",
          "2022-04-12T16:00:00",
          "2022-04-12T16:00:00",
          "2022-04-12T16:00:00",
          "2022-04-12T16:00:00",
          "2022-04-12T16:00:00"
         ],
         "y": [
          0.47,
          0.46,
          0.46,
          0.46,
          0.46,
          0.45,
          0.47,
          0.47,
          0.46,
          0.46,
          0.46,
          0.46,
          0.46,
          0.46,
          0.45,
          0.45,
          0.45,
          0.45,
          0.46,
          0.46,
          0.46,
          0.45,
          0.45,
          0.45,
          0.46,
          0.46,
          0.46,
          0.46,
          0.46,
          0.45,
          0.45,
          0.45,
          0.45,
          0.47,
          0.46,
          0.46,
          0.46,
          0.46,
          0.45,
          0.45,
          0.47,
          0.47,
          0.46,
          0.46,
          0.46,
          0.46,
          0.46,
          0.47,
          0.47,
          0.46,
          0.46,
          0.46,
          0.46,
          0.46,
          0.47,
          0.47,
          0.47,
          0.47,
          0.47,
          0.47,
          0.46,
          0.47,
          0.46,
          0.46,
          0.46,
          0.45,
          0.46,
          0.47,
          0.45,
          0.46,
          0.47,
          0.45,
          0.46,
          0.44,
          0.45,
          0.46,
          0.45,
          0.44,
          0.45,
          0.45,
          0.45,
          0.45,
          0.45,
          0.45,
          0.44,
          0.44,
          0.44,
          0.44,
          0.46,
          0.46,
          0.46,
          0.45,
          0.45,
          0.45,
          0.45,
          0.45,
          0.45,
          0.44,
          0.44,
          0.44,
          0.46,
          0.46,
          0.46,
          0.46,
          0.45,
          0.45,
          0.45,
          0.45,
          0.45,
          0.45,
          0.45,
          0.46,
          0.46,
          0.46,
          0.46,
          0.46,
          0.46,
          0.46,
          0.45,
          0.45,
          0.45,
          0.45,
          0.45,
          0.44,
          0.44,
          0.45,
          0.44,
          0.44,
          0.44,
          0.44,
          0.44,
          0.44,
          0.44,
          0.44,
          0.44,
          0.44,
          0.44,
          0.44,
          0.44,
          0.45,
          0.44,
          0.44,
          0.44,
          0.44,
          0.45,
          0.45,
          0.45,
          0.44,
          0.45,
          0.45,
          0.45,
          0.45,
          0.46,
          0.46,
          0.46,
          0.45,
          0.45,
          0.45,
          0.45,
          0.46,
          0.46,
          0.46,
          0.46,
          0.45,
          0.45,
          0.45,
          0.47,
          0.46,
          0.46,
          0.46,
          0.47,
          0.47,
          0.46,
          0.46,
          0.48,
          0.48,
          0.47,
          0.47,
          0.47,
          0.47,
          0.47,
          0.47,
          0.47,
          0.47,
          0.47,
          0.48,
          0.48,
          0.48,
          0.47,
          0.47,
          0.47,
          0.47,
          0.47,
          0.47,
          0.47,
          0.47,
          0.48,
          0.48,
          0.46,
          0.46,
          0.46,
          0.46,
          0.46,
          0.45,
          0.45,
          0.45,
          0.45,
          0.45,
          0.45,
          0.45,
          0.47,
          0.46,
          0.46,
          0.46,
          0.46,
          0.46,
          0.46,
          0.46,
          0.46,
          0.45,
          0.45,
          0.46,
          0.45,
          0.45,
          0.47,
          0.47,
          0.46,
          0.46,
          0.46,
          0.46,
          0.46,
          0.46,
          0.45,
          0.45,
          0.45,
          0.45,
          0.45,
          0.47,
          0.47,
          0.47,
          0.46,
          0.46,
          0.46,
          0.46,
          0.46,
          0.46,
          0.46,
          0.46,
          0.46,
          0.46,
          0.45,
          0.45,
          0.46,
          0.46,
          0.46,
          0.45,
          0.45,
          0.45,
          0.45,
          0.45,
          0.45,
          0.45,
          0.44,
          0.45,
          0.44,
          0.45,
          0.44,
          0.44,
          0.44,
          0.46,
          0.46,
          0.46,
          0.46,
          0.46,
          0.45,
          0.45,
          0.45,
          0.45,
          0.45,
          0.45,
          0.45,
          0.45,
          0.45,
          0.45,
          0.46,
          0.45,
          0.45,
          0.45,
          0.45,
          0.45,
          0.46,
          0.46,
          0.46,
          0.46,
          0.46,
          0.45,
          0.44,
          0.44,
          0.44,
          0.44,
          0.44,
          0.45,
          0.44,
          0.44,
          0.44,
          0.44,
          0.44,
          0.44,
          0.43,
          0.43,
          0.43,
          0.42,
          0.43,
          0.43,
          0.42,
          0.42,
          0.42,
          0.42,
          0.42,
          0.42,
          0.43,
          0.43,
          0.42,
          0.41,
          0.41,
          0.41,
          0.41,
          0.41,
          0.42,
          0.42,
          0.42,
          0.42,
          0.42,
          0.42,
          0.41,
          0.42,
          0.42,
          0.41,
          0.41,
          0.41,
          0.41,
          0.41,
          0.41,
          0.42,
          0.41,
          0.41,
          0.41,
          0.41,
          0.41,
          0.41,
          0.42,
          0.42,
          0.4,
          0.4,
          0.4,
          0.4,
          0.4,
          0.4,
          0.4,
          0.4,
          0.4,
          0.4,
          0.4,
          0.4,
          0.4,
          0.4,
          0.4,
          0.4,
          0.38,
          0.38,
          0.38,
          0.38,
          0.38,
          0.38,
          0.38,
          0.39,
          0.39,
          0.39,
          0.39,
          0.39,
          0.39,
          0.39,
          0.39,
          0.39,
          0.43,
          0.43,
          0.43,
          0.43,
          0.42,
          0.42,
          0.43,
          0.43,
          0.43,
          0.42,
          0.42,
          0.42,
          0.43,
          0.43,
          0.42,
          0.42,
          0.42,
          0.42,
          0.43,
          0.43,
          0.43,
          0.42,
          0.42,
          0.42,
          0.43,
          0.43,
          0.4,
          0.4,
          0.4,
          0.39,
          0.39,
          0.39,
          0.39,
          0.4,
          0.4,
          0.4,
          0.4,
          0.39,
          0.39,
          0.39,
          0.4,
          0.4,
          0.4,
          0.4,
          0.39,
          0.39,
          0.39,
          0.39,
          0.39,
          0.39,
          0.4,
          0.4,
          0.4,
          0.4,
          0.39,
          0.39,
          0.39,
          0.39,
          0.4,
          0.39,
          0.39,
          0.39,
          0.39,
          0.39,
          0.39,
          0.39,
          0.4,
          0.4,
          0.4,
          0.4,
          0.39,
          0.39,
          0.39,
          0.39,
          0.4,
          0.4,
          0.4,
          0.4,
          0.4,
          0.4,
          0.39,
          0.39,
          0.4,
          0.4,
          0.4,
          0.4,
          0.4,
          0.4,
          0.4,
          0.4,
          0.42,
          0.42,
          0.41,
          0.41,
          0.41,
          0.41,
          0.41,
          0.41,
          0.42,
          0.42,
          0.42,
          0.42,
          0.42,
          0.42,
          0.42,
          0.42,
          0.42,
          0.42,
          0.37,
          0.37,
          0.37,
          0.37,
          0.37,
          0.37,
          0.37,
          0.37,
          0.37,
          0.37,
          0.37,
          0.37,
          0.36,
          0.36,
          0.36,
          0.36,
          0.36,
          0.36,
          0.36,
          0.36,
          0.36,
          0.36,
          0.36,
          0.36,
          0.37,
          0.36,
          0.36,
          0.36,
          0.37,
          0.37,
          0.36,
          0.36,
          0.34,
          0.34,
          0.34,
          0.34,
          0.34,
          0.34,
          0.33,
          0.34,
          0.34,
          0.34,
          0.35,
          0.34,
          0.34,
          0.34,
          0.34,
          0.34,
          0.34,
          0.34,
          0.34,
          0.34,
          0.34,
          0.34,
          0.34,
          0.34,
          0.33,
          0.33,
          0.33,
          0.33,
          0.33,
          0.34,
          0.34,
          0.34,
          0.34,
          0.34,
          0.33,
          0.33,
          0.33,
          0.33,
          0.34,
          0.34,
          0.35,
          0.34,
          0.34,
          0.34,
          0.34,
          0.34,
          0.34,
          0.34,
          0.34,
          0.34,
          0.35,
          0.34,
          0.34,
          0.34,
          0.34,
          0.34,
          0.34,
          0.34,
          0.34,
          0.34,
          0.35,
          0.35,
          0.33,
          0.33,
          0.33,
          0.33,
          0.33,
          0.33,
          0.33,
          0.33,
          0.33,
          0.34,
          0.34,
          0.33,
          0.33,
          0.33,
          0.33,
          0.33,
          0.33,
          0.34,
          0.34,
          0.34,
          0.34,
          0.34,
          0.34,
          0.34,
          0.32,
          0.32,
          0.32,
          0.32,
          0.32,
          0.32,
          0.31,
          0.32,
          0.32,
          0.32,
          0.32,
          0.32,
          0.33,
          0.32,
          0.32,
          0.32,
          0.32,
          0.32,
          0.32,
          0.32,
          0.32,
          0.32,
          0.32,
          0.32
         ]
        }
       ],
       "layout": {
        "autosize": true,
        "template": {
         "data": {
          "bar": [
           {
            "error_x": {
             "color": "#2a3f5f"
            },
            "error_y": {
             "color": "#2a3f5f"
            },
            "marker": {
             "line": {
              "color": "#E5ECF6",
              "width": 0.5
             },
             "pattern": {
              "fillmode": "overlay",
              "size": 10,
              "solidity": 0.2
             }
            },
            "type": "bar"
           }
          ],
          "barpolar": [
           {
            "marker": {
             "line": {
              "color": "#E5ECF6",
              "width": 0.5
             },
             "pattern": {
              "fillmode": "overlay",
              "size": 10,
              "solidity": 0.2
             }
            },
            "type": "barpolar"
           }
          ],
          "carpet": [
           {
            "aaxis": {
             "endlinecolor": "#2a3f5f",
             "gridcolor": "white",
             "linecolor": "white",
             "minorgridcolor": "white",
             "startlinecolor": "#2a3f5f"
            },
            "baxis": {
             "endlinecolor": "#2a3f5f",
             "gridcolor": "white",
             "linecolor": "white",
             "minorgridcolor": "white",
             "startlinecolor": "#2a3f5f"
            },
            "type": "carpet"
           }
          ],
          "choropleth": [
           {
            "colorbar": {
             "outlinewidth": 0,
             "ticks": ""
            },
            "type": "choropleth"
           }
          ],
          "contour": [
           {
            "colorbar": {
             "outlinewidth": 0,
             "ticks": ""
            },
            "colorscale": [
             [
              0,
              "#0d0887"
             ],
             [
              0.1111111111111111,
              "#46039f"
             ],
             [
              0.2222222222222222,
              "#7201a8"
             ],
             [
              0.3333333333333333,
              "#9c179e"
             ],
             [
              0.4444444444444444,
              "#bd3786"
             ],
             [
              0.5555555555555556,
              "#d8576b"
             ],
             [
              0.6666666666666666,
              "#ed7953"
             ],
             [
              0.7777777777777778,
              "#fb9f3a"
             ],
             [
              0.8888888888888888,
              "#fdca26"
             ],
             [
              1,
              "#f0f921"
             ]
            ],
            "type": "contour"
           }
          ],
          "contourcarpet": [
           {
            "colorbar": {
             "outlinewidth": 0,
             "ticks": ""
            },
            "type": "contourcarpet"
           }
          ],
          "heatmap": [
           {
            "colorbar": {
             "outlinewidth": 0,
             "ticks": ""
            },
            "colorscale": [
             [
              0,
              "#0d0887"
             ],
             [
              0.1111111111111111,
              "#46039f"
             ],
             [
              0.2222222222222222,
              "#7201a8"
             ],
             [
              0.3333333333333333,
              "#9c179e"
             ],
             [
              0.4444444444444444,
              "#bd3786"
             ],
             [
              0.5555555555555556,
              "#d8576b"
             ],
             [
              0.6666666666666666,
              "#ed7953"
             ],
             [
              0.7777777777777778,
              "#fb9f3a"
             ],
             [
              0.8888888888888888,
              "#fdca26"
             ],
             [
              1,
              "#f0f921"
             ]
            ],
            "type": "heatmap"
           }
          ],
          "heatmapgl": [
           {
            "colorbar": {
             "outlinewidth": 0,
             "ticks": ""
            },
            "colorscale": [
             [
              0,
              "#0d0887"
             ],
             [
              0.1111111111111111,
              "#46039f"
             ],
             [
              0.2222222222222222,
              "#7201a8"
             ],
             [
              0.3333333333333333,
              "#9c179e"
             ],
             [
              0.4444444444444444,
              "#bd3786"
             ],
             [
              0.5555555555555556,
              "#d8576b"
             ],
             [
              0.6666666666666666,
              "#ed7953"
             ],
             [
              0.7777777777777778,
              "#fb9f3a"
             ],
             [
              0.8888888888888888,
              "#fdca26"
             ],
             [
              1,
              "#f0f921"
             ]
            ],
            "type": "heatmapgl"
           }
          ],
          "histogram": [
           {
            "marker": {
             "pattern": {
              "fillmode": "overlay",
              "size": 10,
              "solidity": 0.2
             }
            },
            "type": "histogram"
           }
          ],
          "histogram2d": [
           {
            "colorbar": {
             "outlinewidth": 0,
             "ticks": ""
            },
            "colorscale": [
             [
              0,
              "#0d0887"
             ],
             [
              0.1111111111111111,
              "#46039f"
             ],
             [
              0.2222222222222222,
              "#7201a8"
             ],
             [
              0.3333333333333333,
              "#9c179e"
             ],
             [
              0.4444444444444444,
              "#bd3786"
             ],
             [
              0.5555555555555556,
              "#d8576b"
             ],
             [
              0.6666666666666666,
              "#ed7953"
             ],
             [
              0.7777777777777778,
              "#fb9f3a"
             ],
             [
              0.8888888888888888,
              "#fdca26"
             ],
             [
              1,
              "#f0f921"
             ]
            ],
            "type": "histogram2d"
           }
          ],
          "histogram2dcontour": [
           {
            "colorbar": {
             "outlinewidth": 0,
             "ticks": ""
            },
            "colorscale": [
             [
              0,
              "#0d0887"
             ],
             [
              0.1111111111111111,
              "#46039f"
             ],
             [
              0.2222222222222222,
              "#7201a8"
             ],
             [
              0.3333333333333333,
              "#9c179e"
             ],
             [
              0.4444444444444444,
              "#bd3786"
             ],
             [
              0.5555555555555556,
              "#d8576b"
             ],
             [
              0.6666666666666666,
              "#ed7953"
             ],
             [
              0.7777777777777778,
              "#fb9f3a"
             ],
             [
              0.8888888888888888,
              "#fdca26"
             ],
             [
              1,
              "#f0f921"
             ]
            ],
            "type": "histogram2dcontour"
           }
          ],
          "mesh3d": [
           {
            "colorbar": {
             "outlinewidth": 0,
             "ticks": ""
            },
            "type": "mesh3d"
           }
          ],
          "parcoords": [
           {
            "line": {
             "colorbar": {
              "outlinewidth": 0,
              "ticks": ""
             }
            },
            "type": "parcoords"
           }
          ],
          "pie": [
           {
            "automargin": true,
            "type": "pie"
           }
          ],
          "scatter": [
           {
            "marker": {
             "colorbar": {
              "outlinewidth": 0,
              "ticks": ""
             }
            },
            "type": "scatter"
           }
          ],
          "scatter3d": [
           {
            "line": {
             "colorbar": {
              "outlinewidth": 0,
              "ticks": ""
             }
            },
            "marker": {
             "colorbar": {
              "outlinewidth": 0,
              "ticks": ""
             }
            },
            "type": "scatter3d"
           }
          ],
          "scattercarpet": [
           {
            "marker": {
             "colorbar": {
              "outlinewidth": 0,
              "ticks": ""
             }
            },
            "type": "scattercarpet"
           }
          ],
          "scattergeo": [
           {
            "marker": {
             "colorbar": {
              "outlinewidth": 0,
              "ticks": ""
             }
            },
            "type": "scattergeo"
           }
          ],
          "scattergl": [
           {
            "marker": {
             "colorbar": {
              "outlinewidth": 0,
              "ticks": ""
             }
            },
            "type": "scattergl"
           }
          ],
          "scattermapbox": [
           {
            "marker": {
             "colorbar": {
              "outlinewidth": 0,
              "ticks": ""
             }
            },
            "type": "scattermapbox"
           }
          ],
          "scatterpolar": [
           {
            "marker": {
             "colorbar": {
              "outlinewidth": 0,
              "ticks": ""
             }
            },
            "type": "scatterpolar"
           }
          ],
          "scatterpolargl": [
           {
            "marker": {
             "colorbar": {
              "outlinewidth": 0,
              "ticks": ""
             }
            },
            "type": "scatterpolargl"
           }
          ],
          "scatterternary": [
           {
            "marker": {
             "colorbar": {
              "outlinewidth": 0,
              "ticks": ""
             }
            },
            "type": "scatterternary"
           }
          ],
          "surface": [
           {
            "colorbar": {
             "outlinewidth": 0,
             "ticks": ""
            },
            "colorscale": [
             [
              0,
              "#0d0887"
             ],
             [
              0.1111111111111111,
              "#46039f"
             ],
             [
              0.2222222222222222,
              "#7201a8"
             ],
             [
              0.3333333333333333,
              "#9c179e"
             ],
             [
              0.4444444444444444,
              "#bd3786"
             ],
             [
              0.5555555555555556,
              "#d8576b"
             ],
             [
              0.6666666666666666,
              "#ed7953"
             ],
             [
              0.7777777777777778,
              "#fb9f3a"
             ],
             [
              0.8888888888888888,
              "#fdca26"
             ],
             [
              1,
              "#f0f921"
             ]
            ],
            "type": "surface"
           }
          ],
          "table": [
           {
            "cells": {
             "fill": {
              "color": "#EBF0F8"
             },
             "line": {
              "color": "white"
             }
            },
            "header": {
             "fill": {
              "color": "#C8D4E3"
             },
             "line": {
              "color": "white"
             }
            },
            "type": "table"
           }
          ]
         },
         "layout": {
          "annotationdefaults": {
           "arrowcolor": "#2a3f5f",
           "arrowhead": 0,
           "arrowwidth": 1
          },
          "autotypenumbers": "strict",
          "coloraxis": {
           "colorbar": {
            "outlinewidth": 0,
            "ticks": ""
           }
          },
          "colorscale": {
           "diverging": [
            [
             0,
             "#8e0152"
            ],
            [
             0.1,
             "#c51b7d"
            ],
            [
             0.2,
             "#de77ae"
            ],
            [
             0.3,
             "#f1b6da"
            ],
            [
             0.4,
             "#fde0ef"
            ],
            [
             0.5,
             "#f7f7f7"
            ],
            [
             0.6,
             "#e6f5d0"
            ],
            [
             0.7,
             "#b8e186"
            ],
            [
             0.8,
             "#7fbc41"
            ],
            [
             0.9,
             "#4d9221"
            ],
            [
             1,
             "#276419"
            ]
           ],
           "sequential": [
            [
             0,
             "#0d0887"
            ],
            [
             0.1111111111111111,
             "#46039f"
            ],
            [
             0.2222222222222222,
             "#7201a8"
            ],
            [
             0.3333333333333333,
             "#9c179e"
            ],
            [
             0.4444444444444444,
             "#bd3786"
            ],
            [
             0.5555555555555556,
             "#d8576b"
            ],
            [
             0.6666666666666666,
             "#ed7953"
            ],
            [
             0.7777777777777778,
             "#fb9f3a"
            ],
            [
             0.8888888888888888,
             "#fdca26"
            ],
            [
             1,
             "#f0f921"
            ]
           ],
           "sequentialminus": [
            [
             0,
             "#0d0887"
            ],
            [
             0.1111111111111111,
             "#46039f"
            ],
            [
             0.2222222222222222,
             "#7201a8"
            ],
            [
             0.3333333333333333,
             "#9c179e"
            ],
            [
             0.4444444444444444,
             "#bd3786"
            ],
            [
             0.5555555555555556,
             "#d8576b"
            ],
            [
             0.6666666666666666,
             "#ed7953"
            ],
            [
             0.7777777777777778,
             "#fb9f3a"
            ],
            [
             0.8888888888888888,
             "#fdca26"
            ],
            [
             1,
             "#f0f921"
            ]
           ]
          },
          "colorway": [
           "#636efa",
           "#EF553B",
           "#00cc96",
           "#ab63fa",
           "#FFA15A",
           "#19d3f3",
           "#FF6692",
           "#B6E880",
           "#FF97FF",
           "#FECB52"
          ],
          "font": {
           "color": "#2a3f5f"
          },
          "geo": {
           "bgcolor": "white",
           "lakecolor": "white",
           "landcolor": "#E5ECF6",
           "showlakes": true,
           "showland": true,
           "subunitcolor": "white"
          },
          "hoverlabel": {
           "align": "left"
          },
          "hovermode": "closest",
          "mapbox": {
           "style": "light"
          },
          "paper_bgcolor": "white",
          "plot_bgcolor": "#E5ECF6",
          "polar": {
           "angularaxis": {
            "gridcolor": "white",
            "linecolor": "white",
            "ticks": ""
           },
           "bgcolor": "#E5ECF6",
           "radialaxis": {
            "gridcolor": "white",
            "linecolor": "white",
            "ticks": ""
           }
          },
          "scene": {
           "xaxis": {
            "backgroundcolor": "#E5ECF6",
            "gridcolor": "white",
            "gridwidth": 2,
            "linecolor": "white",
            "showbackground": true,
            "ticks": "",
            "zerolinecolor": "white"
           },
           "yaxis": {
            "backgroundcolor": "#E5ECF6",
            "gridcolor": "white",
            "gridwidth": 2,
            "linecolor": "white",
            "showbackground": true,
            "ticks": "",
            "zerolinecolor": "white"
           },
           "zaxis": {
            "backgroundcolor": "#E5ECF6",
            "gridcolor": "white",
            "gridwidth": 2,
            "linecolor": "white",
            "showbackground": true,
            "ticks": "",
            "zerolinecolor": "white"
           }
          },
          "shapedefaults": {
           "line": {
            "color": "#2a3f5f"
           }
          },
          "ternary": {
           "aaxis": {
            "gridcolor": "white",
            "linecolor": "white",
            "ticks": ""
           },
           "baxis": {
            "gridcolor": "white",
            "linecolor": "white",
            "ticks": ""
           },
           "bgcolor": "#E5ECF6",
           "caxis": {
            "gridcolor": "white",
            "linecolor": "white",
            "ticks": ""
           }
          },
          "title": {
           "x": 0.05
          },
          "xaxis": {
           "automargin": true,
           "gridcolor": "white",
           "linecolor": "white",
           "ticks": "",
           "title": {
            "standoff": 15
           },
           "zerolinecolor": "white",
           "zerolinewidth": 2
          },
          "yaxis": {
           "automargin": true,
           "gridcolor": "white",
           "linecolor": "white",
           "ticks": "",
           "title": {
            "standoff": 15
           },
           "zerolinecolor": "white",
           "zerolinewidth": 2
          }
         }
        },
        "xaxis": {
         "autorange": true,
         "range": [
          "2022-04-06 10:00",
          "2022-04-12 16:00"
         ],
         "rangeslider": {
          "visible": false,
          "yaxis": {}
         },
         "showspikes": false,
         "type": "date"
        },
        "yaxis": {
         "autorange": true,
         "range": [
          0.3005555555555556,
          0.4894444444444444
         ],
         "showspikes": false,
         "type": "linear"
        }
       }
      },
      "image/png": "[encoded data removed]",
      "text/html": [
       "<div>                            <div id=\"d09ce82c-286e-494a-b99e-7c60ee086537\" class=\"plotly-graph-div\" style=\"height:525px; width:100%;\"></div>            <script type=\"text/javascript\">                require([\"plotly\"], function(Plotly) {                    window.PLOTLYENV=window.PLOTLYENV || {};                                    if (document.getElementById(\"d09ce82c-286e-494a-b99e-7c60ee086537\")) {                    Plotly.newPlot(                        \"d09ce82c-286e-494a-b99e-7c60ee086537\",                        [{\"x\":[\"2022-04-06T10:00:00\",\"2022-04-06T10:00:00\",\"2022-04-06T10:00:00\",\"2022-04-06T10:00:00\",\"2022-04-06T10:00:00\",\"2022-04-06T10:00:00\",\"2022-04-06T10:00:00\",\"2022-04-06T10:00:00\",\"2022-04-06T10:00:00\",\"2022-04-06T10:00:00\",\"2022-04-06T10:00:00\",\"2022-04-06T10:00:00\",\"2022-04-06T11:00:00\",\"2022-04-06T11:00:00\",\"2022-04-06T11:00:00\",\"2022-04-06T11:00:00\",\"2022-04-06T11:00:00\",\"2022-04-06T11:00:00\",\"2022-04-06T11:00:00\",\"2022-04-06T11:00:00\",\"2022-04-06T11:00:00\",\"2022-04-06T11:00:00\",\"2022-04-06T11:00:00\",\"2022-04-06T11:00:00\",\"2022-04-06T11:00:00\",\"2022-04-06T11:00:00\",\"2022-04-06T12:00:00\",\"2022-04-06T12:00:00\",\"2022-04-06T12:00:00\",\"2022-04-06T12:00:00\",\"2022-04-06T12:00:00\",\"2022-04-06T12:00:00\",\"2022-04-06T12:00:00\",\"2022-04-06T12:00:00\",\"2022-04-06T12:00:00\",\"2022-04-06T12:00:00\",\"2022-04-06T12:00:00\",\"2022-04-06T12:00:00\",\"2022-04-06T12:00:00\",\"2022-04-06T12:00:00\",\"2022-04-06T13:00:00\",\"2022-04-06T13:00:00\",\"2022-04-06T13:00:00\",\"2022-04-06T13:00:00\",\"2022-04-06T13:00:00\",\"2022-04-06T13:00:00\",\"2022-04-06T13:00:00\",\"2022-04-06T13:00:00\",\"2022-04-06T13:00:00\",\"2022-04-06T13:00:00\",\"2022-04-06T13:00:00\",\"2022-04-06T13:00:00\",\"2022-04-06T13:00:00\",\"2022-04-06T13:00:00\",\"2022-04-06T13:00:00\",\"2022-04-06T13:00:00\",\"2022-04-06T13:00:00\",\"2022-04-06T13:00:00\",\"2022-04-06T14:00:00\",\"2022-04-06T14:00:00\",\"2022-04-06T14:00:00\",\"2022-04-06T14:00:00\",\"2022-04-06T14:00:00\",\"2022-04-06T14:00:00\",\"2022-04-06T14:00:00\",\"2022-04-06T14:00:00\",\"2022-04-06T14:00:00\",\"2022-04-06T14:00:00\",\"2022-04-06T14:00:00\",\"2022-04-06T14:00:00\",\"2022-04-06T14:00:00\",\"2022-04-06T14:00:00\",\"2022-04-06T14:00:00\",\"2022-04-06T14:00:00\",\"2022-04-06T14:00:00\",\"2022-04-06T14:00:00\",\"2022-04-06T14:00:00\",\"2022-04-06T14:00:00\",\"2022-04-06T15:00:00\",\"2022-04-06T15:00:00\",\"2022-04-06T15:00:00\",\"2022-04-06T15:00:00\",\"2022-04-06T15:00:00\",\"2022-04-06T15:00:00\",\"2022-04-06T15:00:00\",\"2022-04-06T15:00:00\",\"2022-04-06T15:00:00\",\"2022-04-06T15:00:00\",\"2022-04-06T15:00:00\",\"2022-04-06T15:00:00\",\"2022-04-06T15:00:00\",\"2022-04-06T15:00:00\",\"2022-04-06T15:00:00\",\"2022-04-06T15:00:00\",\"2022-04-06T15:00:00\",\"2022-04-06T15:00:00\",\"2022-04-06T15:00:00\",\"2022-04-06T15:00:00\",\"2022-04-06T15:00:00\",\"2022-04-06T15:00:00\",\"2022-04-06T16:00:00\",\"2022-04-06T16:00:00\",\"2022-04-06T16:00:00\",\"2022-04-06T16:00:00\",\"2022-04-06T16:00:00\",\"2022-04-06T16:00:00\",\"2022-04-06T16:00:00\",\"2022-04-06T16:00:00\",\"2022-04-06T16:00:00\",\"2022-04-06T16:00:00\",\"2022-04-06T16:00:00\",\"2022-04-06T16:00:00\",\"2022-04-06T16:00:00\",\"2022-04-06T16:00:00\",\"2022-04-06T16:00:00\",\"2022-04-06T16:00:00\",\"2022-04-06T16:00:00\",\"2022-04-06T16:00:00\",\"2022-04-06T16:00:00\",\"2022-04-06T16:00:00\",\"2022-04-06T16:00:00\",\"2022-04-06T16:00:00\",\"2022-04-07T10:00:00\",\"2022-04-07T10:00:00\",\"2022-04-07T10:00:00\",\"2022-04-07T10:00:00\",\"2022-04-07T10:00:00\",\"2022-04-07T10:00:00\",\"2022-04-07T10:00:00\",\"2022-04-07T10:00:00\",\"2022-04-07T10:00:00\",\"2022-04-07T10:00:00\",\"2022-04-07T10:00:00\",\"2022-04-07T10:00:00\",\"2022-04-07T11:00:00\",\"2022-04-07T11:00:00\",\"2022-04-07T11:00:00\",\"2022-04-07T11:00:00\",\"2022-04-07T11:00:00\",\"2022-04-07T11:00:00\",\"2022-04-07T11:00:00\",\"2022-04-07T11:00:00\",\"2022-04-07T11:00:00\",\"2022-04-07T11:00:00\",\"2022-04-07T11:00:00\",\"2022-04-07T11:00:00\",\"2022-04-07T11:00:00\",\"2022-04-07T11:00:00\",\"2022-04-07T11:00:00\",\"2022-04-07T11:00:00\",\"2022-04-07T11:00:00\",\"2022-04-07T11:00:00\",\"2022-04-07T12:00:00\",\"2022-04-07T12:00:00\",\"2022-04-07T12:00:00\",\"2022-04-07T12:00:00\",\"2022-04-07T12:00:00\",\"2022-04-07T12:00:00\",\"2022-04-07T12:00:00\",\"2022-04-07T12:00:00\",\"2022-04-07T12:00:00\",\"2022-04-07T12:00:00\",\"2022-04-07T12:00:00\",\"2022-04-07T12:00:00\",\"2022-04-07T12:00:00\",\"2022-04-07T12:00:00\",\"2022-04-07T12:00:00\",\"2022-04-07T12:00:00\",\"2022-04-07T12:00:00\",\"2022-04-07T12:00:00\",\"2022-04-07T12:00:00\",\"2022-04-07T12:00:00\",\"2022-04-07T12:00:00\",\"2022-04-07T12:00:00\",\"2022-04-07T13:00:00\",\"2022-04-07T13:00:00\",\"2022-04-07T13:00:00\",\"2022-04-07T13:00:00\",\"2022-04-07T13:00:00\",\"2022-04-07T13:00:00\",\"2022-04-07T13:00:00\",\"2022-04-07T13:00:00\",\"2022-04-07T13:00:00\",\"2022-04-07T13:00:00\",\"2022-04-07T13:00:00\",\"2022-04-07T13:00:00\",\"2022-04-07T13:00:00\",\"2022-04-07T13:00:00\",\"2022-04-07T13:00:00\",\"2022-04-07T13:00:00\",\"2022-04-07T13:00:00\",\"2022-04-07T13:00:00\",\"2022-04-07T13:00:00\",\"2022-04-07T13:00:00\",\"2022-04-07T13:00:00\",\"2022-04-07T13:00:00\",\"2022-04-07T13:00:00\",\"2022-04-07T13:00:00\",\"2022-04-07T14:00:00\",\"2022-04-07T14:00:00\",\"2022-04-07T14:00:00\",\"2022-04-07T14:00:00\",\"2022-04-07T14:00:00\",\"2022-04-07T14:00:00\",\"2022-04-07T14:00:00\",\"2022-04-07T14:00:00\",\"2022-04-07T14:00:00\",\"2022-04-07T14:00:00\",\"2022-04-07T14:00:00\",\"2022-04-07T14:00:00\",\"2022-04-07T14:00:00\",\"2022-04-07T14:00:00\",\"2022-04-07T14:00:00\",\"2022-04-07T14:00:00\",\"2022-04-07T14:00:00\",\"2022-04-07T14:00:00\",\"2022-04-07T14:00:00\",\"2022-04-07T14:00:00\",\"2022-04-07T14:00:00\",\"2022-04-07T14:00:00\",\"2022-04-07T14:00:00\",\"2022-04-07T14:00:00\",\"2022-04-07T14:00:00\",\"2022-04-07T14:00:00\",\"2022-04-07T15:00:00\",\"2022-04-07T15:00:00\",\"2022-04-07T15:00:00\",\"2022-04-07T15:00:00\",\"2022-04-07T15:00:00\",\"2022-04-07T15:00:00\",\"2022-04-07T15:00:00\",\"2022-04-07T15:00:00\",\"2022-04-07T15:00:00\",\"2022-04-07T15:00:00\",\"2022-04-07T15:00:00\",\"2022-04-07T15:00:00\",\"2022-04-07T15:00:00\",\"2022-04-07T15:00:00\",\"2022-04-07T15:00:00\",\"2022-04-07T15:00:00\",\"2022-04-07T15:00:00\",\"2022-04-07T15:00:00\",\"2022-04-07T15:00:00\",\"2022-04-07T15:00:00\",\"2022-04-07T15:00:00\",\"2022-04-07T15:00:00\",\"2022-04-07T15:00:00\",\"2022-04-07T15:00:00\",\"2022-04-07T15:00:00\",\"2022-04-07T15:00:00\",\"2022-04-07T15:00:00\",\"2022-04-07T15:00:00\",\"2022-04-07T15:00:00\",\"2022-04-07T15:00:00\",\"2022-04-07T16:00:00\",\"2022-04-07T16:00:00\",\"2022-04-07T16:00:00\",\"2022-04-07T16:00:00\",\"2022-04-07T16:00:00\",\"2022-04-07T16:00:00\",\"2022-04-07T16:00:00\",\"2022-04-07T16:00:00\",\"2022-04-07T16:00:00\",\"2022-04-07T16:00:00\",\"2022-04-07T16:00:00\",\"2022-04-07T16:00:00\",\"2022-04-07T16:00:00\",\"2022-04-07T16:00:00\",\"2022-04-07T16:00:00\",\"2022-04-07T16:00:00\",\"2022-04-07T16:00:00\",\"2022-04-07T16:00:00\",\"2022-04-07T16:00:00\",\"2022-04-07T16:00:00\",\"2022-04-07T16:00:00\",\"2022-04-07T16:00:00\",\"2022-04-07T16:00:00\",\"2022-04-07T16:00:00\",\"2022-04-07T16:00:00\",\"2022-04-07T16:00:00\",\"2022-04-07T16:00:00\",\"2022-04-07T16:00:00\",\"2022-04-07T16:00:00\",\"2022-04-07T16:00:00\",\"2022-04-08T10:00:00\",\"2022-04-08T10:00:00\",\"2022-04-08T10:00:00\",\"2022-04-08T10:00:00\",\"2022-04-08T10:00:00\",\"2022-04-08T10:00:00\",\"2022-04-08T10:00:00\",\"2022-04-08T10:00:00\",\"2022-04-08T10:00:00\",\"2022-04-08T10:00:00\",\"2022-04-08T10:00:00\",\"2022-04-08T10:00:00\",\"2022-04-08T11:00:00\",\"2022-04-08T11:00:00\",\"2022-04-08T11:00:00\",\"2022-04-08T11:00:00\",\"2022-04-08T11:00:00\",\"2022-04-08T11:00:00\",\"2022-04-08T11:00:00\",\"2022-04-08T11:00:00\",\"2022-04-08T11:00:00\",\"2022-04-08T11:00:00\",\"2022-04-08T11:00:00\",\"2022-04-08T11:00:00\",\"2022-04-08T12:00:00\",\"2022-04-08T12:00:00\",\"2022-04-08T12:00:00\",\"2022-04-08T12:00:00\",\"2022-04-08T12:00:00\",\"2022-04-08T12:00:00\",\"2022-04-08T12:00:00\",\"2022-04-08T12:00:00\",\"2022-04-08T12:00:00\",\"2022-04-08T12:00:00\",\"2022-04-08T12:00:00\",\"2022-04-08T12:00:00\",\"2022-04-08T12:00:00\",\"2022-04-08T12:00:00\",\"2022-04-08T13:00:00\",\"2022-04-08T13:00:00\",\"2022-04-08T13:00:00\",\"2022-04-08T13:00:00\",\"2022-04-08T13:00:00\",\"2022-04-08T13:00:00\",\"2022-04-08T13:00:00\",\"2022-04-08T13:00:00\",\"2022-04-08T13:00:00\",\"2022-04-08T13:00:00\",\"2022-04-08T13:00:00\",\"2022-04-08T13:00:00\",\"2022-04-08T13:00:00\",\"2022-04-08T13:00:00\",\"2022-04-08T14:00:00\",\"2022-04-08T14:00:00\",\"2022-04-08T14:00:00\",\"2022-04-08T14:00:00\",\"2022-04-08T14:00:00\",\"2022-04-08T14:00:00\",\"2022-04-08T14:00:00\",\"2022-04-08T14:00:00\",\"2022-04-08T14:00:00\",\"2022-04-08T14:00:00\",\"2022-04-08T14:00:00\",\"2022-04-08T14:00:00\",\"2022-04-08T14:00:00\",\"2022-04-08T14:00:00\",\"2022-04-08T14:00:00\",\"2022-04-08T14:00:00\",\"2022-04-08T15:00:00\",\"2022-04-08T15:00:00\",\"2022-04-08T15:00:00\",\"2022-04-08T15:00:00\",\"2022-04-08T15:00:00\",\"2022-04-08T15:00:00\",\"2022-04-08T15:00:00\",\"2022-04-08T15:00:00\",\"2022-04-08T15:00:00\",\"2022-04-08T15:00:00\",\"2022-04-08T15:00:00\",\"2022-04-08T15:00:00\",\"2022-04-08T15:00:00\",\"2022-04-08T15:00:00\",\"2022-04-08T15:00:00\",\"2022-04-08T15:00:00\",\"2022-04-08T16:00:00\",\"2022-04-08T16:00:00\",\"2022-04-08T16:00:00\",\"2022-04-08T16:00:00\",\"2022-04-08T16:00:00\",\"2022-04-08T16:00:00\",\"2022-04-08T16:00:00\",\"2022-04-08T16:00:00\",\"2022-04-08T16:00:00\",\"2022-04-08T16:00:00\",\"2022-04-08T16:00:00\",\"2022-04-08T16:00:00\",\"2022-04-08T16:00:00\",\"2022-04-08T16:00:00\",\"2022-04-08T16:00:00\",\"2022-04-08T16:00:00\",\"2022-04-11T10:00:00\",\"2022-04-11T10:00:00\",\"2022-04-11T10:00:00\",\"2022-04-11T10:00:00\",\"2022-04-11T10:00:00\",\"2022-04-11T10:00:00\",\"2022-04-11T10:00:00\",\"2022-04-11T10:00:00\",\"2022-04-11T10:00:00\",\"2022-04-11T10:00:00\",\"2022-04-11T10:00:00\",\"2022-04-11T10:00:00\",\"2022-04-11T11:00:00\",\"2022-04-11T11:00:00\",\"2022-04-11T11:00:00\",\"2022-04-11T11:00:00\",\"2022-04-11T11:00:00\",\"2022-04-11T11:00:00\",\"2022-04-11T11:00:00\",\"2022-04-11T11:00:00\",\"2022-04-11T11:00:00\",\"2022-04-11T11:00:00\",\"2022-04-11T11:00:00\",\"2022-04-11T11:00:00\",\"2022-04-11T11:00:00\",\"2022-04-11T11:00:00\",\"2022-04-11T12:00:00\",\"2022-04-11T12:00:00\",\"2022-04-11T12:00:00\",\"2022-04-11T12:00:00\",\"2022-04-11T12:00:00\",\"2022-04-11T12:00:00\",\"2022-04-11T12:00:00\",\"2022-04-11T12:00:00\",\"2022-04-11T12:00:00\",\"2022-04-11T12:00:00\",\"2022-04-11T12:00:00\",\"2022-04-11T12:00:00\",\"2022-04-11T12:00:00\",\"2022-04-11T12:00:00\",\"2022-04-11T12:00:00\",\"2022-04-11T12:00:00\",\"2022-04-11T13:00:00\",\"2022-04-11T13:00:00\",\"2022-04-11T13:00:00\",\"2022-04-11T13:00:00\",\"2022-04-11T13:00:00\",\"2022-04-11T13:00:00\",\"2022-04-11T13:00:00\",\"2022-04-11T13:00:00\",\"2022-04-11T13:00:00\",\"2022-04-11T13:00:00\",\"2022-04-11T13:00:00\",\"2022-04-11T13:00:00\",\"2022-04-11T13:00:00\",\"2022-04-11T13:00:00\",\"2022-04-11T13:00:00\",\"2022-04-11T13:00:00\",\"2022-04-11T14:00:00\",\"2022-04-11T14:00:00\",\"2022-04-11T14:00:00\",\"2022-04-11T14:00:00\",\"2022-04-11T14:00:00\",\"2022-04-11T14:00:00\",\"2022-04-11T14:00:00\",\"2022-04-11T14:00:00\",\"2022-04-11T14:00:00\",\"2022-04-11T14:00:00\",\"2022-04-11T14:00:00\",\"2022-04-11T14:00:00\",\"2022-04-11T14:00:00\",\"2022-04-11T14:00:00\",\"2022-04-11T14:00:00\",\"2022-04-11T14:00:00\",\"2022-04-11T15:00:00\",\"2022-04-11T15:00:00\",\"2022-04-11T15:00:00\",\"2022-04-11T15:00:00\",\"2022-04-11T15:00:00\",\"2022-04-11T15:00:00\",\"2022-04-11T15:00:00\",\"2022-04-11T15:00:00\",\"2022-04-11T15:00:00\",\"2022-04-11T15:00:00\",\"2022-04-11T15:00:00\",\"2022-04-11T15:00:00\",\"2022-04-11T15:00:00\",\"2022-04-11T15:00:00\",\"2022-04-11T15:00:00\",\"2022-04-11T15:00:00\",\"2022-04-11T16:00:00\",\"2022-04-11T16:00:00\",\"2022-04-11T16:00:00\",\"2022-04-11T16:00:00\",\"2022-04-11T16:00:00\",\"2022-04-11T16:00:00\",\"2022-04-11T16:00:00\",\"2022-04-11T16:00:00\",\"2022-04-11T16:00:00\",\"2022-04-11T16:00:00\",\"2022-04-11T16:00:00\",\"2022-04-11T16:00:00\",\"2022-04-11T16:00:00\",\"2022-04-11T16:00:00\",\"2022-04-11T16:00:00\",\"2022-04-11T16:00:00\",\"2022-04-11T16:00:00\",\"2022-04-11T16:00:00\",\"2022-04-12T10:00:00\",\"2022-04-12T10:00:00\",\"2022-04-12T10:00:00\",\"2022-04-12T10:00:00\",\"2022-04-12T10:00:00\",\"2022-04-12T10:00:00\",\"2022-04-12T10:00:00\",\"2022-04-12T10:00:00\",\"2022-04-12T10:00:00\",\"2022-04-12T10:00:00\",\"2022-04-12T10:00:00\",\"2022-04-12T10:00:00\",\"2022-04-12T11:00:00\",\"2022-04-12T11:00:00\",\"2022-04-12T11:00:00\",\"2022-04-12T11:00:00\",\"2022-04-12T11:00:00\",\"2022-04-12T11:00:00\",\"2022-04-12T11:00:00\",\"2022-04-12T11:00:00\",\"2022-04-12T11:00:00\",\"2022-04-12T11:00:00\",\"2022-04-12T11:00:00\",\"2022-04-12T11:00:00\",\"2022-04-12T11:00:00\",\"2022-04-12T11:00:00\",\"2022-04-12T11:00:00\",\"2022-04-12T11:00:00\",\"2022-04-12T11:00:00\",\"2022-04-12T11:00:00\",\"2022-04-12T11:00:00\",\"2022-04-12T11:00:00\",\"2022-04-12T12:00:00\",\"2022-04-12T12:00:00\",\"2022-04-12T12:00:00\",\"2022-04-12T12:00:00\",\"2022-04-12T12:00:00\",\"2022-04-12T12:00:00\",\"2022-04-12T12:00:00\",\"2022-04-12T12:00:00\",\"2022-04-12T12:00:00\",\"2022-04-12T12:00:00\",\"2022-04-12T12:00:00\",\"2022-04-12T12:00:00\",\"2022-04-12T12:00:00\",\"2022-04-12T12:00:00\",\"2022-04-12T12:00:00\",\"2022-04-12T12:00:00\",\"2022-04-12T12:00:00\",\"2022-04-12T12:00:00\",\"2022-04-12T12:00:00\",\"2022-04-12T12:00:00\",\"2022-04-12T13:00:00\",\"2022-04-12T13:00:00\",\"2022-04-12T13:00:00\",\"2022-04-12T13:00:00\",\"2022-04-12T13:00:00\",\"2022-04-12T13:00:00\",\"2022-04-12T13:00:00\",\"2022-04-12T13:00:00\",\"2022-04-12T13:00:00\",\"2022-04-12T13:00:00\",\"2022-04-12T13:00:00\",\"2022-04-12T13:00:00\",\"2022-04-12T13:00:00\",\"2022-04-12T13:00:00\",\"2022-04-12T13:00:00\",\"2022-04-12T13:00:00\",\"2022-04-12T13:00:00\",\"2022-04-12T13:00:00\",\"2022-04-12T13:00:00\",\"2022-04-12T13:00:00\",\"2022-04-12T14:00:00\",\"2022-04-12T14:00:00\",\"2022-04-12T14:00:00\",\"2022-04-12T14:00:00\",\"2022-04-12T14:00:00\",\"2022-04-12T14:00:00\",\"2022-04-12T14:00:00\",\"2022-04-12T14:00:00\",\"2022-04-12T14:00:00\",\"2022-04-12T14:00:00\",\"2022-04-12T14:00:00\",\"2022-04-12T14:00:00\",\"2022-04-12T14:00:00\",\"2022-04-12T14:00:00\",\"2022-04-12T14:00:00\",\"2022-04-12T14:00:00\",\"2022-04-12T14:00:00\",\"2022-04-12T14:00:00\",\"2022-04-12T14:00:00\",\"2022-04-12T14:00:00\",\"2022-04-12T14:00:00\",\"2022-04-12T14:00:00\",\"2022-04-12T15:00:00\",\"2022-04-12T15:00:00\",\"2022-04-12T15:00:00\",\"2022-04-12T15:00:00\",\"2022-04-12T15:00:00\",\"2022-04-12T15:00:00\",\"2022-04-12T15:00:00\",\"2022-04-12T15:00:00\",\"2022-04-12T15:00:00\",\"2022-04-12T15:00:00\",\"2022-04-12T15:00:00\",\"2022-04-12T15:00:00\",\"2022-04-12T15:00:00\",\"2022-04-12T15:00:00\",\"2022-04-12T15:00:00\",\"2022-04-12T15:00:00\",\"2022-04-12T15:00:00\",\"2022-04-12T15:00:00\",\"2022-04-12T15:00:00\",\"2022-04-12T15:00:00\",\"2022-04-12T15:00:00\",\"2022-04-12T15:00:00\",\"2022-04-12T15:00:00\",\"2022-04-12T15:00:00\",\"2022-04-12T16:00:00\",\"2022-04-12T16:00:00\",\"2022-04-12T16:00:00\",\"2022-04-12T16:00:00\",\"2022-04-12T16:00:00\",\"2022-04-12T16:00:00\",\"2022-04-12T16:00:00\",\"2022-04-12T16:00:00\",\"2022-04-12T16:00:00\",\"2022-04-12T16:00:00\",\"2022-04-12T16:00:00\",\"2022-04-12T16:00:00\",\"2022-04-12T16:00:00\",\"2022-04-12T16:00:00\",\"2022-04-12T16:00:00\",\"2022-04-12T16:00:00\",\"2022-04-12T16:00:00\",\"2022-04-12T16:00:00\",\"2022-04-12T16:00:00\",\"2022-04-12T16:00:00\",\"2022-04-12T16:00:00\",\"2022-04-12T16:00:00\",\"2022-04-12T16:00:00\",\"2022-04-12T16:00:00\"],\"y\":[0.47,0.46,0.46,0.46,0.46,0.45,0.47,0.47,0.46,0.46,0.46,0.46,0.46,0.46,0.45,0.45,0.45,0.45,0.46,0.46,0.46,0.45,0.45,0.45,0.46,0.46,0.46,0.46,0.46,0.45,0.45,0.45,0.45,0.47,0.46,0.46,0.46,0.46,0.45,0.45,0.47,0.47,0.46,0.46,0.46,0.46,0.46,0.47,0.47,0.46,0.46,0.46,0.46,0.46,0.47,0.47,0.47,0.47,0.47,0.47,0.46,0.47,0.46,0.46,0.46,0.45,0.46,0.47,0.45,0.46,0.47,0.45,0.46,0.44,0.45,0.46,0.45,0.44,0.45,0.45,0.45,0.45,0.45,0.45,0.44,0.44,0.44,0.44,0.46,0.46,0.46,0.45,0.45,0.45,0.45,0.45,0.45,0.44,0.44,0.44,0.46,0.46,0.46,0.46,0.45,0.45,0.45,0.45,0.45,0.45,0.45,0.46,0.46,0.46,0.46,0.46,0.46,0.46,0.45,0.45,0.45,0.45,0.45,0.44,0.44,0.45,0.44,0.44,0.44,0.44,0.44,0.44,0.44,0.44,0.44,0.44,0.44,0.44,0.44,0.45,0.44,0.44,0.44,0.44,0.45,0.45,0.45,0.44,0.45,0.45,0.45,0.45,0.46,0.46,0.46,0.45,0.45,0.45,0.45,0.46,0.46,0.46,0.46,0.45,0.45,0.45,0.47,0.46,0.46,0.46,0.47,0.47,0.46,0.46,0.48,0.48,0.47,0.47,0.47,0.47,0.47,0.47,0.47,0.47,0.47,0.48,0.48,0.48,0.47,0.47,0.47,0.47,0.47,0.47,0.47,0.47,0.48,0.48,0.46,0.46,0.46,0.46,0.46,0.45,0.45,0.45,0.45,0.45,0.45,0.45,0.47,0.46,0.46,0.46,0.46,0.46,0.46,0.46,0.46,0.45,0.45,0.46,0.45,0.45,0.47,0.47,0.46,0.46,0.46,0.46,0.46,0.46,0.45,0.45,0.45,0.45,0.45,0.47,0.47,0.47,0.46,0.46,0.46,0.46,0.46,0.46,0.46,0.46,0.46,0.46,0.45,0.45,0.46,0.46,0.46,0.45,0.45,0.45,0.45,0.45,0.45,0.45,0.44,0.45,0.44,0.45,0.44,0.44,0.44,0.46,0.46,0.46,0.46,0.46,0.45,0.45,0.45,0.45,0.45,0.45,0.45,0.45,0.45,0.45,0.46,0.45,0.45,0.45,0.45,0.45,0.46,0.46,0.46,0.46,0.46,0.45,0.44,0.44,0.44,0.44,0.44,0.45,0.44,0.44,0.44,0.44,0.44,0.44,0.43,0.43,0.43,0.42,0.43,0.43,0.42,0.42,0.42,0.42,0.42,0.42,0.43,0.43,0.42,0.41,0.41,0.41,0.41,0.41,0.42,0.42,0.42,0.42,0.42,0.42,0.41,0.42,0.42,0.41,0.41,0.41,0.41,0.41,0.41,0.42,0.41,0.41,0.41,0.41,0.41,0.41,0.42,0.42,0.4,0.4,0.4,0.4,0.4,0.4,0.4,0.4,0.4,0.4,0.4,0.4,0.4,0.4,0.4,0.4,0.38,0.38,0.38,0.38,0.38,0.38,0.38,0.39,0.39,0.39,0.39,0.39,0.39,0.39,0.39,0.39,0.43,0.43,0.43,0.43,0.42,0.42,0.43,0.43,0.43,0.42,0.42,0.42,0.43,0.43,0.42,0.42,0.42,0.42,0.43,0.43,0.43,0.42,0.42,0.42,0.43,0.43,0.4,0.4,0.4,0.39,0.39,0.39,0.39,0.4,0.4,0.4,0.4,0.39,0.39,0.39,0.4,0.4,0.4,0.4,0.39,0.39,0.39,0.39,0.39,0.39,0.4,0.4,0.4,0.4,0.39,0.39,0.39,0.39,0.4,0.39,0.39,0.39,0.39,0.39,0.39,0.39,0.4,0.4,0.4,0.4,0.39,0.39,0.39,0.39,0.4,0.4,0.4,0.4,0.4,0.4,0.39,0.39,0.4,0.4,0.4,0.4,0.4,0.4,0.4,0.4,0.42,0.42,0.41,0.41,0.41,0.41,0.41,0.41,0.42,0.42,0.42,0.42,0.42,0.42,0.42,0.42,0.42,0.42,0.37,0.37,0.37,0.37,0.37,0.37,0.37,0.37,0.37,0.37,0.37,0.37,0.36,0.36,0.36,0.36,0.36,0.36,0.36,0.36,0.36,0.36,0.36,0.36,0.37,0.36,0.36,0.36,0.37,0.37,0.36,0.36,0.34,0.34,0.34,0.34,0.34,0.34,0.33,0.34,0.34,0.34,0.35,0.34,0.34,0.34,0.34,0.34,0.34,0.34,0.34,0.34,0.34,0.34,0.34,0.34,0.33,0.33,0.33,0.33,0.33,0.34,0.34,0.34,0.34,0.34,0.33,0.33,0.33,0.33,0.34,0.34,0.35,0.34,0.34,0.34,0.34,0.34,0.34,0.34,0.34,0.34,0.35,0.34,0.34,0.34,0.34,0.34,0.34,0.34,0.34,0.34,0.35,0.35,0.33,0.33,0.33,0.33,0.33,0.33,0.33,0.33,0.33,0.34,0.34,0.33,0.33,0.33,0.33,0.33,0.33,0.34,0.34,0.34,0.34,0.34,0.34,0.34,0.32,0.32,0.32,0.32,0.32,0.32,0.31,0.32,0.32,0.32,0.32,0.32,0.33,0.32,0.32,0.32,0.32,0.32,0.32,0.32,0.32,0.32,0.32,0.32],\"type\":\"scatter\"}],                        {\"template\":{\"data\":{\"bar\":[{\"error_x\":{\"color\":\"#2a3f5f\"},\"error_y\":{\"color\":\"#2a3f5f\"},\"marker\":{\"line\":{\"color\":\"#E5ECF6\",\"width\":0.5},\"pattern\":{\"fillmode\":\"overlay\",\"size\":10,\"solidity\":0.2}},\"type\":\"bar\"}],\"barpolar\":[{\"marker\":{\"line\":{\"color\":\"#E5ECF6\",\"width\":0.5},\"pattern\":{\"fillmode\":\"overlay\",\"size\":10,\"solidity\":0.2}},\"type\":\"barpolar\"}],\"carpet\":[{\"aaxis\":{\"endlinecolor\":\"#2a3f5f\",\"gridcolor\":\"white\",\"linecolor\":\"white\",\"minorgridcolor\":\"white\",\"startlinecolor\":\"#2a3f5f\"},\"baxis\":{\"endlinecolor\":\"#2a3f5f\",\"gridcolor\":\"white\",\"linecolor\":\"white\",\"minorgridcolor\":\"white\",\"startlinecolor\":\"#2a3f5f\"},\"type\":\"carpet\"}],\"choropleth\":[{\"colorbar\":{\"outlinewidth\":0,\"ticks\":\"\"},\"type\":\"choropleth\"}],\"contour\":[{\"colorbar\":{\"outlinewidth\":0,\"ticks\":\"\"},\"colorscale\":[[0.0,\"#0d0887\"],[0.1111111111111111,\"#46039f\"],[0.2222222222222222,\"#7201a8\"],[0.3333333333333333,\"#9c179e\"],[0.4444444444444444,\"#bd3786\"],[0.5555555555555556,\"#d8576b\"],[0.6666666666666666,\"#ed7953\"],[0.7777777777777778,\"#fb9f3a\"],[0.8888888888888888,\"#fdca26\"],[1.0,\"#f0f921\"]],\"type\":\"contour\"}],\"contourcarpet\":[{\"colorbar\":{\"outlinewidth\":0,\"ticks\":\"\"},\"type\":\"contourcarpet\"}],\"heatmap\":[{\"colorbar\":{\"outlinewidth\":0,\"ticks\":\"\"},\"colorscale\":[[0.0,\"#0d0887\"],[0.1111111111111111,\"#46039f\"],[0.2222222222222222,\"#7201a8\"],[0.3333333333333333,\"#9c179e\"],[0.4444444444444444,\"#bd3786\"],[0.5555555555555556,\"#d8576b\"],[0.6666666666666666,\"#ed7953\"],[0.7777777777777778,\"#fb9f3a\"],[0.8888888888888888,\"#fdca26\"],[1.0,\"#f0f921\"]],\"type\":\"heatmap\"}],\"heatmapgl\":[{\"colorbar\":{\"outlinewidth\":0,\"ticks\":\"\"},\"colorscale\":[[0.0,\"#0d0887\"],[0.1111111111111111,\"#46039f\"],[0.2222222222222222,\"#7201a8\"],[0.3333333333333333,\"#9c179e\"],[0.4444444444444444,\"#bd3786\"],[0.5555555555555556,\"#d8576b\"],[0.6666666666666666,\"#ed7953\"],[0.7777777777777778,\"#fb9f3a\"],[0.8888888888888888,\"#fdca26\"],[1.0,\"#f0f921\"]],\"type\":\"heatmapgl\"}],\"histogram\":[{\"marker\":{\"pattern\":{\"fillmode\":\"overlay\",\"size\":10,\"solidity\":0.2}},\"type\":\"histogram\"}],\"histogram2d\":[{\"colorbar\":{\"outlinewidth\":0,\"ticks\":\"\"},\"colorscale\":[[0.0,\"#0d0887\"],[0.1111111111111111,\"#46039f\"],[0.2222222222222222,\"#7201a8\"],[0.3333333333333333,\"#9c179e\"],[0.4444444444444444,\"#bd3786\"],[0.5555555555555556,\"#d8576b\"],[0.6666666666666666,\"#ed7953\"],[0.7777777777777778,\"#fb9f3a\"],[0.8888888888888888,\"#fdca26\"],[1.0,\"#f0f921\"]],\"type\":\"histogram2d\"}],\"histogram2dcontour\":[{\"colorbar\":{\"outlinewidth\":0,\"ticks\":\"\"},\"colorscale\":[[0.0,\"#0d0887\"],[0.1111111111111111,\"#46039f\"],[0.2222222222222222,\"#7201a8\"],[0.3333333333333333,\"#9c179e\"],[0.4444444444444444,\"#bd3786\"],[0.5555555555555556,\"#d8576b\"],[0.6666666666666666,\"#ed7953\"],[0.7777777777777778,\"#fb9f3a\"],[0.8888888888888888,\"#fdca26\"],[1.0,\"#f0f921\"]],\"type\":\"histogram2dcontour\"}],\"mesh3d\":[{\"colorbar\":{\"outlinewidth\":0,\"ticks\":\"\"},\"type\":\"mesh3d\"}],\"parcoords\":[{\"line\":{\"colorbar\":{\"outlinewidth\":0,\"ticks\":\"\"}},\"type\":\"parcoords\"}],\"pie\":[{\"automargin\":true,\"type\":\"pie\"}],\"scatter\":[{\"marker\":{\"colorbar\":{\"outlinewidth\":0,\"ticks\":\"\"}},\"type\":\"scatter\"}],\"scatter3d\":[{\"line\":{\"colorbar\":{\"outlinewidth\":0,\"ticks\":\"\"}},\"marker\":{\"colorbar\":{\"outlinewidth\":0,\"ticks\":\"\"}},\"type\":\"scatter3d\"}],\"scattercarpet\":[{\"marker\":{\"colorbar\":{\"outlinewidth\":0,\"ticks\":\"\"}},\"type\":\"scattercarpet\"}],\"scattergeo\":[{\"marker\":{\"colorbar\":{\"outlinewidth\":0,\"ticks\":\"\"}},\"type\":\"scattergeo\"}],\"scattergl\":[{\"marker\":{\"colorbar\":{\"outlinewidth\":0,\"ticks\":\"\"}},\"type\":\"scattergl\"}],\"scattermapbox\":[{\"marker\":{\"colorbar\":{\"outlinewidth\":0,\"ticks\":\"\"}},\"type\":\"scattermapbox\"}],\"scatterpolar\":[{\"marker\":{\"colorbar\":{\"outlinewidth\":0,\"ticks\":\"\"}},\"type\":\"scatterpolar\"}],\"scatterpolargl\":[{\"marker\":{\"colorbar\":{\"outlinewidth\":0,\"ticks\":\"\"}},\"type\":\"scatterpolargl\"}],\"scatterternary\":[{\"marker\":{\"colorbar\":{\"outlinewidth\":0,\"ticks\":\"\"}},\"type\":\"scatterternary\"}],\"surface\":[{\"colorbar\":{\"outlinewidth\":0,\"ticks\":\"\"},\"colorscale\":[[0.0,\"#0d0887\"],[0.1111111111111111,\"#46039f\"],[0.2222222222222222,\"#7201a8\"],[0.3333333333333333,\"#9c179e\"],[0.4444444444444444,\"#bd3786\"],[0.5555555555555556,\"#d8576b\"],[0.6666666666666666,\"#ed7953\"],[0.7777777777777778,\"#fb9f3a\"],[0.8888888888888888,\"#fdca26\"],[1.0,\"#f0f921\"]],\"type\":\"surface\"}],\"table\":[{\"cells\":{\"fill\":{\"color\":\"#EBF0F8\"},\"line\":{\"color\":\"white\"}},\"header\":{\"fill\":{\"color\":\"#C8D4E3\"},\"line\":{\"color\":\"white\"}},\"type\":\"table\"}]},\"layout\":{\"annotationdefaults\":{\"arrowcolor\":\"#2a3f5f\",\"arrowhead\":0,\"arrowwidth\":1},\"autotypenumbers\":\"strict\",\"coloraxis\":{\"colorbar\":{\"outlinewidth\":0,\"ticks\":\"\"}},\"colorscale\":{\"diverging\":[[0,\"#8e0152\"],[0.1,\"#c51b7d\"],[0.2,\"#de77ae\"],[0.3,\"#f1b6da\"],[0.4,\"#fde0ef\"],[0.5,\"#f7f7f7\"],[0.6,\"#e6f5d0\"],[0.7,\"#b8e186\"],[0.8,\"#7fbc41\"],[0.9,\"#4d9221\"],[1,\"#276419\"]],\"sequential\":[[0.0,\"#0d0887\"],[0.1111111111111111,\"#46039f\"],[0.2222222222222222,\"#7201a8\"],[0.3333333333333333,\"#9c179e\"],[0.4444444444444444,\"#bd3786\"],[0.5555555555555556,\"#d8576b\"],[0.6666666666666666,\"#ed7953\"],[0.7777777777777778,\"#fb9f3a\"],[0.8888888888888888,\"#fdca26\"],[1.0,\"#f0f921\"]],\"sequentialminus\":[[0.0,\"#0d0887\"],[0.1111111111111111,\"#46039f\"],[0.2222222222222222,\"#7201a8\"],[0.3333333333333333,\"#9c179e\"],[0.4444444444444444,\"#bd3786\"],[0.5555555555555556,\"#d8576b\"],[0.6666666666666666,\"#ed7953\"],[0.7777777777777778,\"#fb9f3a\"],[0.8888888888888888,\"#fdca26\"],[1.0,\"#f0f921\"]]},\"colorway\":[\"#636efa\",\"#EF553B\",\"#00cc96\",\"#ab63fa\",\"#FFA15A\",\"#19d3f3\",\"#FF6692\",\"#B6E880\",\"#FF97FF\",\"#FECB52\"],\"font\":{\"color\":\"#2a3f5f\"},\"geo\":{\"bgcolor\":\"white\",\"lakecolor\":\"white\",\"landcolor\":\"#E5ECF6\",\"showlakes\":true,\"showland\":true,\"subunitcolor\":\"white\"},\"hoverlabel\":{\"align\":\"left\"},\"hovermode\":\"closest\",\"mapbox\":{\"style\":\"light\"},\"paper_bgcolor\":\"white\",\"plot_bgcolor\":\"#E5ECF6\",\"polar\":{\"angularaxis\":{\"gridcolor\":\"white\",\"linecolor\":\"white\",\"ticks\":\"\"},\"bgcolor\":\"#E5ECF6\",\"radialaxis\":{\"gridcolor\":\"white\",\"linecolor\":\"white\",\"ticks\":\"\"}},\"scene\":{\"xaxis\":{\"backgroundcolor\":\"#E5ECF6\",\"gridcolor\":\"white\",\"gridwidth\":2,\"linecolor\":\"white\",\"showbackground\":true,\"ticks\":\"\",\"zerolinecolor\":\"white\"},\"yaxis\":{\"backgroundcolor\":\"#E5ECF6\",\"gridcolor\":\"white\",\"gridwidth\":2,\"linecolor\":\"white\",\"showbackground\":true,\"ticks\":\"\",\"zerolinecolor\":\"white\"},\"zaxis\":{\"backgroundcolor\":\"#E5ECF6\",\"gridcolor\":\"white\",\"gridwidth\":2,\"linecolor\":\"white\",\"showbackground\":true,\"ticks\":\"\",\"zerolinecolor\":\"white\"}},\"shapedefaults\":{\"line\":{\"color\":\"#2a3f5f\"}},\"ternary\":{\"aaxis\":{\"gridcolor\":\"white\",\"linecolor\":\"white\",\"ticks\":\"\"},\"baxis\":{\"gridcolor\":\"white\",\"linecolor\":\"white\",\"ticks\":\"\"},\"bgcolor\":\"#E5ECF6\",\"caxis\":{\"gridcolor\":\"white\",\"linecolor\":\"white\",\"ticks\":\"\"}},\"title\":{\"x\":0.05},\"xaxis\":{\"automargin\":true,\"gridcolor\":\"white\",\"linecolor\":\"white\",\"ticks\":\"\",\"title\":{\"standoff\":15},\"zerolinecolor\":\"white\",\"zerolinewidth\":2},\"yaxis\":{\"automargin\":true,\"gridcolor\":\"white\",\"linecolor\":\"white\",\"ticks\":\"\",\"title\":{\"standoff\":15},\"zerolinecolor\":\"white\",\"zerolinewidth\":2}}},\"xaxis\":{\"rangeslider\":{\"visible\":false}}},                        {\"responsive\": true}                    ).then(function(){\n",
       "                            \n",
       "var gd = document.getElementById('d09ce82c-286e-494a-b99e-7c60ee086537');\n",
       "var x = new MutationObserver(function (mutations, observer) {{\n",
       "        var display = window.getComputedStyle(gd).display;\n",
       "        if (!display || display === 'none') {{\n",
       "            console.log([gd, 'removed!']);\n",
       "            Plotly.purge(gd);\n",
       "            observer.disconnect();\n",
       "        }}\n",
       "}});\n",
       "\n",
       "// Listen for the removal of the full notebook cells\n",
       "var notebookContainer = gd.closest('#notebook-container');\n",
       "if (notebookContainer) {{\n",
       "    x.observe(notebookContainer, {childList: true});\n",
       "}}\n",
       "\n",
       "// Listen for the clearing of the current output cell\n",
       "var outputEl = gd.closest('.output');\n",
       "if (outputEl) {{\n",
       "    x.observe(outputEl, {childList: true});\n",
       "}}\n",
       "\n",
       "                        })                };                });            </script>        </div>"
      ]
     },
     "metadata": {},
     "output_type": "display_data"
    }
   ],
   "source": [
    "plot_line(df, value='IV', show_afterhours=True)"
   ]
  },
  {
   "cell_type": "code",
   "execution_count": 176,
   "id": "c9ceecda-95d1-4834-84cb-304c3ecc1411",
   "metadata": {},
   "outputs": [
    {
     "data": {
      "text/html": [
       "<div>\n",
       "<style scoped>\n",
       "    .dataframe tbody tr th:only-of-type {\n",
       "        vertical-align: middle;\n",
       "    }\n",
       "\n",
       "    .dataframe tbody tr th {\n",
       "        vertical-align: top;\n",
       "    }\n",
       "\n",
       "    .dataframe thead th {\n",
       "        text-align: right;\n",
       "    }\n",
       "</style>\n",
       "<table border=\"1\" class=\"dataframe\">\n",
       "  <thead>\n",
       "    <tr style=\"text-align: right;\">\n",
       "      <th></th>\n",
       "      <th>date</th>\n",
       "      <th>Bid</th>\n",
       "      <th>Ask</th>\n",
       "      <th>Last</th>\n",
       "      <th>OI</th>\n",
       "      <th>sigma</th>\n",
       "      <th>NPV</th>\n",
       "      <th>delta</th>\n",
       "      <th>gamma</th>\n",
       "      <th>vega</th>\n",
       "      <th>beta</th>\n",
       "      <th>theta</th>\n",
       "      <th>IV</th>\n",
       "    </tr>\n",
       "  </thead>\n",
       "  <tbody>\n",
       "    <tr>\n",
       "      <th>584</th>\n",
       "      <td>2022-04-12 14:00:00</td>\n",
       "      <td>23.05</td>\n",
       "      <td>23.65</td>\n",
       "      <td>23.63</td>\n",
       "      <td>1244.0</td>\n",
       "      <td>0.669</td>\n",
       "      <td>39.241</td>\n",
       "      <td>0.567</td>\n",
       "      <td>0.005</td>\n",
       "      <td>49.950</td>\n",
       "      <td>8.58</td>\n",
       "      <td>-2.69</td>\n",
       "      <td>0.35</td>\n",
       "    </tr>\n",
       "    <tr>\n",
       "      <th>585</th>\n",
       "      <td>2022-04-12 14:00:00</td>\n",
       "      <td>12.60</td>\n",
       "      <td>12.80</td>\n",
       "      <td>12.60</td>\n",
       "      <td>4022.0</td>\n",
       "      <td>0.669</td>\n",
       "      <td>28.685</td>\n",
       "      <td>-0.433</td>\n",
       "      <td>0.005</td>\n",
       "      <td>49.951</td>\n",
       "      <td>-7.02</td>\n",
       "      <td>-2.67</td>\n",
       "      <td>0.35</td>\n",
       "    </tr>\n",
       "    <tr>\n",
       "      <th>586</th>\n",
       "      <td>2022-04-12 15:00:00</td>\n",
       "      <td>18.55</td>\n",
       "      <td>18.95</td>\n",
       "      <td>18.80</td>\n",
       "      <td>1244.0</td>\n",
       "      <td>0.669</td>\n",
       "      <td>35.539</td>\n",
       "      <td>0.535</td>\n",
       "      <td>0.005</td>\n",
       "      <td>50.118</td>\n",
       "      <td>8.07</td>\n",
       "      <td>-2.70</td>\n",
       "      <td>0.33</td>\n",
       "    </tr>\n",
       "    <tr>\n",
       "      <th>587</th>\n",
       "      <td>2022-04-12 15:00:00</td>\n",
       "      <td>16.00</td>\n",
       "      <td>16.30</td>\n",
       "      <td>16.30</td>\n",
       "      <td>1250.0</td>\n",
       "      <td>0.669</td>\n",
       "      <td>33.093</td>\n",
       "      <td>0.512</td>\n",
       "      <td>0.005</td>\n",
       "      <td>50.293</td>\n",
       "      <td>7.73</td>\n",
       "      <td>-2.71</td>\n",
       "      <td>0.33</td>\n",
       "    </tr>\n",
       "    <tr>\n",
       "      <th>588</th>\n",
       "      <td>2022-04-12 15:00:00</td>\n",
       "      <td>13.60</td>\n",
       "      <td>13.90</td>\n",
       "      <td>13.80</td>\n",
       "      <td>1916.0</td>\n",
       "      <td>0.669</td>\n",
       "      <td>30.765</td>\n",
       "      <td>0.488</td>\n",
       "      <td>0.005</td>\n",
       "      <td>50.292</td>\n",
       "      <td>7.39</td>\n",
       "      <td>-2.71</td>\n",
       "      <td>0.33</td>\n",
       "    </tr>\n",
       "    <tr>\n",
       "      <th>589</th>\n",
       "      <td>2022-04-12 15:00:00</td>\n",
       "      <td>11.60</td>\n",
       "      <td>11.80</td>\n",
       "      <td>11.70</td>\n",
       "      <td>1279.0</td>\n",
       "      <td>0.669</td>\n",
       "      <td>28.553</td>\n",
       "      <td>0.465</td>\n",
       "      <td>0.005</td>\n",
       "      <td>50.118</td>\n",
       "      <td>7.05</td>\n",
       "      <td>-2.70</td>\n",
       "      <td>0.33</td>\n",
       "    </tr>\n",
       "    <tr>\n",
       "      <th>590</th>\n",
       "      <td>2022-04-12 15:00:00</td>\n",
       "      <td>9.70</td>\n",
       "      <td>9.95</td>\n",
       "      <td>9.80</td>\n",
       "      <td>9048.0</td>\n",
       "      <td>0.669</td>\n",
       "      <td>26.457</td>\n",
       "      <td>0.442</td>\n",
       "      <td>0.005</td>\n",
       "      <td>49.775</td>\n",
       "      <td>6.71</td>\n",
       "      <td>-2.68</td>\n",
       "      <td>0.33</td>\n",
       "    </tr>\n",
       "    <tr>\n",
       "      <th>591</th>\n",
       "      <td>2022-04-12 15:00:00</td>\n",
       "      <td>6.75</td>\n",
       "      <td>6.95</td>\n",
       "      <td>6.92</td>\n",
       "      <td>1655.0</td>\n",
       "      <td>0.669</td>\n",
       "      <td>22.602</td>\n",
       "      <td>0.396</td>\n",
       "      <td>0.005</td>\n",
       "      <td>48.607</td>\n",
       "      <td>6.04</td>\n",
       "      <td>-2.62</td>\n",
       "      <td>0.33</td>\n",
       "    </tr>\n",
       "    <tr>\n",
       "      <th>592</th>\n",
       "      <td>2022-04-12 15:00:00</td>\n",
       "      <td>5.60</td>\n",
       "      <td>5.75</td>\n",
       "      <td>5.80</td>\n",
       "      <td>730.0</td>\n",
       "      <td>0.669</td>\n",
       "      <td>20.837</td>\n",
       "      <td>0.374</td>\n",
       "      <td>0.004</td>\n",
       "      <td>47.798</td>\n",
       "      <td>5.71</td>\n",
       "      <td>-2.58</td>\n",
       "      <td>0.33</td>\n",
       "    </tr>\n",
       "    <tr>\n",
       "      <th>593</th>\n",
       "      <td>2022-04-12 15:00:00</td>\n",
       "      <td>4.60</td>\n",
       "      <td>4.80</td>\n",
       "      <td>4.70</td>\n",
       "      <td>2859.0</td>\n",
       "      <td>0.669</td>\n",
       "      <td>19.179</td>\n",
       "      <td>0.353</td>\n",
       "      <td>0.004</td>\n",
       "      <td>46.853</td>\n",
       "      <td>5.39</td>\n",
       "      <td>-2.54</td>\n",
       "      <td>0.33</td>\n",
       "    </tr>\n",
       "    <tr>\n",
       "      <th>594</th>\n",
       "      <td>2022-04-12 15:00:00</td>\n",
       "      <td>3.80</td>\n",
       "      <td>3.95</td>\n",
       "      <td>3.90</td>\n",
       "      <td>3300.0</td>\n",
       "      <td>0.669</td>\n",
       "      <td>17.623</td>\n",
       "      <td>0.332</td>\n",
       "      <td>0.004</td>\n",
       "      <td>45.781</td>\n",
       "      <td>5.08</td>\n",
       "      <td>-2.48</td>\n",
       "      <td>0.33</td>\n",
       "    </tr>\n",
       "    <tr>\n",
       "      <th>595</th>\n",
       "      <td>2022-04-12 15:00:00</td>\n",
       "      <td>3.15</td>\n",
       "      <td>3.25</td>\n",
       "      <td>3.20</td>\n",
       "      <td>3225.0</td>\n",
       "      <td>0.669</td>\n",
       "      <td>16.165</td>\n",
       "      <td>0.311</td>\n",
       "      <td>0.004</td>\n",
       "      <td>44.596</td>\n",
       "      <td>4.77</td>\n",
       "      <td>-2.42</td>\n",
       "      <td>0.34</td>\n",
       "    </tr>\n",
       "    <tr>\n",
       "      <th>596</th>\n",
       "      <td>2022-04-12 15:00:00</td>\n",
       "      <td>14.90</td>\n",
       "      <td>15.25</td>\n",
       "      <td>15.00</td>\n",
       "      <td>4022.0</td>\n",
       "      <td>0.669</td>\n",
       "      <td>31.703</td>\n",
       "      <td>-0.465</td>\n",
       "      <td>0.005</td>\n",
       "      <td>50.118</td>\n",
       "      <td>-7.44</td>\n",
       "      <td>-2.67</td>\n",
       "      <td>0.34</td>\n",
       "    </tr>\n",
       "    <tr>\n",
       "      <th>597</th>\n",
       "      <td>2022-04-12 15:00:00</td>\n",
       "      <td>17.30</td>\n",
       "      <td>17.60</td>\n",
       "      <td>17.35</td>\n",
       "      <td>1687.0</td>\n",
       "      <td>0.669</td>\n",
       "      <td>34.256</td>\n",
       "      <td>-0.488</td>\n",
       "      <td>0.005</td>\n",
       "      <td>50.292</td>\n",
       "      <td>-7.81</td>\n",
       "      <td>-2.68</td>\n",
       "      <td>0.33</td>\n",
       "    </tr>\n",
       "    <tr>\n",
       "      <th>598</th>\n",
       "      <td>2022-04-12 15:00:00</td>\n",
       "      <td>19.90</td>\n",
       "      <td>20.30</td>\n",
       "      <td>20.15</td>\n",
       "      <td>2487.0</td>\n",
       "      <td>0.669</td>\n",
       "      <td>36.928</td>\n",
       "      <td>-0.512</td>\n",
       "      <td>0.005</td>\n",
       "      <td>50.290</td>\n",
       "      <td>-8.16</td>\n",
       "      <td>-2.68</td>\n",
       "      <td>0.33</td>\n",
       "    </tr>\n",
       "    <tr>\n",
       "      <th>599</th>\n",
       "      <td>2022-04-12 15:00:00</td>\n",
       "      <td>22.80</td>\n",
       "      <td>23.30</td>\n",
       "      <td>23.20</td>\n",
       "      <td>1170.0</td>\n",
       "      <td>0.669</td>\n",
       "      <td>39.717</td>\n",
       "      <td>-0.535</td>\n",
       "      <td>0.005</td>\n",
       "      <td>50.116</td>\n",
       "      <td>-8.51</td>\n",
       "      <td>-2.67</td>\n",
       "      <td>0.33</td>\n",
       "    </tr>\n",
       "    <tr>\n",
       "      <th>600</th>\n",
       "      <td>2022-04-12 15:00:00</td>\n",
       "      <td>25.90</td>\n",
       "      <td>26.45</td>\n",
       "      <td>26.45</td>\n",
       "      <td>7847.0</td>\n",
       "      <td>0.669</td>\n",
       "      <td>42.620</td>\n",
       "      <td>-0.559</td>\n",
       "      <td>0.005</td>\n",
       "      <td>49.770</td>\n",
       "      <td>-8.84</td>\n",
       "      <td>-2.66</td>\n",
       "      <td>0.33</td>\n",
       "    </tr>\n",
       "    <tr>\n",
       "      <th>601</th>\n",
       "      <td>2022-04-12 15:00:00</td>\n",
       "      <td>32.80</td>\n",
       "      <td>33.60</td>\n",
       "      <td>32.45</td>\n",
       "      <td>952.0</td>\n",
       "      <td>0.669</td>\n",
       "      <td>48.765</td>\n",
       "      <td>-0.604</td>\n",
       "      <td>0.005</td>\n",
       "      <td>48.600</td>\n",
       "      <td>-9.48</td>\n",
       "      <td>-2.60</td>\n",
       "      <td>0.33</td>\n",
       "    </tr>\n",
       "    <tr>\n",
       "      <th>602</th>\n",
       "      <td>2022-04-12 15:00:00</td>\n",
       "      <td>36.40</td>\n",
       "      <td>37.65</td>\n",
       "      <td>35.70</td>\n",
       "      <td>628.0</td>\n",
       "      <td>0.669</td>\n",
       "      <td>52.001</td>\n",
       "      <td>-0.626</td>\n",
       "      <td>0.004</td>\n",
       "      <td>47.788</td>\n",
       "      <td>-9.79</td>\n",
       "      <td>-2.56</td>\n",
       "      <td>0.33</td>\n",
       "    </tr>\n",
       "    <tr>\n",
       "      <th>603</th>\n",
       "      <td>2022-04-12 15:00:00</td>\n",
       "      <td>40.40</td>\n",
       "      <td>41.65</td>\n",
       "      <td>39.40</td>\n",
       "      <td>1143.0</td>\n",
       "      <td>0.669</td>\n",
       "      <td>55.342</td>\n",
       "      <td>-0.647</td>\n",
       "      <td>0.004</td>\n",
       "      <td>46.844</td>\n",
       "      <td>-10.09</td>\n",
       "      <td>-2.51</td>\n",
       "      <td>0.34</td>\n",
       "    </tr>\n",
       "    <tr>\n",
       "      <th>604</th>\n",
       "      <td>2022-04-12 15:00:00</td>\n",
       "      <td>44.50</td>\n",
       "      <td>45.85</td>\n",
       "      <td>43.42</td>\n",
       "      <td>1861.0</td>\n",
       "      <td>0.669</td>\n",
       "      <td>58.786</td>\n",
       "      <td>-0.668</td>\n",
       "      <td>0.004</td>\n",
       "      <td>45.766</td>\n",
       "      <td>-10.37</td>\n",
       "      <td>-2.46</td>\n",
       "      <td>0.34</td>\n",
       "    </tr>\n",
       "    <tr>\n",
       "      <th>605</th>\n",
       "      <td>2022-04-12 15:00:00</td>\n",
       "      <td>48.80</td>\n",
       "      <td>50.15</td>\n",
       "      <td>46.35</td>\n",
       "      <td>1842.0</td>\n",
       "      <td>0.669</td>\n",
       "      <td>62.329</td>\n",
       "      <td>-0.689</td>\n",
       "      <td>0.004</td>\n",
       "      <td>44.582</td>\n",
       "      <td>-10.63</td>\n",
       "      <td>-2.40</td>\n",
       "      <td>0.34</td>\n",
       "    </tr>\n",
       "    <tr>\n",
       "      <th>606</th>\n",
       "      <td>2022-04-12 15:00:00</td>\n",
       "      <td>24.45</td>\n",
       "      <td>24.95</td>\n",
       "      <td>24.84</td>\n",
       "      <td>808.0</td>\n",
       "      <td>0.669</td>\n",
       "      <td>40.787</td>\n",
       "      <td>0.582</td>\n",
       "      <td>0.005</td>\n",
       "      <td>49.238</td>\n",
       "      <td>8.75</td>\n",
       "      <td>-2.66</td>\n",
       "      <td>0.34</td>\n",
       "    </tr>\n",
       "    <tr>\n",
       "      <th>607</th>\n",
       "      <td>2022-04-12 15:00:00</td>\n",
       "      <td>21.35</td>\n",
       "      <td>21.85</td>\n",
       "      <td>22.50</td>\n",
       "      <td>1673.0</td>\n",
       "      <td>0.669</td>\n",
       "      <td>38.103</td>\n",
       "      <td>0.559</td>\n",
       "      <td>0.005</td>\n",
       "      <td>49.766</td>\n",
       "      <td>8.41</td>\n",
       "      <td>-2.68</td>\n",
       "      <td>0.34</td>\n",
       "    </tr>\n",
       "    <tr>\n",
       "      <th>608</th>\n",
       "      <td>2022-04-12 15:00:00</td>\n",
       "      <td>10.95</td>\n",
       "      <td>11.20</td>\n",
       "      <td>11.00</td>\n",
       "      <td>3296.0</td>\n",
       "      <td>0.669</td>\n",
       "      <td>26.951</td>\n",
       "      <td>-0.418</td>\n",
       "      <td>0.005</td>\n",
       "      <td>49.239</td>\n",
       "      <td>-6.72</td>\n",
       "      <td>-2.63</td>\n",
       "      <td>0.34</td>\n",
       "    </tr>\n",
       "    <tr>\n",
       "      <th>609</th>\n",
       "      <td>2022-04-12 15:00:00</td>\n",
       "      <td>12.80</td>\n",
       "      <td>13.05</td>\n",
       "      <td>12.86</td>\n",
       "      <td>3794.0</td>\n",
       "      <td>0.669</td>\n",
       "      <td>29.267</td>\n",
       "      <td>-0.441</td>\n",
       "      <td>0.005</td>\n",
       "      <td>49.767</td>\n",
       "      <td>-7.08</td>\n",
       "      <td>-2.66</td>\n",
       "      <td>0.34</td>\n",
       "    </tr>\n",
       "    <tr>\n",
       "      <th>610</th>\n",
       "      <td>2022-04-12 16:00:00</td>\n",
       "      <td>25.75</td>\n",
       "      <td>26.70</td>\n",
       "      <td>26.66</td>\n",
       "      <td>808.0</td>\n",
       "      <td>0.669</td>\n",
       "      <td>42.716</td>\n",
       "      <td>0.597</td>\n",
       "      <td>0.005</td>\n",
       "      <td>48.969</td>\n",
       "      <td>8.99</td>\n",
       "      <td>-2.64</td>\n",
       "      <td>0.32</td>\n",
       "    </tr>\n",
       "    <tr>\n",
       "      <th>611</th>\n",
       "      <td>2022-04-12 16:00:00</td>\n",
       "      <td>22.40</td>\n",
       "      <td>23.35</td>\n",
       "      <td>22.60</td>\n",
       "      <td>1673.0</td>\n",
       "      <td>0.669</td>\n",
       "      <td>39.956</td>\n",
       "      <td>0.574</td>\n",
       "      <td>0.005</td>\n",
       "      <td>49.609</td>\n",
       "      <td>8.66</td>\n",
       "      <td>-2.68</td>\n",
       "      <td>0.32</td>\n",
       "    </tr>\n",
       "    <tr>\n",
       "      <th>612</th>\n",
       "      <td>2022-04-12 16:00:00</td>\n",
       "      <td>19.50</td>\n",
       "      <td>20.20</td>\n",
       "      <td>19.90</td>\n",
       "      <td>1244.0</td>\n",
       "      <td>0.669</td>\n",
       "      <td>37.314</td>\n",
       "      <td>0.551</td>\n",
       "      <td>0.005</td>\n",
       "      <td>50.075</td>\n",
       "      <td>8.32</td>\n",
       "      <td>-2.70</td>\n",
       "      <td>0.32</td>\n",
       "    </tr>\n",
       "    <tr>\n",
       "      <th>613</th>\n",
       "      <td>2022-04-12 16:00:00</td>\n",
       "      <td>16.80</td>\n",
       "      <td>17.40</td>\n",
       "      <td>17.05</td>\n",
       "      <td>1250.0</td>\n",
       "      <td>0.669</td>\n",
       "      <td>34.791</td>\n",
       "      <td>0.527</td>\n",
       "      <td>0.005</td>\n",
       "      <td>50.366</td>\n",
       "      <td>7.98</td>\n",
       "      <td>-2.71</td>\n",
       "      <td>0.32</td>\n",
       "    </tr>\n",
       "    <tr>\n",
       "      <th>614</th>\n",
       "      <td>2022-04-12 16:00:00</td>\n",
       "      <td>14.25</td>\n",
       "      <td>14.85</td>\n",
       "      <td>14.81</td>\n",
       "      <td>1916.0</td>\n",
       "      <td>0.669</td>\n",
       "      <td>32.386</td>\n",
       "      <td>0.504</td>\n",
       "      <td>0.005</td>\n",
       "      <td>50.480</td>\n",
       "      <td>7.64</td>\n",
       "      <td>-2.72</td>\n",
       "      <td>0.32</td>\n",
       "    </tr>\n",
       "    <tr>\n",
       "      <th>615</th>\n",
       "      <td>2022-04-12 16:00:00</td>\n",
       "      <td>12.10</td>\n",
       "      <td>12.60</td>\n",
       "      <td>12.45</td>\n",
       "      <td>1279.0</td>\n",
       "      <td>0.669</td>\n",
       "      <td>30.098</td>\n",
       "      <td>0.480</td>\n",
       "      <td>0.005</td>\n",
       "      <td>50.419</td>\n",
       "      <td>7.29</td>\n",
       "      <td>-2.72</td>\n",
       "      <td>0.32</td>\n",
       "    </tr>\n",
       "    <tr>\n",
       "      <th>616</th>\n",
       "      <td>2022-04-12 16:00:00</td>\n",
       "      <td>10.10</td>\n",
       "      <td>10.65</td>\n",
       "      <td>10.26</td>\n",
       "      <td>9048.0</td>\n",
       "      <td>0.669</td>\n",
       "      <td>27.926</td>\n",
       "      <td>0.457</td>\n",
       "      <td>0.005</td>\n",
       "      <td>50.187</td>\n",
       "      <td>6.95</td>\n",
       "      <td>-2.70</td>\n",
       "      <td>0.31</td>\n",
       "    </tr>\n",
       "    <tr>\n",
       "      <th>617</th>\n",
       "      <td>2022-04-12 16:00:00</td>\n",
       "      <td>7.00</td>\n",
       "      <td>7.40</td>\n",
       "      <td>7.15</td>\n",
       "      <td>1655.0</td>\n",
       "      <td>0.669</td>\n",
       "      <td>23.922</td>\n",
       "      <td>0.411</td>\n",
       "      <td>0.005</td>\n",
       "      <td>49.230</td>\n",
       "      <td>6.28</td>\n",
       "      <td>-2.66</td>\n",
       "      <td>0.32</td>\n",
       "    </tr>\n",
       "    <tr>\n",
       "      <th>618</th>\n",
       "      <td>2022-04-12 16:00:00</td>\n",
       "      <td>5.70</td>\n",
       "      <td>6.10</td>\n",
       "      <td>6.00</td>\n",
       "      <td>730.0</td>\n",
       "      <td>0.669</td>\n",
       "      <td>22.085</td>\n",
       "      <td>0.389</td>\n",
       "      <td>0.005</td>\n",
       "      <td>48.519</td>\n",
       "      <td>5.95</td>\n",
       "      <td>-2.62</td>\n",
       "      <td>0.32</td>\n",
       "    </tr>\n",
       "    <tr>\n",
       "      <th>619</th>\n",
       "      <td>2022-04-12 16:00:00</td>\n",
       "      <td>4.80</td>\n",
       "      <td>5.00</td>\n",
       "      <td>5.00</td>\n",
       "      <td>2859.0</td>\n",
       "      <td>0.669</td>\n",
       "      <td>20.356</td>\n",
       "      <td>0.367</td>\n",
       "      <td>0.004</td>\n",
       "      <td>47.664</td>\n",
       "      <td>5.62</td>\n",
       "      <td>-2.58</td>\n",
       "      <td>0.32</td>\n",
       "    </tr>\n",
       "    <tr>\n",
       "      <th>620</th>\n",
       "      <td>2022-04-12 16:00:00</td>\n",
       "      <td>3.90</td>\n",
       "      <td>4.15</td>\n",
       "      <td>4.02</td>\n",
       "      <td>3300.0</td>\n",
       "      <td>0.669</td>\n",
       "      <td>18.731</td>\n",
       "      <td>0.346</td>\n",
       "      <td>0.004</td>\n",
       "      <td>46.677</td>\n",
       "      <td>5.31</td>\n",
       "      <td>-2.53</td>\n",
       "      <td>0.32</td>\n",
       "    </tr>\n",
       "    <tr>\n",
       "      <th>621</th>\n",
       "      <td>2022-04-12 16:00:00</td>\n",
       "      <td>3.20</td>\n",
       "      <td>3.40</td>\n",
       "      <td>3.32</td>\n",
       "      <td>3225.0</td>\n",
       "      <td>0.669</td>\n",
       "      <td>17.206</td>\n",
       "      <td>0.325</td>\n",
       "      <td>0.004</td>\n",
       "      <td>45.568</td>\n",
       "      <td>5.00</td>\n",
       "      <td>-2.47</td>\n",
       "      <td>0.32</td>\n",
       "    </tr>\n",
       "    <tr>\n",
       "      <th>622</th>\n",
       "      <td>2022-04-12 16:00:00</td>\n",
       "      <td>8.95</td>\n",
       "      <td>9.40</td>\n",
       "      <td>9.50</td>\n",
       "      <td>3296.0</td>\n",
       "      <td>0.669</td>\n",
       "      <td>25.610</td>\n",
       "      <td>-0.403</td>\n",
       "      <td>0.005</td>\n",
       "      <td>48.972</td>\n",
       "      <td>-6.50</td>\n",
       "      <td>-2.62</td>\n",
       "      <td>0.33</td>\n",
       "    </tr>\n",
       "    <tr>\n",
       "      <th>623</th>\n",
       "      <td>2022-04-12 16:00:00</td>\n",
       "      <td>10.65</td>\n",
       "      <td>11.10</td>\n",
       "      <td>10.80</td>\n",
       "      <td>3794.0</td>\n",
       "      <td>0.669</td>\n",
       "      <td>27.849</td>\n",
       "      <td>-0.426</td>\n",
       "      <td>0.005</td>\n",
       "      <td>49.610</td>\n",
       "      <td>-6.87</td>\n",
       "      <td>-2.65</td>\n",
       "      <td>0.32</td>\n",
       "    </tr>\n",
       "    <tr>\n",
       "      <th>624</th>\n",
       "      <td>2022-04-12 16:00:00</td>\n",
       "      <td>12.55</td>\n",
       "      <td>13.10</td>\n",
       "      <td>12.82</td>\n",
       "      <td>4022.0</td>\n",
       "      <td>0.669</td>\n",
       "      <td>30.208</td>\n",
       "      <td>-0.449</td>\n",
       "      <td>0.005</td>\n",
       "      <td>50.076</td>\n",
       "      <td>-7.24</td>\n",
       "      <td>-2.67</td>\n",
       "      <td>0.32</td>\n",
       "    </tr>\n",
       "    <tr>\n",
       "      <th>625</th>\n",
       "      <td>2022-04-12 16:00:00</td>\n",
       "      <td>14.75</td>\n",
       "      <td>15.20</td>\n",
       "      <td>15.20</td>\n",
       "      <td>1687.0</td>\n",
       "      <td>0.669</td>\n",
       "      <td>32.684</td>\n",
       "      <td>-0.473</td>\n",
       "      <td>0.005</td>\n",
       "      <td>50.365</td>\n",
       "      <td>-7.60</td>\n",
       "      <td>-2.69</td>\n",
       "      <td>0.32</td>\n",
       "    </tr>\n",
       "    <tr>\n",
       "      <th>626</th>\n",
       "      <td>2022-04-12 16:00:00</td>\n",
       "      <td>17.20</td>\n",
       "      <td>17.85</td>\n",
       "      <td>17.65</td>\n",
       "      <td>2487.0</td>\n",
       "      <td>0.669</td>\n",
       "      <td>35.279</td>\n",
       "      <td>-0.497</td>\n",
       "      <td>0.005</td>\n",
       "      <td>50.479</td>\n",
       "      <td>-7.96</td>\n",
       "      <td>-2.69</td>\n",
       "      <td>0.32</td>\n",
       "    </tr>\n",
       "    <tr>\n",
       "      <th>627</th>\n",
       "      <td>2022-04-12 16:00:00</td>\n",
       "      <td>20.05</td>\n",
       "      <td>20.60</td>\n",
       "      <td>20.40</td>\n",
       "      <td>1170.0</td>\n",
       "      <td>0.669</td>\n",
       "      <td>37.991</td>\n",
       "      <td>-0.520</td>\n",
       "      <td>0.005</td>\n",
       "      <td>50.417</td>\n",
       "      <td>-8.30</td>\n",
       "      <td>-2.69</td>\n",
       "      <td>0.32</td>\n",
       "    </tr>\n",
       "    <tr>\n",
       "      <th>628</th>\n",
       "      <td>2022-04-12 16:00:00</td>\n",
       "      <td>22.95</td>\n",
       "      <td>23.75</td>\n",
       "      <td>23.50</td>\n",
       "      <td>7847.0</td>\n",
       "      <td>0.669</td>\n",
       "      <td>40.819</td>\n",
       "      <td>-0.543</td>\n",
       "      <td>0.005</td>\n",
       "      <td>50.183</td>\n",
       "      <td>-8.65</td>\n",
       "      <td>-2.68</td>\n",
       "      <td>0.32</td>\n",
       "    </tr>\n",
       "    <tr>\n",
       "      <th>629</th>\n",
       "      <td>2022-04-12 16:00:00</td>\n",
       "      <td>29.55</td>\n",
       "      <td>30.75</td>\n",
       "      <td>30.20</td>\n",
       "      <td>952.0</td>\n",
       "      <td>0.669</td>\n",
       "      <td>46.814</td>\n",
       "      <td>-0.589</td>\n",
       "      <td>0.005</td>\n",
       "      <td>49.222</td>\n",
       "      <td>-9.31</td>\n",
       "      <td>-2.63</td>\n",
       "      <td>0.32</td>\n",
       "    </tr>\n",
       "    <tr>\n",
       "      <th>630</th>\n",
       "      <td>2022-04-12 16:00:00</td>\n",
       "      <td>33.15</td>\n",
       "      <td>34.50</td>\n",
       "      <td>33.98</td>\n",
       "      <td>628.0</td>\n",
       "      <td>0.669</td>\n",
       "      <td>49.978</td>\n",
       "      <td>-0.611</td>\n",
       "      <td>0.005</td>\n",
       "      <td>48.512</td>\n",
       "      <td>-9.63</td>\n",
       "      <td>-2.59</td>\n",
       "      <td>0.32</td>\n",
       "    </tr>\n",
       "    <tr>\n",
       "      <th>631</th>\n",
       "      <td>2022-04-12 16:00:00</td>\n",
       "      <td>37.05</td>\n",
       "      <td>38.45</td>\n",
       "      <td>38.00</td>\n",
       "      <td>1143.0</td>\n",
       "      <td>0.669</td>\n",
       "      <td>53.249</td>\n",
       "      <td>-0.633</td>\n",
       "      <td>0.004</td>\n",
       "      <td>47.652</td>\n",
       "      <td>-9.93</td>\n",
       "      <td>-2.55</td>\n",
       "      <td>0.32</td>\n",
       "    </tr>\n",
       "    <tr>\n",
       "      <th>632</th>\n",
       "      <td>2022-04-12 16:00:00</td>\n",
       "      <td>41.15</td>\n",
       "      <td>42.65</td>\n",
       "      <td>42.28</td>\n",
       "      <td>1861.0</td>\n",
       "      <td>0.669</td>\n",
       "      <td>56.623</td>\n",
       "      <td>-0.654</td>\n",
       "      <td>0.004</td>\n",
       "      <td>46.666</td>\n",
       "      <td>-10.21</td>\n",
       "      <td>-2.50</td>\n",
       "      <td>0.32</td>\n",
       "    </tr>\n",
       "    <tr>\n",
       "      <th>633</th>\n",
       "      <td>2022-04-12 16:00:00</td>\n",
       "      <td>45.45</td>\n",
       "      <td>47.05</td>\n",
       "      <td>46.44</td>\n",
       "      <td>1842.0</td>\n",
       "      <td>0.669</td>\n",
       "      <td>60.099</td>\n",
       "      <td>-0.675</td>\n",
       "      <td>0.004</td>\n",
       "      <td>45.550</td>\n",
       "      <td>-10.47</td>\n",
       "      <td>-2.45</td>\n",
       "      <td>0.32</td>\n",
       "    </tr>\n",
       "  </tbody>\n",
       "</table>\n",
       "</div>"
      ],
      "text/plain": [
       "                   date    Bid    Ask   Last      OI  sigma     NPV  delta  \\\n",
       "584 2022-04-12 14:00:00  23.05  23.65  23.63  1244.0  0.669  39.241  0.567   \n",
       "585 2022-04-12 14:00:00  12.60  12.80  12.60  4022.0  0.669  28.685 -0.433   \n",
       "586 2022-04-12 15:00:00  18.55  18.95  18.80  1244.0  0.669  35.539  0.535   \n",
       "587 2022-04-12 15:00:00  16.00  16.30  16.30  1250.0  0.669  33.093  0.512   \n",
       "588 2022-04-12 15:00:00  13.60  13.90  13.80  1916.0  0.669  30.765  0.488   \n",
       "589 2022-04-12 15:00:00  11.60  11.80  11.70  1279.0  0.669  28.553  0.465   \n",
       "590 2022-04-12 15:00:00   9.70   9.95   9.80  9048.0  0.669  26.457  0.442   \n",
       "591 2022-04-12 15:00:00   6.75   6.95   6.92  1655.0  0.669  22.602  0.396   \n",
       "592 2022-04-12 15:00:00   5.60   5.75   5.80   730.0  0.669  20.837  0.374   \n",
       "593 2022-04-12 15:00:00   4.60   4.80   4.70  2859.0  0.669  19.179  0.353   \n",
       "594 2022-04-12 15:00:00   3.80   3.95   3.90  3300.0  0.669  17.623  0.332   \n",
       "595 2022-04-12 15:00:00   3.15   3.25   3.20  3225.0  0.669  16.165  0.311   \n",
       "596 2022-04-12 15:00:00  14.90  15.25  15.00  4022.0  0.669  31.703 -0.465   \n",
       "597 2022-04-12 15:00:00  17.30  17.60  17.35  1687.0  0.669  34.256 -0.488   \n",
       "598 2022-04-12 15:00:00  19.90  20.30  20.15  2487.0  0.669  36.928 -0.512   \n",
       "599 2022-04-12 15:00:00  22.80  23.30  23.20  1170.0  0.669  39.717 -0.535   \n",
       "600 2022-04-12 15:00:00  25.90  26.45  26.45  7847.0  0.669  42.620 -0.559   \n",
       "601 2022-04-12 15:00:00  32.80  33.60  32.45   952.0  0.669  48.765 -0.604   \n",
       "602 2022-04-12 15:00:00  36.40  37.65  35.70   628.0  0.669  52.001 -0.626   \n",
       "603 2022-04-12 15:00:00  40.40  41.65  39.40  1143.0  0.669  55.342 -0.647   \n",
       "604 2022-04-12 15:00:00  44.50  45.85  43.42  1861.0  0.669  58.786 -0.668   \n",
       "605 2022-04-12 15:00:00  48.80  50.15  46.35  1842.0  0.669  62.329 -0.689   \n",
       "606 2022-04-12 15:00:00  24.45  24.95  24.84   808.0  0.669  40.787  0.582   \n",
       "607 2022-04-12 15:00:00  21.35  21.85  22.50  1673.0  0.669  38.103  0.559   \n",
       "608 2022-04-12 15:00:00  10.95  11.20  11.00  3296.0  0.669  26.951 -0.418   \n",
       "609 2022-04-12 15:00:00  12.80  13.05  12.86  3794.0  0.669  29.267 -0.441   \n",
       "610 2022-04-12 16:00:00  25.75  26.70  26.66   808.0  0.669  42.716  0.597   \n",
       "611 2022-04-12 16:00:00  22.40  23.35  22.60  1673.0  0.669  39.956  0.574   \n",
       "612 2022-04-12 16:00:00  19.50  20.20  19.90  1244.0  0.669  37.314  0.551   \n",
       "613 2022-04-12 16:00:00  16.80  17.40  17.05  1250.0  0.669  34.791  0.527   \n",
       "614 2022-04-12 16:00:00  14.25  14.85  14.81  1916.0  0.669  32.386  0.504   \n",
       "615 2022-04-12 16:00:00  12.10  12.60  12.45  1279.0  0.669  30.098  0.480   \n",
       "616 2022-04-12 16:00:00  10.10  10.65  10.26  9048.0  0.669  27.926  0.457   \n",
       "617 2022-04-12 16:00:00   7.00   7.40   7.15  1655.0  0.669  23.922  0.411   \n",
       "618 2022-04-12 16:00:00   5.70   6.10   6.00   730.0  0.669  22.085  0.389   \n",
       "619 2022-04-12 16:00:00   4.80   5.00   5.00  2859.0  0.669  20.356  0.367   \n",
       "620 2022-04-12 16:00:00   3.90   4.15   4.02  3300.0  0.669  18.731  0.346   \n",
       "621 2022-04-12 16:00:00   3.20   3.40   3.32  3225.0  0.669  17.206  0.325   \n",
       "622 2022-04-12 16:00:00   8.95   9.40   9.50  3296.0  0.669  25.610 -0.403   \n",
       "623 2022-04-12 16:00:00  10.65  11.10  10.80  3794.0  0.669  27.849 -0.426   \n",
       "624 2022-04-12 16:00:00  12.55  13.10  12.82  4022.0  0.669  30.208 -0.449   \n",
       "625 2022-04-12 16:00:00  14.75  15.20  15.20  1687.0  0.669  32.684 -0.473   \n",
       "626 2022-04-12 16:00:00  17.20  17.85  17.65  2487.0  0.669  35.279 -0.497   \n",
       "627 2022-04-12 16:00:00  20.05  20.60  20.40  1170.0  0.669  37.991 -0.520   \n",
       "628 2022-04-12 16:00:00  22.95  23.75  23.50  7847.0  0.669  40.819 -0.543   \n",
       "629 2022-04-12 16:00:00  29.55  30.75  30.20   952.0  0.669  46.814 -0.589   \n",
       "630 2022-04-12 16:00:00  33.15  34.50  33.98   628.0  0.669  49.978 -0.611   \n",
       "631 2022-04-12 16:00:00  37.05  38.45  38.00  1143.0  0.669  53.249 -0.633   \n",
       "632 2022-04-12 16:00:00  41.15  42.65  42.28  1861.0  0.669  56.623 -0.654   \n",
       "633 2022-04-12 16:00:00  45.45  47.05  46.44  1842.0  0.669  60.099 -0.675   \n",
       "\n",
       "     gamma    vega   beta  theta    IV  \n",
       "584  0.005  49.950   8.58  -2.69  0.35  \n",
       "585  0.005  49.951  -7.02  -2.67  0.35  \n",
       "586  0.005  50.118   8.07  -2.70  0.33  \n",
       "587  0.005  50.293   7.73  -2.71  0.33  \n",
       "588  0.005  50.292   7.39  -2.71  0.33  \n",
       "589  0.005  50.118   7.05  -2.70  0.33  \n",
       "590  0.005  49.775   6.71  -2.68  0.33  \n",
       "591  0.005  48.607   6.04  -2.62  0.33  \n",
       "592  0.004  47.798   5.71  -2.58  0.33  \n",
       "593  0.004  46.853   5.39  -2.54  0.33  \n",
       "594  0.004  45.781   5.08  -2.48  0.33  \n",
       "595  0.004  44.596   4.77  -2.42  0.34  \n",
       "596  0.005  50.118  -7.44  -2.67  0.34  \n",
       "597  0.005  50.292  -7.81  -2.68  0.33  \n",
       "598  0.005  50.290  -8.16  -2.68  0.33  \n",
       "599  0.005  50.116  -8.51  -2.67  0.33  \n",
       "600  0.005  49.770  -8.84  -2.66  0.33  \n",
       "601  0.005  48.600  -9.48  -2.60  0.33  \n",
       "602  0.004  47.788  -9.79  -2.56  0.33  \n",
       "603  0.004  46.844 -10.09  -2.51  0.34  \n",
       "604  0.004  45.766 -10.37  -2.46  0.34  \n",
       "605  0.004  44.582 -10.63  -2.40  0.34  \n",
       "606  0.005  49.238   8.75  -2.66  0.34  \n",
       "607  0.005  49.766   8.41  -2.68  0.34  \n",
       "608  0.005  49.239  -6.72  -2.63  0.34  \n",
       "609  0.005  49.767  -7.08  -2.66  0.34  \n",
       "610  0.005  48.969   8.99  -2.64  0.32  \n",
       "611  0.005  49.609   8.66  -2.68  0.32  \n",
       "612  0.005  50.075   8.32  -2.70  0.32  \n",
       "613  0.005  50.366   7.98  -2.71  0.32  \n",
       "614  0.005  50.480   7.64  -2.72  0.32  \n",
       "615  0.005  50.419   7.29  -2.72  0.32  \n",
       "616  0.005  50.187   6.95  -2.70  0.31  \n",
       "617  0.005  49.230   6.28  -2.66  0.32  \n",
       "618  0.005  48.519   5.95  -2.62  0.32  \n",
       "619  0.004  47.664   5.62  -2.58  0.32  \n",
       "620  0.004  46.677   5.31  -2.53  0.32  \n",
       "621  0.004  45.568   5.00  -2.47  0.32  \n",
       "622  0.005  48.972  -6.50  -2.62  0.33  \n",
       "623  0.005  49.610  -6.87  -2.65  0.32  \n",
       "624  0.005  50.076  -7.24  -2.67  0.32  \n",
       "625  0.005  50.365  -7.60  -2.69  0.32  \n",
       "626  0.005  50.479  -7.96  -2.69  0.32  \n",
       "627  0.005  50.417  -8.30  -2.69  0.32  \n",
       "628  0.005  50.183  -8.65  -2.68  0.32  \n",
       "629  0.005  49.222  -9.31  -2.63  0.32  \n",
       "630  0.005  48.512  -9.63  -2.59  0.32  \n",
       "631  0.004  47.652  -9.93  -2.55  0.32  \n",
       "632  0.004  46.666 -10.21  -2.50  0.32  \n",
       "633  0.004  45.550 -10.47  -2.45  0.32  "
      ]
     },
     "execution_count": 176,
     "metadata": {},
     "output_type": "execute_result"
    }
   ],
   "source": [
    "df.iloc[-50:]"
   ]
  },
  {
   "cell_type": "code",
   "execution_count": 168,
   "id": "ba8e6631-93aa-4b45-942e-84edef44ca55",
   "metadata": {},
   "outputs": [
    {
     "data": {
      "application/vnd.plotly.v1+json": {
       "config": {
        "plotlyServerURL": "https://plot.ly"
       },
       "data": [
        {
         "type": "scatter",
         "x": [
          "2022-04-06T10:00:00",
          "2022-04-06T10:00:00",
          "2022-04-06T10:00:00",
          "2022-04-06T10:00:00",
          "2022-04-06T10:00:00",
          "2022-04-06T10:00:00",
          "2022-04-06T10:00:00",
          "2022-04-06T10:00:00",
          "2022-04-06T10:00:00",
          "2022-04-06T10:00:00",
          "2022-04-06T10:00:00",
          "2022-04-06T10:00:00",
          "2022-04-06T11:00:00",
          "2022-04-06T11:00:00",
          "2022-04-06T11:00:00",
          "2022-04-06T11:00:00",
          "2022-04-06T11:00:00",
          "2022-04-06T11:00:00",
          "2022-04-06T11:00:00",
          "2022-04-06T11:00:00",
          "2022-04-06T11:00:00",
          "2022-04-06T11:00:00",
          "2022-04-06T11:00:00",
          "2022-04-06T11:00:00",
          "2022-04-06T11:00:00",
          "2022-04-06T11:00:00",
          "2022-04-06T12:00:00",
          "2022-04-06T12:00:00",
          "2022-04-06T12:00:00",
          "2022-04-06T12:00:00",
          "2022-04-06T12:00:00",
          "2022-04-06T12:00:00",
          "2022-04-06T12:00:00",
          "2022-04-06T12:00:00",
          "2022-04-06T12:00:00",
          "2022-04-06T12:00:00",
          "2022-04-06T12:00:00",
          "2022-04-06T12:00:00",
          "2022-04-06T12:00:00",
          "2022-04-06T12:00:00",
          "2022-04-06T13:00:00",
          "2022-04-06T13:00:00",
          "2022-04-06T13:00:00",
          "2022-04-06T13:00:00",
          "2022-04-06T13:00:00",
          "2022-04-06T13:00:00",
          "2022-04-06T13:00:00",
          "2022-04-06T13:00:00",
          "2022-04-06T13:00:00",
          "2022-04-06T13:00:00",
          "2022-04-06T13:00:00",
          "2022-04-06T13:00:00",
          "2022-04-06T13:00:00",
          "2022-04-06T13:00:00",
          "2022-04-06T13:00:00",
          "2022-04-06T13:00:00",
          "2022-04-06T13:00:00",
          "2022-04-06T13:00:00",
          "2022-04-06T14:00:00",
          "2022-04-06T14:00:00",
          "2022-04-06T14:00:00",
          "2022-04-06T14:00:00",
          "2022-04-06T14:00:00",
          "2022-04-06T14:00:00",
          "2022-04-06T14:00:00",
          "2022-04-06T14:00:00",
          "2022-04-06T14:00:00",
          "2022-04-06T14:00:00",
          "2022-04-06T14:00:00",
          "2022-04-06T14:00:00",
          "2022-04-06T14:00:00",
          "2022-04-06T14:00:00",
          "2022-04-06T14:00:00",
          "2022-04-06T14:00:00",
          "2022-04-06T14:00:00",
          "2022-04-06T14:00:00",
          "2022-04-06T14:00:00",
          "2022-04-06T14:00:00",
          "2022-04-06T15:00:00",
          "2022-04-06T15:00:00",
          "2022-04-06T15:00:00",
          "2022-04-06T15:00:00",
          "2022-04-06T15:00:00",
          "2022-04-06T15:00:00",
          "2022-04-06T15:00:00",
          "2022-04-06T15:00:00",
          "2022-04-06T15:00:00",
          "2022-04-06T15:00:00",
          "2022-04-06T15:00:00",
          "2022-04-06T15:00:00",
          "2022-04-06T15:00:00",
          "2022-04-06T15:00:00",
          "2022-04-06T15:00:00",
          "2022-04-06T15:00:00",
          "2022-04-06T15:00:00",
          "2022-04-06T15:00:00",
          "2022-04-06T15:00:00",
          "2022-04-06T15:00:00",
          "2022-04-06T15:00:00",
          "2022-04-06T15:00:00",
          "2022-04-06T16:00:00",
          "2022-04-06T16:00:00",
          "2022-04-06T16:00:00",
          "2022-04-06T16:00:00",
          "2022-04-06T16:00:00",
          "2022-04-06T16:00:00",
          "2022-04-06T16:00:00",
          "2022-04-06T16:00:00",
          "2022-04-06T16:00:00",
          "2022-04-06T16:00:00",
          "2022-04-06T16:00:00",
          "2022-04-06T16:00:00",
          "2022-04-06T16:00:00",
          "2022-04-06T16:00:00",
          "2022-04-06T16:00:00",
          "2022-04-06T16:00:00",
          "2022-04-06T16:00:00",
          "2022-04-06T16:00:00",
          "2022-04-06T16:00:00",
          "2022-04-06T16:00:00",
          "2022-04-06T16:00:00",
          "2022-04-06T16:00:00",
          "2022-04-07T10:00:00",
          "2022-04-07T10:00:00",
          "2022-04-07T10:00:00",
          "2022-04-07T10:00:00",
          "2022-04-07T10:00:00",
          "2022-04-07T10:00:00",
          "2022-04-07T10:00:00",
          "2022-04-07T10:00:00",
          "2022-04-07T10:00:00",
          "2022-04-07T10:00:00",
          "2022-04-07T10:00:00",
          "2022-04-07T10:00:00",
          "2022-04-07T11:00:00",
          "2022-04-07T11:00:00",
          "2022-04-07T11:00:00",
          "2022-04-07T11:00:00",
          "2022-04-07T11:00:00",
          "2022-04-07T11:00:00",
          "2022-04-07T11:00:00",
          "2022-04-07T11:00:00",
          "2022-04-07T11:00:00",
          "2022-04-07T11:00:00",
          "2022-04-07T11:00:00",
          "2022-04-07T11:00:00",
          "2022-04-07T11:00:00",
          "2022-04-07T11:00:00",
          "2022-04-07T11:00:00",
          "2022-04-07T11:00:00",
          "2022-04-07T11:00:00",
          "2022-04-07T11:00:00",
          "2022-04-07T12:00:00",
          "2022-04-07T12:00:00",
          "2022-04-07T12:00:00",
          "2022-04-07T12:00:00",
          "2022-04-07T12:00:00",
          "2022-04-07T12:00:00",
          "2022-04-07T12:00:00",
          "2022-04-07T12:00:00",
          "2022-04-07T12:00:00",
          "2022-04-07T12:00:00",
          "2022-04-07T12:00:00",
          "2022-04-07T12:00:00",
          "2022-04-07T12:00:00",
          "2022-04-07T12:00:00",
          "2022-04-07T12:00:00",
          "2022-04-07T12:00:00",
          "2022-04-07T12:00:00",
          "2022-04-07T12:00:00",
          "2022-04-07T12:00:00",
          "2022-04-07T12:00:00",
          "2022-04-07T12:00:00",
          "2022-04-07T12:00:00",
          "2022-04-07T13:00:00",
          "2022-04-07T13:00:00",
          "2022-04-07T13:00:00",
          "2022-04-07T13:00:00",
          "2022-04-07T13:00:00",
          "2022-04-07T13:00:00",
          "2022-04-07T13:00:00",
          "2022-04-07T13:00:00",
          "2022-04-07T13:00:00",
          "2022-04-07T13:00:00",
          "2022-04-07T13:00:00",
          "2022-04-07T13:00:00",
          "2022-04-07T13:00:00",
          "2022-04-07T13:00:00",
          "2022-04-07T13:00:00",
          "2022-04-07T13:00:00",
          "2022-04-07T13:00:00",
          "2022-04-07T13:00:00",
          "2022-04-07T13:00:00",
          "2022-04-07T13:00:00",
          "2022-04-07T13:00:00",
          "2022-04-07T13:00:00",
          "2022-04-07T13:00:00",
          "2022-04-07T13:00:00",
          "2022-04-07T14:00:00",
          "2022-04-07T14:00:00",
          "2022-04-07T14:00:00",
          "2022-04-07T14:00:00",
          "2022-04-07T14:00:00",
          "2022-04-07T14:00:00",
          "2022-04-07T14:00:00",
          "2022-04-07T14:00:00",
          "2022-04-07T14:00:00",
          "2022-04-07T14:00:00",
          "2022-04-07T14:00:00",
          "2022-04-07T14:00:00",
          "2022-04-07T14:00:00",
          "2022-04-07T14:00:00",
          "2022-04-07T14:00:00",
          "2022-04-07T14:00:00",
          "2022-04-07T14:00:00",
          "2022-04-07T14:00:00",
          "2022-04-07T14:00:00",
          "2022-04-07T14:00:00",
          "2022-04-07T14:00:00",
          "2022-04-07T14:00:00",
          "2022-04-07T14:00:00",
          "2022-04-07T14:00:00",
          "2022-04-07T14:00:00",
          "2022-04-07T14:00:00",
          "2022-04-07T15:00:00",
          "2022-04-07T15:00:00",
          "2022-04-07T15:00:00",
          "2022-04-07T15:00:00",
          "2022-04-07T15:00:00",
          "2022-04-07T15:00:00",
          "2022-04-07T15:00:00",
          "2022-04-07T15:00:00",
          "2022-04-07T15:00:00",
          "2022-04-07T15:00:00",
          "2022-04-07T15:00:00",
          "2022-04-07T15:00:00",
          "2022-04-07T15:00:00",
          "2022-04-07T15:00:00",
          "2022-04-07T15:00:00",
          "2022-04-07T15:00:00",
          "2022-04-07T15:00:00",
          "2022-04-07T15:00:00",
          "2022-04-07T15:00:00",
          "2022-04-07T15:00:00",
          "2022-04-07T15:00:00",
          "2022-04-07T15:00:00",
          "2022-04-07T15:00:00",
          "2022-04-07T15:00:00",
          "2022-04-07T15:00:00",
          "2022-04-07T15:00:00",
          "2022-04-07T15:00:00",
          "2022-04-07T15:00:00",
          "2022-04-07T15:00:00",
          "2022-04-07T15:00:00",
          "2022-04-07T16:00:00",
          "2022-04-07T16:00:00",
          "2022-04-07T16:00:00",
          "2022-04-07T16:00:00",
          "2022-04-07T16:00:00",
          "2022-04-07T16:00:00",
          "2022-04-07T16:00:00",
          "2022-04-07T16:00:00",
          "2022-04-07T16:00:00",
          "2022-04-07T16:00:00",
          "2022-04-07T16:00:00",
          "2022-04-07T16:00:00",
          "2022-04-07T16:00:00",
          "2022-04-07T16:00:00",
          "2022-04-07T16:00:00",
          "2022-04-07T16:00:00",
          "2022-04-07T16:00:00",
          "2022-04-07T16:00:00",
          "2022-04-07T16:00:00",
          "2022-04-07T16:00:00",
          "2022-04-07T16:00:00",
          "2022-04-07T16:00:00",
          "2022-04-07T16:00:00",
          "2022-04-07T16:00:00",
          "2022-04-07T16:00:00",
          "2022-04-07T16:00:00",
          "2022-04-07T16:00:00",
          "2022-04-07T16:00:00",
          "2022-04-07T16:00:00",
          "2022-04-07T16:00:00",
          "2022-04-08T10:00:00",
          "2022-04-08T10:00:00",
          "2022-04-08T10:00:00",
          "2022-04-08T10:00:00",
          "2022-04-08T10:00:00",
          "2022-04-08T10:00:00",
          "2022-04-08T10:00:00",
          "2022-04-08T10:00:00",
          "2022-04-08T10:00:00",
          "2022-04-08T10:00:00",
          "2022-04-08T10:00:00",
          "2022-04-08T10:00:00",
          "2022-04-08T11:00:00",
          "2022-04-08T11:00:00",
          "2022-04-08T11:00:00",
          "2022-04-08T11:00:00",
          "2022-04-08T11:00:00",
          "2022-04-08T11:00:00",
          "2022-04-08T11:00:00",
          "2022-04-08T11:00:00",
          "2022-04-08T11:00:00",
          "2022-04-08T11:00:00",
          "2022-04-08T11:00:00",
          "2022-04-08T11:00:00",
          "2022-04-08T12:00:00",
          "2022-04-08T12:00:00",
          "2022-04-08T12:00:00",
          "2022-04-08T12:00:00",
          "2022-04-08T12:00:00",
          "2022-04-08T12:00:00",
          "2022-04-08T12:00:00",
          "2022-04-08T12:00:00",
          "2022-04-08T12:00:00",
          "2022-04-08T12:00:00",
          "2022-04-08T12:00:00",
          "2022-04-08T12:00:00",
          "2022-04-08T12:00:00",
          "2022-04-08T12:00:00",
          "2022-04-08T13:00:00",
          "2022-04-08T13:00:00",
          "2022-04-08T13:00:00",
          "2022-04-08T13:00:00",
          "2022-04-08T13:00:00",
          "2022-04-08T13:00:00",
          "2022-04-08T13:00:00",
          "2022-04-08T13:00:00",
          "2022-04-08T13:00:00",
          "2022-04-08T13:00:00",
          "2022-04-08T13:00:00",
          "2022-04-08T13:00:00",
          "2022-04-08T13:00:00",
          "2022-04-08T13:00:00",
          "2022-04-08T14:00:00",
          "2022-04-08T14:00:00",
          "2022-04-08T14:00:00",
          "2022-04-08T14:00:00",
          "2022-04-08T14:00:00",
          "2022-04-08T14:00:00",
          "2022-04-08T14:00:00",
          "2022-04-08T14:00:00",
          "2022-04-08T14:00:00",
          "2022-04-08T14:00:00",
          "2022-04-08T14:00:00",
          "2022-04-08T14:00:00",
          "2022-04-08T14:00:00",
          "2022-04-08T14:00:00",
          "2022-04-08T14:00:00",
          "2022-04-08T14:00:00",
          "2022-04-08T15:00:00",
          "2022-04-08T15:00:00",
          "2022-04-08T15:00:00",
          "2022-04-08T15:00:00",
          "2022-04-08T15:00:00",
          "2022-04-08T15:00:00",
          "2022-04-08T15:00:00",
          "2022-04-08T15:00:00",
          "2022-04-08T15:00:00",
          "2022-04-08T15:00:00",
          "2022-04-08T15:00:00",
          "2022-04-08T15:00:00",
          "2022-04-08T15:00:00",
          "2022-04-08T15:00:00",
          "2022-04-08T15:00:00",
          "2022-04-08T15:00:00",
          "2022-04-08T16:00:00",
          "2022-04-08T16:00:00",
          "2022-04-08T16:00:00",
          "2022-04-08T16:00:00",
          "2022-04-08T16:00:00",
          "2022-04-08T16:00:00",
          "2022-04-08T16:00:00",
          "2022-04-08T16:00:00",
          "2022-04-08T16:00:00",
          "2022-04-08T16:00:00",
          "2022-04-08T16:00:00",
          "2022-04-08T16:00:00",
          "2022-04-08T16:00:00",
          "2022-04-08T16:00:00",
          "2022-04-08T16:00:00",
          "2022-04-08T16:00:00",
          "2022-04-11T10:00:00",
          "2022-04-11T10:00:00",
          "2022-04-11T10:00:00",
          "2022-04-11T10:00:00",
          "2022-04-11T10:00:00",
          "2022-04-11T10:00:00",
          "2022-04-11T10:00:00",
          "2022-04-11T10:00:00",
          "2022-04-11T10:00:00",
          "2022-04-11T10:00:00",
          "2022-04-11T10:00:00",
          "2022-04-11T10:00:00",
          "2022-04-11T11:00:00",
          "2022-04-11T11:00:00",
          "2022-04-11T11:00:00",
          "2022-04-11T11:00:00",
          "2022-04-11T11:00:00",
          "2022-04-11T11:00:00",
          "2022-04-11T11:00:00",
          "2022-04-11T11:00:00",
          "2022-04-11T11:00:00",
          "2022-04-11T11:00:00",
          "2022-04-11T11:00:00",
          "2022-04-11T11:00:00",
          "2022-04-11T11:00:00",
          "2022-04-11T11:00:00",
          "2022-04-11T12:00:00",
          "2022-04-11T12:00:00",
          "2022-04-11T12:00:00",
          "2022-04-11T12:00:00",
          "2022-04-11T12:00:00",
          "2022-04-11T12:00:00",
          "2022-04-11T12:00:00",
          "2022-04-11T12:00:00",
          "2022-04-11T12:00:00",
          "2022-04-11T12:00:00",
          "2022-04-11T12:00:00",
          "2022-04-11T12:00:00",
          "2022-04-11T12:00:00",
          "2022-04-11T12:00:00",
          "2022-04-11T12:00:00",
          "2022-04-11T12:00:00",
          "2022-04-11T13:00:00",
          "2022-04-11T13:00:00",
          "2022-04-11T13:00:00",
          "2022-04-11T13:00:00",
          "2022-04-11T13:00:00",
          "2022-04-11T13:00:00",
          "2022-04-11T13:00:00",
          "2022-04-11T13:00:00",
          "2022-04-11T13:00:00",
          "2022-04-11T13:00:00",
          "2022-04-11T13:00:00",
          "2022-04-11T13:00:00",
          "2022-04-11T13:00:00",
          "2022-04-11T13:00:00",
          "2022-04-11T13:00:00",
          "2022-04-11T13:00:00",
          "2022-04-11T14:00:00",
          "2022-04-11T14:00:00",
          "2022-04-11T14:00:00",
          "2022-04-11T14:00:00",
          "2022-04-11T14:00:00",
          "2022-04-11T14:00:00",
          "2022-04-11T14:00:00",
          "2022-04-11T14:00:00",
          "2022-04-11T14:00:00",
          "2022-04-11T14:00:00",
          "2022-04-11T14:00:00",
          "2022-04-11T14:00:00",
          "2022-04-11T14:00:00",
          "2022-04-11T14:00:00",
          "2022-04-11T14:00:00",
          "2022-04-11T14:00:00",
          "2022-04-11T15:00:00",
          "2022-04-11T15:00:00",
          "2022-04-11T15:00:00",
          "2022-04-11T15:00:00",
          "2022-04-11T15:00:00",
          "2022-04-11T15:00:00",
          "2022-04-11T15:00:00",
          "2022-04-11T15:00:00",
          "2022-04-11T15:00:00",
          "2022-04-11T15:00:00",
          "2022-04-11T15:00:00",
          "2022-04-11T15:00:00",
          "2022-04-11T15:00:00",
          "2022-04-11T15:00:00",
          "2022-04-11T15:00:00",
          "2022-04-11T15:00:00",
          "2022-04-11T16:00:00",
          "2022-04-11T16:00:00",
          "2022-04-11T16:00:00",
          "2022-04-11T16:00:00",
          "2022-04-11T16:00:00",
          "2022-04-11T16:00:00",
          "2022-04-11T16:00:00",
          "2022-04-11T16:00:00",
          "2022-04-11T16:00:00",
          "2022-04-11T16:00:00",
          "2022-04-11T16:00:00",
          "2022-04-11T16:00:00",
          "2022-04-11T16:00:00",
          "2022-04-11T16:00:00",
          "2022-04-11T16:00:00",
          "2022-04-11T16:00:00",
          "2022-04-11T16:00:00",
          "2022-04-11T16:00:00",
          "2022-04-12T10:00:00",
          "2022-04-12T10:00:00",
          "2022-04-12T10:00:00",
          "2022-04-12T10:00:00",
          "2022-04-12T10:00:00",
          "2022-04-12T10:00:00",
          "2022-04-12T10:00:00",
          "2022-04-12T10:00:00",
          "2022-04-12T10:00:00",
          "2022-04-12T10:00:00",
          "2022-04-12T10:00:00",
          "2022-04-12T10:00:00",
          "2022-04-12T11:00:00",
          "2022-04-12T11:00:00",
          "2022-04-12T11:00:00",
          "2022-04-12T11:00:00",
          "2022-04-12T11:00:00",
          "2022-04-12T11:00:00",
          "2022-04-12T11:00:00",
          "2022-04-12T11:00:00",
          "2022-04-12T11:00:00",
          "2022-04-12T11:00:00",
          "2022-04-12T11:00:00",
          "2022-04-12T11:00:00",
          "2022-04-12T11:00:00",
          "2022-04-12T11:00:00",
          "2022-04-12T11:00:00",
          "2022-04-12T11:00:00",
          "2022-04-12T11:00:00",
          "2022-04-12T11:00:00",
          "2022-04-12T11:00:00",
          "2022-04-12T11:00:00",
          "2022-04-12T12:00:00",
          "2022-04-12T12:00:00",
          "2022-04-12T12:00:00",
          "2022-04-12T12:00:00",
          "2022-04-12T12:00:00",
          "2022-04-12T12:00:00",
          "2022-04-12T12:00:00",
          "2022-04-12T12:00:00",
          "2022-04-12T12:00:00",
          "2022-04-12T12:00:00",
          "2022-04-12T12:00:00",
          "2022-04-12T12:00:00",
          "2022-04-12T12:00:00",
          "2022-04-12T12:00:00",
          "2022-04-12T12:00:00",
          "2022-04-12T12:00:00",
          "2022-04-12T12:00:00",
          "2022-04-12T12:00:00",
          "2022-04-12T12:00:00",
          "2022-04-12T12:00:00",
          "2022-04-12T13:00:00",
          "2022-04-12T13:00:00",
          "2022-04-12T13:00:00",
          "2022-04-12T13:00:00",
          "2022-04-12T13:00:00",
          "2022-04-12T13:00:00",
          "2022-04-12T13:00:00",
          "2022-04-12T13:00:00",
          "2022-04-12T13:00:00",
          "2022-04-12T13:00:00",
          "2022-04-12T13:00:00",
          "2022-04-12T13:00:00",
          "2022-04-12T13:00:00",
          "2022-04-12T13:00:00",
          "2022-04-12T13:00:00",
          "2022-04-12T13:00:00",
          "2022-04-12T13:00:00",
          "2022-04-12T13:00:00",
          "2022-04-12T13:00:00",
          "2022-04-12T13:00:00",
          "2022-04-12T14:00:00",
          "2022-04-12T14:00:00",
          "2022-04-12T14:00:00",
          "2022-04-12T14:00:00",
          "2022-04-12T14:00:00",
          "2022-04-12T14:00:00",
          "2022-04-12T14:00:00",
          "2022-04-12T14:00:00",
          "2022-04-12T14:00:00",
          "2022-04-12T14:00:00",
          "2022-04-12T14:00:00",
          "2022-04-12T14:00:00",
          "2022-04-12T14:00:00",
          "2022-04-12T14:00:00",
          "2022-04-12T14:00:00",
          "2022-04-12T14:00:00",
          "2022-04-12T14:00:00",
          "2022-04-12T14:00:00",
          "2022-04-12T14:00:00",
          "2022-04-12T14:00:00",
          "2022-04-12T14:00:00",
          "2022-04-12T14:00:00",
          "2022-04-12T15:00:00",
          "2022-04-12T15:00:00",
          "2022-04-12T15:00:00",
          "2022-04-12T15:00:00",
          "2022-04-12T15:00:00",
          "2022-04-12T15:00:00",
          "2022-04-12T15:00:00",
          "2022-04-12T15:00:00",
          "2022-04-12T15:00:00",
          "2022-04-12T15:00:00",
          "2022-04-12T15:00:00",
          "2022-04-12T15:00:00",
          "2022-04-12T15:00:00",
          "2022-04-12T15:00:00",
          "2022-04-12T15:00:00",
          "2022-04-12T15:00:00",
          "2022-04-12T15:00:00",
          "2022-04-12T15:00:00",
          "2022-04-12T15:00:00",
          "2022-04-12T15:00:00",
          "2022-04-12T15:00:00",
          "2022-04-12T15:00:00",
          "2022-04-12T15:00:00",
          "2022-04-12T15:00:00",
          "2022-04-12T16:00:00",
          "2022-04-12T16:00:00",
          "2022-04-12T16:00:00",
          "2022-04-12T16:00:00",
          "2022-04-12T16:00:00",
          "2022-04-12T16:00:00",
          "2022-04-12T16:00:00",
          "2022-04-12T16:00:00",
          "2022-04-12T16:00:00",
          "2022-04-12T16:00:00",
          "2022-04-12T16:00:00",
          "2022-04-12T16:00:00",
          "2022-04-12T16:00:00",
          "2022-04-12T16:00:00",
          "2022-04-12T16:00:00",
          "2022-04-12T16:00:00",
          "2022-04-12T16:00:00",
          "2022-04-12T16:00:00",
          "2022-04-12T16:00:00",
          "2022-04-12T16:00:00",
          "2022-04-12T16:00:00",
          "2022-04-12T16:00:00",
          "2022-04-12T16:00:00",
          "2022-04-12T16:00:00"
         ],
         "y": [
          0.47,
          0.46,
          0.46,
          0.46,
          0.46,
          0.45,
          0.47,
          0.47,
          0.46,
          0.46,
          0.46,
          0.46,
          0.46,
          0.46,
          0.45,
          0.45,
          0.45,
          0.45,
          0.46,
          0.46,
          0.46,
          0.45,
          0.45,
          0.45,
          0.46,
          0.46,
          0.46,
          0.46,
          0.46,
          0.45,
          0.45,
          0.45,
          0.45,
          0.47,
          0.46,
          0.46,
          0.46,
          0.46,
          0.45,
          0.45,
          0.47,
          0.47,
          0.46,
          0.46,
          0.46,
          0.46,
          0.46,
          0.47,
          0.47,
          0.46,
          0.46,
          0.46,
          0.46,
          0.46,
          0.47,
          0.47,
          0.47,
          0.47,
          0.47,
          0.47,
          0.46,
          0.47,
          0.46,
          0.46,
          0.46,
          0.45,
          0.46,
          0.47,
          0.45,
          0.46,
          0.47,
          0.45,
          0.46,
          0.44,
          0.45,
          0.46,
          0.45,
          0.44,
          0.45,
          0.45,
          0.45,
          0.45,
          0.45,
          0.45,
          0.44,
          0.44,
          0.44,
          0.44,
          0.46,
          0.46,
          0.46,
          0.45,
          0.45,
          0.45,
          0.45,
          0.45,
          0.45,
          0.44,
          0.44,
          0.44,
          0.46,
          0.46,
          0.46,
          0.46,
          0.45,
          0.45,
          0.45,
          0.45,
          0.45,
          0.45,
          0.45,
          0.46,
          0.46,
          0.46,
          0.46,
          0.46,
          0.46,
          0.46,
          0.45,
          0.45,
          0.45,
          0.45,
          0.45,
          0.44,
          0.44,
          0.45,
          0.44,
          0.44,
          0.44,
          0.44,
          0.44,
          0.44,
          0.44,
          0.44,
          0.44,
          0.44,
          0.44,
          0.44,
          0.44,
          0.45,
          0.44,
          0.44,
          0.44,
          0.44,
          0.45,
          0.45,
          0.45,
          0.44,
          0.45,
          0.45,
          0.45,
          0.45,
          0.46,
          0.46,
          0.46,
          0.45,
          0.45,
          0.45,
          0.45,
          0.46,
          0.46,
          0.46,
          0.46,
          0.45,
          0.45,
          0.45,
          0.47,
          0.46,
          0.46,
          0.46,
          0.47,
          0.47,
          0.46,
          0.46,
          0.48,
          0.48,
          0.47,
          0.47,
          0.47,
          0.47,
          0.47,
          0.47,
          0.47,
          0.47,
          0.47,
          0.48,
          0.48,
          0.48,
          0.47,
          0.47,
          0.47,
          0.47,
          0.47,
          0.47,
          0.47,
          0.47,
          0.48,
          0.48,
          0.46,
          0.46,
          0.46,
          0.46,
          0.46,
          0.45,
          0.45,
          0.45,
          0.45,
          0.45,
          0.45,
          0.45,
          0.47,
          0.46,
          0.46,
          0.46,
          0.46,
          0.46,
          0.46,
          0.46,
          0.46,
          0.45,
          0.45,
          0.46,
          0.45,
          0.45,
          0.47,
          0.47,
          0.46,
          0.46,
          0.46,
          0.46,
          0.46,
          0.46,
          0.45,
          0.45,
          0.45,
          0.45,
          0.45,
          0.47,
          0.47,
          0.47,
          0.46,
          0.46,
          0.46,
          0.46,
          0.46,
          0.46,
          0.46,
          0.46,
          0.46,
          0.46,
          0.45,
          0.45,
          0.46,
          0.46,
          0.46,
          0.45,
          0.45,
          0.45,
          0.45,
          0.45,
          0.45,
          0.45,
          0.44,
          0.45,
          0.44,
          0.45,
          0.44,
          0.44,
          0.44,
          0.46,
          0.46,
          0.46,
          0.46,
          0.46,
          0.45,
          0.45,
          0.45,
          0.45,
          0.45,
          0.45,
          0.45,
          0.45,
          0.45,
          0.45,
          0.46,
          0.45,
          0.45,
          0.45,
          0.45,
          0.45,
          0.46,
          0.46,
          0.46,
          0.46,
          0.46,
          0.45,
          0.44,
          0.44,
          0.44,
          0.44,
          0.44,
          0.45,
          0.44,
          0.44,
          0.44,
          0.44,
          0.44,
          0.44,
          0.43,
          0.43,
          0.43,
          0.42,
          0.43,
          0.43,
          0.42,
          0.42,
          0.42,
          0.42,
          0.42,
          0.42,
          0.43,
          0.43,
          0.42,
          0.41,
          0.41,
          0.41,
          0.41,
          0.41,
          0.42,
          0.42,
          0.42,
          0.42,
          0.42,
          0.42,
          0.41,
          0.42,
          0.42,
          0.41,
          0.41,
          0.41,
          0.41,
          0.41,
          0.41,
          0.42,
          0.41,
          0.41,
          0.41,
          0.41,
          0.41,
          0.41,
          0.42,
          0.42,
          0.4,
          0.4,
          0.4,
          0.4,
          0.4,
          0.4,
          0.4,
          0.4,
          0.4,
          0.4,
          0.4,
          0.4,
          0.4,
          0.4,
          0.4,
          0.4,
          0.38,
          0.38,
          0.38,
          0.38,
          0.38,
          0.38,
          0.38,
          0.39,
          0.39,
          0.39,
          0.39,
          0.39,
          0.39,
          0.39,
          0.39,
          0.39,
          0.43,
          0.43,
          0.43,
          0.43,
          0.42,
          0.42,
          0.43,
          0.43,
          0.43,
          0.42,
          0.42,
          0.42,
          0.43,
          0.43,
          0.42,
          0.42,
          0.42,
          0.42,
          0.43,
          0.43,
          0.43,
          0.42,
          0.42,
          0.42,
          0.43,
          0.43,
          0.4,
          0.4,
          0.4,
          0.39,
          0.39,
          0.39,
          0.39,
          0.4,
          0.4,
          0.4,
          0.4,
          0.39,
          0.39,
          0.39,
          0.4,
          0.4,
          0.4,
          0.4,
          0.39,
          0.39,
          0.39,
          0.39,
          0.39,
          0.39,
          0.4,
          0.4,
          0.4,
          0.4,
          0.39,
          0.39,
          0.39,
          0.39,
          0.4,
          0.39,
          0.39,
          0.39,
          0.39,
          0.39,
          0.39,
          0.39,
          0.4,
          0.4,
          0.4,
          0.4,
          0.39,
          0.39,
          0.39,
          0.39,
          0.4,
          0.4,
          0.4,
          0.4,
          0.4,
          0.4,
          0.39,
          0.39,
          0.4,
          0.4,
          0.4,
          0.4,
          0.4,
          0.4,
          0.4,
          0.4,
          0.42,
          0.42,
          0.41,
          0.41,
          0.41,
          0.41,
          0.41,
          0.41,
          0.42,
          0.42,
          0.42,
          0.42,
          0.42,
          0.42,
          0.42,
          0.42,
          0.42,
          0.42,
          0.37,
          0.37,
          0.37,
          0.37,
          0.37,
          0.37,
          0.37,
          0.37,
          0.37,
          0.37,
          0.37,
          0.37,
          0.36,
          0.36,
          0.36,
          0.36,
          0.36,
          0.36,
          0.36,
          0.36,
          0.36,
          0.36,
          0.36,
          0.36,
          0.37,
          0.36,
          0.36,
          0.36,
          0.37,
          0.37,
          0.36,
          0.36,
          0.34,
          0.34,
          0.34,
          0.34,
          0.34,
          0.34,
          0.33,
          0.34,
          0.34,
          0.34,
          0.35,
          0.34,
          0.34,
          0.34,
          0.34,
          0.34,
          0.34,
          0.34,
          0.34,
          0.34,
          0.34,
          0.34,
          0.34,
          0.34,
          0.33,
          0.33,
          0.33,
          0.33,
          0.33,
          0.34,
          0.34,
          0.34,
          0.34,
          0.34,
          0.33,
          0.33,
          0.33,
          0.33,
          0.34,
          0.34,
          0.35,
          0.34,
          0.34,
          0.34,
          0.34,
          0.34,
          0.34,
          0.34,
          0.34,
          0.34,
          0.35,
          0.34,
          0.34,
          0.34,
          0.34,
          0.34,
          0.34,
          0.34,
          0.34,
          0.34,
          0.35,
          0.35,
          0.33,
          0.33,
          0.33,
          0.33,
          0.33,
          0.33,
          0.33,
          0.33,
          0.33,
          0.34,
          0.34,
          0.33,
          0.33,
          0.33,
          0.33,
          0.33,
          0.33,
          0.34,
          0.34,
          0.34,
          0.34,
          0.34,
          0.34,
          0.34,
          0.32,
          0.32,
          0.32,
          0.32,
          0.32,
          0.32,
          0.31,
          0.32,
          0.32,
          0.32,
          0.32,
          0.32,
          0.33,
          0.32,
          0.32,
          0.32,
          0.32,
          0.32,
          0.32,
          0.32,
          0.32,
          0.32,
          0.32,
          0.32
         ]
        }
       ],
       "layout": {
        "autosize": true,
        "dragmode": "pan",
        "template": {
         "data": {
          "bar": [
           {
            "error_x": {
             "color": "#2a3f5f"
            },
            "error_y": {
             "color": "#2a3f5f"
            },
            "marker": {
             "line": {
              "color": "#E5ECF6",
              "width": 0.5
             },
             "pattern": {
              "fillmode": "overlay",
              "size": 10,
              "solidity": 0.2
             }
            },
            "type": "bar"
           }
          ],
          "barpolar": [
           {
            "marker": {
             "line": {
              "color": "#E5ECF6",
              "width": 0.5
             },
             "pattern": {
              "fillmode": "overlay",
              "size": 10,
              "solidity": 0.2
             }
            },
            "type": "barpolar"
           }
          ],
          "carpet": [
           {
            "aaxis": {
             "endlinecolor": "#2a3f5f",
             "gridcolor": "white",
             "linecolor": "white",
             "minorgridcolor": "white",
             "startlinecolor": "#2a3f5f"
            },
            "baxis": {
             "endlinecolor": "#2a3f5f",
             "gridcolor": "white",
             "linecolor": "white",
             "minorgridcolor": "white",
             "startlinecolor": "#2a3f5f"
            },
            "type": "carpet"
           }
          ],
          "choropleth": [
           {
            "colorbar": {
             "outlinewidth": 0,
             "ticks": ""
            },
            "type": "choropleth"
           }
          ],
          "contour": [
           {
            "colorbar": {
             "outlinewidth": 0,
             "ticks": ""
            },
            "colorscale": [
             [
              0,
              "#0d0887"
             ],
             [
              0.1111111111111111,
              "#46039f"
             ],
             [
              0.2222222222222222,
              "#7201a8"
             ],
             [
              0.3333333333333333,
              "#9c179e"
             ],
             [
              0.4444444444444444,
              "#bd3786"
             ],
             [
              0.5555555555555556,
              "#d8576b"
             ],
             [
              0.6666666666666666,
              "#ed7953"
             ],
             [
              0.7777777777777778,
              "#fb9f3a"
             ],
             [
              0.8888888888888888,
              "#fdca26"
             ],
             [
              1,
              "#f0f921"
             ]
            ],
            "type": "contour"
           }
          ],
          "contourcarpet": [
           {
            "colorbar": {
             "outlinewidth": 0,
             "ticks": ""
            },
            "type": "contourcarpet"
           }
          ],
          "heatmap": [
           {
            "colorbar": {
             "outlinewidth": 0,
             "ticks": ""
            },
            "colorscale": [
             [
              0,
              "#0d0887"
             ],
             [
              0.1111111111111111,
              "#46039f"
             ],
             [
              0.2222222222222222,
              "#7201a8"
             ],
             [
              0.3333333333333333,
              "#9c179e"
             ],
             [
              0.4444444444444444,
              "#bd3786"
             ],
             [
              0.5555555555555556,
              "#d8576b"
             ],
             [
              0.6666666666666666,
              "#ed7953"
             ],
             [
              0.7777777777777778,
              "#fb9f3a"
             ],
             [
              0.8888888888888888,
              "#fdca26"
             ],
             [
              1,
              "#f0f921"
             ]
            ],
            "type": "heatmap"
           }
          ],
          "heatmapgl": [
           {
            "colorbar": {
             "outlinewidth": 0,
             "ticks": ""
            },
            "colorscale": [
             [
              0,
              "#0d0887"
             ],
             [
              0.1111111111111111,
              "#46039f"
             ],
             [
              0.2222222222222222,
              "#7201a8"
             ],
             [
              0.3333333333333333,
              "#9c179e"
             ],
             [
              0.4444444444444444,
              "#bd3786"
             ],
             [
              0.5555555555555556,
              "#d8576b"
             ],
             [
              0.6666666666666666,
              "#ed7953"
             ],
             [
              0.7777777777777778,
              "#fb9f3a"
             ],
             [
              0.8888888888888888,
              "#fdca26"
             ],
             [
              1,
              "#f0f921"
             ]
            ],
            "type": "heatmapgl"
           }
          ],
          "histogram": [
           {
            "marker": {
             "pattern": {
              "fillmode": "overlay",
              "size": 10,
              "solidity": 0.2
             }
            },
            "type": "histogram"
           }
          ],
          "histogram2d": [
           {
            "colorbar": {
             "outlinewidth": 0,
             "ticks": ""
            },
            "colorscale": [
             [
              0,
              "#0d0887"
             ],
             [
              0.1111111111111111,
              "#46039f"
             ],
             [
              0.2222222222222222,
              "#7201a8"
             ],
             [
              0.3333333333333333,
              "#9c179e"
             ],
             [
              0.4444444444444444,
              "#bd3786"
             ],
             [
              0.5555555555555556,
              "#d8576b"
             ],
             [
              0.6666666666666666,
              "#ed7953"
             ],
             [
              0.7777777777777778,
              "#fb9f3a"
             ],
             [
              0.8888888888888888,
              "#fdca26"
             ],
             [
              1,
              "#f0f921"
             ]
            ],
            "type": "histogram2d"
           }
          ],
          "histogram2dcontour": [
           {
            "colorbar": {
             "outlinewidth": 0,
             "ticks": ""
            },
            "colorscale": [
             [
              0,
              "#0d0887"
             ],
             [
              0.1111111111111111,
              "#46039f"
             ],
             [
              0.2222222222222222,
              "#7201a8"
             ],
             [
              0.3333333333333333,
              "#9c179e"
             ],
             [
              0.4444444444444444,
              "#bd3786"
             ],
             [
              0.5555555555555556,
              "#d8576b"
             ],
             [
              0.6666666666666666,
              "#ed7953"
             ],
             [
              0.7777777777777778,
              "#fb9f3a"
             ],
             [
              0.8888888888888888,
              "#fdca26"
             ],
             [
              1,
              "#f0f921"
             ]
            ],
            "type": "histogram2dcontour"
           }
          ],
          "mesh3d": [
           {
            "colorbar": {
             "outlinewidth": 0,
             "ticks": ""
            },
            "type": "mesh3d"
           }
          ],
          "parcoords": [
           {
            "line": {
             "colorbar": {
              "outlinewidth": 0,
              "ticks": ""
             }
            },
            "type": "parcoords"
           }
          ],
          "pie": [
           {
            "automargin": true,
            "type": "pie"
           }
          ],
          "scatter": [
           {
            "marker": {
             "colorbar": {
              "outlinewidth": 0,
              "ticks": ""
             }
            },
            "type": "scatter"
           }
          ],
          "scatter3d": [
           {
            "line": {
             "colorbar": {
              "outlinewidth": 0,
              "ticks": ""
             }
            },
            "marker": {
             "colorbar": {
              "outlinewidth": 0,
              "ticks": ""
             }
            },
            "type": "scatter3d"
           }
          ],
          "scattercarpet": [
           {
            "marker": {
             "colorbar": {
              "outlinewidth": 0,
              "ticks": ""
             }
            },
            "type": "scattercarpet"
           }
          ],
          "scattergeo": [
           {
            "marker": {
             "colorbar": {
              "outlinewidth": 0,
              "ticks": ""
             }
            },
            "type": "scattergeo"
           }
          ],
          "scattergl": [
           {
            "marker": {
             "colorbar": {
              "outlinewidth": 0,
              "ticks": ""
             }
            },
            "type": "scattergl"
           }
          ],
          "scattermapbox": [
           {
            "marker": {
             "colorbar": {
              "outlinewidth": 0,
              "ticks": ""
             }
            },
            "type": "scattermapbox"
           }
          ],
          "scatterpolar": [
           {
            "marker": {
             "colorbar": {
              "outlinewidth": 0,
              "ticks": ""
             }
            },
            "type": "scatterpolar"
           }
          ],
          "scatterpolargl": [
           {
            "marker": {
             "colorbar": {
              "outlinewidth": 0,
              "ticks": ""
             }
            },
            "type": "scatterpolargl"
           }
          ],
          "scatterternary": [
           {
            "marker": {
             "colorbar": {
              "outlinewidth": 0,
              "ticks": ""
             }
            },
            "type": "scatterternary"
           }
          ],
          "surface": [
           {
            "colorbar": {
             "outlinewidth": 0,
             "ticks": ""
            },
            "colorscale": [
             [
              0,
              "#0d0887"
             ],
             [
              0.1111111111111111,
              "#46039f"
             ],
             [
              0.2222222222222222,
              "#7201a8"
             ],
             [
              0.3333333333333333,
              "#9c179e"
             ],
             [
              0.4444444444444444,
              "#bd3786"
             ],
             [
              0.5555555555555556,
              "#d8576b"
             ],
             [
              0.6666666666666666,
              "#ed7953"
             ],
             [
              0.7777777777777778,
              "#fb9f3a"
             ],
             [
              0.8888888888888888,
              "#fdca26"
             ],
             [
              1,
              "#f0f921"
             ]
            ],
            "type": "surface"
           }
          ],
          "table": [
           {
            "cells": {
             "fill": {
              "color": "#EBF0F8"
             },
             "line": {
              "color": "white"
             }
            },
            "header": {
             "fill": {
              "color": "#C8D4E3"
             },
             "line": {
              "color": "white"
             }
            },
            "type": "table"
           }
          ]
         },
         "layout": {
          "annotationdefaults": {
           "arrowcolor": "#2a3f5f",
           "arrowhead": 0,
           "arrowwidth": 1
          },
          "autotypenumbers": "strict",
          "coloraxis": {
           "colorbar": {
            "outlinewidth": 0,
            "ticks": ""
           }
          },
          "colorscale": {
           "diverging": [
            [
             0,
             "#8e0152"
            ],
            [
             0.1,
             "#c51b7d"
            ],
            [
             0.2,
             "#de77ae"
            ],
            [
             0.3,
             "#f1b6da"
            ],
            [
             0.4,
             "#fde0ef"
            ],
            [
             0.5,
             "#f7f7f7"
            ],
            [
             0.6,
             "#e6f5d0"
            ],
            [
             0.7,
             "#b8e186"
            ],
            [
             0.8,
             "#7fbc41"
            ],
            [
             0.9,
             "#4d9221"
            ],
            [
             1,
             "#276419"
            ]
           ],
           "sequential": [
            [
             0,
             "#0d0887"
            ],
            [
             0.1111111111111111,
             "#46039f"
            ],
            [
             0.2222222222222222,
             "#7201a8"
            ],
            [
             0.3333333333333333,
             "#9c179e"
            ],
            [
             0.4444444444444444,
             "#bd3786"
            ],
            [
             0.5555555555555556,
             "#d8576b"
            ],
            [
             0.6666666666666666,
             "#ed7953"
            ],
            [
             0.7777777777777778,
             "#fb9f3a"
            ],
            [
             0.8888888888888888,
             "#fdca26"
            ],
            [
             1,
             "#f0f921"
            ]
           ],
           "sequentialminus": [
            [
             0,
             "#0d0887"
            ],
            [
             0.1111111111111111,
             "#46039f"
            ],
            [
             0.2222222222222222,
             "#7201a8"
            ],
            [
             0.3333333333333333,
             "#9c179e"
            ],
            [
             0.4444444444444444,
             "#bd3786"
            ],
            [
             0.5555555555555556,
             "#d8576b"
            ],
            [
             0.6666666666666666,
             "#ed7953"
            ],
            [
             0.7777777777777778,
             "#fb9f3a"
            ],
            [
             0.8888888888888888,
             "#fdca26"
            ],
            [
             1,
             "#f0f921"
            ]
           ]
          },
          "colorway": [
           "#636efa",
           "#EF553B",
           "#00cc96",
           "#ab63fa",
           "#FFA15A",
           "#19d3f3",
           "#FF6692",
           "#B6E880",
           "#FF97FF",
           "#FECB52"
          ],
          "font": {
           "color": "#2a3f5f"
          },
          "geo": {
           "bgcolor": "white",
           "lakecolor": "white",
           "landcolor": "#E5ECF6",
           "showlakes": true,
           "showland": true,
           "subunitcolor": "white"
          },
          "hoverlabel": {
           "align": "left"
          },
          "hovermode": "closest",
          "mapbox": {
           "style": "light"
          },
          "paper_bgcolor": "white",
          "plot_bgcolor": "#E5ECF6",
          "polar": {
           "angularaxis": {
            "gridcolor": "white",
            "linecolor": "white",
            "ticks": ""
           },
           "bgcolor": "#E5ECF6",
           "radialaxis": {
            "gridcolor": "white",
            "linecolor": "white",
            "ticks": ""
           }
          },
          "scene": {
           "xaxis": {
            "backgroundcolor": "#E5ECF6",
            "gridcolor": "white",
            "gridwidth": 2,
            "linecolor": "white",
            "showbackground": true,
            "ticks": "",
            "zerolinecolor": "white"
           },
           "yaxis": {
            "backgroundcolor": "#E5ECF6",
            "gridcolor": "white",
            "gridwidth": 2,
            "linecolor": "white",
            "showbackground": true,
            "ticks": "",
            "zerolinecolor": "white"
           },
           "zaxis": {
            "backgroundcolor": "#E5ECF6",
            "gridcolor": "white",
            "gridwidth": 2,
            "linecolor": "white",
            "showbackground": true,
            "ticks": "",
            "zerolinecolor": "white"
           }
          },
          "shapedefaults": {
           "line": {
            "color": "#2a3f5f"
           }
          },
          "ternary": {
           "aaxis": {
            "gridcolor": "white",
            "linecolor": "white",
            "ticks": ""
           },
           "baxis": {
            "gridcolor": "white",
            "linecolor": "white",
            "ticks": ""
           },
           "bgcolor": "#E5ECF6",
           "caxis": {
            "gridcolor": "white",
            "linecolor": "white",
            "ticks": ""
           }
          },
          "title": {
           "x": 0.05
          },
          "xaxis": {
           "automargin": true,
           "gridcolor": "white",
           "linecolor": "white",
           "ticks": "",
           "title": {
            "standoff": 15
           },
           "zerolinecolor": "white",
           "zerolinewidth": 2
          },
          "yaxis": {
           "automargin": true,
           "gridcolor": "white",
           "linecolor": "white",
           "ticks": "",
           "title": {
            "standoff": 15
           },
           "zerolinecolor": "white",
           "zerolinewidth": 2
          }
         }
        },
        "title": {
         "text": "Stock Analysis"
        },
        "xaxis": {
         "autorange": false,
         "range": [
          "2022-04-06 10:00",
          "2022-04-12 16:00"
         ],
         "rangebreaks": [
          {
           "bounds": [
            "sat",
            "mon"
           ]
          },
          {
           "bounds": [
            16.1,
            9.5
           ],
           "pattern": "hour"
          }
         ],
         "rangeslider": {
          "visible": false,
          "yaxis": {}
         },
         "type": "date"
        },
        "yaxis": {
         "autorange": false,
         "range": [
          0.3005555555555556,
          0.48944444444444446
         ],
         "title": {
          "text": "TSLA Stock"
         },
         "type": "linear"
        }
       }
      },
      "image/png": "[encoded data removed]",
      "text/html": [
       "<div>                            <div id=\"b55481d6-fda2-445e-b51c-5d9f8a99dc5c\" class=\"plotly-graph-div\" style=\"height:525px; width:100%;\"></div>            <script type=\"text/javascript\">                require([\"plotly\"], function(Plotly) {                    window.PLOTLYENV=window.PLOTLYENV || {};                                    if (document.getElementById(\"b55481d6-fda2-445e-b51c-5d9f8a99dc5c\")) {                    Plotly.newPlot(                        \"b55481d6-fda2-445e-b51c-5d9f8a99dc5c\",                        [{\"x\":[\"2022-04-06T10:00:00\",\"2022-04-06T10:00:00\",\"2022-04-06T10:00:00\",\"2022-04-06T10:00:00\",\"2022-04-06T10:00:00\",\"2022-04-06T10:00:00\",\"2022-04-06T10:00:00\",\"2022-04-06T10:00:00\",\"2022-04-06T10:00:00\",\"2022-04-06T10:00:00\",\"2022-04-06T10:00:00\",\"2022-04-06T10:00:00\",\"2022-04-06T11:00:00\",\"2022-04-06T11:00:00\",\"2022-04-06T11:00:00\",\"2022-04-06T11:00:00\",\"2022-04-06T11:00:00\",\"2022-04-06T11:00:00\",\"2022-04-06T11:00:00\",\"2022-04-06T11:00:00\",\"2022-04-06T11:00:00\",\"2022-04-06T11:00:00\",\"2022-04-06T11:00:00\",\"2022-04-06T11:00:00\",\"2022-04-06T11:00:00\",\"2022-04-06T11:00:00\",\"2022-04-06T12:00:00\",\"2022-04-06T12:00:00\",\"2022-04-06T12:00:00\",\"2022-04-06T12:00:00\",\"2022-04-06T12:00:00\",\"2022-04-06T12:00:00\",\"2022-04-06T12:00:00\",\"2022-04-06T12:00:00\",\"2022-04-06T12:00:00\",\"2022-04-06T12:00:00\",\"2022-04-06T12:00:00\",\"2022-04-06T12:00:00\",\"2022-04-06T12:00:00\",\"2022-04-06T12:00:00\",\"2022-04-06T13:00:00\",\"2022-04-06T13:00:00\",\"2022-04-06T13:00:00\",\"2022-04-06T13:00:00\",\"2022-04-06T13:00:00\",\"2022-04-06T13:00:00\",\"2022-04-06T13:00:00\",\"2022-04-06T13:00:00\",\"2022-04-06T13:00:00\",\"2022-04-06T13:00:00\",\"2022-04-06T13:00:00\",\"2022-04-06T13:00:00\",\"2022-04-06T13:00:00\",\"2022-04-06T13:00:00\",\"2022-04-06T13:00:00\",\"2022-04-06T13:00:00\",\"2022-04-06T13:00:00\",\"2022-04-06T13:00:00\",\"2022-04-06T14:00:00\",\"2022-04-06T14:00:00\",\"2022-04-06T14:00:00\",\"2022-04-06T14:00:00\",\"2022-04-06T14:00:00\",\"2022-04-06T14:00:00\",\"2022-04-06T14:00:00\",\"2022-04-06T14:00:00\",\"2022-04-06T14:00:00\",\"2022-04-06T14:00:00\",\"2022-04-06T14:00:00\",\"2022-04-06T14:00:00\",\"2022-04-06T14:00:00\",\"2022-04-06T14:00:00\",\"2022-04-06T14:00:00\",\"2022-04-06T14:00:00\",\"2022-04-06T14:00:00\",\"2022-04-06T14:00:00\",\"2022-04-06T14:00:00\",\"2022-04-06T14:00:00\",\"2022-04-06T15:00:00\",\"2022-04-06T15:00:00\",\"2022-04-06T15:00:00\",\"2022-04-06T15:00:00\",\"2022-04-06T15:00:00\",\"2022-04-06T15:00:00\",\"2022-04-06T15:00:00\",\"2022-04-06T15:00:00\",\"2022-04-06T15:00:00\",\"2022-04-06T15:00:00\",\"2022-04-06T15:00:00\",\"2022-04-06T15:00:00\",\"2022-04-06T15:00:00\",\"2022-04-06T15:00:00\",\"2022-04-06T15:00:00\",\"2022-04-06T15:00:00\",\"2022-04-06T15:00:00\",\"2022-04-06T15:00:00\",\"2022-04-06T15:00:00\",\"2022-04-06T15:00:00\",\"2022-04-06T15:00:00\",\"2022-04-06T15:00:00\",\"2022-04-06T16:00:00\",\"2022-04-06T16:00:00\",\"2022-04-06T16:00:00\",\"2022-04-06T16:00:00\",\"2022-04-06T16:00:00\",\"2022-04-06T16:00:00\",\"2022-04-06T16:00:00\",\"2022-04-06T16:00:00\",\"2022-04-06T16:00:00\",\"2022-04-06T16:00:00\",\"2022-04-06T16:00:00\",\"2022-04-06T16:00:00\",\"2022-04-06T16:00:00\",\"2022-04-06T16:00:00\",\"2022-04-06T16:00:00\",\"2022-04-06T16:00:00\",\"2022-04-06T16:00:00\",\"2022-04-06T16:00:00\",\"2022-04-06T16:00:00\",\"2022-04-06T16:00:00\",\"2022-04-06T16:00:00\",\"2022-04-06T16:00:00\",\"2022-04-07T10:00:00\",\"2022-04-07T10:00:00\",\"2022-04-07T10:00:00\",\"2022-04-07T10:00:00\",\"2022-04-07T10:00:00\",\"2022-04-07T10:00:00\",\"2022-04-07T10:00:00\",\"2022-04-07T10:00:00\",\"2022-04-07T10:00:00\",\"2022-04-07T10:00:00\",\"2022-04-07T10:00:00\",\"2022-04-07T10:00:00\",\"2022-04-07T11:00:00\",\"2022-04-07T11:00:00\",\"2022-04-07T11:00:00\",\"2022-04-07T11:00:00\",\"2022-04-07T11:00:00\",\"2022-04-07T11:00:00\",\"2022-04-07T11:00:00\",\"2022-04-07T11:00:00\",\"2022-04-07T11:00:00\",\"2022-04-07T11:00:00\",\"2022-04-07T11:00:00\",\"2022-04-07T11:00:00\",\"2022-04-07T11:00:00\",\"2022-04-07T11:00:00\",\"2022-04-07T11:00:00\",\"2022-04-07T11:00:00\",\"2022-04-07T11:00:00\",\"2022-04-07T11:00:00\",\"2022-04-07T12:00:00\",\"2022-04-07T12:00:00\",\"2022-04-07T12:00:00\",\"2022-04-07T12:00:00\",\"2022-04-07T12:00:00\",\"2022-04-07T12:00:00\",\"2022-04-07T12:00:00\",\"2022-04-07T12:00:00\",\"2022-04-07T12:00:00\",\"2022-04-07T12:00:00\",\"2022-04-07T12:00:00\",\"2022-04-07T12:00:00\",\"2022-04-07T12:00:00\",\"2022-04-07T12:00:00\",\"2022-04-07T12:00:00\",\"2022-04-07T12:00:00\",\"2022-04-07T12:00:00\",\"2022-04-07T12:00:00\",\"2022-04-07T12:00:00\",\"2022-04-07T12:00:00\",\"2022-04-07T12:00:00\",\"2022-04-07T12:00:00\",\"2022-04-07T13:00:00\",\"2022-04-07T13:00:00\",\"2022-04-07T13:00:00\",\"2022-04-07T13:00:00\",\"2022-04-07T13:00:00\",\"2022-04-07T13:00:00\",\"2022-04-07T13:00:00\",\"2022-04-07T13:00:00\",\"2022-04-07T13:00:00\",\"2022-04-07T13:00:00\",\"2022-04-07T13:00:00\",\"2022-04-07T13:00:00\",\"2022-04-07T13:00:00\",\"2022-04-07T13:00:00\",\"2022-04-07T13:00:00\",\"2022-04-07T13:00:00\",\"2022-04-07T13:00:00\",\"2022-04-07T13:00:00\",\"2022-04-07T13:00:00\",\"2022-04-07T13:00:00\",\"2022-04-07T13:00:00\",\"2022-04-07T13:00:00\",\"2022-04-07T13:00:00\",\"2022-04-07T13:00:00\",\"2022-04-07T14:00:00\",\"2022-04-07T14:00:00\",\"2022-04-07T14:00:00\",\"2022-04-07T14:00:00\",\"2022-04-07T14:00:00\",\"2022-04-07T14:00:00\",\"2022-04-07T14:00:00\",\"2022-04-07T14:00:00\",\"2022-04-07T14:00:00\",\"2022-04-07T14:00:00\",\"2022-04-07T14:00:00\",\"2022-04-07T14:00:00\",\"2022-04-07T14:00:00\",\"2022-04-07T14:00:00\",\"2022-04-07T14:00:00\",\"2022-04-07T14:00:00\",\"2022-04-07T14:00:00\",\"2022-04-07T14:00:00\",\"2022-04-07T14:00:00\",\"2022-04-07T14:00:00\",\"2022-04-07T14:00:00\",\"2022-04-07T14:00:00\",\"2022-04-07T14:00:00\",\"2022-04-07T14:00:00\",\"2022-04-07T14:00:00\",\"2022-04-07T14:00:00\",\"2022-04-07T15:00:00\",\"2022-04-07T15:00:00\",\"2022-04-07T15:00:00\",\"2022-04-07T15:00:00\",\"2022-04-07T15:00:00\",\"2022-04-07T15:00:00\",\"2022-04-07T15:00:00\",\"2022-04-07T15:00:00\",\"2022-04-07T15:00:00\",\"2022-04-07T15:00:00\",\"2022-04-07T15:00:00\",\"2022-04-07T15:00:00\",\"2022-04-07T15:00:00\",\"2022-04-07T15:00:00\",\"2022-04-07T15:00:00\",\"2022-04-07T15:00:00\",\"2022-04-07T15:00:00\",\"2022-04-07T15:00:00\",\"2022-04-07T15:00:00\",\"2022-04-07T15:00:00\",\"2022-04-07T15:00:00\",\"2022-04-07T15:00:00\",\"2022-04-07T15:00:00\",\"2022-04-07T15:00:00\",\"2022-04-07T15:00:00\",\"2022-04-07T15:00:00\",\"2022-04-07T15:00:00\",\"2022-04-07T15:00:00\",\"2022-04-07T15:00:00\",\"2022-04-07T15:00:00\",\"2022-04-07T16:00:00\",\"2022-04-07T16:00:00\",\"2022-04-07T16:00:00\",\"2022-04-07T16:00:00\",\"2022-04-07T16:00:00\",\"2022-04-07T16:00:00\",\"2022-04-07T16:00:00\",\"2022-04-07T16:00:00\",\"2022-04-07T16:00:00\",\"2022-04-07T16:00:00\",\"2022-04-07T16:00:00\",\"2022-04-07T16:00:00\",\"2022-04-07T16:00:00\",\"2022-04-07T16:00:00\",\"2022-04-07T16:00:00\",\"2022-04-07T16:00:00\",\"2022-04-07T16:00:00\",\"2022-04-07T16:00:00\",\"2022-04-07T16:00:00\",\"2022-04-07T16:00:00\",\"2022-04-07T16:00:00\",\"2022-04-07T16:00:00\",\"2022-04-07T16:00:00\",\"2022-04-07T16:00:00\",\"2022-04-07T16:00:00\",\"2022-04-07T16:00:00\",\"2022-04-07T16:00:00\",\"2022-04-07T16:00:00\",\"2022-04-07T16:00:00\",\"2022-04-07T16:00:00\",\"2022-04-08T10:00:00\",\"2022-04-08T10:00:00\",\"2022-04-08T10:00:00\",\"2022-04-08T10:00:00\",\"2022-04-08T10:00:00\",\"2022-04-08T10:00:00\",\"2022-04-08T10:00:00\",\"2022-04-08T10:00:00\",\"2022-04-08T10:00:00\",\"2022-04-08T10:00:00\",\"2022-04-08T10:00:00\",\"2022-04-08T10:00:00\",\"2022-04-08T11:00:00\",\"2022-04-08T11:00:00\",\"2022-04-08T11:00:00\",\"2022-04-08T11:00:00\",\"2022-04-08T11:00:00\",\"2022-04-08T11:00:00\",\"2022-04-08T11:00:00\",\"2022-04-08T11:00:00\",\"2022-04-08T11:00:00\",\"2022-04-08T11:00:00\",\"2022-04-08T11:00:00\",\"2022-04-08T11:00:00\",\"2022-04-08T12:00:00\",\"2022-04-08T12:00:00\",\"2022-04-08T12:00:00\",\"2022-04-08T12:00:00\",\"2022-04-08T12:00:00\",\"2022-04-08T12:00:00\",\"2022-04-08T12:00:00\",\"2022-04-08T12:00:00\",\"2022-04-08T12:00:00\",\"2022-04-08T12:00:00\",\"2022-04-08T12:00:00\",\"2022-04-08T12:00:00\",\"2022-04-08T12:00:00\",\"2022-04-08T12:00:00\",\"2022-04-08T13:00:00\",\"2022-04-08T13:00:00\",\"2022-04-08T13:00:00\",\"2022-04-08T13:00:00\",\"2022-04-08T13:00:00\",\"2022-04-08T13:00:00\",\"2022-04-08T13:00:00\",\"2022-04-08T13:00:00\",\"2022-04-08T13:00:00\",\"2022-04-08T13:00:00\",\"2022-04-08T13:00:00\",\"2022-04-08T13:00:00\",\"2022-04-08T13:00:00\",\"2022-04-08T13:00:00\",\"2022-04-08T14:00:00\",\"2022-04-08T14:00:00\",\"2022-04-08T14:00:00\",\"2022-04-08T14:00:00\",\"2022-04-08T14:00:00\",\"2022-04-08T14:00:00\",\"2022-04-08T14:00:00\",\"2022-04-08T14:00:00\",\"2022-04-08T14:00:00\",\"2022-04-08T14:00:00\",\"2022-04-08T14:00:00\",\"2022-04-08T14:00:00\",\"2022-04-08T14:00:00\",\"2022-04-08T14:00:00\",\"2022-04-08T14:00:00\",\"2022-04-08T14:00:00\",\"2022-04-08T15:00:00\",\"2022-04-08T15:00:00\",\"2022-04-08T15:00:00\",\"2022-04-08T15:00:00\",\"2022-04-08T15:00:00\",\"2022-04-08T15:00:00\",\"2022-04-08T15:00:00\",\"2022-04-08T15:00:00\",\"2022-04-08T15:00:00\",\"2022-04-08T15:00:00\",\"2022-04-08T15:00:00\",\"2022-04-08T15:00:00\",\"2022-04-08T15:00:00\",\"2022-04-08T15:00:00\",\"2022-04-08T15:00:00\",\"2022-04-08T15:00:00\",\"2022-04-08T16:00:00\",\"2022-04-08T16:00:00\",\"2022-04-08T16:00:00\",\"2022-04-08T16:00:00\",\"2022-04-08T16:00:00\",\"2022-04-08T16:00:00\",\"2022-04-08T16:00:00\",\"2022-04-08T16:00:00\",\"2022-04-08T16:00:00\",\"2022-04-08T16:00:00\",\"2022-04-08T16:00:00\",\"2022-04-08T16:00:00\",\"2022-04-08T16:00:00\",\"2022-04-08T16:00:00\",\"2022-04-08T16:00:00\",\"2022-04-08T16:00:00\",\"2022-04-11T10:00:00\",\"2022-04-11T10:00:00\",\"2022-04-11T10:00:00\",\"2022-04-11T10:00:00\",\"2022-04-11T10:00:00\",\"2022-04-11T10:00:00\",\"2022-04-11T10:00:00\",\"2022-04-11T10:00:00\",\"2022-04-11T10:00:00\",\"2022-04-11T10:00:00\",\"2022-04-11T10:00:00\",\"2022-04-11T10:00:00\",\"2022-04-11T11:00:00\",\"2022-04-11T11:00:00\",\"2022-04-11T11:00:00\",\"2022-04-11T11:00:00\",\"2022-04-11T11:00:00\",\"2022-04-11T11:00:00\",\"2022-04-11T11:00:00\",\"2022-04-11T11:00:00\",\"2022-04-11T11:00:00\",\"2022-04-11T11:00:00\",\"2022-04-11T11:00:00\",\"2022-04-11T11:00:00\",\"2022-04-11T11:00:00\",\"2022-04-11T11:00:00\",\"2022-04-11T12:00:00\",\"2022-04-11T12:00:00\",\"2022-04-11T12:00:00\",\"2022-04-11T12:00:00\",\"2022-04-11T12:00:00\",\"2022-04-11T12:00:00\",\"2022-04-11T12:00:00\",\"2022-04-11T12:00:00\",\"2022-04-11T12:00:00\",\"2022-04-11T12:00:00\",\"2022-04-11T12:00:00\",\"2022-04-11T12:00:00\",\"2022-04-11T12:00:00\",\"2022-04-11T12:00:00\",\"2022-04-11T12:00:00\",\"2022-04-11T12:00:00\",\"2022-04-11T13:00:00\",\"2022-04-11T13:00:00\",\"2022-04-11T13:00:00\",\"2022-04-11T13:00:00\",\"2022-04-11T13:00:00\",\"2022-04-11T13:00:00\",\"2022-04-11T13:00:00\",\"2022-04-11T13:00:00\",\"2022-04-11T13:00:00\",\"2022-04-11T13:00:00\",\"2022-04-11T13:00:00\",\"2022-04-11T13:00:00\",\"2022-04-11T13:00:00\",\"2022-04-11T13:00:00\",\"2022-04-11T13:00:00\",\"2022-04-11T13:00:00\",\"2022-04-11T14:00:00\",\"2022-04-11T14:00:00\",\"2022-04-11T14:00:00\",\"2022-04-11T14:00:00\",\"2022-04-11T14:00:00\",\"2022-04-11T14:00:00\",\"2022-04-11T14:00:00\",\"2022-04-11T14:00:00\",\"2022-04-11T14:00:00\",\"2022-04-11T14:00:00\",\"2022-04-11T14:00:00\",\"2022-04-11T14:00:00\",\"2022-04-11T14:00:00\",\"2022-04-11T14:00:00\",\"2022-04-11T14:00:00\",\"2022-04-11T14:00:00\",\"2022-04-11T15:00:00\",\"2022-04-11T15:00:00\",\"2022-04-11T15:00:00\",\"2022-04-11T15:00:00\",\"2022-04-11T15:00:00\",\"2022-04-11T15:00:00\",\"2022-04-11T15:00:00\",\"2022-04-11T15:00:00\",\"2022-04-11T15:00:00\",\"2022-04-11T15:00:00\",\"2022-04-11T15:00:00\",\"2022-04-11T15:00:00\",\"2022-04-11T15:00:00\",\"2022-04-11T15:00:00\",\"2022-04-11T15:00:00\",\"2022-04-11T15:00:00\",\"2022-04-11T16:00:00\",\"2022-04-11T16:00:00\",\"2022-04-11T16:00:00\",\"2022-04-11T16:00:00\",\"2022-04-11T16:00:00\",\"2022-04-11T16:00:00\",\"2022-04-11T16:00:00\",\"2022-04-11T16:00:00\",\"2022-04-11T16:00:00\",\"2022-04-11T16:00:00\",\"2022-04-11T16:00:00\",\"2022-04-11T16:00:00\",\"2022-04-11T16:00:00\",\"2022-04-11T16:00:00\",\"2022-04-11T16:00:00\",\"2022-04-11T16:00:00\",\"2022-04-11T16:00:00\",\"2022-04-11T16:00:00\",\"2022-04-12T10:00:00\",\"2022-04-12T10:00:00\",\"2022-04-12T10:00:00\",\"2022-04-12T10:00:00\",\"2022-04-12T10:00:00\",\"2022-04-12T10:00:00\",\"2022-04-12T10:00:00\",\"2022-04-12T10:00:00\",\"2022-04-12T10:00:00\",\"2022-04-12T10:00:00\",\"2022-04-12T10:00:00\",\"2022-04-12T10:00:00\",\"2022-04-12T11:00:00\",\"2022-04-12T11:00:00\",\"2022-04-12T11:00:00\",\"2022-04-12T11:00:00\",\"2022-04-12T11:00:00\",\"2022-04-12T11:00:00\",\"2022-04-12T11:00:00\",\"2022-04-12T11:00:00\",\"2022-04-12T11:00:00\",\"2022-04-12T11:00:00\",\"2022-04-12T11:00:00\",\"2022-04-12T11:00:00\",\"2022-04-12T11:00:00\",\"2022-04-12T11:00:00\",\"2022-04-12T11:00:00\",\"2022-04-12T11:00:00\",\"2022-04-12T11:00:00\",\"2022-04-12T11:00:00\",\"2022-04-12T11:00:00\",\"2022-04-12T11:00:00\",\"2022-04-12T12:00:00\",\"2022-04-12T12:00:00\",\"2022-04-12T12:00:00\",\"2022-04-12T12:00:00\",\"2022-04-12T12:00:00\",\"2022-04-12T12:00:00\",\"2022-04-12T12:00:00\",\"2022-04-12T12:00:00\",\"2022-04-12T12:00:00\",\"2022-04-12T12:00:00\",\"2022-04-12T12:00:00\",\"2022-04-12T12:00:00\",\"2022-04-12T12:00:00\",\"2022-04-12T12:00:00\",\"2022-04-12T12:00:00\",\"2022-04-12T12:00:00\",\"2022-04-12T12:00:00\",\"2022-04-12T12:00:00\",\"2022-04-12T12:00:00\",\"2022-04-12T12:00:00\",\"2022-04-12T13:00:00\",\"2022-04-12T13:00:00\",\"2022-04-12T13:00:00\",\"2022-04-12T13:00:00\",\"2022-04-12T13:00:00\",\"2022-04-12T13:00:00\",\"2022-04-12T13:00:00\",\"2022-04-12T13:00:00\",\"2022-04-12T13:00:00\",\"2022-04-12T13:00:00\",\"2022-04-12T13:00:00\",\"2022-04-12T13:00:00\",\"2022-04-12T13:00:00\",\"2022-04-12T13:00:00\",\"2022-04-12T13:00:00\",\"2022-04-12T13:00:00\",\"2022-04-12T13:00:00\",\"2022-04-12T13:00:00\",\"2022-04-12T13:00:00\",\"2022-04-12T13:00:00\",\"2022-04-12T14:00:00\",\"2022-04-12T14:00:00\",\"2022-04-12T14:00:00\",\"2022-04-12T14:00:00\",\"2022-04-12T14:00:00\",\"2022-04-12T14:00:00\",\"2022-04-12T14:00:00\",\"2022-04-12T14:00:00\",\"2022-04-12T14:00:00\",\"2022-04-12T14:00:00\",\"2022-04-12T14:00:00\",\"2022-04-12T14:00:00\",\"2022-04-12T14:00:00\",\"2022-04-12T14:00:00\",\"2022-04-12T14:00:00\",\"2022-04-12T14:00:00\",\"2022-04-12T14:00:00\",\"2022-04-12T14:00:00\",\"2022-04-12T14:00:00\",\"2022-04-12T14:00:00\",\"2022-04-12T14:00:00\",\"2022-04-12T14:00:00\",\"2022-04-12T15:00:00\",\"2022-04-12T15:00:00\",\"2022-04-12T15:00:00\",\"2022-04-12T15:00:00\",\"2022-04-12T15:00:00\",\"2022-04-12T15:00:00\",\"2022-04-12T15:00:00\",\"2022-04-12T15:00:00\",\"2022-04-12T15:00:00\",\"2022-04-12T15:00:00\",\"2022-04-12T15:00:00\",\"2022-04-12T15:00:00\",\"2022-04-12T15:00:00\",\"2022-04-12T15:00:00\",\"2022-04-12T15:00:00\",\"2022-04-12T15:00:00\",\"2022-04-12T15:00:00\",\"2022-04-12T15:00:00\",\"2022-04-12T15:00:00\",\"2022-04-12T15:00:00\",\"2022-04-12T15:00:00\",\"2022-04-12T15:00:00\",\"2022-04-12T15:00:00\",\"2022-04-12T15:00:00\",\"2022-04-12T16:00:00\",\"2022-04-12T16:00:00\",\"2022-04-12T16:00:00\",\"2022-04-12T16:00:00\",\"2022-04-12T16:00:00\",\"2022-04-12T16:00:00\",\"2022-04-12T16:00:00\",\"2022-04-12T16:00:00\",\"2022-04-12T16:00:00\",\"2022-04-12T16:00:00\",\"2022-04-12T16:00:00\",\"2022-04-12T16:00:00\",\"2022-04-12T16:00:00\",\"2022-04-12T16:00:00\",\"2022-04-12T16:00:00\",\"2022-04-12T16:00:00\",\"2022-04-12T16:00:00\",\"2022-04-12T16:00:00\",\"2022-04-12T16:00:00\",\"2022-04-12T16:00:00\",\"2022-04-12T16:00:00\",\"2022-04-12T16:00:00\",\"2022-04-12T16:00:00\",\"2022-04-12T16:00:00\"],\"y\":[0.47,0.46,0.46,0.46,0.46,0.45,0.47,0.47,0.46,0.46,0.46,0.46,0.46,0.46,0.45,0.45,0.45,0.45,0.46,0.46,0.46,0.45,0.45,0.45,0.46,0.46,0.46,0.46,0.46,0.45,0.45,0.45,0.45,0.47,0.46,0.46,0.46,0.46,0.45,0.45,0.47,0.47,0.46,0.46,0.46,0.46,0.46,0.47,0.47,0.46,0.46,0.46,0.46,0.46,0.47,0.47,0.47,0.47,0.47,0.47,0.46,0.47,0.46,0.46,0.46,0.45,0.46,0.47,0.45,0.46,0.47,0.45,0.46,0.44,0.45,0.46,0.45,0.44,0.45,0.45,0.45,0.45,0.45,0.45,0.44,0.44,0.44,0.44,0.46,0.46,0.46,0.45,0.45,0.45,0.45,0.45,0.45,0.44,0.44,0.44,0.46,0.46,0.46,0.46,0.45,0.45,0.45,0.45,0.45,0.45,0.45,0.46,0.46,0.46,0.46,0.46,0.46,0.46,0.45,0.45,0.45,0.45,0.45,0.44,0.44,0.45,0.44,0.44,0.44,0.44,0.44,0.44,0.44,0.44,0.44,0.44,0.44,0.44,0.44,0.45,0.44,0.44,0.44,0.44,0.45,0.45,0.45,0.44,0.45,0.45,0.45,0.45,0.46,0.46,0.46,0.45,0.45,0.45,0.45,0.46,0.46,0.46,0.46,0.45,0.45,0.45,0.47,0.46,0.46,0.46,0.47,0.47,0.46,0.46,0.48,0.48,0.47,0.47,0.47,0.47,0.47,0.47,0.47,0.47,0.47,0.48,0.48,0.48,0.47,0.47,0.47,0.47,0.47,0.47,0.47,0.47,0.48,0.48,0.46,0.46,0.46,0.46,0.46,0.45,0.45,0.45,0.45,0.45,0.45,0.45,0.47,0.46,0.46,0.46,0.46,0.46,0.46,0.46,0.46,0.45,0.45,0.46,0.45,0.45,0.47,0.47,0.46,0.46,0.46,0.46,0.46,0.46,0.45,0.45,0.45,0.45,0.45,0.47,0.47,0.47,0.46,0.46,0.46,0.46,0.46,0.46,0.46,0.46,0.46,0.46,0.45,0.45,0.46,0.46,0.46,0.45,0.45,0.45,0.45,0.45,0.45,0.45,0.44,0.45,0.44,0.45,0.44,0.44,0.44,0.46,0.46,0.46,0.46,0.46,0.45,0.45,0.45,0.45,0.45,0.45,0.45,0.45,0.45,0.45,0.46,0.45,0.45,0.45,0.45,0.45,0.46,0.46,0.46,0.46,0.46,0.45,0.44,0.44,0.44,0.44,0.44,0.45,0.44,0.44,0.44,0.44,0.44,0.44,0.43,0.43,0.43,0.42,0.43,0.43,0.42,0.42,0.42,0.42,0.42,0.42,0.43,0.43,0.42,0.41,0.41,0.41,0.41,0.41,0.42,0.42,0.42,0.42,0.42,0.42,0.41,0.42,0.42,0.41,0.41,0.41,0.41,0.41,0.41,0.42,0.41,0.41,0.41,0.41,0.41,0.41,0.42,0.42,0.4,0.4,0.4,0.4,0.4,0.4,0.4,0.4,0.4,0.4,0.4,0.4,0.4,0.4,0.4,0.4,0.38,0.38,0.38,0.38,0.38,0.38,0.38,0.39,0.39,0.39,0.39,0.39,0.39,0.39,0.39,0.39,0.43,0.43,0.43,0.43,0.42,0.42,0.43,0.43,0.43,0.42,0.42,0.42,0.43,0.43,0.42,0.42,0.42,0.42,0.43,0.43,0.43,0.42,0.42,0.42,0.43,0.43,0.4,0.4,0.4,0.39,0.39,0.39,0.39,0.4,0.4,0.4,0.4,0.39,0.39,0.39,0.4,0.4,0.4,0.4,0.39,0.39,0.39,0.39,0.39,0.39,0.4,0.4,0.4,0.4,0.39,0.39,0.39,0.39,0.4,0.39,0.39,0.39,0.39,0.39,0.39,0.39,0.4,0.4,0.4,0.4,0.39,0.39,0.39,0.39,0.4,0.4,0.4,0.4,0.4,0.4,0.39,0.39,0.4,0.4,0.4,0.4,0.4,0.4,0.4,0.4,0.42,0.42,0.41,0.41,0.41,0.41,0.41,0.41,0.42,0.42,0.42,0.42,0.42,0.42,0.42,0.42,0.42,0.42,0.37,0.37,0.37,0.37,0.37,0.37,0.37,0.37,0.37,0.37,0.37,0.37,0.36,0.36,0.36,0.36,0.36,0.36,0.36,0.36,0.36,0.36,0.36,0.36,0.37,0.36,0.36,0.36,0.37,0.37,0.36,0.36,0.34,0.34,0.34,0.34,0.34,0.34,0.33,0.34,0.34,0.34,0.35,0.34,0.34,0.34,0.34,0.34,0.34,0.34,0.34,0.34,0.34,0.34,0.34,0.34,0.33,0.33,0.33,0.33,0.33,0.34,0.34,0.34,0.34,0.34,0.33,0.33,0.33,0.33,0.34,0.34,0.35,0.34,0.34,0.34,0.34,0.34,0.34,0.34,0.34,0.34,0.35,0.34,0.34,0.34,0.34,0.34,0.34,0.34,0.34,0.34,0.35,0.35,0.33,0.33,0.33,0.33,0.33,0.33,0.33,0.33,0.33,0.34,0.34,0.33,0.33,0.33,0.33,0.33,0.33,0.34,0.34,0.34,0.34,0.34,0.34,0.34,0.32,0.32,0.32,0.32,0.32,0.32,0.31,0.32,0.32,0.32,0.32,0.32,0.33,0.32,0.32,0.32,0.32,0.32,0.32,0.32,0.32,0.32,0.32,0.32],\"type\":\"scatter\"}],                        {\"template\":{\"data\":{\"bar\":[{\"error_x\":{\"color\":\"#2a3f5f\"},\"error_y\":{\"color\":\"#2a3f5f\"},\"marker\":{\"line\":{\"color\":\"#E5ECF6\",\"width\":0.5},\"pattern\":{\"fillmode\":\"overlay\",\"size\":10,\"solidity\":0.2}},\"type\":\"bar\"}],\"barpolar\":[{\"marker\":{\"line\":{\"color\":\"#E5ECF6\",\"width\":0.5},\"pattern\":{\"fillmode\":\"overlay\",\"size\":10,\"solidity\":0.2}},\"type\":\"barpolar\"}],\"carpet\":[{\"aaxis\":{\"endlinecolor\":\"#2a3f5f\",\"gridcolor\":\"white\",\"linecolor\":\"white\",\"minorgridcolor\":\"white\",\"startlinecolor\":\"#2a3f5f\"},\"baxis\":{\"endlinecolor\":\"#2a3f5f\",\"gridcolor\":\"white\",\"linecolor\":\"white\",\"minorgridcolor\":\"white\",\"startlinecolor\":\"#2a3f5f\"},\"type\":\"carpet\"}],\"choropleth\":[{\"colorbar\":{\"outlinewidth\":0,\"ticks\":\"\"},\"type\":\"choropleth\"}],\"contour\":[{\"colorbar\":{\"outlinewidth\":0,\"ticks\":\"\"},\"colorscale\":[[0.0,\"#0d0887\"],[0.1111111111111111,\"#46039f\"],[0.2222222222222222,\"#7201a8\"],[0.3333333333333333,\"#9c179e\"],[0.4444444444444444,\"#bd3786\"],[0.5555555555555556,\"#d8576b\"],[0.6666666666666666,\"#ed7953\"],[0.7777777777777778,\"#fb9f3a\"],[0.8888888888888888,\"#fdca26\"],[1.0,\"#f0f921\"]],\"type\":\"contour\"}],\"contourcarpet\":[{\"colorbar\":{\"outlinewidth\":0,\"ticks\":\"\"},\"type\":\"contourcarpet\"}],\"heatmap\":[{\"colorbar\":{\"outlinewidth\":0,\"ticks\":\"\"},\"colorscale\":[[0.0,\"#0d0887\"],[0.1111111111111111,\"#46039f\"],[0.2222222222222222,\"#7201a8\"],[0.3333333333333333,\"#9c179e\"],[0.4444444444444444,\"#bd3786\"],[0.5555555555555556,\"#d8576b\"],[0.6666666666666666,\"#ed7953\"],[0.7777777777777778,\"#fb9f3a\"],[0.8888888888888888,\"#fdca26\"],[1.0,\"#f0f921\"]],\"type\":\"heatmap\"}],\"heatmapgl\":[{\"colorbar\":{\"outlinewidth\":0,\"ticks\":\"\"},\"colorscale\":[[0.0,\"#0d0887\"],[0.1111111111111111,\"#46039f\"],[0.2222222222222222,\"#7201a8\"],[0.3333333333333333,\"#9c179e\"],[0.4444444444444444,\"#bd3786\"],[0.5555555555555556,\"#d8576b\"],[0.6666666666666666,\"#ed7953\"],[0.7777777777777778,\"#fb9f3a\"],[0.8888888888888888,\"#fdca26\"],[1.0,\"#f0f921\"]],\"type\":\"heatmapgl\"}],\"histogram\":[{\"marker\":{\"pattern\":{\"fillmode\":\"overlay\",\"size\":10,\"solidity\":0.2}},\"type\":\"histogram\"}],\"histogram2d\":[{\"colorbar\":{\"outlinewidth\":0,\"ticks\":\"\"},\"colorscale\":[[0.0,\"#0d0887\"],[0.1111111111111111,\"#46039f\"],[0.2222222222222222,\"#7201a8\"],[0.3333333333333333,\"#9c179e\"],[0.4444444444444444,\"#bd3786\"],[0.5555555555555556,\"#d8576b\"],[0.6666666666666666,\"#ed7953\"],[0.7777777777777778,\"#fb9f3a\"],[0.8888888888888888,\"#fdca26\"],[1.0,\"#f0f921\"]],\"type\":\"histogram2d\"}],\"histogram2dcontour\":[{\"colorbar\":{\"outlinewidth\":0,\"ticks\":\"\"},\"colorscale\":[[0.0,\"#0d0887\"],[0.1111111111111111,\"#46039f\"],[0.2222222222222222,\"#7201a8\"],[0.3333333333333333,\"#9c179e\"],[0.4444444444444444,\"#bd3786\"],[0.5555555555555556,\"#d8576b\"],[0.6666666666666666,\"#ed7953\"],[0.7777777777777778,\"#fb9f3a\"],[0.8888888888888888,\"#fdca26\"],[1.0,\"#f0f921\"]],\"type\":\"histogram2dcontour\"}],\"mesh3d\":[{\"colorbar\":{\"outlinewidth\":0,\"ticks\":\"\"},\"type\":\"mesh3d\"}],\"parcoords\":[{\"line\":{\"colorbar\":{\"outlinewidth\":0,\"ticks\":\"\"}},\"type\":\"parcoords\"}],\"pie\":[{\"automargin\":true,\"type\":\"pie\"}],\"scatter\":[{\"marker\":{\"colorbar\":{\"outlinewidth\":0,\"ticks\":\"\"}},\"type\":\"scatter\"}],\"scatter3d\":[{\"line\":{\"colorbar\":{\"outlinewidth\":0,\"ticks\":\"\"}},\"marker\":{\"colorbar\":{\"outlinewidth\":0,\"ticks\":\"\"}},\"type\":\"scatter3d\"}],\"scattercarpet\":[{\"marker\":{\"colorbar\":{\"outlinewidth\":0,\"ticks\":\"\"}},\"type\":\"scattercarpet\"}],\"scattergeo\":[{\"marker\":{\"colorbar\":{\"outlinewidth\":0,\"ticks\":\"\"}},\"type\":\"scattergeo\"}],\"scattergl\":[{\"marker\":{\"colorbar\":{\"outlinewidth\":0,\"ticks\":\"\"}},\"type\":\"scattergl\"}],\"scattermapbox\":[{\"marker\":{\"colorbar\":{\"outlinewidth\":0,\"ticks\":\"\"}},\"type\":\"scattermapbox\"}],\"scatterpolar\":[{\"marker\":{\"colorbar\":{\"outlinewidth\":0,\"ticks\":\"\"}},\"type\":\"scatterpolar\"}],\"scatterpolargl\":[{\"marker\":{\"colorbar\":{\"outlinewidth\":0,\"ticks\":\"\"}},\"type\":\"scatterpolargl\"}],\"scatterternary\":[{\"marker\":{\"colorbar\":{\"outlinewidth\":0,\"ticks\":\"\"}},\"type\":\"scatterternary\"}],\"surface\":[{\"colorbar\":{\"outlinewidth\":0,\"ticks\":\"\"},\"colorscale\":[[0.0,\"#0d0887\"],[0.1111111111111111,\"#46039f\"],[0.2222222222222222,\"#7201a8\"],[0.3333333333333333,\"#9c179e\"],[0.4444444444444444,\"#bd3786\"],[0.5555555555555556,\"#d8576b\"],[0.6666666666666666,\"#ed7953\"],[0.7777777777777778,\"#fb9f3a\"],[0.8888888888888888,\"#fdca26\"],[1.0,\"#f0f921\"]],\"type\":\"surface\"}],\"table\":[{\"cells\":{\"fill\":{\"color\":\"#EBF0F8\"},\"line\":{\"color\":\"white\"}},\"header\":{\"fill\":{\"color\":\"#C8D4E3\"},\"line\":{\"color\":\"white\"}},\"type\":\"table\"}]},\"layout\":{\"annotationdefaults\":{\"arrowcolor\":\"#2a3f5f\",\"arrowhead\":0,\"arrowwidth\":1},\"autotypenumbers\":\"strict\",\"coloraxis\":{\"colorbar\":{\"outlinewidth\":0,\"ticks\":\"\"}},\"colorscale\":{\"diverging\":[[0,\"#8e0152\"],[0.1,\"#c51b7d\"],[0.2,\"#de77ae\"],[0.3,\"#f1b6da\"],[0.4,\"#fde0ef\"],[0.5,\"#f7f7f7\"],[0.6,\"#e6f5d0\"],[0.7,\"#b8e186\"],[0.8,\"#7fbc41\"],[0.9,\"#4d9221\"],[1,\"#276419\"]],\"sequential\":[[0.0,\"#0d0887\"],[0.1111111111111111,\"#46039f\"],[0.2222222222222222,\"#7201a8\"],[0.3333333333333333,\"#9c179e\"],[0.4444444444444444,\"#bd3786\"],[0.5555555555555556,\"#d8576b\"],[0.6666666666666666,\"#ed7953\"],[0.7777777777777778,\"#fb9f3a\"],[0.8888888888888888,\"#fdca26\"],[1.0,\"#f0f921\"]],\"sequentialminus\":[[0.0,\"#0d0887\"],[0.1111111111111111,\"#46039f\"],[0.2222222222222222,\"#7201a8\"],[0.3333333333333333,\"#9c179e\"],[0.4444444444444444,\"#bd3786\"],[0.5555555555555556,\"#d8576b\"],[0.6666666666666666,\"#ed7953\"],[0.7777777777777778,\"#fb9f3a\"],[0.8888888888888888,\"#fdca26\"],[1.0,\"#f0f921\"]]},\"colorway\":[\"#636efa\",\"#EF553B\",\"#00cc96\",\"#ab63fa\",\"#FFA15A\",\"#19d3f3\",\"#FF6692\",\"#B6E880\",\"#FF97FF\",\"#FECB52\"],\"font\":{\"color\":\"#2a3f5f\"},\"geo\":{\"bgcolor\":\"white\",\"lakecolor\":\"white\",\"landcolor\":\"#E5ECF6\",\"showlakes\":true,\"showland\":true,\"subunitcolor\":\"white\"},\"hoverlabel\":{\"align\":\"left\"},\"hovermode\":\"closest\",\"mapbox\":{\"style\":\"light\"},\"paper_bgcolor\":\"white\",\"plot_bgcolor\":\"#E5ECF6\",\"polar\":{\"angularaxis\":{\"gridcolor\":\"white\",\"linecolor\":\"white\",\"ticks\":\"\"},\"bgcolor\":\"#E5ECF6\",\"radialaxis\":{\"gridcolor\":\"white\",\"linecolor\":\"white\",\"ticks\":\"\"}},\"scene\":{\"xaxis\":{\"backgroundcolor\":\"#E5ECF6\",\"gridcolor\":\"white\",\"gridwidth\":2,\"linecolor\":\"white\",\"showbackground\":true,\"ticks\":\"\",\"zerolinecolor\":\"white\"},\"yaxis\":{\"backgroundcolor\":\"#E5ECF6\",\"gridcolor\":\"white\",\"gridwidth\":2,\"linecolor\":\"white\",\"showbackground\":true,\"ticks\":\"\",\"zerolinecolor\":\"white\"},\"zaxis\":{\"backgroundcolor\":\"#E5ECF6\",\"gridcolor\":\"white\",\"gridwidth\":2,\"linecolor\":\"white\",\"showbackground\":true,\"ticks\":\"\",\"zerolinecolor\":\"white\"}},\"shapedefaults\":{\"line\":{\"color\":\"#2a3f5f\"}},\"ternary\":{\"aaxis\":{\"gridcolor\":\"white\",\"linecolor\":\"white\",\"ticks\":\"\"},\"baxis\":{\"gridcolor\":\"white\",\"linecolor\":\"white\",\"ticks\":\"\"},\"bgcolor\":\"#E5ECF6\",\"caxis\":{\"gridcolor\":\"white\",\"linecolor\":\"white\",\"ticks\":\"\"}},\"title\":{\"x\":0.05},\"xaxis\":{\"automargin\":true,\"gridcolor\":\"white\",\"linecolor\":\"white\",\"ticks\":\"\",\"title\":{\"standoff\":15},\"zerolinecolor\":\"white\",\"zerolinewidth\":2},\"yaxis\":{\"automargin\":true,\"gridcolor\":\"white\",\"linecolor\":\"white\",\"ticks\":\"\",\"title\":{\"standoff\":15},\"zerolinecolor\":\"white\",\"zerolinewidth\":2}}},\"xaxis\":{\"rangeslider\":{\"visible\":false},\"rangebreaks\":[{\"bounds\":[\"sat\",\"mon\"]},{\"bounds\":[16.1,9.5],\"pattern\":\"hour\"}]},\"title\":{\"text\":\"Stock Analysis\"},\"yaxis\":{\"title\":{\"text\":\"TSLA Stock\"}}},                        {\"responsive\": true}                    ).then(function(){\n",
       "                            \n",
       "var gd = document.getElementById('b55481d6-fda2-445e-b51c-5d9f8a99dc5c');\n",
       "var x = new MutationObserver(function (mutations, observer) {{\n",
       "        var display = window.getComputedStyle(gd).display;\n",
       "        if (!display || display === 'none') {{\n",
       "            console.log([gd, 'removed!']);\n",
       "            Plotly.purge(gd);\n",
       "            observer.disconnect();\n",
       "        }}\n",
       "}});\n",
       "\n",
       "// Listen for the removal of the full notebook cells\n",
       "var notebookContainer = gd.closest('#notebook-container');\n",
       "if (notebookContainer) {{\n",
       "    x.observe(notebookContainer, {childList: true});\n",
       "}}\n",
       "\n",
       "// Listen for the clearing of the current output cell\n",
       "var outputEl = gd.closest('.output');\n",
       "if (outputEl) {{\n",
       "    x.observe(outputEl, {childList: true});\n",
       "}}\n",
       "\n",
       "                        })                };                });            </script>        </div>"
      ]
     },
     "metadata": {},
     "output_type": "display_data"
    }
   ],
   "source": [
    "plot_line(df, value='IV', show_afterhours=False)"
   ]
  },
  {
   "cell_type": "code",
   "execution_count": 177,
   "id": "4ecbf126-08f3-4ce2-a908-b46e8b60902b",
   "metadata": {},
   "outputs": [
    {
     "data": {
      "application/vnd.plotly.v1+json": {
       "config": {
        "plotlyServerURL": "https://plot.ly"
       },
       "data": [
        {
         "type": "scatter",
         "x": [
          "2022-04-06T10:00:00",
          "2022-04-06T10:00:00",
          "2022-04-06T10:00:00",
          "2022-04-06T10:00:00",
          "2022-04-06T10:00:00",
          "2022-04-06T10:00:00",
          "2022-04-06T10:00:00",
          "2022-04-06T10:00:00",
          "2022-04-06T10:00:00",
          "2022-04-06T10:00:00",
          "2022-04-06T10:00:00",
          "2022-04-06T10:00:00",
          "2022-04-06T11:00:00",
          "2022-04-06T11:00:00",
          "2022-04-06T11:00:00",
          "2022-04-06T11:00:00",
          "2022-04-06T11:00:00",
          "2022-04-06T11:00:00",
          "2022-04-06T11:00:00",
          "2022-04-06T11:00:00",
          "2022-04-06T11:00:00",
          "2022-04-06T11:00:00",
          "2022-04-06T11:00:00",
          "2022-04-06T11:00:00",
          "2022-04-06T11:00:00",
          "2022-04-06T11:00:00",
          "2022-04-06T12:00:00",
          "2022-04-06T12:00:00",
          "2022-04-06T12:00:00",
          "2022-04-06T12:00:00",
          "2022-04-06T12:00:00",
          "2022-04-06T12:00:00",
          "2022-04-06T12:00:00",
          "2022-04-06T12:00:00",
          "2022-04-06T12:00:00",
          "2022-04-06T12:00:00",
          "2022-04-06T12:00:00",
          "2022-04-06T12:00:00",
          "2022-04-06T12:00:00",
          "2022-04-06T12:00:00",
          "2022-04-06T13:00:00",
          "2022-04-06T13:00:00",
          "2022-04-06T13:00:00",
          "2022-04-06T13:00:00",
          "2022-04-06T13:00:00",
          "2022-04-06T13:00:00",
          "2022-04-06T13:00:00",
          "2022-04-06T13:00:00",
          "2022-04-06T13:00:00",
          "2022-04-06T13:00:00",
          "2022-04-06T13:00:00",
          "2022-04-06T13:00:00",
          "2022-04-06T13:00:00",
          "2022-04-06T13:00:00",
          "2022-04-06T13:00:00",
          "2022-04-06T13:00:00",
          "2022-04-06T13:00:00",
          "2022-04-06T13:00:00",
          "2022-04-06T14:00:00",
          "2022-04-06T14:00:00",
          "2022-04-06T14:00:00",
          "2022-04-06T14:00:00",
          "2022-04-06T14:00:00",
          "2022-04-06T14:00:00",
          "2022-04-06T14:00:00",
          "2022-04-06T14:00:00",
          "2022-04-06T14:00:00",
          "2022-04-06T14:00:00",
          "2022-04-06T14:00:00",
          "2022-04-06T14:00:00",
          "2022-04-06T14:00:00",
          "2022-04-06T14:00:00",
          "2022-04-06T14:00:00",
          "2022-04-06T14:00:00",
          "2022-04-06T14:00:00",
          "2022-04-06T14:00:00",
          "2022-04-06T14:00:00",
          "2022-04-06T14:00:00",
          "2022-04-06T15:00:00",
          "2022-04-06T15:00:00",
          "2022-04-06T15:00:00",
          "2022-04-06T15:00:00",
          "2022-04-06T15:00:00",
          "2022-04-06T15:00:00",
          "2022-04-06T15:00:00",
          "2022-04-06T15:00:00",
          "2022-04-06T15:00:00",
          "2022-04-06T15:00:00",
          "2022-04-06T15:00:00",
          "2022-04-06T15:00:00",
          "2022-04-06T15:00:00",
          "2022-04-06T15:00:00",
          "2022-04-06T15:00:00",
          "2022-04-06T15:00:00",
          "2022-04-06T15:00:00",
          "2022-04-06T15:00:00",
          "2022-04-06T15:00:00",
          "2022-04-06T15:00:00",
          "2022-04-06T15:00:00",
          "2022-04-06T15:00:00",
          "2022-04-06T16:00:00",
          "2022-04-06T16:00:00",
          "2022-04-06T16:00:00",
          "2022-04-06T16:00:00",
          "2022-04-06T16:00:00",
          "2022-04-06T16:00:00",
          "2022-04-06T16:00:00",
          "2022-04-06T16:00:00",
          "2022-04-06T16:00:00",
          "2022-04-06T16:00:00",
          "2022-04-06T16:00:00",
          "2022-04-06T16:00:00",
          "2022-04-06T16:00:00",
          "2022-04-06T16:00:00",
          "2022-04-06T16:00:00",
          "2022-04-06T16:00:00",
          "2022-04-06T16:00:00",
          "2022-04-06T16:00:00",
          "2022-04-06T16:00:00",
          "2022-04-06T16:00:00",
          "2022-04-06T16:00:00",
          "2022-04-06T16:00:00",
          "2022-04-07T10:00:00",
          "2022-04-07T10:00:00",
          "2022-04-07T10:00:00",
          "2022-04-07T10:00:00",
          "2022-04-07T10:00:00",
          "2022-04-07T10:00:00",
          "2022-04-07T10:00:00",
          "2022-04-07T10:00:00",
          "2022-04-07T10:00:00",
          "2022-04-07T10:00:00",
          "2022-04-07T10:00:00",
          "2022-04-07T10:00:00",
          "2022-04-07T11:00:00",
          "2022-04-07T11:00:00",
          "2022-04-07T11:00:00",
          "2022-04-07T11:00:00",
          "2022-04-07T11:00:00",
          "2022-04-07T11:00:00",
          "2022-04-07T11:00:00",
          "2022-04-07T11:00:00",
          "2022-04-07T11:00:00",
          "2022-04-07T11:00:00",
          "2022-04-07T11:00:00",
          "2022-04-07T11:00:00",
          "2022-04-07T11:00:00",
          "2022-04-07T11:00:00",
          "2022-04-07T11:00:00",
          "2022-04-07T11:00:00",
          "2022-04-07T11:00:00",
          "2022-04-07T11:00:00",
          "2022-04-07T12:00:00",
          "2022-04-07T12:00:00",
          "2022-04-07T12:00:00",
          "2022-04-07T12:00:00",
          "2022-04-07T12:00:00",
          "2022-04-07T12:00:00",
          "2022-04-07T12:00:00",
          "2022-04-07T12:00:00",
          "2022-04-07T12:00:00",
          "2022-04-07T12:00:00",
          "2022-04-07T12:00:00",
          "2022-04-07T12:00:00",
          "2022-04-07T12:00:00",
          "2022-04-07T12:00:00",
          "2022-04-07T12:00:00",
          "2022-04-07T12:00:00",
          "2022-04-07T12:00:00",
          "2022-04-07T12:00:00",
          "2022-04-07T12:00:00",
          "2022-04-07T12:00:00",
          "2022-04-07T12:00:00",
          "2022-04-07T12:00:00",
          "2022-04-07T13:00:00",
          "2022-04-07T13:00:00",
          "2022-04-07T13:00:00",
          "2022-04-07T13:00:00",
          "2022-04-07T13:00:00",
          "2022-04-07T13:00:00",
          "2022-04-07T13:00:00",
          "2022-04-07T13:00:00",
          "2022-04-07T13:00:00",
          "2022-04-07T13:00:00",
          "2022-04-07T13:00:00",
          "2022-04-07T13:00:00",
          "2022-04-07T13:00:00",
          "2022-04-07T13:00:00",
          "2022-04-07T13:00:00",
          "2022-04-07T13:00:00",
          "2022-04-07T13:00:00",
          "2022-04-07T13:00:00",
          "2022-04-07T13:00:00",
          "2022-04-07T13:00:00",
          "2022-04-07T13:00:00",
          "2022-04-07T13:00:00",
          "2022-04-07T13:00:00",
          "2022-04-07T13:00:00",
          "2022-04-07T14:00:00",
          "2022-04-07T14:00:00",
          "2022-04-07T14:00:00",
          "2022-04-07T14:00:00",
          "2022-04-07T14:00:00",
          "2022-04-07T14:00:00",
          "2022-04-07T14:00:00",
          "2022-04-07T14:00:00",
          "2022-04-07T14:00:00",
          "2022-04-07T14:00:00",
          "2022-04-07T14:00:00",
          "2022-04-07T14:00:00",
          "2022-04-07T14:00:00",
          "2022-04-07T14:00:00",
          "2022-04-07T14:00:00",
          "2022-04-07T14:00:00",
          "2022-04-07T14:00:00",
          "2022-04-07T14:00:00",
          "2022-04-07T14:00:00",
          "2022-04-07T14:00:00",
          "2022-04-07T14:00:00",
          "2022-04-07T14:00:00",
          "2022-04-07T14:00:00",
          "2022-04-07T14:00:00",
          "2022-04-07T14:00:00",
          "2022-04-07T14:00:00",
          "2022-04-07T15:00:00",
          "2022-04-07T15:00:00",
          "2022-04-07T15:00:00",
          "2022-04-07T15:00:00",
          "2022-04-07T15:00:00",
          "2022-04-07T15:00:00",
          "2022-04-07T15:00:00",
          "2022-04-07T15:00:00",
          "2022-04-07T15:00:00",
          "2022-04-07T15:00:00",
          "2022-04-07T15:00:00",
          "2022-04-07T15:00:00",
          "2022-04-07T15:00:00",
          "2022-04-07T15:00:00",
          "2022-04-07T15:00:00",
          "2022-04-07T15:00:00",
          "2022-04-07T15:00:00",
          "2022-04-07T15:00:00",
          "2022-04-07T15:00:00",
          "2022-04-07T15:00:00",
          "2022-04-07T15:00:00",
          "2022-04-07T15:00:00",
          "2022-04-07T15:00:00",
          "2022-04-07T15:00:00",
          "2022-04-07T15:00:00",
          "2022-04-07T15:00:00",
          "2022-04-07T15:00:00",
          "2022-04-07T15:00:00",
          "2022-04-07T15:00:00",
          "2022-04-07T15:00:00",
          "2022-04-07T16:00:00",
          "2022-04-07T16:00:00",
          "2022-04-07T16:00:00",
          "2022-04-07T16:00:00",
          "2022-04-07T16:00:00",
          "2022-04-07T16:00:00",
          "2022-04-07T16:00:00",
          "2022-04-07T16:00:00",
          "2022-04-07T16:00:00",
          "2022-04-07T16:00:00",
          "2022-04-07T16:00:00",
          "2022-04-07T16:00:00",
          "2022-04-07T16:00:00",
          "2022-04-07T16:00:00",
          "2022-04-07T16:00:00",
          "2022-04-07T16:00:00",
          "2022-04-07T16:00:00",
          "2022-04-07T16:00:00",
          "2022-04-07T16:00:00",
          "2022-04-07T16:00:00",
          "2022-04-07T16:00:00",
          "2022-04-07T16:00:00",
          "2022-04-07T16:00:00",
          "2022-04-07T16:00:00",
          "2022-04-07T16:00:00",
          "2022-04-07T16:00:00",
          "2022-04-07T16:00:00",
          "2022-04-07T16:00:00",
          "2022-04-07T16:00:00",
          "2022-04-07T16:00:00",
          "2022-04-08T10:00:00",
          "2022-04-08T10:00:00",
          "2022-04-08T10:00:00",
          "2022-04-08T10:00:00",
          "2022-04-08T10:00:00",
          "2022-04-08T10:00:00",
          "2022-04-08T10:00:00",
          "2022-04-08T10:00:00",
          "2022-04-08T10:00:00",
          "2022-04-08T10:00:00",
          "2022-04-08T10:00:00",
          "2022-04-08T10:00:00",
          "2022-04-08T11:00:00",
          "2022-04-08T11:00:00",
          "2022-04-08T11:00:00",
          "2022-04-08T11:00:00",
          "2022-04-08T11:00:00",
          "2022-04-08T11:00:00",
          "2022-04-08T11:00:00",
          "2022-04-08T11:00:00",
          "2022-04-08T11:00:00",
          "2022-04-08T11:00:00",
          "2022-04-08T11:00:00",
          "2022-04-08T11:00:00",
          "2022-04-08T12:00:00",
          "2022-04-08T12:00:00",
          "2022-04-08T12:00:00",
          "2022-04-08T12:00:00",
          "2022-04-08T12:00:00",
          "2022-04-08T12:00:00",
          "2022-04-08T12:00:00",
          "2022-04-08T12:00:00",
          "2022-04-08T12:00:00",
          "2022-04-08T12:00:00",
          "2022-04-08T12:00:00",
          "2022-04-08T12:00:00",
          "2022-04-08T12:00:00",
          "2022-04-08T12:00:00",
          "2022-04-08T13:00:00",
          "2022-04-08T13:00:00",
          "2022-04-08T13:00:00",
          "2022-04-08T13:00:00",
          "2022-04-08T13:00:00",
          "2022-04-08T13:00:00",
          "2022-04-08T13:00:00",
          "2022-04-08T13:00:00",
          "2022-04-08T13:00:00",
          "2022-04-08T13:00:00",
          "2022-04-08T13:00:00",
          "2022-04-08T13:00:00",
          "2022-04-08T13:00:00",
          "2022-04-08T13:00:00",
          "2022-04-08T14:00:00",
          "2022-04-08T14:00:00",
          "2022-04-08T14:00:00",
          "2022-04-08T14:00:00",
          "2022-04-08T14:00:00",
          "2022-04-08T14:00:00",
          "2022-04-08T14:00:00",
          "2022-04-08T14:00:00",
          "2022-04-08T14:00:00",
          "2022-04-08T14:00:00",
          "2022-04-08T14:00:00",
          "2022-04-08T14:00:00",
          "2022-04-08T14:00:00",
          "2022-04-08T14:00:00",
          "2022-04-08T14:00:00",
          "2022-04-08T14:00:00",
          "2022-04-08T15:00:00",
          "2022-04-08T15:00:00",
          "2022-04-08T15:00:00",
          "2022-04-08T15:00:00",
          "2022-04-08T15:00:00",
          "2022-04-08T15:00:00",
          "2022-04-08T15:00:00",
          "2022-04-08T15:00:00",
          "2022-04-08T15:00:00",
          "2022-04-08T15:00:00",
          "2022-04-08T15:00:00",
          "2022-04-08T15:00:00",
          "2022-04-08T15:00:00",
          "2022-04-08T15:00:00",
          "2022-04-08T15:00:00",
          "2022-04-08T15:00:00",
          "2022-04-08T16:00:00",
          "2022-04-08T16:00:00",
          "2022-04-08T16:00:00",
          "2022-04-08T16:00:00",
          "2022-04-08T16:00:00",
          "2022-04-08T16:00:00",
          "2022-04-08T16:00:00",
          "2022-04-08T16:00:00",
          "2022-04-08T16:00:00",
          "2022-04-08T16:00:00",
          "2022-04-08T16:00:00",
          "2022-04-08T16:00:00",
          "2022-04-08T16:00:00",
          "2022-04-08T16:00:00",
          "2022-04-08T16:00:00",
          "2022-04-08T16:00:00",
          "2022-04-11T10:00:00",
          "2022-04-11T10:00:00",
          "2022-04-11T10:00:00",
          "2022-04-11T10:00:00",
          "2022-04-11T10:00:00",
          "2022-04-11T10:00:00",
          "2022-04-11T10:00:00",
          "2022-04-11T10:00:00",
          "2022-04-11T10:00:00",
          "2022-04-11T10:00:00",
          "2022-04-11T10:00:00",
          "2022-04-11T10:00:00",
          "2022-04-11T11:00:00",
          "2022-04-11T11:00:00",
          "2022-04-11T11:00:00",
          "2022-04-11T11:00:00",
          "2022-04-11T11:00:00",
          "2022-04-11T11:00:00",
          "2022-04-11T11:00:00",
          "2022-04-11T11:00:00",
          "2022-04-11T11:00:00",
          "2022-04-11T11:00:00",
          "2022-04-11T11:00:00",
          "2022-04-11T11:00:00",
          "2022-04-11T11:00:00",
          "2022-04-11T11:00:00",
          "2022-04-11T12:00:00",
          "2022-04-11T12:00:00",
          "2022-04-11T12:00:00",
          "2022-04-11T12:00:00",
          "2022-04-11T12:00:00",
          "2022-04-11T12:00:00",
          "2022-04-11T12:00:00",
          "2022-04-11T12:00:00",
          "2022-04-11T12:00:00",
          "2022-04-11T12:00:00",
          "2022-04-11T12:00:00",
          "2022-04-11T12:00:00",
          "2022-04-11T12:00:00",
          "2022-04-11T12:00:00",
          "2022-04-11T12:00:00",
          "2022-04-11T12:00:00",
          "2022-04-11T13:00:00",
          "2022-04-11T13:00:00",
          "2022-04-11T13:00:00",
          "2022-04-11T13:00:00",
          "2022-04-11T13:00:00",
          "2022-04-11T13:00:00",
          "2022-04-11T13:00:00",
          "2022-04-11T13:00:00",
          "2022-04-11T13:00:00",
          "2022-04-11T13:00:00",
          "2022-04-11T13:00:00",
          "2022-04-11T13:00:00",
          "2022-04-11T13:00:00",
          "2022-04-11T13:00:00",
          "2022-04-11T13:00:00",
          "2022-04-11T13:00:00",
          "2022-04-11T14:00:00",
          "2022-04-11T14:00:00",
          "2022-04-11T14:00:00",
          "2022-04-11T14:00:00",
          "2022-04-11T14:00:00",
          "2022-04-11T14:00:00",
          "2022-04-11T14:00:00",
          "2022-04-11T14:00:00",
          "2022-04-11T14:00:00",
          "2022-04-11T14:00:00",
          "2022-04-11T14:00:00",
          "2022-04-11T14:00:00",
          "2022-04-11T14:00:00",
          "2022-04-11T14:00:00",
          "2022-04-11T14:00:00",
          "2022-04-11T14:00:00",
          "2022-04-11T15:00:00",
          "2022-04-11T15:00:00",
          "2022-04-11T15:00:00",
          "2022-04-11T15:00:00",
          "2022-04-11T15:00:00",
          "2022-04-11T15:00:00",
          "2022-04-11T15:00:00",
          "2022-04-11T15:00:00",
          "2022-04-11T15:00:00",
          "2022-04-11T15:00:00",
          "2022-04-11T15:00:00",
          "2022-04-11T15:00:00",
          "2022-04-11T15:00:00",
          "2022-04-11T15:00:00",
          "2022-04-11T15:00:00",
          "2022-04-11T15:00:00",
          "2022-04-11T16:00:00",
          "2022-04-11T16:00:00",
          "2022-04-11T16:00:00",
          "2022-04-11T16:00:00",
          "2022-04-11T16:00:00",
          "2022-04-11T16:00:00",
          "2022-04-11T16:00:00",
          "2022-04-11T16:00:00",
          "2022-04-11T16:00:00",
          "2022-04-11T16:00:00",
          "2022-04-11T16:00:00",
          "2022-04-11T16:00:00",
          "2022-04-11T16:00:00",
          "2022-04-11T16:00:00",
          "2022-04-11T16:00:00",
          "2022-04-11T16:00:00",
          "2022-04-11T16:00:00",
          "2022-04-11T16:00:00",
          "2022-04-12T10:00:00",
          "2022-04-12T10:00:00",
          "2022-04-12T10:00:00",
          "2022-04-12T10:00:00",
          "2022-04-12T10:00:00",
          "2022-04-12T10:00:00",
          "2022-04-12T10:00:00",
          "2022-04-12T10:00:00",
          "2022-04-12T10:00:00",
          "2022-04-12T10:00:00",
          "2022-04-12T10:00:00",
          "2022-04-12T10:00:00",
          "2022-04-12T11:00:00",
          "2022-04-12T11:00:00",
          "2022-04-12T11:00:00",
          "2022-04-12T11:00:00",
          "2022-04-12T11:00:00",
          "2022-04-12T11:00:00",
          "2022-04-12T11:00:00",
          "2022-04-12T11:00:00",
          "2022-04-12T11:00:00",
          "2022-04-12T11:00:00",
          "2022-04-12T11:00:00",
          "2022-04-12T11:00:00",
          "2022-04-12T11:00:00",
          "2022-04-12T11:00:00",
          "2022-04-12T11:00:00",
          "2022-04-12T11:00:00",
          "2022-04-12T11:00:00",
          "2022-04-12T11:00:00",
          "2022-04-12T11:00:00",
          "2022-04-12T11:00:00",
          "2022-04-12T12:00:00",
          "2022-04-12T12:00:00",
          "2022-04-12T12:00:00",
          "2022-04-12T12:00:00",
          "2022-04-12T12:00:00",
          "2022-04-12T12:00:00",
          "2022-04-12T12:00:00",
          "2022-04-12T12:00:00",
          "2022-04-12T12:00:00",
          "2022-04-12T12:00:00",
          "2022-04-12T12:00:00",
          "2022-04-12T12:00:00",
          "2022-04-12T12:00:00",
          "2022-04-12T12:00:00",
          "2022-04-12T12:00:00",
          "2022-04-12T12:00:00",
          "2022-04-12T12:00:00",
          "2022-04-12T12:00:00",
          "2022-04-12T12:00:00",
          "2022-04-12T12:00:00",
          "2022-04-12T13:00:00",
          "2022-04-12T13:00:00",
          "2022-04-12T13:00:00",
          "2022-04-12T13:00:00",
          "2022-04-12T13:00:00",
          "2022-04-12T13:00:00",
          "2022-04-12T13:00:00",
          "2022-04-12T13:00:00",
          "2022-04-12T13:00:00",
          "2022-04-12T13:00:00",
          "2022-04-12T13:00:00",
          "2022-04-12T13:00:00",
          "2022-04-12T13:00:00",
          "2022-04-12T13:00:00",
          "2022-04-12T13:00:00",
          "2022-04-12T13:00:00",
          "2022-04-12T13:00:00",
          "2022-04-12T13:00:00",
          "2022-04-12T13:00:00",
          "2022-04-12T13:00:00",
          "2022-04-12T14:00:00",
          "2022-04-12T14:00:00",
          "2022-04-12T14:00:00",
          "2022-04-12T14:00:00",
          "2022-04-12T14:00:00",
          "2022-04-12T14:00:00",
          "2022-04-12T14:00:00",
          "2022-04-12T14:00:00",
          "2022-04-12T14:00:00",
          "2022-04-12T14:00:00",
          "2022-04-12T14:00:00",
          "2022-04-12T14:00:00",
          "2022-04-12T14:00:00",
          "2022-04-12T14:00:00",
          "2022-04-12T14:00:00",
          "2022-04-12T14:00:00",
          "2022-04-12T14:00:00",
          "2022-04-12T14:00:00",
          "2022-04-12T14:00:00",
          "2022-04-12T14:00:00",
          "2022-04-12T14:00:00",
          "2022-04-12T14:00:00",
          "2022-04-12T15:00:00",
          "2022-04-12T15:00:00",
          "2022-04-12T15:00:00",
          "2022-04-12T15:00:00",
          "2022-04-12T15:00:00",
          "2022-04-12T15:00:00",
          "2022-04-12T15:00:00",
          "2022-04-12T15:00:00",
          "2022-04-12T15:00:00",
          "2022-04-12T15:00:00",
          "2022-04-12T15:00:00",
          "2022-04-12T15:00:00",
          "2022-04-12T15:00:00",
          "2022-04-12T15:00:00",
          "2022-04-12T15:00:00",
          "2022-04-12T15:00:00",
          "2022-04-12T15:00:00",
          "2022-04-12T15:00:00",
          "2022-04-12T15:00:00",
          "2022-04-12T15:00:00",
          "2022-04-12T15:00:00",
          "2022-04-12T15:00:00",
          "2022-04-12T15:00:00",
          "2022-04-12T15:00:00",
          "2022-04-12T16:00:00",
          "2022-04-12T16:00:00",
          "2022-04-12T16:00:00",
          "2022-04-12T16:00:00",
          "2022-04-12T16:00:00",
          "2022-04-12T16:00:00",
          "2022-04-12T16:00:00",
          "2022-04-12T16:00:00",
          "2022-04-12T16:00:00",
          "2022-04-12T16:00:00",
          "2022-04-12T16:00:00",
          "2022-04-12T16:00:00",
          "2022-04-12T16:00:00",
          "2022-04-12T16:00:00",
          "2022-04-12T16:00:00",
          "2022-04-12T16:00:00",
          "2022-04-12T16:00:00",
          "2022-04-12T16:00:00",
          "2022-04-12T16:00:00",
          "2022-04-12T16:00:00",
          "2022-04-12T16:00:00",
          "2022-04-12T16:00:00",
          "2022-04-12T16:00:00",
          "2022-04-12T16:00:00"
         ],
         "y": [
          42.65,
          39.22,
          36.7,
          34.01,
          31.5,
          29.12,
          29.05,
          31.23,
          33.55,
          35.9,
          38.35,
          41.05,
          39.45,
          36.19,
          33.54,
          30.9,
          28.85,
          27.55,
          29.85,
          33,
          35.15,
          37.8,
          40.1,
          41.05,
          42,
          27,
          40.68,
          38.09,
          35.2,
          32.6,
          30.3,
          28.1,
          25.75,
          29.15,
          31.2,
          33.55,
          36.09,
          39,
          41.35,
          42.2,
          37.36,
          33.75,
          31,
          30,
          27,
          25.1,
          23.49,
          33.6,
          35.88,
          39,
          40.2,
          43.58,
          45.85,
          50,
          43.05,
          39.79,
          28.9,
          31.65,
          53.05,
          48.71,
          45.8,
          45.15,
          40.71,
          37,
          34.95,
          32.2,
          30.6,
          21.51,
          23.55,
          25.4,
          27.35,
          29.55,
          32,
          34,
          37,
          39.4,
          28.25,
          41.5,
          55.18,
          52.53,
          48.85,
          45.75,
          42.44,
          40.45,
          37.4,
          34.3,
          31.79,
          29.5,
          19.5,
          20.85,
          22.5,
          24.8,
          26.4,
          29,
          31,
          33.4,
          36,
          38.6,
          27.55,
          40.8,
          50.7,
          46.55,
          42.95,
          40.5,
          37,
          34.8,
          32.25,
          30.12,
          27.75,
          25.74,
          23.68,
          23.1,
          25.15,
          27.02,
          29.35,
          31.5,
          33.97,
          36.46,
          38.9,
          40.9,
          42.65,
          46.8,
          39,
          36.15,
          33.7,
          27.43,
          29.6,
          32,
          31.35,
          28.85,
          26.95,
          36.45,
          37.12,
          41,
          28.74,
          26.55,
          21.95,
          20.5,
          18.95,
          36.56,
          38.77,
          44.35,
          46.85,
          53.35,
          39.11,
          36.4,
          33.54,
          31.2,
          27.35,
          29.2,
          31.64,
          34.5,
          28.95,
          26.25,
          25.21,
          22.5,
          16,
          14.75,
          13.23,
          36.5,
          40.25,
          42.5,
          45.58,
          62,
          63.53,
          67.24,
          39.63,
          35.62,
          34.2,
          31.9,
          27,
          29.75,
          31.68,
          34.5,
          37.4,
          34.6,
          32.06,
          30.07,
          27.4,
          25.3,
          23.27,
          21.6,
          15.39,
          14,
          12.8,
          30.3,
          33.3,
          35.57,
          37.95,
          40.15,
          43.65,
          46.7,
          49.55,
          63.66,
          67.96,
          71.85,
          39.96,
          28.43,
          47.25,
          49,
          45.7,
          42.5,
          39.52,
          36.65,
          34.13,
          31.9,
          29,
          21.2,
          19.42,
          16.73,
          20.5,
          21.5,
          23.15,
          24.87,
          27,
          29.35,
          32.1,
          34.1,
          38.33,
          56.65,
          52.07,
          55.15,
          27,
          40.85,
          54.3,
          55.95,
          52.5,
          49.2,
          46.8,
          43.75,
          41,
          37.5,
          35.5,
          32.3,
          26.2,
          23.8,
          22.25,
          16.49,
          17.5,
          19.15,
          20.8,
          22.9,
          24.8,
          27,
          29.45,
          31.7,
          34.35,
          42.95,
          46.43,
          49,
          29.9,
          27.8,
          36.31,
          39.9,
          58.4,
          54.82,
          51.75,
          48.35,
          44.3,
          41.95,
          38.95,
          36.1,
          34.15,
          31.25,
          28.75,
          26.7,
          24.85,
          22.9,
          21.1,
          16,
          17.7,
          19.15,
          21.13,
          22.77,
          24.75,
          27,
          29.25,
          31.77,
          34.49,
          37.06,
          39.6,
          41.15,
          45.9,
          47.25,
          36.8,
          34.37,
          31.75,
          29.25,
          26.91,
          24.88,
          25.65,
          27.69,
          30.09,
          32.9,
          35.25,
          38.33,
          34.9,
          33.11,
          30.7,
          28.03,
          25.3,
          25,
          27.4,
          29.9,
          33.01,
          35.5,
          23.83,
          38,
          33.8,
          30.7,
          28.25,
          25.81,
          23.93,
          21.9,
          25.2,
          26.88,
          29.84,
          32.4,
          34.91,
          38.47,
          36.52,
          22.68,
          41.15,
          35.32,
          32.55,
          29.77,
          27.43,
          25.25,
          18.65,
          22.75,
          24.5,
          27.26,
          30,
          32.45,
          23,
          35.89,
          35.05,
          29.5,
          26.98,
          24.8,
          22.4,
          20.42,
          18.56,
          22.6,
          27,
          29.7,
          32.28,
          35.27,
          38,
          41.75,
          32,
          24.75,
          35.2,
          32.58,
          29.65,
          27.68,
          25,
          22.75,
          20.8,
          18.82,
          19.9,
          21.95,
          24.5,
          26.62,
          29.3,
          31.83,
          34.7,
          37.95,
          28.85,
          26.32,
          23.85,
          21.64,
          19.4,
          15.73,
          14.25,
          23.25,
          25.96,
          28.5,
          31.18,
          34,
          40.35,
          43.95,
          31.9,
          21.2,
          31.02,
          28.2,
          25.15,
          22.68,
          20.35,
          18.1,
          17.35,
          19.4,
          21.62,
          23.95,
          26.8,
          29.28,
          27.63,
          23.79,
          21.1,
          19.05,
          17,
          14.89,
          20.25,
          22.65,
          25.03,
          27.85,
          30.95,
          33.26,
          29.01,
          18.1,
          27.45,
          24.93,
          21.5,
          18.95,
          16.86,
          14.8,
          13,
          16.95,
          19.3,
          21.55,
          24.24,
          26.8,
          29.95,
          32.54,
          30.65,
          14.8,
          31.3,
          26.95,
          24.2,
          21.67,
          19.25,
          16.85,
          14.79,
          13.2,
          14.8,
          16.7,
          18.75,
          21.35,
          23.8,
          26.65,
          29.35,
          32.12,
          30.74,
          28,
          25.95,
          23.3,
          20.75,
          18.53,
          16.25,
          14.45,
          13.65,
          15.45,
          17.5,
          19.81,
          22.29,
          25.4,
          27.79,
          31.65,
          31.56,
          28.3,
          25.8,
          22.91,
          20.7,
          18.26,
          16.06,
          14.19,
          14.01,
          15.9,
          18,
          20.57,
          22.65,
          25.55,
          28.7,
          31.55,
          25.6,
          23.1,
          20.5,
          17.95,
          16.14,
          14.05,
          12.51,
          11,
          19.93,
          22.25,
          24.7,
          27.55,
          30.05,
          33.5,
          36.8,
          40,
          28,
          17.67,
          26,
          13.4,
          23.3,
          20.59,
          17.85,
          15.83,
          13.6,
          15.5,
          18,
          20.75,
          23.45,
          26.85,
          15,
          12.85,
          11.05,
          9.5,
          8.1,
          6.91,
          22.6,
          25.35,
          28.7,
          32.34,
          35.56,
          39,
          25.3,
          22.85,
          19.35,
          17.22,
          13.2,
          15.1,
          17.2,
          20,
          26.93,
          22,
          19.15,
          16.76,
          14.32,
          12.2,
          10.46,
          8.7,
          7.35,
          6.3,
          11.5,
          13.49,
          15.6,
          18.11,
          20.7,
          23.3,
          27,
          30.3,
          34,
          37.11,
          24.3,
          21.4,
          18.8,
          16.25,
          13.9,
          11.65,
          9.85,
          8.4,
          6.92,
          5.9,
          11.75,
          13.63,
          15.8,
          18.4,
          20.5,
          24.12,
          27.21,
          30.45,
          35.17,
          38.7,
          20.5,
          17.9,
          15.3,
          13.1,
          11.2,
          9.4,
          8.1,
          6.65,
          5.55,
          4.6,
          14.45,
          17.09,
          19.6,
          22.3,
          25,
          28.2,
          32.05,
          35.8,
          39.4,
          43.4,
          23.63,
          12.6,
          18.8,
          16.3,
          13.8,
          11.7,
          9.8,
          6.92,
          5.8,
          4.7,
          3.9,
          3.2,
          15,
          17.35,
          20.15,
          23.2,
          26.45,
          32.45,
          35.7,
          39.4,
          43.42,
          46.35,
          24.84,
          22.5,
          11,
          12.86,
          26.66,
          22.6,
          19.9,
          17.05,
          14.81,
          12.45,
          10.26,
          7.15,
          6,
          5,
          4.02,
          3.32,
          9.5,
          10.8,
          12.82,
          15.2,
          17.65,
          20.4,
          23.5,
          30.2,
          33.98,
          38,
          42.28,
          46.44
         ]
        }
       ],
       "layout": {
        "autosize": true,
        "template": {
         "data": {
          "bar": [
           {
            "error_x": {
             "color": "#2a3f5f"
            },
            "error_y": {
             "color": "#2a3f5f"
            },
            "marker": {
             "line": {
              "color": "#E5ECF6",
              "width": 0.5
             },
             "pattern": {
              "fillmode": "overlay",
              "size": 10,
              "solidity": 0.2
             }
            },
            "type": "bar"
           }
          ],
          "barpolar": [
           {
            "marker": {
             "line": {
              "color": "#E5ECF6",
              "width": 0.5
             },
             "pattern": {
              "fillmode": "overlay",
              "size": 10,
              "solidity": 0.2
             }
            },
            "type": "barpolar"
           }
          ],
          "carpet": [
           {
            "aaxis": {
             "endlinecolor": "#2a3f5f",
             "gridcolor": "white",
             "linecolor": "white",
             "minorgridcolor": "white",
             "startlinecolor": "#2a3f5f"
            },
            "baxis": {
             "endlinecolor": "#2a3f5f",
             "gridcolor": "white",
             "linecolor": "white",
             "minorgridcolor": "white",
             "startlinecolor": "#2a3f5f"
            },
            "type": "carpet"
           }
          ],
          "choropleth": [
           {
            "colorbar": {
             "outlinewidth": 0,
             "ticks": ""
            },
            "type": "choropleth"
           }
          ],
          "contour": [
           {
            "colorbar": {
             "outlinewidth": 0,
             "ticks": ""
            },
            "colorscale": [
             [
              0,
              "#0d0887"
             ],
             [
              0.1111111111111111,
              "#46039f"
             ],
             [
              0.2222222222222222,
              "#7201a8"
             ],
             [
              0.3333333333333333,
              "#9c179e"
             ],
             [
              0.4444444444444444,
              "#bd3786"
             ],
             [
              0.5555555555555556,
              "#d8576b"
             ],
             [
              0.6666666666666666,
              "#ed7953"
             ],
             [
              0.7777777777777778,
              "#fb9f3a"
             ],
             [
              0.8888888888888888,
              "#fdca26"
             ],
             [
              1,
              "#f0f921"
             ]
            ],
            "type": "contour"
           }
          ],
          "contourcarpet": [
           {
            "colorbar": {
             "outlinewidth": 0,
             "ticks": ""
            },
            "type": "contourcarpet"
           }
          ],
          "heatmap": [
           {
            "colorbar": {
             "outlinewidth": 0,
             "ticks": ""
            },
            "colorscale": [
             [
              0,
              "#0d0887"
             ],
             [
              0.1111111111111111,
              "#46039f"
             ],
             [
              0.2222222222222222,
              "#7201a8"
             ],
             [
              0.3333333333333333,
              "#9c179e"
             ],
             [
              0.4444444444444444,
              "#bd3786"
             ],
             [
              0.5555555555555556,
              "#d8576b"
             ],
             [
              0.6666666666666666,
              "#ed7953"
             ],
             [
              0.7777777777777778,
              "#fb9f3a"
             ],
             [
              0.8888888888888888,
              "#fdca26"
             ],
             [
              1,
              "#f0f921"
             ]
            ],
            "type": "heatmap"
           }
          ],
          "heatmapgl": [
           {
            "colorbar": {
             "outlinewidth": 0,
             "ticks": ""
            },
            "colorscale": [
             [
              0,
              "#0d0887"
             ],
             [
              0.1111111111111111,
              "#46039f"
             ],
             [
              0.2222222222222222,
              "#7201a8"
             ],
             [
              0.3333333333333333,
              "#9c179e"
             ],
             [
              0.4444444444444444,
              "#bd3786"
             ],
             [
              0.5555555555555556,
              "#d8576b"
             ],
             [
              0.6666666666666666,
              "#ed7953"
             ],
             [
              0.7777777777777778,
              "#fb9f3a"
             ],
             [
              0.8888888888888888,
              "#fdca26"
             ],
             [
              1,
              "#f0f921"
             ]
            ],
            "type": "heatmapgl"
           }
          ],
          "histogram": [
           {
            "marker": {
             "pattern": {
              "fillmode": "overlay",
              "size": 10,
              "solidity": 0.2
             }
            },
            "type": "histogram"
           }
          ],
          "histogram2d": [
           {
            "colorbar": {
             "outlinewidth": 0,
             "ticks": ""
            },
            "colorscale": [
             [
              0,
              "#0d0887"
             ],
             [
              0.1111111111111111,
              "#46039f"
             ],
             [
              0.2222222222222222,
              "#7201a8"
             ],
             [
              0.3333333333333333,
              "#9c179e"
             ],
             [
              0.4444444444444444,
              "#bd3786"
             ],
             [
              0.5555555555555556,
              "#d8576b"
             ],
             [
              0.6666666666666666,
              "#ed7953"
             ],
             [
              0.7777777777777778,
              "#fb9f3a"
             ],
             [
              0.8888888888888888,
              "#fdca26"
             ],
             [
              1,
              "#f0f921"
             ]
            ],
            "type": "histogram2d"
           }
          ],
          "histogram2dcontour": [
           {
            "colorbar": {
             "outlinewidth": 0,
             "ticks": ""
            },
            "colorscale": [
             [
              0,
              "#0d0887"
             ],
             [
              0.1111111111111111,
              "#46039f"
             ],
             [
              0.2222222222222222,
              "#7201a8"
             ],
             [
              0.3333333333333333,
              "#9c179e"
             ],
             [
              0.4444444444444444,
              "#bd3786"
             ],
             [
              0.5555555555555556,
              "#d8576b"
             ],
             [
              0.6666666666666666,
              "#ed7953"
             ],
             [
              0.7777777777777778,
              "#fb9f3a"
             ],
             [
              0.8888888888888888,
              "#fdca26"
             ],
             [
              1,
              "#f0f921"
             ]
            ],
            "type": "histogram2dcontour"
           }
          ],
          "mesh3d": [
           {
            "colorbar": {
             "outlinewidth": 0,
             "ticks": ""
            },
            "type": "mesh3d"
           }
          ],
          "parcoords": [
           {
            "line": {
             "colorbar": {
              "outlinewidth": 0,
              "ticks": ""
             }
            },
            "type": "parcoords"
           }
          ],
          "pie": [
           {
            "automargin": true,
            "type": "pie"
           }
          ],
          "scatter": [
           {
            "marker": {
             "colorbar": {
              "outlinewidth": 0,
              "ticks": ""
             }
            },
            "type": "scatter"
           }
          ],
          "scatter3d": [
           {
            "line": {
             "colorbar": {
              "outlinewidth": 0,
              "ticks": ""
             }
            },
            "marker": {
             "colorbar": {
              "outlinewidth": 0,
              "ticks": ""
             }
            },
            "type": "scatter3d"
           }
          ],
          "scattercarpet": [
           {
            "marker": {
             "colorbar": {
              "outlinewidth": 0,
              "ticks": ""
             }
            },
            "type": "scattercarpet"
           }
          ],
          "scattergeo": [
           {
            "marker": {
             "colorbar": {
              "outlinewidth": 0,
              "ticks": ""
             }
            },
            "type": "scattergeo"
           }
          ],
          "scattergl": [
           {
            "marker": {
             "colorbar": {
              "outlinewidth": 0,
              "ticks": ""
             }
            },
            "type": "scattergl"
           }
          ],
          "scattermapbox": [
           {
            "marker": {
             "colorbar": {
              "outlinewidth": 0,
              "ticks": ""
             }
            },
            "type": "scattermapbox"
           }
          ],
          "scatterpolar": [
           {
            "marker": {
             "colorbar": {
              "outlinewidth": 0,
              "ticks": ""
             }
            },
            "type": "scatterpolar"
           }
          ],
          "scatterpolargl": [
           {
            "marker": {
             "colorbar": {
              "outlinewidth": 0,
              "ticks": ""
             }
            },
            "type": "scatterpolargl"
           }
          ],
          "scatterternary": [
           {
            "marker": {
             "colorbar": {
              "outlinewidth": 0,
              "ticks": ""
             }
            },
            "type": "scatterternary"
           }
          ],
          "surface": [
           {
            "colorbar": {
             "outlinewidth": 0,
             "ticks": ""
            },
            "colorscale": [
             [
              0,
              "#0d0887"
             ],
             [
              0.1111111111111111,
              "#46039f"
             ],
             [
              0.2222222222222222,
              "#7201a8"
             ],
             [
              0.3333333333333333,
              "#9c179e"
             ],
             [
              0.4444444444444444,
              "#bd3786"
             ],
             [
              0.5555555555555556,
              "#d8576b"
             ],
             [
              0.6666666666666666,
              "#ed7953"
             ],
             [
              0.7777777777777778,
              "#fb9f3a"
             ],
             [
              0.8888888888888888,
              "#fdca26"
             ],
             [
              1,
              "#f0f921"
             ]
            ],
            "type": "surface"
           }
          ],
          "table": [
           {
            "cells": {
             "fill": {
              "color": "#EBF0F8"
             },
             "line": {
              "color": "white"
             }
            },
            "header": {
             "fill": {
              "color": "#C8D4E3"
             },
             "line": {
              "color": "white"
             }
            },
            "type": "table"
           }
          ]
         },
         "layout": {
          "annotationdefaults": {
           "arrowcolor": "#2a3f5f",
           "arrowhead": 0,
           "arrowwidth": 1
          },
          "autotypenumbers": "strict",
          "coloraxis": {
           "colorbar": {
            "outlinewidth": 0,
            "ticks": ""
           }
          },
          "colorscale": {
           "diverging": [
            [
             0,
             "#8e0152"
            ],
            [
             0.1,
             "#c51b7d"
            ],
            [
             0.2,
             "#de77ae"
            ],
            [
             0.3,
             "#f1b6da"
            ],
            [
             0.4,
             "#fde0ef"
            ],
            [
             0.5,
             "#f7f7f7"
            ],
            [
             0.6,
             "#e6f5d0"
            ],
            [
             0.7,
             "#b8e186"
            ],
            [
             0.8,
             "#7fbc41"
            ],
            [
             0.9,
             "#4d9221"
            ],
            [
             1,
             "#276419"
            ]
           ],
           "sequential": [
            [
             0,
             "#0d0887"
            ],
            [
             0.1111111111111111,
             "#46039f"
            ],
            [
             0.2222222222222222,
             "#7201a8"
            ],
            [
             0.3333333333333333,
             "#9c179e"
            ],
            [
             0.4444444444444444,
             "#bd3786"
            ],
            [
             0.5555555555555556,
             "#d8576b"
            ],
            [
             0.6666666666666666,
             "#ed7953"
            ],
            [
             0.7777777777777778,
             "#fb9f3a"
            ],
            [
             0.8888888888888888,
             "#fdca26"
            ],
            [
             1,
             "#f0f921"
            ]
           ],
           "sequentialminus": [
            [
             0,
             "#0d0887"
            ],
            [
             0.1111111111111111,
             "#46039f"
            ],
            [
             0.2222222222222222,
             "#7201a8"
            ],
            [
             0.3333333333333333,
             "#9c179e"
            ],
            [
             0.4444444444444444,
             "#bd3786"
            ],
            [
             0.5555555555555556,
             "#d8576b"
            ],
            [
             0.6666666666666666,
             "#ed7953"
            ],
            [
             0.7777777777777778,
             "#fb9f3a"
            ],
            [
             0.8888888888888888,
             "#fdca26"
            ],
            [
             1,
             "#f0f921"
            ]
           ]
          },
          "colorway": [
           "#636efa",
           "#EF553B",
           "#00cc96",
           "#ab63fa",
           "#FFA15A",
           "#19d3f3",
           "#FF6692",
           "#B6E880",
           "#FF97FF",
           "#FECB52"
          ],
          "font": {
           "color": "#2a3f5f"
          },
          "geo": {
           "bgcolor": "white",
           "lakecolor": "white",
           "landcolor": "#E5ECF6",
           "showlakes": true,
           "showland": true,
           "subunitcolor": "white"
          },
          "hoverlabel": {
           "align": "left"
          },
          "hovermode": "closest",
          "mapbox": {
           "style": "light"
          },
          "paper_bgcolor": "white",
          "plot_bgcolor": "#E5ECF6",
          "polar": {
           "angularaxis": {
            "gridcolor": "white",
            "linecolor": "white",
            "ticks": ""
           },
           "bgcolor": "#E5ECF6",
           "radialaxis": {
            "gridcolor": "white",
            "linecolor": "white",
            "ticks": ""
           }
          },
          "scene": {
           "xaxis": {
            "backgroundcolor": "#E5ECF6",
            "gridcolor": "white",
            "gridwidth": 2,
            "linecolor": "white",
            "showbackground": true,
            "ticks": "",
            "zerolinecolor": "white"
           },
           "yaxis": {
            "backgroundcolor": "#E5ECF6",
            "gridcolor": "white",
            "gridwidth": 2,
            "linecolor": "white",
            "showbackground": true,
            "ticks": "",
            "zerolinecolor": "white"
           },
           "zaxis": {
            "backgroundcolor": "#E5ECF6",
            "gridcolor": "white",
            "gridwidth": 2,
            "linecolor": "white",
            "showbackground": true,
            "ticks": "",
            "zerolinecolor": "white"
           }
          },
          "shapedefaults": {
           "line": {
            "color": "#2a3f5f"
           }
          },
          "ternary": {
           "aaxis": {
            "gridcolor": "white",
            "linecolor": "white",
            "ticks": ""
           },
           "baxis": {
            "gridcolor": "white",
            "linecolor": "white",
            "ticks": ""
           },
           "bgcolor": "#E5ECF6",
           "caxis": {
            "gridcolor": "white",
            "linecolor": "white",
            "ticks": ""
           }
          },
          "title": {
           "x": 0.05
          },
          "xaxis": {
           "automargin": true,
           "gridcolor": "white",
           "linecolor": "white",
           "ticks": "",
           "title": {
            "standoff": 15
           },
           "zerolinecolor": "white",
           "zerolinewidth": 2
          },
          "yaxis": {
           "automargin": true,
           "gridcolor": "white",
           "linecolor": "white",
           "ticks": "",
           "title": {
            "standoff": 15
           },
           "zerolinecolor": "white",
           "zerolinewidth": 2
          }
         }
        },
        "title": {
         "text": "Stock Analysis"
        },
        "xaxis": {
         "autorange": true,
         "range": [
          "2022-04-06 10:00",
          "2022-04-12 16:00"
         ],
         "rangebreaks": [
          {
           "bounds": [
            "sat",
            "mon"
           ]
          },
          {
           "bounds": [
            16.1,
            9.5
           ],
           "pattern": "hour"
          }
         ],
         "rangeslider": {
          "visible": false,
          "yaxis": {}
         },
         "type": "date"
        },
        "yaxis": {
         "autorange": true,
         "range": [
          -0.613888888888888,
          75.66388888888888
         ],
         "title": {
          "text": "TSLA Stock"
         },
         "type": "linear"
        }
       }
      },
      "image/png": "[encoded data removed]",
      "text/html": [
       "<div>                            <div id=\"2e924a3c-a339-43dc-8451-db12fb4106ed\" class=\"plotly-graph-div\" style=\"height:525px; width:100%;\"></div>            <script type=\"text/javascript\">                require([\"plotly\"], function(Plotly) {                    window.PLOTLYENV=window.PLOTLYENV || {};                                    if (document.getElementById(\"2e924a3c-a339-43dc-8451-db12fb4106ed\")) {                    Plotly.newPlot(                        \"2e924a3c-a339-43dc-8451-db12fb4106ed\",                        [{\"x\":[\"2022-04-06T10:00:00\",\"2022-04-06T10:00:00\",\"2022-04-06T10:00:00\",\"2022-04-06T10:00:00\",\"2022-04-06T10:00:00\",\"2022-04-06T10:00:00\",\"2022-04-06T10:00:00\",\"2022-04-06T10:00:00\",\"2022-04-06T10:00:00\",\"2022-04-06T10:00:00\",\"2022-04-06T10:00:00\",\"2022-04-06T10:00:00\",\"2022-04-06T11:00:00\",\"2022-04-06T11:00:00\",\"2022-04-06T11:00:00\",\"2022-04-06T11:00:00\",\"2022-04-06T11:00:00\",\"2022-04-06T11:00:00\",\"2022-04-06T11:00:00\",\"2022-04-06T11:00:00\",\"2022-04-06T11:00:00\",\"2022-04-06T11:00:00\",\"2022-04-06T11:00:00\",\"2022-04-06T11:00:00\",\"2022-04-06T11:00:00\",\"2022-04-06T11:00:00\",\"2022-04-06T12:00:00\",\"2022-04-06T12:00:00\",\"2022-04-06T12:00:00\",\"2022-04-06T12:00:00\",\"2022-04-06T12:00:00\",\"2022-04-06T12:00:00\",\"2022-04-06T12:00:00\",\"2022-04-06T12:00:00\",\"2022-04-06T12:00:00\",\"2022-04-06T12:00:00\",\"2022-04-06T12:00:00\",\"2022-04-06T12:00:00\",\"2022-04-06T12:00:00\",\"2022-04-06T12:00:00\",\"2022-04-06T13:00:00\",\"2022-04-06T13:00:00\",\"2022-04-06T13:00:00\",\"2022-04-06T13:00:00\",\"2022-04-06T13:00:00\",\"2022-04-06T13:00:00\",\"2022-04-06T13:00:00\",\"2022-04-06T13:00:00\",\"2022-04-06T13:00:00\",\"2022-04-06T13:00:00\",\"2022-04-06T13:00:00\",\"2022-04-06T13:00:00\",\"2022-04-06T13:00:00\",\"2022-04-06T13:00:00\",\"2022-04-06T13:00:00\",\"2022-04-06T13:00:00\",\"2022-04-06T13:00:00\",\"2022-04-06T13:00:00\",\"2022-04-06T14:00:00\",\"2022-04-06T14:00:00\",\"2022-04-06T14:00:00\",\"2022-04-06T14:00:00\",\"2022-04-06T14:00:00\",\"2022-04-06T14:00:00\",\"2022-04-06T14:00:00\",\"2022-04-06T14:00:00\",\"2022-04-06T14:00:00\",\"2022-04-06T14:00:00\",\"2022-04-06T14:00:00\",\"2022-04-06T14:00:00\",\"2022-04-06T14:00:00\",\"2022-04-06T14:00:00\",\"2022-04-06T14:00:00\",\"2022-04-06T14:00:00\",\"2022-04-06T14:00:00\",\"2022-04-06T14:00:00\",\"2022-04-06T14:00:00\",\"2022-04-06T14:00:00\",\"2022-04-06T15:00:00\",\"2022-04-06T15:00:00\",\"2022-04-06T15:00:00\",\"2022-04-06T15:00:00\",\"2022-04-06T15:00:00\",\"2022-04-06T15:00:00\",\"2022-04-06T15:00:00\",\"2022-04-06T15:00:00\",\"2022-04-06T15:00:00\",\"2022-04-06T15:00:00\",\"2022-04-06T15:00:00\",\"2022-04-06T15:00:00\",\"2022-04-06T15:00:00\",\"2022-04-06T15:00:00\",\"2022-04-06T15:00:00\",\"2022-04-06T15:00:00\",\"2022-04-06T15:00:00\",\"2022-04-06T15:00:00\",\"2022-04-06T15:00:00\",\"2022-04-06T15:00:00\",\"2022-04-06T15:00:00\",\"2022-04-06T15:00:00\",\"2022-04-06T16:00:00\",\"2022-04-06T16:00:00\",\"2022-04-06T16:00:00\",\"2022-04-06T16:00:00\",\"2022-04-06T16:00:00\",\"2022-04-06T16:00:00\",\"2022-04-06T16:00:00\",\"2022-04-06T16:00:00\",\"2022-04-06T16:00:00\",\"2022-04-06T16:00:00\",\"2022-04-06T16:00:00\",\"2022-04-06T16:00:00\",\"2022-04-06T16:00:00\",\"2022-04-06T16:00:00\",\"2022-04-06T16:00:00\",\"2022-04-06T16:00:00\",\"2022-04-06T16:00:00\",\"2022-04-06T16:00:00\",\"2022-04-06T16:00:00\",\"2022-04-06T16:00:00\",\"2022-04-06T16:00:00\",\"2022-04-06T16:00:00\",\"2022-04-07T10:00:00\",\"2022-04-07T10:00:00\",\"2022-04-07T10:00:00\",\"2022-04-07T10:00:00\",\"2022-04-07T10:00:00\",\"2022-04-07T10:00:00\",\"2022-04-07T10:00:00\",\"2022-04-07T10:00:00\",\"2022-04-07T10:00:00\",\"2022-04-07T10:00:00\",\"2022-04-07T10:00:00\",\"2022-04-07T10:00:00\",\"2022-04-07T11:00:00\",\"2022-04-07T11:00:00\",\"2022-04-07T11:00:00\",\"2022-04-07T11:00:00\",\"2022-04-07T11:00:00\",\"2022-04-07T11:00:00\",\"2022-04-07T11:00:00\",\"2022-04-07T11:00:00\",\"2022-04-07T11:00:00\",\"2022-04-07T11:00:00\",\"2022-04-07T11:00:00\",\"2022-04-07T11:00:00\",\"2022-04-07T11:00:00\",\"2022-04-07T11:00:00\",\"2022-04-07T11:00:00\",\"2022-04-07T11:00:00\",\"2022-04-07T11:00:00\",\"2022-04-07T11:00:00\",\"2022-04-07T12:00:00\",\"2022-04-07T12:00:00\",\"2022-04-07T12:00:00\",\"2022-04-07T12:00:00\",\"2022-04-07T12:00:00\",\"2022-04-07T12:00:00\",\"2022-04-07T12:00:00\",\"2022-04-07T12:00:00\",\"2022-04-07T12:00:00\",\"2022-04-07T12:00:00\",\"2022-04-07T12:00:00\",\"2022-04-07T12:00:00\",\"2022-04-07T12:00:00\",\"2022-04-07T12:00:00\",\"2022-04-07T12:00:00\",\"2022-04-07T12:00:00\",\"2022-04-07T12:00:00\",\"2022-04-07T12:00:00\",\"2022-04-07T12:00:00\",\"2022-04-07T12:00:00\",\"2022-04-07T12:00:00\",\"2022-04-07T12:00:00\",\"2022-04-07T13:00:00\",\"2022-04-07T13:00:00\",\"2022-04-07T13:00:00\",\"2022-04-07T13:00:00\",\"2022-04-07T13:00:00\",\"2022-04-07T13:00:00\",\"2022-04-07T13:00:00\",\"2022-04-07T13:00:00\",\"2022-04-07T13:00:00\",\"2022-04-07T13:00:00\",\"2022-04-07T13:00:00\",\"2022-04-07T13:00:00\",\"2022-04-07T13:00:00\",\"2022-04-07T13:00:00\",\"2022-04-07T13:00:00\",\"2022-04-07T13:00:00\",\"2022-04-07T13:00:00\",\"2022-04-07T13:00:00\",\"2022-04-07T13:00:00\",\"2022-04-07T13:00:00\",\"2022-04-07T13:00:00\",\"2022-04-07T13:00:00\",\"2022-04-07T13:00:00\",\"2022-04-07T13:00:00\",\"2022-04-07T14:00:00\",\"2022-04-07T14:00:00\",\"2022-04-07T14:00:00\",\"2022-04-07T14:00:00\",\"2022-04-07T14:00:00\",\"2022-04-07T14:00:00\",\"2022-04-07T14:00:00\",\"2022-04-07T14:00:00\",\"2022-04-07T14:00:00\",\"2022-04-07T14:00:00\",\"2022-04-07T14:00:00\",\"2022-04-07T14:00:00\",\"2022-04-07T14:00:00\",\"2022-04-07T14:00:00\",\"2022-04-07T14:00:00\",\"2022-04-07T14:00:00\",\"2022-04-07T14:00:00\",\"2022-04-07T14:00:00\",\"2022-04-07T14:00:00\",\"2022-04-07T14:00:00\",\"2022-04-07T14:00:00\",\"2022-04-07T14:00:00\",\"2022-04-07T14:00:00\",\"2022-04-07T14:00:00\",\"2022-04-07T14:00:00\",\"2022-04-07T14:00:00\",\"2022-04-07T15:00:00\",\"2022-04-07T15:00:00\",\"2022-04-07T15:00:00\",\"2022-04-07T15:00:00\",\"2022-04-07T15:00:00\",\"2022-04-07T15:00:00\",\"2022-04-07T15:00:00\",\"2022-04-07T15:00:00\",\"2022-04-07T15:00:00\",\"2022-04-07T15:00:00\",\"2022-04-07T15:00:00\",\"2022-04-07T15:00:00\",\"2022-04-07T15:00:00\",\"2022-04-07T15:00:00\",\"2022-04-07T15:00:00\",\"2022-04-07T15:00:00\",\"2022-04-07T15:00:00\",\"2022-04-07T15:00:00\",\"2022-04-07T15:00:00\",\"2022-04-07T15:00:00\",\"2022-04-07T15:00:00\",\"2022-04-07T15:00:00\",\"2022-04-07T15:00:00\",\"2022-04-07T15:00:00\",\"2022-04-07T15:00:00\",\"2022-04-07T15:00:00\",\"2022-04-07T15:00:00\",\"2022-04-07T15:00:00\",\"2022-04-07T15:00:00\",\"2022-04-07T15:00:00\",\"2022-04-07T16:00:00\",\"2022-04-07T16:00:00\",\"2022-04-07T16:00:00\",\"2022-04-07T16:00:00\",\"2022-04-07T16:00:00\",\"2022-04-07T16:00:00\",\"2022-04-07T16:00:00\",\"2022-04-07T16:00:00\",\"2022-04-07T16:00:00\",\"2022-04-07T16:00:00\",\"2022-04-07T16:00:00\",\"2022-04-07T16:00:00\",\"2022-04-07T16:00:00\",\"2022-04-07T16:00:00\",\"2022-04-07T16:00:00\",\"2022-04-07T16:00:00\",\"2022-04-07T16:00:00\",\"2022-04-07T16:00:00\",\"2022-04-07T16:00:00\",\"2022-04-07T16:00:00\",\"2022-04-07T16:00:00\",\"2022-04-07T16:00:00\",\"2022-04-07T16:00:00\",\"2022-04-07T16:00:00\",\"2022-04-07T16:00:00\",\"2022-04-07T16:00:00\",\"2022-04-07T16:00:00\",\"2022-04-07T16:00:00\",\"2022-04-07T16:00:00\",\"2022-04-07T16:00:00\",\"2022-04-08T10:00:00\",\"2022-04-08T10:00:00\",\"2022-04-08T10:00:00\",\"2022-04-08T10:00:00\",\"2022-04-08T10:00:00\",\"2022-04-08T10:00:00\",\"2022-04-08T10:00:00\",\"2022-04-08T10:00:00\",\"2022-04-08T10:00:00\",\"2022-04-08T10:00:00\",\"2022-04-08T10:00:00\",\"2022-04-08T10:00:00\",\"2022-04-08T11:00:00\",\"2022-04-08T11:00:00\",\"2022-04-08T11:00:00\",\"2022-04-08T11:00:00\",\"2022-04-08T11:00:00\",\"2022-04-08T11:00:00\",\"2022-04-08T11:00:00\",\"2022-04-08T11:00:00\",\"2022-04-08T11:00:00\",\"2022-04-08T11:00:00\",\"2022-04-08T11:00:00\",\"2022-04-08T11:00:00\",\"2022-04-08T12:00:00\",\"2022-04-08T12:00:00\",\"2022-04-08T12:00:00\",\"2022-04-08T12:00:00\",\"2022-04-08T12:00:00\",\"2022-04-08T12:00:00\",\"2022-04-08T12:00:00\",\"2022-04-08T12:00:00\",\"2022-04-08T12:00:00\",\"2022-04-08T12:00:00\",\"2022-04-08T12:00:00\",\"2022-04-08T12:00:00\",\"2022-04-08T12:00:00\",\"2022-04-08T12:00:00\",\"2022-04-08T13:00:00\",\"2022-04-08T13:00:00\",\"2022-04-08T13:00:00\",\"2022-04-08T13:00:00\",\"2022-04-08T13:00:00\",\"2022-04-08T13:00:00\",\"2022-04-08T13:00:00\",\"2022-04-08T13:00:00\",\"2022-04-08T13:00:00\",\"2022-04-08T13:00:00\",\"2022-04-08T13:00:00\",\"2022-04-08T13:00:00\",\"2022-04-08T13:00:00\",\"2022-04-08T13:00:00\",\"2022-04-08T14:00:00\",\"2022-04-08T14:00:00\",\"2022-04-08T14:00:00\",\"2022-04-08T14:00:00\",\"2022-04-08T14:00:00\",\"2022-04-08T14:00:00\",\"2022-04-08T14:00:00\",\"2022-04-08T14:00:00\",\"2022-04-08T14:00:00\",\"2022-04-08T14:00:00\",\"2022-04-08T14:00:00\",\"2022-04-08T14:00:00\",\"2022-04-08T14:00:00\",\"2022-04-08T14:00:00\",\"2022-04-08T14:00:00\",\"2022-04-08T14:00:00\",\"2022-04-08T15:00:00\",\"2022-04-08T15:00:00\",\"2022-04-08T15:00:00\",\"2022-04-08T15:00:00\",\"2022-04-08T15:00:00\",\"2022-04-08T15:00:00\",\"2022-04-08T15:00:00\",\"2022-04-08T15:00:00\",\"2022-04-08T15:00:00\",\"2022-04-08T15:00:00\",\"2022-04-08T15:00:00\",\"2022-04-08T15:00:00\",\"2022-04-08T15:00:00\",\"2022-04-08T15:00:00\",\"2022-04-08T15:00:00\",\"2022-04-08T15:00:00\",\"2022-04-08T16:00:00\",\"2022-04-08T16:00:00\",\"2022-04-08T16:00:00\",\"2022-04-08T16:00:00\",\"2022-04-08T16:00:00\",\"2022-04-08T16:00:00\",\"2022-04-08T16:00:00\",\"2022-04-08T16:00:00\",\"2022-04-08T16:00:00\",\"2022-04-08T16:00:00\",\"2022-04-08T16:00:00\",\"2022-04-08T16:00:00\",\"2022-04-08T16:00:00\",\"2022-04-08T16:00:00\",\"2022-04-08T16:00:00\",\"2022-04-08T16:00:00\",\"2022-04-11T10:00:00\",\"2022-04-11T10:00:00\",\"2022-04-11T10:00:00\",\"2022-04-11T10:00:00\",\"2022-04-11T10:00:00\",\"2022-04-11T10:00:00\",\"2022-04-11T10:00:00\",\"2022-04-11T10:00:00\",\"2022-04-11T10:00:00\",\"2022-04-11T10:00:00\",\"2022-04-11T10:00:00\",\"2022-04-11T10:00:00\",\"2022-04-11T11:00:00\",\"2022-04-11T11:00:00\",\"2022-04-11T11:00:00\",\"2022-04-11T11:00:00\",\"2022-04-11T11:00:00\",\"2022-04-11T11:00:00\",\"2022-04-11T11:00:00\",\"2022-04-11T11:00:00\",\"2022-04-11T11:00:00\",\"2022-04-11T11:00:00\",\"2022-04-11T11:00:00\",\"2022-04-11T11:00:00\",\"2022-04-11T11:00:00\",\"2022-04-11T11:00:00\",\"2022-04-11T12:00:00\",\"2022-04-11T12:00:00\",\"2022-04-11T12:00:00\",\"2022-04-11T12:00:00\",\"2022-04-11T12:00:00\",\"2022-04-11T12:00:00\",\"2022-04-11T12:00:00\",\"2022-04-11T12:00:00\",\"2022-04-11T12:00:00\",\"2022-04-11T12:00:00\",\"2022-04-11T12:00:00\",\"2022-04-11T12:00:00\",\"2022-04-11T12:00:00\",\"2022-04-11T12:00:00\",\"2022-04-11T12:00:00\",\"2022-04-11T12:00:00\",\"2022-04-11T13:00:00\",\"2022-04-11T13:00:00\",\"2022-04-11T13:00:00\",\"2022-04-11T13:00:00\",\"2022-04-11T13:00:00\",\"2022-04-11T13:00:00\",\"2022-04-11T13:00:00\",\"2022-04-11T13:00:00\",\"2022-04-11T13:00:00\",\"2022-04-11T13:00:00\",\"2022-04-11T13:00:00\",\"2022-04-11T13:00:00\",\"2022-04-11T13:00:00\",\"2022-04-11T13:00:00\",\"2022-04-11T13:00:00\",\"2022-04-11T13:00:00\",\"2022-04-11T14:00:00\",\"2022-04-11T14:00:00\",\"2022-04-11T14:00:00\",\"2022-04-11T14:00:00\",\"2022-04-11T14:00:00\",\"2022-04-11T14:00:00\",\"2022-04-11T14:00:00\",\"2022-04-11T14:00:00\",\"2022-04-11T14:00:00\",\"2022-04-11T14:00:00\",\"2022-04-11T14:00:00\",\"2022-04-11T14:00:00\",\"2022-04-11T14:00:00\",\"2022-04-11T14:00:00\",\"2022-04-11T14:00:00\",\"2022-04-11T14:00:00\",\"2022-04-11T15:00:00\",\"2022-04-11T15:00:00\",\"2022-04-11T15:00:00\",\"2022-04-11T15:00:00\",\"2022-04-11T15:00:00\",\"2022-04-11T15:00:00\",\"2022-04-11T15:00:00\",\"2022-04-11T15:00:00\",\"2022-04-11T15:00:00\",\"2022-04-11T15:00:00\",\"2022-04-11T15:00:00\",\"2022-04-11T15:00:00\",\"2022-04-11T15:00:00\",\"2022-04-11T15:00:00\",\"2022-04-11T15:00:00\",\"2022-04-11T15:00:00\",\"2022-04-11T16:00:00\",\"2022-04-11T16:00:00\",\"2022-04-11T16:00:00\",\"2022-04-11T16:00:00\",\"2022-04-11T16:00:00\",\"2022-04-11T16:00:00\",\"2022-04-11T16:00:00\",\"2022-04-11T16:00:00\",\"2022-04-11T16:00:00\",\"2022-04-11T16:00:00\",\"2022-04-11T16:00:00\",\"2022-04-11T16:00:00\",\"2022-04-11T16:00:00\",\"2022-04-11T16:00:00\",\"2022-04-11T16:00:00\",\"2022-04-11T16:00:00\",\"2022-04-11T16:00:00\",\"2022-04-11T16:00:00\",\"2022-04-12T10:00:00\",\"2022-04-12T10:00:00\",\"2022-04-12T10:00:00\",\"2022-04-12T10:00:00\",\"2022-04-12T10:00:00\",\"2022-04-12T10:00:00\",\"2022-04-12T10:00:00\",\"2022-04-12T10:00:00\",\"2022-04-12T10:00:00\",\"2022-04-12T10:00:00\",\"2022-04-12T10:00:00\",\"2022-04-12T10:00:00\",\"2022-04-12T11:00:00\",\"2022-04-12T11:00:00\",\"2022-04-12T11:00:00\",\"2022-04-12T11:00:00\",\"2022-04-12T11:00:00\",\"2022-04-12T11:00:00\",\"2022-04-12T11:00:00\",\"2022-04-12T11:00:00\",\"2022-04-12T11:00:00\",\"2022-04-12T11:00:00\",\"2022-04-12T11:00:00\",\"2022-04-12T11:00:00\",\"2022-04-12T11:00:00\",\"2022-04-12T11:00:00\",\"2022-04-12T11:00:00\",\"2022-04-12T11:00:00\",\"2022-04-12T11:00:00\",\"2022-04-12T11:00:00\",\"2022-04-12T11:00:00\",\"2022-04-12T11:00:00\",\"2022-04-12T12:00:00\",\"2022-04-12T12:00:00\",\"2022-04-12T12:00:00\",\"2022-04-12T12:00:00\",\"2022-04-12T12:00:00\",\"2022-04-12T12:00:00\",\"2022-04-12T12:00:00\",\"2022-04-12T12:00:00\",\"2022-04-12T12:00:00\",\"2022-04-12T12:00:00\",\"2022-04-12T12:00:00\",\"2022-04-12T12:00:00\",\"2022-04-12T12:00:00\",\"2022-04-12T12:00:00\",\"2022-04-12T12:00:00\",\"2022-04-12T12:00:00\",\"2022-04-12T12:00:00\",\"2022-04-12T12:00:00\",\"2022-04-12T12:00:00\",\"2022-04-12T12:00:00\",\"2022-04-12T13:00:00\",\"2022-04-12T13:00:00\",\"2022-04-12T13:00:00\",\"2022-04-12T13:00:00\",\"2022-04-12T13:00:00\",\"2022-04-12T13:00:00\",\"2022-04-12T13:00:00\",\"2022-04-12T13:00:00\",\"2022-04-12T13:00:00\",\"2022-04-12T13:00:00\",\"2022-04-12T13:00:00\",\"2022-04-12T13:00:00\",\"2022-04-12T13:00:00\",\"2022-04-12T13:00:00\",\"2022-04-12T13:00:00\",\"2022-04-12T13:00:00\",\"2022-04-12T13:00:00\",\"2022-04-12T13:00:00\",\"2022-04-12T13:00:00\",\"2022-04-12T13:00:00\",\"2022-04-12T14:00:00\",\"2022-04-12T14:00:00\",\"2022-04-12T14:00:00\",\"2022-04-12T14:00:00\",\"2022-04-12T14:00:00\",\"2022-04-12T14:00:00\",\"2022-04-12T14:00:00\",\"2022-04-12T14:00:00\",\"2022-04-12T14:00:00\",\"2022-04-12T14:00:00\",\"2022-04-12T14:00:00\",\"2022-04-12T14:00:00\",\"2022-04-12T14:00:00\",\"2022-04-12T14:00:00\",\"2022-04-12T14:00:00\",\"2022-04-12T14:00:00\",\"2022-04-12T14:00:00\",\"2022-04-12T14:00:00\",\"2022-04-12T14:00:00\",\"2022-04-12T14:00:00\",\"2022-04-12T14:00:00\",\"2022-04-12T14:00:00\",\"2022-04-12T15:00:00\",\"2022-04-12T15:00:00\",\"2022-04-12T15:00:00\",\"2022-04-12T15:00:00\",\"2022-04-12T15:00:00\",\"2022-04-12T15:00:00\",\"2022-04-12T15:00:00\",\"2022-04-12T15:00:00\",\"2022-04-12T15:00:00\",\"2022-04-12T15:00:00\",\"2022-04-12T15:00:00\",\"2022-04-12T15:00:00\",\"2022-04-12T15:00:00\",\"2022-04-12T15:00:00\",\"2022-04-12T15:00:00\",\"2022-04-12T15:00:00\",\"2022-04-12T15:00:00\",\"2022-04-12T15:00:00\",\"2022-04-12T15:00:00\",\"2022-04-12T15:00:00\",\"2022-04-12T15:00:00\",\"2022-04-12T15:00:00\",\"2022-04-12T15:00:00\",\"2022-04-12T15:00:00\",\"2022-04-12T16:00:00\",\"2022-04-12T16:00:00\",\"2022-04-12T16:00:00\",\"2022-04-12T16:00:00\",\"2022-04-12T16:00:00\",\"2022-04-12T16:00:00\",\"2022-04-12T16:00:00\",\"2022-04-12T16:00:00\",\"2022-04-12T16:00:00\",\"2022-04-12T16:00:00\",\"2022-04-12T16:00:00\",\"2022-04-12T16:00:00\",\"2022-04-12T16:00:00\",\"2022-04-12T16:00:00\",\"2022-04-12T16:00:00\",\"2022-04-12T16:00:00\",\"2022-04-12T16:00:00\",\"2022-04-12T16:00:00\",\"2022-04-12T16:00:00\",\"2022-04-12T16:00:00\",\"2022-04-12T16:00:00\",\"2022-04-12T16:00:00\",\"2022-04-12T16:00:00\",\"2022-04-12T16:00:00\"],\"y\":[42.65,39.22,36.7,34.01,31.5,29.12,29.05,31.23,33.55,35.9,38.35,41.05,39.45,36.19,33.54,30.9,28.85,27.55,29.85,33.0,35.15,37.8,40.1,41.05,42.0,27.0,40.68,38.09,35.2,32.6,30.3,28.1,25.75,29.15,31.2,33.55,36.09,39.0,41.35,42.2,37.36,33.75,31.0,30.0,27.0,25.1,23.49,33.6,35.88,39.0,40.2,43.58,45.85,50.0,43.05,39.79,28.9,31.65,53.05,48.71,45.8,45.15,40.71,37.0,34.95,32.2,30.6,21.51,23.55,25.4,27.35,29.55,32.0,34.0,37.0,39.4,28.25,41.5,55.18,52.53,48.85,45.75,42.44,40.45,37.4,34.3,31.79,29.5,19.5,20.85,22.5,24.8,26.4,29.0,31.0,33.4,36.0,38.6,27.55,40.8,50.7,46.55,42.95,40.5,37.0,34.8,32.25,30.12,27.75,25.74,23.68,23.1,25.15,27.02,29.35,31.5,33.97,36.46,38.9,40.9,42.65,46.8,39.0,36.15,33.7,27.43,29.6,32.0,31.35,28.85,26.95,36.45,37.12,41.0,28.74,26.55,21.95,20.5,18.95,36.56,38.77,44.35,46.85,53.35,39.11,36.4,33.54,31.2,27.35,29.2,31.64,34.5,28.95,26.25,25.21,22.5,16.0,14.75,13.23,36.5,40.25,42.5,45.58,62.0,63.53,67.24,39.63,35.62,34.2,31.9,27.0,29.75,31.68,34.5,37.4,34.6,32.06,30.07,27.4,25.3,23.27,21.6,15.39,14.0,12.8,30.3,33.3,35.57,37.95,40.15,43.65,46.7,49.55,63.66,67.96,71.85,39.96,28.43,47.25,49.0,45.7,42.5,39.52,36.65,34.13,31.9,29.0,21.2,19.42,16.73,20.5,21.5,23.15,24.87,27.0,29.35,32.1,34.1,38.33,56.65,52.07,55.15,27.0,40.85,54.3,55.95,52.5,49.2,46.8,43.75,41.0,37.5,35.5,32.3,26.2,23.8,22.25,16.49,17.5,19.15,20.8,22.9,24.8,27.0,29.45,31.7,34.35,42.95,46.43,49.0,29.9,27.8,36.31,39.9,58.4,54.82,51.75,48.35,44.3,41.95,38.95,36.1,34.15,31.25,28.75,26.7,24.85,22.9,21.1,16.0,17.7,19.15,21.13,22.77,24.75,27.0,29.25,31.77,34.49,37.06,39.6,41.15,45.9,47.25,36.8,34.37,31.75,29.25,26.91,24.88,25.65,27.69,30.09,32.9,35.25,38.33,34.9,33.11,30.7,28.03,25.3,25.0,27.4,29.9,33.01,35.5,23.83,38.0,33.8,30.7,28.25,25.81,23.93,21.9,25.2,26.88,29.84,32.4,34.91,38.47,36.52,22.68,41.15,35.32,32.55,29.77,27.43,25.25,18.65,22.75,24.5,27.26,30.0,32.45,23.0,35.89,35.05,29.5,26.98,24.8,22.4,20.42,18.56,22.6,27.0,29.7,32.28,35.27,38.0,41.75,32.0,24.75,35.2,32.58,29.65,27.68,25.0,22.75,20.8,18.82,19.9,21.95,24.5,26.62,29.3,31.83,34.7,37.95,28.85,26.32,23.85,21.64,19.4,15.73,14.25,23.25,25.96,28.5,31.18,34.0,40.35,43.95,31.9,21.2,31.02,28.2,25.15,22.68,20.35,18.1,17.35,19.4,21.62,23.95,26.8,29.28,27.63,23.79,21.1,19.05,17.0,14.89,20.25,22.65,25.03,27.85,30.95,33.26,29.01,18.1,27.45,24.93,21.5,18.95,16.86,14.8,13.0,16.95,19.3,21.55,24.24,26.8,29.95,32.54,30.65,14.8,31.3,26.95,24.2,21.67,19.25,16.85,14.79,13.2,14.8,16.7,18.75,21.35,23.8,26.65,29.35,32.12,30.74,28.0,25.95,23.3,20.75,18.53,16.25,14.45,13.65,15.45,17.5,19.81,22.29,25.4,27.79,31.65,31.56,28.3,25.8,22.91,20.7,18.26,16.06,14.19,14.01,15.9,18.0,20.57,22.65,25.55,28.7,31.55,25.6,23.1,20.5,17.95,16.14,14.05,12.51,11.0,19.93,22.25,24.7,27.55,30.05,33.5,36.8,40.0,28.0,17.67,26.0,13.4,23.3,20.59,17.85,15.83,13.6,15.5,18.0,20.75,23.45,26.85,15.0,12.85,11.05,9.5,8.1,6.91,22.6,25.35,28.7,32.34,35.56,39.0,25.3,22.85,19.35,17.22,13.2,15.1,17.2,20.0,26.93,22.0,19.15,16.76,14.32,12.2,10.46,8.7,7.35,6.3,11.5,13.49,15.6,18.11,20.7,23.3,27.0,30.3,34.0,37.11,24.3,21.4,18.8,16.25,13.9,11.65,9.85,8.4,6.92,5.9,11.75,13.63,15.8,18.4,20.5,24.12,27.21,30.45,35.17,38.7,20.5,17.9,15.3,13.1,11.2,9.4,8.1,6.65,5.55,4.6,14.45,17.09,19.6,22.3,25.0,28.2,32.05,35.8,39.4,43.4,23.63,12.6,18.8,16.3,13.8,11.7,9.8,6.92,5.8,4.7,3.9,3.2,15.0,17.35,20.15,23.2,26.45,32.45,35.7,39.4,43.42,46.35,24.84,22.5,11.0,12.86,26.66,22.6,19.9,17.05,14.81,12.45,10.26,7.15,6.0,5.0,4.02,3.32,9.5,10.8,12.82,15.2,17.65,20.4,23.5,30.2,33.98,38.0,42.28,46.44],\"type\":\"scatter\"}],                        {\"template\":{\"data\":{\"bar\":[{\"error_x\":{\"color\":\"#2a3f5f\"},\"error_y\":{\"color\":\"#2a3f5f\"},\"marker\":{\"line\":{\"color\":\"#E5ECF6\",\"width\":0.5},\"pattern\":{\"fillmode\":\"overlay\",\"size\":10,\"solidity\":0.2}},\"type\":\"bar\"}],\"barpolar\":[{\"marker\":{\"line\":{\"color\":\"#E5ECF6\",\"width\":0.5},\"pattern\":{\"fillmode\":\"overlay\",\"size\":10,\"solidity\":0.2}},\"type\":\"barpolar\"}],\"carpet\":[{\"aaxis\":{\"endlinecolor\":\"#2a3f5f\",\"gridcolor\":\"white\",\"linecolor\":\"white\",\"minorgridcolor\":\"white\",\"startlinecolor\":\"#2a3f5f\"},\"baxis\":{\"endlinecolor\":\"#2a3f5f\",\"gridcolor\":\"white\",\"linecolor\":\"white\",\"minorgridcolor\":\"white\",\"startlinecolor\":\"#2a3f5f\"},\"type\":\"carpet\"}],\"choropleth\":[{\"colorbar\":{\"outlinewidth\":0,\"ticks\":\"\"},\"type\":\"choropleth\"}],\"contour\":[{\"colorbar\":{\"outlinewidth\":0,\"ticks\":\"\"},\"colorscale\":[[0.0,\"#0d0887\"],[0.1111111111111111,\"#46039f\"],[0.2222222222222222,\"#7201a8\"],[0.3333333333333333,\"#9c179e\"],[0.4444444444444444,\"#bd3786\"],[0.5555555555555556,\"#d8576b\"],[0.6666666666666666,\"#ed7953\"],[0.7777777777777778,\"#fb9f3a\"],[0.8888888888888888,\"#fdca26\"],[1.0,\"#f0f921\"]],\"type\":\"contour\"}],\"contourcarpet\":[{\"colorbar\":{\"outlinewidth\":0,\"ticks\":\"\"},\"type\":\"contourcarpet\"}],\"heatmap\":[{\"colorbar\":{\"outlinewidth\":0,\"ticks\":\"\"},\"colorscale\":[[0.0,\"#0d0887\"],[0.1111111111111111,\"#46039f\"],[0.2222222222222222,\"#7201a8\"],[0.3333333333333333,\"#9c179e\"],[0.4444444444444444,\"#bd3786\"],[0.5555555555555556,\"#d8576b\"],[0.6666666666666666,\"#ed7953\"],[0.7777777777777778,\"#fb9f3a\"],[0.8888888888888888,\"#fdca26\"],[1.0,\"#f0f921\"]],\"type\":\"heatmap\"}],\"heatmapgl\":[{\"colorbar\":{\"outlinewidth\":0,\"ticks\":\"\"},\"colorscale\":[[0.0,\"#0d0887\"],[0.1111111111111111,\"#46039f\"],[0.2222222222222222,\"#7201a8\"],[0.3333333333333333,\"#9c179e\"],[0.4444444444444444,\"#bd3786\"],[0.5555555555555556,\"#d8576b\"],[0.6666666666666666,\"#ed7953\"],[0.7777777777777778,\"#fb9f3a\"],[0.8888888888888888,\"#fdca26\"],[1.0,\"#f0f921\"]],\"type\":\"heatmapgl\"}],\"histogram\":[{\"marker\":{\"pattern\":{\"fillmode\":\"overlay\",\"size\":10,\"solidity\":0.2}},\"type\":\"histogram\"}],\"histogram2d\":[{\"colorbar\":{\"outlinewidth\":0,\"ticks\":\"\"},\"colorscale\":[[0.0,\"#0d0887\"],[0.1111111111111111,\"#46039f\"],[0.2222222222222222,\"#7201a8\"],[0.3333333333333333,\"#9c179e\"],[0.4444444444444444,\"#bd3786\"],[0.5555555555555556,\"#d8576b\"],[0.6666666666666666,\"#ed7953\"],[0.7777777777777778,\"#fb9f3a\"],[0.8888888888888888,\"#fdca26\"],[1.0,\"#f0f921\"]],\"type\":\"histogram2d\"}],\"histogram2dcontour\":[{\"colorbar\":{\"outlinewidth\":0,\"ticks\":\"\"},\"colorscale\":[[0.0,\"#0d0887\"],[0.1111111111111111,\"#46039f\"],[0.2222222222222222,\"#7201a8\"],[0.3333333333333333,\"#9c179e\"],[0.4444444444444444,\"#bd3786\"],[0.5555555555555556,\"#d8576b\"],[0.6666666666666666,\"#ed7953\"],[0.7777777777777778,\"#fb9f3a\"],[0.8888888888888888,\"#fdca26\"],[1.0,\"#f0f921\"]],\"type\":\"histogram2dcontour\"}],\"mesh3d\":[{\"colorbar\":{\"outlinewidth\":0,\"ticks\":\"\"},\"type\":\"mesh3d\"}],\"parcoords\":[{\"line\":{\"colorbar\":{\"outlinewidth\":0,\"ticks\":\"\"}},\"type\":\"parcoords\"}],\"pie\":[{\"automargin\":true,\"type\":\"pie\"}],\"scatter\":[{\"marker\":{\"colorbar\":{\"outlinewidth\":0,\"ticks\":\"\"}},\"type\":\"scatter\"}],\"scatter3d\":[{\"line\":{\"colorbar\":{\"outlinewidth\":0,\"ticks\":\"\"}},\"marker\":{\"colorbar\":{\"outlinewidth\":0,\"ticks\":\"\"}},\"type\":\"scatter3d\"}],\"scattercarpet\":[{\"marker\":{\"colorbar\":{\"outlinewidth\":0,\"ticks\":\"\"}},\"type\":\"scattercarpet\"}],\"scattergeo\":[{\"marker\":{\"colorbar\":{\"outlinewidth\":0,\"ticks\":\"\"}},\"type\":\"scattergeo\"}],\"scattergl\":[{\"marker\":{\"colorbar\":{\"outlinewidth\":0,\"ticks\":\"\"}},\"type\":\"scattergl\"}],\"scattermapbox\":[{\"marker\":{\"colorbar\":{\"outlinewidth\":0,\"ticks\":\"\"}},\"type\":\"scattermapbox\"}],\"scatterpolar\":[{\"marker\":{\"colorbar\":{\"outlinewidth\":0,\"ticks\":\"\"}},\"type\":\"scatterpolar\"}],\"scatterpolargl\":[{\"marker\":{\"colorbar\":{\"outlinewidth\":0,\"ticks\":\"\"}},\"type\":\"scatterpolargl\"}],\"scatterternary\":[{\"marker\":{\"colorbar\":{\"outlinewidth\":0,\"ticks\":\"\"}},\"type\":\"scatterternary\"}],\"surface\":[{\"colorbar\":{\"outlinewidth\":0,\"ticks\":\"\"},\"colorscale\":[[0.0,\"#0d0887\"],[0.1111111111111111,\"#46039f\"],[0.2222222222222222,\"#7201a8\"],[0.3333333333333333,\"#9c179e\"],[0.4444444444444444,\"#bd3786\"],[0.5555555555555556,\"#d8576b\"],[0.6666666666666666,\"#ed7953\"],[0.7777777777777778,\"#fb9f3a\"],[0.8888888888888888,\"#fdca26\"],[1.0,\"#f0f921\"]],\"type\":\"surface\"}],\"table\":[{\"cells\":{\"fill\":{\"color\":\"#EBF0F8\"},\"line\":{\"color\":\"white\"}},\"header\":{\"fill\":{\"color\":\"#C8D4E3\"},\"line\":{\"color\":\"white\"}},\"type\":\"table\"}]},\"layout\":{\"annotationdefaults\":{\"arrowcolor\":\"#2a3f5f\",\"arrowhead\":0,\"arrowwidth\":1},\"autotypenumbers\":\"strict\",\"coloraxis\":{\"colorbar\":{\"outlinewidth\":0,\"ticks\":\"\"}},\"colorscale\":{\"diverging\":[[0,\"#8e0152\"],[0.1,\"#c51b7d\"],[0.2,\"#de77ae\"],[0.3,\"#f1b6da\"],[0.4,\"#fde0ef\"],[0.5,\"#f7f7f7\"],[0.6,\"#e6f5d0\"],[0.7,\"#b8e186\"],[0.8,\"#7fbc41\"],[0.9,\"#4d9221\"],[1,\"#276419\"]],\"sequential\":[[0.0,\"#0d0887\"],[0.1111111111111111,\"#46039f\"],[0.2222222222222222,\"#7201a8\"],[0.3333333333333333,\"#9c179e\"],[0.4444444444444444,\"#bd3786\"],[0.5555555555555556,\"#d8576b\"],[0.6666666666666666,\"#ed7953\"],[0.7777777777777778,\"#fb9f3a\"],[0.8888888888888888,\"#fdca26\"],[1.0,\"#f0f921\"]],\"sequentialminus\":[[0.0,\"#0d0887\"],[0.1111111111111111,\"#46039f\"],[0.2222222222222222,\"#7201a8\"],[0.3333333333333333,\"#9c179e\"],[0.4444444444444444,\"#bd3786\"],[0.5555555555555556,\"#d8576b\"],[0.6666666666666666,\"#ed7953\"],[0.7777777777777778,\"#fb9f3a\"],[0.8888888888888888,\"#fdca26\"],[1.0,\"#f0f921\"]]},\"colorway\":[\"#636efa\",\"#EF553B\",\"#00cc96\",\"#ab63fa\",\"#FFA15A\",\"#19d3f3\",\"#FF6692\",\"#B6E880\",\"#FF97FF\",\"#FECB52\"],\"font\":{\"color\":\"#2a3f5f\"},\"geo\":{\"bgcolor\":\"white\",\"lakecolor\":\"white\",\"landcolor\":\"#E5ECF6\",\"showlakes\":true,\"showland\":true,\"subunitcolor\":\"white\"},\"hoverlabel\":{\"align\":\"left\"},\"hovermode\":\"closest\",\"mapbox\":{\"style\":\"light\"},\"paper_bgcolor\":\"white\",\"plot_bgcolor\":\"#E5ECF6\",\"polar\":{\"angularaxis\":{\"gridcolor\":\"white\",\"linecolor\":\"white\",\"ticks\":\"\"},\"bgcolor\":\"#E5ECF6\",\"radialaxis\":{\"gridcolor\":\"white\",\"linecolor\":\"white\",\"ticks\":\"\"}},\"scene\":{\"xaxis\":{\"backgroundcolor\":\"#E5ECF6\",\"gridcolor\":\"white\",\"gridwidth\":2,\"linecolor\":\"white\",\"showbackground\":true,\"ticks\":\"\",\"zerolinecolor\":\"white\"},\"yaxis\":{\"backgroundcolor\":\"#E5ECF6\",\"gridcolor\":\"white\",\"gridwidth\":2,\"linecolor\":\"white\",\"showbackground\":true,\"ticks\":\"\",\"zerolinecolor\":\"white\"},\"zaxis\":{\"backgroundcolor\":\"#E5ECF6\",\"gridcolor\":\"white\",\"gridwidth\":2,\"linecolor\":\"white\",\"showbackground\":true,\"ticks\":\"\",\"zerolinecolor\":\"white\"}},\"shapedefaults\":{\"line\":{\"color\":\"#2a3f5f\"}},\"ternary\":{\"aaxis\":{\"gridcolor\":\"white\",\"linecolor\":\"white\",\"ticks\":\"\"},\"baxis\":{\"gridcolor\":\"white\",\"linecolor\":\"white\",\"ticks\":\"\"},\"bgcolor\":\"#E5ECF6\",\"caxis\":{\"gridcolor\":\"white\",\"linecolor\":\"white\",\"ticks\":\"\"}},\"title\":{\"x\":0.05},\"xaxis\":{\"automargin\":true,\"gridcolor\":\"white\",\"linecolor\":\"white\",\"ticks\":\"\",\"title\":{\"standoff\":15},\"zerolinecolor\":\"white\",\"zerolinewidth\":2},\"yaxis\":{\"automargin\":true,\"gridcolor\":\"white\",\"linecolor\":\"white\",\"ticks\":\"\",\"title\":{\"standoff\":15},\"zerolinecolor\":\"white\",\"zerolinewidth\":2}}},\"xaxis\":{\"rangeslider\":{\"visible\":false},\"rangebreaks\":[{\"bounds\":[\"sat\",\"mon\"]},{\"bounds\":[16.1,9.5],\"pattern\":\"hour\"}]},\"title\":{\"text\":\"Stock Analysis\"},\"yaxis\":{\"title\":{\"text\":\"TSLA Stock\"}}},                        {\"responsive\": true}                    ).then(function(){\n",
       "                            \n",
       "var gd = document.getElementById('2e924a3c-a339-43dc-8451-db12fb4106ed');\n",
       "var x = new MutationObserver(function (mutations, observer) {{\n",
       "        var display = window.getComputedStyle(gd).display;\n",
       "        if (!display || display === 'none') {{\n",
       "            console.log([gd, 'removed!']);\n",
       "            Plotly.purge(gd);\n",
       "            observer.disconnect();\n",
       "        }}\n",
       "}});\n",
       "\n",
       "// Listen for the removal of the full notebook cells\n",
       "var notebookContainer = gd.closest('#notebook-container');\n",
       "if (notebookContainer) {{\n",
       "    x.observe(notebookContainer, {childList: true});\n",
       "}}\n",
       "\n",
       "// Listen for the clearing of the current output cell\n",
       "var outputEl = gd.closest('.output');\n",
       "if (outputEl) {{\n",
       "    x.observe(outputEl, {childList: true});\n",
       "}}\n",
       "\n",
       "                        })                };                });            </script>        </div>"
      ]
     },
     "metadata": {},
     "output_type": "display_data"
    }
   ],
   "source": [
    "plot_line(df, value='Last', show_afterhours=False)"
   ]
  },
  {
   "cell_type": "code",
   "execution_count": 178,
   "id": "a1777575-eb7c-411a-bd3c-144364ba6f3e",
   "metadata": {},
   "outputs": [
    {
     "data": {
      "application/vnd.plotly.v1+json": {
       "config": {
        "plotlyServerURL": "https://plot.ly"
       },
       "data": [
        {
         "type": "scatter",
         "x": [
          "2022-04-06T10:00:00",
          "2022-04-06T10:00:00",
          "2022-04-06T10:00:00",
          "2022-04-06T10:00:00",
          "2022-04-06T10:00:00",
          "2022-04-06T10:00:00",
          "2022-04-06T10:00:00",
          "2022-04-06T10:00:00",
          "2022-04-06T10:00:00",
          "2022-04-06T10:00:00",
          "2022-04-06T10:00:00",
          "2022-04-06T10:00:00",
          "2022-04-06T11:00:00",
          "2022-04-06T11:00:00",
          "2022-04-06T11:00:00",
          "2022-04-06T11:00:00",
          "2022-04-06T11:00:00",
          "2022-04-06T11:00:00",
          "2022-04-06T11:00:00",
          "2022-04-06T11:00:00",
          "2022-04-06T11:00:00",
          "2022-04-06T11:00:00",
          "2022-04-06T11:00:00",
          "2022-04-06T11:00:00",
          "2022-04-06T11:00:00",
          "2022-04-06T11:00:00",
          "2022-04-06T12:00:00",
          "2022-04-06T12:00:00",
          "2022-04-06T12:00:00",
          "2022-04-06T12:00:00",
          "2022-04-06T12:00:00",
          "2022-04-06T12:00:00",
          "2022-04-06T12:00:00",
          "2022-04-06T12:00:00",
          "2022-04-06T12:00:00",
          "2022-04-06T12:00:00",
          "2022-04-06T12:00:00",
          "2022-04-06T12:00:00",
          "2022-04-06T12:00:00",
          "2022-04-06T12:00:00",
          "2022-04-06T13:00:00",
          "2022-04-06T13:00:00",
          "2022-04-06T13:00:00",
          "2022-04-06T13:00:00",
          "2022-04-06T13:00:00",
          "2022-04-06T13:00:00",
          "2022-04-06T13:00:00",
          "2022-04-06T13:00:00",
          "2022-04-06T13:00:00",
          "2022-04-06T13:00:00",
          "2022-04-06T13:00:00",
          "2022-04-06T13:00:00",
          "2022-04-06T13:00:00",
          "2022-04-06T13:00:00",
          "2022-04-06T13:00:00",
          "2022-04-06T13:00:00",
          "2022-04-06T13:00:00",
          "2022-04-06T13:00:00",
          "2022-04-06T14:00:00",
          "2022-04-06T14:00:00",
          "2022-04-06T14:00:00",
          "2022-04-06T14:00:00",
          "2022-04-06T14:00:00",
          "2022-04-06T14:00:00",
          "2022-04-06T14:00:00",
          "2022-04-06T14:00:00",
          "2022-04-06T14:00:00",
          "2022-04-06T14:00:00",
          "2022-04-06T14:00:00",
          "2022-04-06T14:00:00",
          "2022-04-06T14:00:00",
          "2022-04-06T14:00:00",
          "2022-04-06T14:00:00",
          "2022-04-06T14:00:00",
          "2022-04-06T14:00:00",
          "2022-04-06T14:00:00",
          "2022-04-06T14:00:00",
          "2022-04-06T14:00:00",
          "2022-04-06T15:00:00",
          "2022-04-06T15:00:00",
          "2022-04-06T15:00:00",
          "2022-04-06T15:00:00",
          "2022-04-06T15:00:00",
          "2022-04-06T15:00:00",
          "2022-04-06T15:00:00",
          "2022-04-06T15:00:00",
          "2022-04-06T15:00:00",
          "2022-04-06T15:00:00",
          "2022-04-06T15:00:00",
          "2022-04-06T15:00:00",
          "2022-04-06T15:00:00",
          "2022-04-06T15:00:00",
          "2022-04-06T15:00:00",
          "2022-04-06T15:00:00",
          "2022-04-06T15:00:00",
          "2022-04-06T15:00:00",
          "2022-04-06T15:00:00",
          "2022-04-06T15:00:00",
          "2022-04-06T15:00:00",
          "2022-04-06T15:00:00",
          "2022-04-06T16:00:00",
          "2022-04-06T16:00:00",
          "2022-04-06T16:00:00",
          "2022-04-06T16:00:00",
          "2022-04-06T16:00:00",
          "2022-04-06T16:00:00",
          "2022-04-06T16:00:00",
          "2022-04-06T16:00:00",
          "2022-04-06T16:00:00",
          "2022-04-06T16:00:00",
          "2022-04-06T16:00:00",
          "2022-04-06T16:00:00",
          "2022-04-06T16:00:00",
          "2022-04-06T16:00:00",
          "2022-04-06T16:00:00",
          "2022-04-06T16:00:00",
          "2022-04-06T16:00:00",
          "2022-04-06T16:00:00",
          "2022-04-06T16:00:00",
          "2022-04-06T16:00:00",
          "2022-04-06T16:00:00",
          "2022-04-06T16:00:00",
          "2022-04-07T10:00:00",
          "2022-04-07T10:00:00",
          "2022-04-07T10:00:00",
          "2022-04-07T10:00:00",
          "2022-04-07T10:00:00",
          "2022-04-07T10:00:00",
          "2022-04-07T10:00:00",
          "2022-04-07T10:00:00",
          "2022-04-07T10:00:00",
          "2022-04-07T10:00:00",
          "2022-04-07T10:00:00",
          "2022-04-07T10:00:00",
          "2022-04-07T11:00:00",
          "2022-04-07T11:00:00",
          "2022-04-07T11:00:00",
          "2022-04-07T11:00:00",
          "2022-04-07T11:00:00",
          "2022-04-07T11:00:00",
          "2022-04-07T11:00:00",
          "2022-04-07T11:00:00",
          "2022-04-07T11:00:00",
          "2022-04-07T11:00:00",
          "2022-04-07T11:00:00",
          "2022-04-07T11:00:00",
          "2022-04-07T11:00:00",
          "2022-04-07T11:00:00",
          "2022-04-07T11:00:00",
          "2022-04-07T11:00:00",
          "2022-04-07T11:00:00",
          "2022-04-07T11:00:00",
          "2022-04-07T12:00:00",
          "2022-04-07T12:00:00",
          "2022-04-07T12:00:00",
          "2022-04-07T12:00:00",
          "2022-04-07T12:00:00",
          "2022-04-07T12:00:00",
          "2022-04-07T12:00:00",
          "2022-04-07T12:00:00",
          "2022-04-07T12:00:00",
          "2022-04-07T12:00:00",
          "2022-04-07T12:00:00",
          "2022-04-07T12:00:00",
          "2022-04-07T12:00:00",
          "2022-04-07T12:00:00",
          "2022-04-07T12:00:00",
          "2022-04-07T12:00:00",
          "2022-04-07T12:00:00",
          "2022-04-07T12:00:00",
          "2022-04-07T12:00:00",
          "2022-04-07T12:00:00",
          "2022-04-07T12:00:00",
          "2022-04-07T12:00:00",
          "2022-04-07T13:00:00",
          "2022-04-07T13:00:00",
          "2022-04-07T13:00:00",
          "2022-04-07T13:00:00",
          "2022-04-07T13:00:00",
          "2022-04-07T13:00:00",
          "2022-04-07T13:00:00",
          "2022-04-07T13:00:00",
          "2022-04-07T13:00:00",
          "2022-04-07T13:00:00",
          "2022-04-07T13:00:00",
          "2022-04-07T13:00:00",
          "2022-04-07T13:00:00",
          "2022-04-07T13:00:00",
          "2022-04-07T13:00:00",
          "2022-04-07T13:00:00",
          "2022-04-07T13:00:00",
          "2022-04-07T13:00:00",
          "2022-04-07T13:00:00",
          "2022-04-07T13:00:00",
          "2022-04-07T13:00:00",
          "2022-04-07T13:00:00",
          "2022-04-07T13:00:00",
          "2022-04-07T13:00:00",
          "2022-04-07T14:00:00",
          "2022-04-07T14:00:00",
          "2022-04-07T14:00:00",
          "2022-04-07T14:00:00",
          "2022-04-07T14:00:00",
          "2022-04-07T14:00:00",
          "2022-04-07T14:00:00",
          "2022-04-07T14:00:00",
          "2022-04-07T14:00:00",
          "2022-04-07T14:00:00",
          "2022-04-07T14:00:00",
          "2022-04-07T14:00:00",
          "2022-04-07T14:00:00",
          "2022-04-07T14:00:00",
          "2022-04-07T14:00:00",
          "2022-04-07T14:00:00",
          "2022-04-07T14:00:00",
          "2022-04-07T14:00:00",
          "2022-04-07T14:00:00",
          "2022-04-07T14:00:00",
          "2022-04-07T14:00:00",
          "2022-04-07T14:00:00",
          "2022-04-07T14:00:00",
          "2022-04-07T14:00:00",
          "2022-04-07T14:00:00",
          "2022-04-07T14:00:00",
          "2022-04-07T15:00:00",
          "2022-04-07T15:00:00",
          "2022-04-07T15:00:00",
          "2022-04-07T15:00:00",
          "2022-04-07T15:00:00",
          "2022-04-07T15:00:00",
          "2022-04-07T15:00:00",
          "2022-04-07T15:00:00",
          "2022-04-07T15:00:00",
          "2022-04-07T15:00:00",
          "2022-04-07T15:00:00",
          "2022-04-07T15:00:00",
          "2022-04-07T15:00:00",
          "2022-04-07T15:00:00",
          "2022-04-07T15:00:00",
          "2022-04-07T15:00:00",
          "2022-04-07T15:00:00",
          "2022-04-07T15:00:00",
          "2022-04-07T15:00:00",
          "2022-04-07T15:00:00",
          "2022-04-07T15:00:00",
          "2022-04-07T15:00:00",
          "2022-04-07T15:00:00",
          "2022-04-07T15:00:00",
          "2022-04-07T15:00:00",
          "2022-04-07T15:00:00",
          "2022-04-07T15:00:00",
          "2022-04-07T15:00:00",
          "2022-04-07T15:00:00",
          "2022-04-07T15:00:00",
          "2022-04-07T16:00:00",
          "2022-04-07T16:00:00",
          "2022-04-07T16:00:00",
          "2022-04-07T16:00:00",
          "2022-04-07T16:00:00",
          "2022-04-07T16:00:00",
          "2022-04-07T16:00:00",
          "2022-04-07T16:00:00",
          "2022-04-07T16:00:00",
          "2022-04-07T16:00:00",
          "2022-04-07T16:00:00",
          "2022-04-07T16:00:00",
          "2022-04-07T16:00:00",
          "2022-04-07T16:00:00",
          "2022-04-07T16:00:00",
          "2022-04-07T16:00:00",
          "2022-04-07T16:00:00",
          "2022-04-07T16:00:00",
          "2022-04-07T16:00:00",
          "2022-04-07T16:00:00",
          "2022-04-07T16:00:00",
          "2022-04-07T16:00:00",
          "2022-04-07T16:00:00",
          "2022-04-07T16:00:00",
          "2022-04-07T16:00:00",
          "2022-04-07T16:00:00",
          "2022-04-07T16:00:00",
          "2022-04-07T16:00:00",
          "2022-04-07T16:00:00",
          "2022-04-07T16:00:00",
          "2022-04-08T10:00:00",
          "2022-04-08T10:00:00",
          "2022-04-08T10:00:00",
          "2022-04-08T10:00:00",
          "2022-04-08T10:00:00",
          "2022-04-08T10:00:00",
          "2022-04-08T10:00:00",
          "2022-04-08T10:00:00",
          "2022-04-08T10:00:00",
          "2022-04-08T10:00:00",
          "2022-04-08T10:00:00",
          "2022-04-08T10:00:00",
          "2022-04-08T11:00:00",
          "2022-04-08T11:00:00",
          "2022-04-08T11:00:00",
          "2022-04-08T11:00:00",
          "2022-04-08T11:00:00",
          "2022-04-08T11:00:00",
          "2022-04-08T11:00:00",
          "2022-04-08T11:00:00",
          "2022-04-08T11:00:00",
          "2022-04-08T11:00:00",
          "2022-04-08T11:00:00",
          "2022-04-08T11:00:00",
          "2022-04-08T12:00:00",
          "2022-04-08T12:00:00",
          "2022-04-08T12:00:00",
          "2022-04-08T12:00:00",
          "2022-04-08T12:00:00",
          "2022-04-08T12:00:00",
          "2022-04-08T12:00:00",
          "2022-04-08T12:00:00",
          "2022-04-08T12:00:00",
          "2022-04-08T12:00:00",
          "2022-04-08T12:00:00",
          "2022-04-08T12:00:00",
          "2022-04-08T12:00:00",
          "2022-04-08T12:00:00",
          "2022-04-08T13:00:00",
          "2022-04-08T13:00:00",
          "2022-04-08T13:00:00",
          "2022-04-08T13:00:00",
          "2022-04-08T13:00:00",
          "2022-04-08T13:00:00",
          "2022-04-08T13:00:00",
          "2022-04-08T13:00:00",
          "2022-04-08T13:00:00",
          "2022-04-08T13:00:00",
          "2022-04-08T13:00:00",
          "2022-04-08T13:00:00",
          "2022-04-08T13:00:00",
          "2022-04-08T13:00:00",
          "2022-04-08T14:00:00",
          "2022-04-08T14:00:00",
          "2022-04-08T14:00:00",
          "2022-04-08T14:00:00",
          "2022-04-08T14:00:00",
          "2022-04-08T14:00:00",
          "2022-04-08T14:00:00",
          "2022-04-08T14:00:00",
          "2022-04-08T14:00:00",
          "2022-04-08T14:00:00",
          "2022-04-08T14:00:00",
          "2022-04-08T14:00:00",
          "2022-04-08T14:00:00",
          "2022-04-08T14:00:00",
          "2022-04-08T14:00:00",
          "2022-04-08T14:00:00",
          "2022-04-08T15:00:00",
          "2022-04-08T15:00:00",
          "2022-04-08T15:00:00",
          "2022-04-08T15:00:00",
          "2022-04-08T15:00:00",
          "2022-04-08T15:00:00",
          "2022-04-08T15:00:00",
          "2022-04-08T15:00:00",
          "2022-04-08T15:00:00",
          "2022-04-08T15:00:00",
          "2022-04-08T15:00:00",
          "2022-04-08T15:00:00",
          "2022-04-08T15:00:00",
          "2022-04-08T15:00:00",
          "2022-04-08T15:00:00",
          "2022-04-08T15:00:00",
          "2022-04-08T16:00:00",
          "2022-04-08T16:00:00",
          "2022-04-08T16:00:00",
          "2022-04-08T16:00:00",
          "2022-04-08T16:00:00",
          "2022-04-08T16:00:00",
          "2022-04-08T16:00:00",
          "2022-04-08T16:00:00",
          "2022-04-08T16:00:00",
          "2022-04-08T16:00:00",
          "2022-04-08T16:00:00",
          "2022-04-08T16:00:00",
          "2022-04-08T16:00:00",
          "2022-04-08T16:00:00",
          "2022-04-08T16:00:00",
          "2022-04-08T16:00:00",
          "2022-04-11T10:00:00",
          "2022-04-11T10:00:00",
          "2022-04-11T10:00:00",
          "2022-04-11T10:00:00",
          "2022-04-11T10:00:00",
          "2022-04-11T10:00:00",
          "2022-04-11T10:00:00",
          "2022-04-11T10:00:00",
          "2022-04-11T10:00:00",
          "2022-04-11T10:00:00",
          "2022-04-11T10:00:00",
          "2022-04-11T10:00:00",
          "2022-04-11T11:00:00",
          "2022-04-11T11:00:00",
          "2022-04-11T11:00:00",
          "2022-04-11T11:00:00",
          "2022-04-11T11:00:00",
          "2022-04-11T11:00:00",
          "2022-04-11T11:00:00",
          "2022-04-11T11:00:00",
          "2022-04-11T11:00:00",
          "2022-04-11T11:00:00",
          "2022-04-11T11:00:00",
          "2022-04-11T11:00:00",
          "2022-04-11T11:00:00",
          "2022-04-11T11:00:00",
          "2022-04-11T12:00:00",
          "2022-04-11T12:00:00",
          "2022-04-11T12:00:00",
          "2022-04-11T12:00:00",
          "2022-04-11T12:00:00",
          "2022-04-11T12:00:00",
          "2022-04-11T12:00:00",
          "2022-04-11T12:00:00",
          "2022-04-11T12:00:00",
          "2022-04-11T12:00:00",
          "2022-04-11T12:00:00",
          "2022-04-11T12:00:00",
          "2022-04-11T12:00:00",
          "2022-04-11T12:00:00",
          "2022-04-11T12:00:00",
          "2022-04-11T12:00:00",
          "2022-04-11T13:00:00",
          "2022-04-11T13:00:00",
          "2022-04-11T13:00:00",
          "2022-04-11T13:00:00",
          "2022-04-11T13:00:00",
          "2022-04-11T13:00:00",
          "2022-04-11T13:00:00",
          "2022-04-11T13:00:00",
          "2022-04-11T13:00:00",
          "2022-04-11T13:00:00",
          "2022-04-11T13:00:00",
          "2022-04-11T13:00:00",
          "2022-04-11T13:00:00",
          "2022-04-11T13:00:00",
          "2022-04-11T13:00:00",
          "2022-04-11T13:00:00",
          "2022-04-11T14:00:00",
          "2022-04-11T14:00:00",
          "2022-04-11T14:00:00",
          "2022-04-11T14:00:00",
          "2022-04-11T14:00:00",
          "2022-04-11T14:00:00",
          "2022-04-11T14:00:00",
          "2022-04-11T14:00:00",
          "2022-04-11T14:00:00",
          "2022-04-11T14:00:00",
          "2022-04-11T14:00:00",
          "2022-04-11T14:00:00",
          "2022-04-11T14:00:00",
          "2022-04-11T14:00:00",
          "2022-04-11T14:00:00",
          "2022-04-11T14:00:00",
          "2022-04-11T15:00:00",
          "2022-04-11T15:00:00",
          "2022-04-11T15:00:00",
          "2022-04-11T15:00:00",
          "2022-04-11T15:00:00",
          "2022-04-11T15:00:00",
          "2022-04-11T15:00:00",
          "2022-04-11T15:00:00",
          "2022-04-11T15:00:00",
          "2022-04-11T15:00:00",
          "2022-04-11T15:00:00",
          "2022-04-11T15:00:00",
          "2022-04-11T15:00:00",
          "2022-04-11T15:00:00",
          "2022-04-11T15:00:00",
          "2022-04-11T15:00:00",
          "2022-04-11T16:00:00",
          "2022-04-11T16:00:00",
          "2022-04-11T16:00:00",
          "2022-04-11T16:00:00",
          "2022-04-11T16:00:00",
          "2022-04-11T16:00:00",
          "2022-04-11T16:00:00",
          "2022-04-11T16:00:00",
          "2022-04-11T16:00:00",
          "2022-04-11T16:00:00",
          "2022-04-11T16:00:00",
          "2022-04-11T16:00:00",
          "2022-04-11T16:00:00",
          "2022-04-11T16:00:00",
          "2022-04-11T16:00:00",
          "2022-04-11T16:00:00",
          "2022-04-11T16:00:00",
          "2022-04-11T16:00:00",
          "2022-04-12T10:00:00",
          "2022-04-12T10:00:00",
          "2022-04-12T10:00:00",
          "2022-04-12T10:00:00",
          "2022-04-12T10:00:00",
          "2022-04-12T10:00:00",
          "2022-04-12T10:00:00",
          "2022-04-12T10:00:00",
          "2022-04-12T10:00:00",
          "2022-04-12T10:00:00",
          "2022-04-12T10:00:00",
          "2022-04-12T10:00:00",
          "2022-04-12T11:00:00",
          "2022-04-12T11:00:00",
          "2022-04-12T11:00:00",
          "2022-04-12T11:00:00",
          "2022-04-12T11:00:00",
          "2022-04-12T11:00:00",
          "2022-04-12T11:00:00",
          "2022-04-12T11:00:00",
          "2022-04-12T11:00:00",
          "2022-04-12T11:00:00",
          "2022-04-12T11:00:00",
          "2022-04-12T11:00:00",
          "2022-04-12T11:00:00",
          "2022-04-12T11:00:00",
          "2022-04-12T11:00:00",
          "2022-04-12T11:00:00",
          "2022-04-12T11:00:00",
          "2022-04-12T11:00:00",
          "2022-04-12T11:00:00",
          "2022-04-12T11:00:00",
          "2022-04-12T12:00:00",
          "2022-04-12T12:00:00",
          "2022-04-12T12:00:00",
          "2022-04-12T12:00:00",
          "2022-04-12T12:00:00",
          "2022-04-12T12:00:00",
          "2022-04-12T12:00:00",
          "2022-04-12T12:00:00",
          "2022-04-12T12:00:00",
          "2022-04-12T12:00:00",
          "2022-04-12T12:00:00",
          "2022-04-12T12:00:00",
          "2022-04-12T12:00:00",
          "2022-04-12T12:00:00",
          "2022-04-12T12:00:00",
          "2022-04-12T12:00:00",
          "2022-04-12T12:00:00",
          "2022-04-12T12:00:00",
          "2022-04-12T12:00:00",
          "2022-04-12T12:00:00",
          "2022-04-12T13:00:00",
          "2022-04-12T13:00:00",
          "2022-04-12T13:00:00",
          "2022-04-12T13:00:00",
          "2022-04-12T13:00:00",
          "2022-04-12T13:00:00",
          "2022-04-12T13:00:00",
          "2022-04-12T13:00:00",
          "2022-04-12T13:00:00",
          "2022-04-12T13:00:00",
          "2022-04-12T13:00:00",
          "2022-04-12T13:00:00",
          "2022-04-12T13:00:00",
          "2022-04-12T13:00:00",
          "2022-04-12T13:00:00",
          "2022-04-12T13:00:00",
          "2022-04-12T13:00:00",
          "2022-04-12T13:00:00",
          "2022-04-12T13:00:00",
          "2022-04-12T13:00:00",
          "2022-04-12T14:00:00",
          "2022-04-12T14:00:00",
          "2022-04-12T14:00:00",
          "2022-04-12T14:00:00",
          "2022-04-12T14:00:00",
          "2022-04-12T14:00:00",
          "2022-04-12T14:00:00",
          "2022-04-12T14:00:00",
          "2022-04-12T14:00:00",
          "2022-04-12T14:00:00",
          "2022-04-12T14:00:00",
          "2022-04-12T14:00:00",
          "2022-04-12T14:00:00",
          "2022-04-12T14:00:00",
          "2022-04-12T14:00:00",
          "2022-04-12T14:00:00",
          "2022-04-12T14:00:00",
          "2022-04-12T14:00:00",
          "2022-04-12T14:00:00",
          "2022-04-12T14:00:00",
          "2022-04-12T14:00:00",
          "2022-04-12T14:00:00",
          "2022-04-12T15:00:00",
          "2022-04-12T15:00:00",
          "2022-04-12T15:00:00",
          "2022-04-12T15:00:00",
          "2022-04-12T15:00:00",
          "2022-04-12T15:00:00",
          "2022-04-12T15:00:00",
          "2022-04-12T15:00:00",
          "2022-04-12T15:00:00",
          "2022-04-12T15:00:00",
          "2022-04-12T15:00:00",
          "2022-04-12T15:00:00",
          "2022-04-12T15:00:00",
          "2022-04-12T15:00:00",
          "2022-04-12T15:00:00",
          "2022-04-12T15:00:00",
          "2022-04-12T15:00:00",
          "2022-04-12T15:00:00",
          "2022-04-12T15:00:00",
          "2022-04-12T15:00:00",
          "2022-04-12T15:00:00",
          "2022-04-12T15:00:00",
          "2022-04-12T15:00:00",
          "2022-04-12T15:00:00",
          "2022-04-12T16:00:00",
          "2022-04-12T16:00:00",
          "2022-04-12T16:00:00",
          "2022-04-12T16:00:00",
          "2022-04-12T16:00:00",
          "2022-04-12T16:00:00",
          "2022-04-12T16:00:00",
          "2022-04-12T16:00:00",
          "2022-04-12T16:00:00",
          "2022-04-12T16:00:00",
          "2022-04-12T16:00:00",
          "2022-04-12T16:00:00",
          "2022-04-12T16:00:00",
          "2022-04-12T16:00:00",
          "2022-04-12T16:00:00",
          "2022-04-12T16:00:00",
          "2022-04-12T16:00:00",
          "2022-04-12T16:00:00",
          "2022-04-12T16:00:00",
          "2022-04-12T16:00:00",
          "2022-04-12T16:00:00",
          "2022-04-12T16:00:00",
          "2022-04-12T16:00:00",
          "2022-04-12T16:00:00"
         ],
         "y": [
          0.564,
          0.55,
          0.536,
          0.521,
          0.507,
          0.493,
          -0.436,
          -0.451,
          -0.465,
          -0.479,
          -0.493,
          -0.507,
          0.55,
          0.536,
          0.522,
          0.508,
          0.493,
          0.48,
          -0.45,
          -0.464,
          -0.479,
          -0.493,
          -0.507,
          -0.521,
          0.564,
          -0.436,
          0.561,
          0.547,
          0.533,
          0.519,
          0.505,
          0.491,
          0.477,
          -0.439,
          -0.453,
          -0.467,
          -0.481,
          -0.495,
          -0.509,
          -0.523,
          0.535,
          0.521,
          0.507,
          0.492,
          0.478,
          0.464,
          0.45,
          -0.465,
          -0.479,
          -0.494,
          -0.508,
          -0.522,
          -0.536,
          -0.55,
          0.564,
          0.549,
          -0.436,
          -0.451,
          0.612,
          0.598,
          0.584,
          0.57,
          0.556,
          0.542,
          0.528,
          0.514,
          0.5,
          -0.388,
          -0.402,
          -0.416,
          -0.43,
          -0.444,
          -0.458,
          -0.472,
          -0.486,
          -0.5,
          0.486,
          -0.514,
          0.629,
          0.616,
          0.602,
          0.588,
          0.574,
          0.56,
          0.546,
          0.532,
          0.518,
          0.504,
          -0.371,
          -0.385,
          -0.398,
          -0.412,
          -0.426,
          -0.44,
          -0.454,
          -0.468,
          -0.482,
          -0.496,
          0.49,
          -0.51,
          0.601,
          0.586,
          0.572,
          0.558,
          0.544,
          0.53,
          0.516,
          0.502,
          0.488,
          0.474,
          0.46,
          -0.4,
          -0.414,
          -0.428,
          -0.442,
          -0.456,
          -0.47,
          -0.484,
          -0.498,
          -0.512,
          -0.526,
          -0.54,
          0.56,
          0.544,
          0.529,
          -0.44,
          -0.456,
          -0.471,
          0.514,
          0.499,
          0.484,
          -0.486,
          -0.501,
          -0.517,
          0.501,
          0.485,
          0.455,
          0.44,
          0.425,
          -0.499,
          -0.515,
          -0.545,
          -0.56,
          -0.575,
          0.563,
          0.547,
          0.532,
          0.516,
          -0.437,
          -0.453,
          -0.468,
          -0.484,
          0.503,
          0.488,
          0.472,
          0.456,
          0.396,
          0.381,
          0.367,
          -0.497,
          -0.513,
          -0.528,
          -0.544,
          -0.604,
          -0.619,
          -0.633,
          0.567,
          0.551,
          0.535,
          0.519,
          -0.434,
          -0.449,
          -0.465,
          -0.481,
          0.547,
          0.531,
          0.515,
          0.499,
          0.484,
          0.468,
          0.452,
          0.437,
          0.377,
          0.363,
          0.349,
          -0.453,
          -0.469,
          -0.485,
          -0.501,
          -0.517,
          -0.532,
          -0.548,
          -0.563,
          -0.623,
          -0.638,
          -0.652,
          0.563,
          -0.437,
          0.625,
          0.61,
          0.594,
          0.579,
          0.563,
          0.548,
          0.532,
          0.516,
          0.501,
          0.439,
          0.425,
          0.41,
          -0.375,
          -0.39,
          -0.406,
          -0.421,
          -0.437,
          -0.453,
          -0.468,
          -0.484,
          -0.499,
          -0.561,
          -0.576,
          -0.591,
          0.485,
          -0.515,
          0.657,
          0.642,
          0.627,
          0.611,
          0.596,
          0.581,
          0.565,
          0.55,
          0.534,
          0.519,
          0.473,
          0.458,
          0.443,
          -0.343,
          -0.358,
          -0.373,
          -0.389,
          -0.404,
          -0.419,
          -0.435,
          -0.45,
          -0.466,
          -0.481,
          -0.527,
          -0.542,
          -0.557,
          0.504,
          0.488,
          -0.497,
          -0.512,
          0.655,
          0.64,
          0.625,
          0.609,
          0.594,
          0.579,
          0.563,
          0.548,
          0.532,
          0.517,
          0.501,
          0.486,
          0.471,
          0.456,
          0.441,
          -0.345,
          -0.36,
          -0.375,
          -0.391,
          -0.406,
          -0.421,
          -0.437,
          -0.452,
          -0.468,
          -0.483,
          -0.499,
          -0.514,
          -0.529,
          -0.545,
          -0.56,
          0.562,
          0.545,
          0.529,
          0.512,
          0.496,
          0.479,
          -0.438,
          -0.455,
          -0.471,
          -0.488,
          -0.505,
          -0.521,
          0.56,
          0.544,
          0.527,
          0.51,
          0.494,
          -0.44,
          -0.456,
          -0.473,
          -0.49,
          -0.506,
          0.477,
          -0.523,
          0.551,
          0.534,
          0.517,
          0.501,
          0.484,
          0.468,
          -0.449,
          -0.466,
          -0.483,
          -0.499,
          -0.516,
          -0.532,
          0.567,
          -0.433,
          0.6,
          0.567,
          0.55,
          0.534,
          0.517,
          0.501,
          -0.4,
          -0.433,
          -0.45,
          -0.466,
          -0.483,
          -0.499,
          0.485,
          -0.516,
          0.565,
          0.531,
          0.515,
          0.498,
          0.481,
          0.465,
          0.449,
          -0.435,
          -0.469,
          -0.486,
          -0.502,
          -0.519,
          -0.535,
          -0.551,
          0.548,
          -0.452,
          0.575,
          0.559,
          0.542,
          0.526,
          0.509,
          0.492,
          0.476,
          0.46,
          -0.425,
          -0.441,
          -0.458,
          -0.475,
          -0.491,
          -0.508,
          -0.524,
          -0.541,
          0.542,
          0.526,
          0.509,
          0.492,
          0.476,
          0.443,
          0.427,
          -0.458,
          -0.474,
          -0.491,
          -0.508,
          -0.525,
          -0.557,
          -0.574,
          0.559,
          -0.441,
          0.574,
          0.553,
          0.532,
          0.512,
          0.491,
          0.47,
          -0.426,
          -0.447,
          -0.468,
          -0.489,
          -0.51,
          -0.53,
          0.546,
          0.525,
          0.504,
          0.483,
          0.462,
          0.441,
          -0.454,
          -0.475,
          -0.496,
          -0.517,
          -0.538,
          -0.559,
          0.567,
          -0.433,
          0.561,
          0.54,
          0.519,
          0.498,
          0.477,
          0.456,
          0.435,
          -0.439,
          -0.46,
          -0.481,
          -0.502,
          -0.523,
          -0.544,
          -0.565,
          0.582,
          -0.418,
          0.584,
          0.563,
          0.542,
          0.521,
          0.499,
          0.478,
          0.458,
          0.437,
          -0.416,
          -0.437,
          -0.458,
          -0.48,
          -0.501,
          -0.522,
          -0.542,
          -0.563,
          0.598,
          0.577,
          0.556,
          0.535,
          0.513,
          0.492,
          0.472,
          0.451,
          -0.403,
          -0.423,
          -0.445,
          -0.466,
          -0.487,
          -0.508,
          -0.529,
          -0.549,
          0.594,
          0.573,
          0.552,
          0.531,
          0.51,
          0.489,
          0.468,
          0.447,
          -0.406,
          -0.427,
          -0.448,
          -0.469,
          -0.49,
          -0.511,
          -0.532,
          -0.553,
          0.545,
          0.524,
          0.503,
          0.481,
          0.46,
          0.439,
          0.419,
          0.399,
          -0.455,
          -0.476,
          -0.498,
          -0.519,
          -0.54,
          -0.561,
          -0.581,
          -0.602,
          0.567,
          -0.434,
          0.576,
          -0.424,
          0.553,
          0.53,
          0.507,
          0.484,
          0.462,
          -0.447,
          -0.47,
          -0.493,
          -0.516,
          -0.538,
          0.481,
          0.458,
          0.435,
          0.413,
          0.391,
          0.369,
          -0.519,
          -0.542,
          -0.565,
          -0.587,
          -0.609,
          -0.631,
          0.574,
          0.551,
          0.528,
          0.504,
          -0.426,
          -0.449,
          -0.473,
          -0.496,
          0.582,
          0.558,
          0.535,
          0.512,
          0.489,
          0.466,
          0.443,
          0.42,
          0.398,
          0.376,
          -0.418,
          -0.442,
          -0.465,
          -0.488,
          -0.511,
          -0.534,
          -0.557,
          -0.58,
          -0.602,
          -0.624,
          0.577,
          0.554,
          0.531,
          0.508,
          0.484,
          0.461,
          0.439,
          0.416,
          0.394,
          0.372,
          -0.423,
          -0.446,
          -0.469,
          -0.493,
          -0.516,
          -0.539,
          -0.562,
          -0.584,
          -0.606,
          -0.628,
          0.543,
          0.52,
          0.496,
          0.473,
          0.45,
          0.427,
          0.405,
          0.383,
          0.361,
          0.34,
          -0.457,
          -0.48,
          -0.504,
          -0.527,
          -0.55,
          -0.573,
          -0.595,
          -0.618,
          -0.639,
          -0.66,
          0.567,
          -0.433,
          0.535,
          0.512,
          0.488,
          0.465,
          0.442,
          0.396,
          0.374,
          0.353,
          0.332,
          0.311,
          -0.465,
          -0.488,
          -0.512,
          -0.535,
          -0.559,
          -0.604,
          -0.626,
          -0.647,
          -0.668,
          -0.689,
          0.582,
          0.559,
          -0.418,
          -0.441,
          0.597,
          0.574,
          0.551,
          0.527,
          0.504,
          0.48,
          0.457,
          0.411,
          0.389,
          0.367,
          0.346,
          0.325,
          -0.403,
          -0.426,
          -0.449,
          -0.473,
          -0.497,
          -0.52,
          -0.543,
          -0.589,
          -0.611,
          -0.633,
          -0.654,
          -0.675
         ]
        }
       ],
       "layout": {
        "autosize": true,
        "template": {
         "data": {
          "bar": [
           {
            "error_x": {
             "color": "#2a3f5f"
            },
            "error_y": {
             "color": "#2a3f5f"
            },
            "marker": {
             "line": {
              "color": "#E5ECF6",
              "width": 0.5
             },
             "pattern": {
              "fillmode": "overlay",
              "size": 10,
              "solidity": 0.2
             }
            },
            "type": "bar"
           }
          ],
          "barpolar": [
           {
            "marker": {
             "line": {
              "color": "#E5ECF6",
              "width": 0.5
             },
             "pattern": {
              "fillmode": "overlay",
              "size": 10,
              "solidity": 0.2
             }
            },
            "type": "barpolar"
           }
          ],
          "carpet": [
           {
            "aaxis": {
             "endlinecolor": "#2a3f5f",
             "gridcolor": "white",
             "linecolor": "white",
             "minorgridcolor": "white",
             "startlinecolor": "#2a3f5f"
            },
            "baxis": {
             "endlinecolor": "#2a3f5f",
             "gridcolor": "white",
             "linecolor": "white",
             "minorgridcolor": "white",
             "startlinecolor": "#2a3f5f"
            },
            "type": "carpet"
           }
          ],
          "choropleth": [
           {
            "colorbar": {
             "outlinewidth": 0,
             "ticks": ""
            },
            "type": "choropleth"
           }
          ],
          "contour": [
           {
            "colorbar": {
             "outlinewidth": 0,
             "ticks": ""
            },
            "colorscale": [
             [
              0,
              "#0d0887"
             ],
             [
              0.1111111111111111,
              "#46039f"
             ],
             [
              0.2222222222222222,
              "#7201a8"
             ],
             [
              0.3333333333333333,
              "#9c179e"
             ],
             [
              0.4444444444444444,
              "#bd3786"
             ],
             [
              0.5555555555555556,
              "#d8576b"
             ],
             [
              0.6666666666666666,
              "#ed7953"
             ],
             [
              0.7777777777777778,
              "#fb9f3a"
             ],
             [
              0.8888888888888888,
              "#fdca26"
             ],
             [
              1,
              "#f0f921"
             ]
            ],
            "type": "contour"
           }
          ],
          "contourcarpet": [
           {
            "colorbar": {
             "outlinewidth": 0,
             "ticks": ""
            },
            "type": "contourcarpet"
           }
          ],
          "heatmap": [
           {
            "colorbar": {
             "outlinewidth": 0,
             "ticks": ""
            },
            "colorscale": [
             [
              0,
              "#0d0887"
             ],
             [
              0.1111111111111111,
              "#46039f"
             ],
             [
              0.2222222222222222,
              "#7201a8"
             ],
             [
              0.3333333333333333,
              "#9c179e"
             ],
             [
              0.4444444444444444,
              "#bd3786"
             ],
             [
              0.5555555555555556,
              "#d8576b"
             ],
             [
              0.6666666666666666,
              "#ed7953"
             ],
             [
              0.7777777777777778,
              "#fb9f3a"
             ],
             [
              0.8888888888888888,
              "#fdca26"
             ],
             [
              1,
              "#f0f921"
             ]
            ],
            "type": "heatmap"
           }
          ],
          "heatmapgl": [
           {
            "colorbar": {
             "outlinewidth": 0,
             "ticks": ""
            },
            "colorscale": [
             [
              0,
              "#0d0887"
             ],
             [
              0.1111111111111111,
              "#46039f"
             ],
             [
              0.2222222222222222,
              "#7201a8"
             ],
             [
              0.3333333333333333,
              "#9c179e"
             ],
             [
              0.4444444444444444,
              "#bd3786"
             ],
             [
              0.5555555555555556,
              "#d8576b"
             ],
             [
              0.6666666666666666,
              "#ed7953"
             ],
             [
              0.7777777777777778,
              "#fb9f3a"
             ],
             [
              0.8888888888888888,
              "#fdca26"
             ],
             [
              1,
              "#f0f921"
             ]
            ],
            "type": "heatmapgl"
           }
          ],
          "histogram": [
           {
            "marker": {
             "pattern": {
              "fillmode": "overlay",
              "size": 10,
              "solidity": 0.2
             }
            },
            "type": "histogram"
           }
          ],
          "histogram2d": [
           {
            "colorbar": {
             "outlinewidth": 0,
             "ticks": ""
            },
            "colorscale": [
             [
              0,
              "#0d0887"
             ],
             [
              0.1111111111111111,
              "#46039f"
             ],
             [
              0.2222222222222222,
              "#7201a8"
             ],
             [
              0.3333333333333333,
              "#9c179e"
             ],
             [
              0.4444444444444444,
              "#bd3786"
             ],
             [
              0.5555555555555556,
              "#d8576b"
             ],
             [
              0.6666666666666666,
              "#ed7953"
             ],
             [
              0.7777777777777778,
              "#fb9f3a"
             ],
             [
              0.8888888888888888,
              "#fdca26"
             ],
             [
              1,
              "#f0f921"
             ]
            ],
            "type": "histogram2d"
           }
          ],
          "histogram2dcontour": [
           {
            "colorbar": {
             "outlinewidth": 0,
             "ticks": ""
            },
            "colorscale": [
             [
              0,
              "#0d0887"
             ],
             [
              0.1111111111111111,
              "#46039f"
             ],
             [
              0.2222222222222222,
              "#7201a8"
             ],
             [
              0.3333333333333333,
              "#9c179e"
             ],
             [
              0.4444444444444444,
              "#bd3786"
             ],
             [
              0.5555555555555556,
              "#d8576b"
             ],
             [
              0.6666666666666666,
              "#ed7953"
             ],
             [
              0.7777777777777778,
              "#fb9f3a"
             ],
             [
              0.8888888888888888,
              "#fdca26"
             ],
             [
              1,
              "#f0f921"
             ]
            ],
            "type": "histogram2dcontour"
           }
          ],
          "mesh3d": [
           {
            "colorbar": {
             "outlinewidth": 0,
             "ticks": ""
            },
            "type": "mesh3d"
           }
          ],
          "parcoords": [
           {
            "line": {
             "colorbar": {
              "outlinewidth": 0,
              "ticks": ""
             }
            },
            "type": "parcoords"
           }
          ],
          "pie": [
           {
            "automargin": true,
            "type": "pie"
           }
          ],
          "scatter": [
           {
            "marker": {
             "colorbar": {
              "outlinewidth": 0,
              "ticks": ""
             }
            },
            "type": "scatter"
           }
          ],
          "scatter3d": [
           {
            "line": {
             "colorbar": {
              "outlinewidth": 0,
              "ticks": ""
             }
            },
            "marker": {
             "colorbar": {
              "outlinewidth": 0,
              "ticks": ""
             }
            },
            "type": "scatter3d"
           }
          ],
          "scattercarpet": [
           {
            "marker": {
             "colorbar": {
              "outlinewidth": 0,
              "ticks": ""
             }
            },
            "type": "scattercarpet"
           }
          ],
          "scattergeo": [
           {
            "marker": {
             "colorbar": {
              "outlinewidth": 0,
              "ticks": ""
             }
            },
            "type": "scattergeo"
           }
          ],
          "scattergl": [
           {
            "marker": {
             "colorbar": {
              "outlinewidth": 0,
              "ticks": ""
             }
            },
            "type": "scattergl"
           }
          ],
          "scattermapbox": [
           {
            "marker": {
             "colorbar": {
              "outlinewidth": 0,
              "ticks": ""
             }
            },
            "type": "scattermapbox"
           }
          ],
          "scatterpolar": [
           {
            "marker": {
             "colorbar": {
              "outlinewidth": 0,
              "ticks": ""
             }
            },
            "type": "scatterpolar"
           }
          ],
          "scatterpolargl": [
           {
            "marker": {
             "colorbar": {
              "outlinewidth": 0,
              "ticks": ""
             }
            },
            "type": "scatterpolargl"
           }
          ],
          "scatterternary": [
           {
            "marker": {
             "colorbar": {
              "outlinewidth": 0,
              "ticks": ""
             }
            },
            "type": "scatterternary"
           }
          ],
          "surface": [
           {
            "colorbar": {
             "outlinewidth": 0,
             "ticks": ""
            },
            "colorscale": [
             [
              0,
              "#0d0887"
             ],
             [
              0.1111111111111111,
              "#46039f"
             ],
             [
              0.2222222222222222,
              "#7201a8"
             ],
             [
              0.3333333333333333,
              "#9c179e"
             ],
             [
              0.4444444444444444,
              "#bd3786"
             ],
             [
              0.5555555555555556,
              "#d8576b"
             ],
             [
              0.6666666666666666,
              "#ed7953"
             ],
             [
              0.7777777777777778,
              "#fb9f3a"
             ],
             [
              0.8888888888888888,
              "#fdca26"
             ],
             [
              1,
              "#f0f921"
             ]
            ],
            "type": "surface"
           }
          ],
          "table": [
           {
            "cells": {
             "fill": {
              "color": "#EBF0F8"
             },
             "line": {
              "color": "white"
             }
            },
            "header": {
             "fill": {
              "color": "#C8D4E3"
             },
             "line": {
              "color": "white"
             }
            },
            "type": "table"
           }
          ]
         },
         "layout": {
          "annotationdefaults": {
           "arrowcolor": "#2a3f5f",
           "arrowhead": 0,
           "arrowwidth": 1
          },
          "autotypenumbers": "strict",
          "coloraxis": {
           "colorbar": {
            "outlinewidth": 0,
            "ticks": ""
           }
          },
          "colorscale": {
           "diverging": [
            [
             0,
             "#8e0152"
            ],
            [
             0.1,
             "#c51b7d"
            ],
            [
             0.2,
             "#de77ae"
            ],
            [
             0.3,
             "#f1b6da"
            ],
            [
             0.4,
             "#fde0ef"
            ],
            [
             0.5,
             "#f7f7f7"
            ],
            [
             0.6,
             "#e6f5d0"
            ],
            [
             0.7,
             "#b8e186"
            ],
            [
             0.8,
             "#7fbc41"
            ],
            [
             0.9,
             "#4d9221"
            ],
            [
             1,
             "#276419"
            ]
           ],
           "sequential": [
            [
             0,
             "#0d0887"
            ],
            [
             0.1111111111111111,
             "#46039f"
            ],
            [
             0.2222222222222222,
             "#7201a8"
            ],
            [
             0.3333333333333333,
             "#9c179e"
            ],
            [
             0.4444444444444444,
             "#bd3786"
            ],
            [
             0.5555555555555556,
             "#d8576b"
            ],
            [
             0.6666666666666666,
             "#ed7953"
            ],
            [
             0.7777777777777778,
             "#fb9f3a"
            ],
            [
             0.8888888888888888,
             "#fdca26"
            ],
            [
             1,
             "#f0f921"
            ]
           ],
           "sequentialminus": [
            [
             0,
             "#0d0887"
            ],
            [
             0.1111111111111111,
             "#46039f"
            ],
            [
             0.2222222222222222,
             "#7201a8"
            ],
            [
             0.3333333333333333,
             "#9c179e"
            ],
            [
             0.4444444444444444,
             "#bd3786"
            ],
            [
             0.5555555555555556,
             "#d8576b"
            ],
            [
             0.6666666666666666,
             "#ed7953"
            ],
            [
             0.7777777777777778,
             "#fb9f3a"
            ],
            [
             0.8888888888888888,
             "#fdca26"
            ],
            [
             1,
             "#f0f921"
            ]
           ]
          },
          "colorway": [
           "#636efa",
           "#EF553B",
           "#00cc96",
           "#ab63fa",
           "#FFA15A",
           "#19d3f3",
           "#FF6692",
           "#B6E880",
           "#FF97FF",
           "#FECB52"
          ],
          "font": {
           "color": "#2a3f5f"
          },
          "geo": {
           "bgcolor": "white",
           "lakecolor": "white",
           "landcolor": "#E5ECF6",
           "showlakes": true,
           "showland": true,
           "subunitcolor": "white"
          },
          "hoverlabel": {
           "align": "left"
          },
          "hovermode": "closest",
          "mapbox": {
           "style": "light"
          },
          "paper_bgcolor": "white",
          "plot_bgcolor": "#E5ECF6",
          "polar": {
           "angularaxis": {
            "gridcolor": "white",
            "linecolor": "white",
            "ticks": ""
           },
           "bgcolor": "#E5ECF6",
           "radialaxis": {
            "gridcolor": "white",
            "linecolor": "white",
            "ticks": ""
           }
          },
          "scene": {
           "xaxis": {
            "backgroundcolor": "#E5ECF6",
            "gridcolor": "white",
            "gridwidth": 2,
            "linecolor": "white",
            "showbackground": true,
            "ticks": "",
            "zerolinecolor": "white"
           },
           "yaxis": {
            "backgroundcolor": "#E5ECF6",
            "gridcolor": "white",
            "gridwidth": 2,
            "linecolor": "white",
            "showbackground": true,
            "ticks": "",
            "zerolinecolor": "white"
           },
           "zaxis": {
            "backgroundcolor": "#E5ECF6",
            "gridcolor": "white",
            "gridwidth": 2,
            "linecolor": "white",
            "showbackground": true,
            "ticks": "",
            "zerolinecolor": "white"
           }
          },
          "shapedefaults": {
           "line": {
            "color": "#2a3f5f"
           }
          },
          "ternary": {
           "aaxis": {
            "gridcolor": "white",
            "linecolor": "white",
            "ticks": ""
           },
           "baxis": {
            "gridcolor": "white",
            "linecolor": "white",
            "ticks": ""
           },
           "bgcolor": "#E5ECF6",
           "caxis": {
            "gridcolor": "white",
            "linecolor": "white",
            "ticks": ""
           }
          },
          "title": {
           "x": 0.05
          },
          "xaxis": {
           "automargin": true,
           "gridcolor": "white",
           "linecolor": "white",
           "ticks": "",
           "title": {
            "standoff": 15
           },
           "zerolinecolor": "white",
           "zerolinewidth": 2
          },
          "yaxis": {
           "automargin": true,
           "gridcolor": "white",
           "linecolor": "white",
           "ticks": "",
           "title": {
            "standoff": 15
           },
           "zerolinecolor": "white",
           "zerolinewidth": 2
          }
         }
        },
        "title": {
         "text": "Stock Analysis"
        },
        "xaxis": {
         "autorange": true,
         "range": [
          "2022-04-06 10:00",
          "2022-04-12 16:00"
         ],
         "rangebreaks": [
          {
           "bounds": [
            "sat",
            "mon"
           ]
          },
          {
           "bounds": [
            16.1,
            9.5
           ],
           "pattern": "hour"
          }
         ],
         "rangeslider": {
          "visible": false,
          "yaxis": {}
         },
         "type": "date"
        },
        "yaxis": {
         "autorange": true,
         "range": [
          -0.7637777777777778,
          0.7317777777777779
         ],
         "title": {
          "text": "TSLA Stock"
         },
         "type": "linear"
        }
       }
      },
      "image/png": "[encoded data removed]",
      "text/html": [
       "<div>                            <div id=\"3d0b44ae-4de7-4add-9583-b46c87f6b2cf\" class=\"plotly-graph-div\" style=\"height:525px; width:100%;\"></div>            <script type=\"text/javascript\">                require([\"plotly\"], function(Plotly) {                    window.PLOTLYENV=window.PLOTLYENV || {};                                    if (document.getElementById(\"3d0b44ae-4de7-4add-9583-b46c87f6b2cf\")) {                    Plotly.newPlot(                        \"3d0b44ae-4de7-4add-9583-b46c87f6b2cf\",                        [{\"x\":[\"2022-04-06T10:00:00\",\"2022-04-06T10:00:00\",\"2022-04-06T10:00:00\",\"2022-04-06T10:00:00\",\"2022-04-06T10:00:00\",\"2022-04-06T10:00:00\",\"2022-04-06T10:00:00\",\"2022-04-06T10:00:00\",\"2022-04-06T10:00:00\",\"2022-04-06T10:00:00\",\"2022-04-06T10:00:00\",\"2022-04-06T10:00:00\",\"2022-04-06T11:00:00\",\"2022-04-06T11:00:00\",\"2022-04-06T11:00:00\",\"2022-04-06T11:00:00\",\"2022-04-06T11:00:00\",\"2022-04-06T11:00:00\",\"2022-04-06T11:00:00\",\"2022-04-06T11:00:00\",\"2022-04-06T11:00:00\",\"2022-04-06T11:00:00\",\"2022-04-06T11:00:00\",\"2022-04-06T11:00:00\",\"2022-04-06T11:00:00\",\"2022-04-06T11:00:00\",\"2022-04-06T12:00:00\",\"2022-04-06T12:00:00\",\"2022-04-06T12:00:00\",\"2022-04-06T12:00:00\",\"2022-04-06T12:00:00\",\"2022-04-06T12:00:00\",\"2022-04-06T12:00:00\",\"2022-04-06T12:00:00\",\"2022-04-06T12:00:00\",\"2022-04-06T12:00:00\",\"2022-04-06T12:00:00\",\"2022-04-06T12:00:00\",\"2022-04-06T12:00:00\",\"2022-04-06T12:00:00\",\"2022-04-06T13:00:00\",\"2022-04-06T13:00:00\",\"2022-04-06T13:00:00\",\"2022-04-06T13:00:00\",\"2022-04-06T13:00:00\",\"2022-04-06T13:00:00\",\"2022-04-06T13:00:00\",\"2022-04-06T13:00:00\",\"2022-04-06T13:00:00\",\"2022-04-06T13:00:00\",\"2022-04-06T13:00:00\",\"2022-04-06T13:00:00\",\"2022-04-06T13:00:00\",\"2022-04-06T13:00:00\",\"2022-04-06T13:00:00\",\"2022-04-06T13:00:00\",\"2022-04-06T13:00:00\",\"2022-04-06T13:00:00\",\"2022-04-06T14:00:00\",\"2022-04-06T14:00:00\",\"2022-04-06T14:00:00\",\"2022-04-06T14:00:00\",\"2022-04-06T14:00:00\",\"2022-04-06T14:00:00\",\"2022-04-06T14:00:00\",\"2022-04-06T14:00:00\",\"2022-04-06T14:00:00\",\"2022-04-06T14:00:00\",\"2022-04-06T14:00:00\",\"2022-04-06T14:00:00\",\"2022-04-06T14:00:00\",\"2022-04-06T14:00:00\",\"2022-04-06T14:00:00\",\"2022-04-06T14:00:00\",\"2022-04-06T14:00:00\",\"2022-04-06T14:00:00\",\"2022-04-06T14:00:00\",\"2022-04-06T14:00:00\",\"2022-04-06T15:00:00\",\"2022-04-06T15:00:00\",\"2022-04-06T15:00:00\",\"2022-04-06T15:00:00\",\"2022-04-06T15:00:00\",\"2022-04-06T15:00:00\",\"2022-04-06T15:00:00\",\"2022-04-06T15:00:00\",\"2022-04-06T15:00:00\",\"2022-04-06T15:00:00\",\"2022-04-06T15:00:00\",\"2022-04-06T15:00:00\",\"2022-04-06T15:00:00\",\"2022-04-06T15:00:00\",\"2022-04-06T15:00:00\",\"2022-04-06T15:00:00\",\"2022-04-06T15:00:00\",\"2022-04-06T15:00:00\",\"2022-04-06T15:00:00\",\"2022-04-06T15:00:00\",\"2022-04-06T15:00:00\",\"2022-04-06T15:00:00\",\"2022-04-06T16:00:00\",\"2022-04-06T16:00:00\",\"2022-04-06T16:00:00\",\"2022-04-06T16:00:00\",\"2022-04-06T16:00:00\",\"2022-04-06T16:00:00\",\"2022-04-06T16:00:00\",\"2022-04-06T16:00:00\",\"2022-04-06T16:00:00\",\"2022-04-06T16:00:00\",\"2022-04-06T16:00:00\",\"2022-04-06T16:00:00\",\"2022-04-06T16:00:00\",\"2022-04-06T16:00:00\",\"2022-04-06T16:00:00\",\"2022-04-06T16:00:00\",\"2022-04-06T16:00:00\",\"2022-04-06T16:00:00\",\"2022-04-06T16:00:00\",\"2022-04-06T16:00:00\",\"2022-04-06T16:00:00\",\"2022-04-06T16:00:00\",\"2022-04-07T10:00:00\",\"2022-04-07T10:00:00\",\"2022-04-07T10:00:00\",\"2022-04-07T10:00:00\",\"2022-04-07T10:00:00\",\"2022-04-07T10:00:00\",\"2022-04-07T10:00:00\",\"2022-04-07T10:00:00\",\"2022-04-07T10:00:00\",\"2022-04-07T10:00:00\",\"2022-04-07T10:00:00\",\"2022-04-07T10:00:00\",\"2022-04-07T11:00:00\",\"2022-04-07T11:00:00\",\"2022-04-07T11:00:00\",\"2022-04-07T11:00:00\",\"2022-04-07T11:00:00\",\"2022-04-07T11:00:00\",\"2022-04-07T11:00:00\",\"2022-04-07T11:00:00\",\"2022-04-07T11:00:00\",\"2022-04-07T11:00:00\",\"2022-04-07T11:00:00\",\"2022-04-07T11:00:00\",\"2022-04-07T11:00:00\",\"2022-04-07T11:00:00\",\"2022-04-07T11:00:00\",\"2022-04-07T11:00:00\",\"2022-04-07T11:00:00\",\"2022-04-07T11:00:00\",\"2022-04-07T12:00:00\",\"2022-04-07T12:00:00\",\"2022-04-07T12:00:00\",\"2022-04-07T12:00:00\",\"2022-04-07T12:00:00\",\"2022-04-07T12:00:00\",\"2022-04-07T12:00:00\",\"2022-04-07T12:00:00\",\"2022-04-07T12:00:00\",\"2022-04-07T12:00:00\",\"2022-04-07T12:00:00\",\"2022-04-07T12:00:00\",\"2022-04-07T12:00:00\",\"2022-04-07T12:00:00\",\"2022-04-07T12:00:00\",\"2022-04-07T12:00:00\",\"2022-04-07T12:00:00\",\"2022-04-07T12:00:00\",\"2022-04-07T12:00:00\",\"2022-04-07T12:00:00\",\"2022-04-07T12:00:00\",\"2022-04-07T12:00:00\",\"2022-04-07T13:00:00\",\"2022-04-07T13:00:00\",\"2022-04-07T13:00:00\",\"2022-04-07T13:00:00\",\"2022-04-07T13:00:00\",\"2022-04-07T13:00:00\",\"2022-04-07T13:00:00\",\"2022-04-07T13:00:00\",\"2022-04-07T13:00:00\",\"2022-04-07T13:00:00\",\"2022-04-07T13:00:00\",\"2022-04-07T13:00:00\",\"2022-04-07T13:00:00\",\"2022-04-07T13:00:00\",\"2022-04-07T13:00:00\",\"2022-04-07T13:00:00\",\"2022-04-07T13:00:00\",\"2022-04-07T13:00:00\",\"2022-04-07T13:00:00\",\"2022-04-07T13:00:00\",\"2022-04-07T13:00:00\",\"2022-04-07T13:00:00\",\"2022-04-07T13:00:00\",\"2022-04-07T13:00:00\",\"2022-04-07T14:00:00\",\"2022-04-07T14:00:00\",\"2022-04-07T14:00:00\",\"2022-04-07T14:00:00\",\"2022-04-07T14:00:00\",\"2022-04-07T14:00:00\",\"2022-04-07T14:00:00\",\"2022-04-07T14:00:00\",\"2022-04-07T14:00:00\",\"2022-04-07T14:00:00\",\"2022-04-07T14:00:00\",\"2022-04-07T14:00:00\",\"2022-04-07T14:00:00\",\"2022-04-07T14:00:00\",\"2022-04-07T14:00:00\",\"2022-04-07T14:00:00\",\"2022-04-07T14:00:00\",\"2022-04-07T14:00:00\",\"2022-04-07T14:00:00\",\"2022-04-07T14:00:00\",\"2022-04-07T14:00:00\",\"2022-04-07T14:00:00\",\"2022-04-07T14:00:00\",\"2022-04-07T14:00:00\",\"2022-04-07T14:00:00\",\"2022-04-07T14:00:00\",\"2022-04-07T15:00:00\",\"2022-04-07T15:00:00\",\"2022-04-07T15:00:00\",\"2022-04-07T15:00:00\",\"2022-04-07T15:00:00\",\"2022-04-07T15:00:00\",\"2022-04-07T15:00:00\",\"2022-04-07T15:00:00\",\"2022-04-07T15:00:00\",\"2022-04-07T15:00:00\",\"2022-04-07T15:00:00\",\"2022-04-07T15:00:00\",\"2022-04-07T15:00:00\",\"2022-04-07T15:00:00\",\"2022-04-07T15:00:00\",\"2022-04-07T15:00:00\",\"2022-04-07T15:00:00\",\"2022-04-07T15:00:00\",\"2022-04-07T15:00:00\",\"2022-04-07T15:00:00\",\"2022-04-07T15:00:00\",\"2022-04-07T15:00:00\",\"2022-04-07T15:00:00\",\"2022-04-07T15:00:00\",\"2022-04-07T15:00:00\",\"2022-04-07T15:00:00\",\"2022-04-07T15:00:00\",\"2022-04-07T15:00:00\",\"2022-04-07T15:00:00\",\"2022-04-07T15:00:00\",\"2022-04-07T16:00:00\",\"2022-04-07T16:00:00\",\"2022-04-07T16:00:00\",\"2022-04-07T16:00:00\",\"2022-04-07T16:00:00\",\"2022-04-07T16:00:00\",\"2022-04-07T16:00:00\",\"2022-04-07T16:00:00\",\"2022-04-07T16:00:00\",\"2022-04-07T16:00:00\",\"2022-04-07T16:00:00\",\"2022-04-07T16:00:00\",\"2022-04-07T16:00:00\",\"2022-04-07T16:00:00\",\"2022-04-07T16:00:00\",\"2022-04-07T16:00:00\",\"2022-04-07T16:00:00\",\"2022-04-07T16:00:00\",\"2022-04-07T16:00:00\",\"2022-04-07T16:00:00\",\"2022-04-07T16:00:00\",\"2022-04-07T16:00:00\",\"2022-04-07T16:00:00\",\"2022-04-07T16:00:00\",\"2022-04-07T16:00:00\",\"2022-04-07T16:00:00\",\"2022-04-07T16:00:00\",\"2022-04-07T16:00:00\",\"2022-04-07T16:00:00\",\"2022-04-07T16:00:00\",\"2022-04-08T10:00:00\",\"2022-04-08T10:00:00\",\"2022-04-08T10:00:00\",\"2022-04-08T10:00:00\",\"2022-04-08T10:00:00\",\"2022-04-08T10:00:00\",\"2022-04-08T10:00:00\",\"2022-04-08T10:00:00\",\"2022-04-08T10:00:00\",\"2022-04-08T10:00:00\",\"2022-04-08T10:00:00\",\"2022-04-08T10:00:00\",\"2022-04-08T11:00:00\",\"2022-04-08T11:00:00\",\"2022-04-08T11:00:00\",\"2022-04-08T11:00:00\",\"2022-04-08T11:00:00\",\"2022-04-08T11:00:00\",\"2022-04-08T11:00:00\",\"2022-04-08T11:00:00\",\"2022-04-08T11:00:00\",\"2022-04-08T11:00:00\",\"2022-04-08T11:00:00\",\"2022-04-08T11:00:00\",\"2022-04-08T12:00:00\",\"2022-04-08T12:00:00\",\"2022-04-08T12:00:00\",\"2022-04-08T12:00:00\",\"2022-04-08T12:00:00\",\"2022-04-08T12:00:00\",\"2022-04-08T12:00:00\",\"2022-04-08T12:00:00\",\"2022-04-08T12:00:00\",\"2022-04-08T12:00:00\",\"2022-04-08T12:00:00\",\"2022-04-08T12:00:00\",\"2022-04-08T12:00:00\",\"2022-04-08T12:00:00\",\"2022-04-08T13:00:00\",\"2022-04-08T13:00:00\",\"2022-04-08T13:00:00\",\"2022-04-08T13:00:00\",\"2022-04-08T13:00:00\",\"2022-04-08T13:00:00\",\"2022-04-08T13:00:00\",\"2022-04-08T13:00:00\",\"2022-04-08T13:00:00\",\"2022-04-08T13:00:00\",\"2022-04-08T13:00:00\",\"2022-04-08T13:00:00\",\"2022-04-08T13:00:00\",\"2022-04-08T13:00:00\",\"2022-04-08T14:00:00\",\"2022-04-08T14:00:00\",\"2022-04-08T14:00:00\",\"2022-04-08T14:00:00\",\"2022-04-08T14:00:00\",\"2022-04-08T14:00:00\",\"2022-04-08T14:00:00\",\"2022-04-08T14:00:00\",\"2022-04-08T14:00:00\",\"2022-04-08T14:00:00\",\"2022-04-08T14:00:00\",\"2022-04-08T14:00:00\",\"2022-04-08T14:00:00\",\"2022-04-08T14:00:00\",\"2022-04-08T14:00:00\",\"2022-04-08T14:00:00\",\"2022-04-08T15:00:00\",\"2022-04-08T15:00:00\",\"2022-04-08T15:00:00\",\"2022-04-08T15:00:00\",\"2022-04-08T15:00:00\",\"2022-04-08T15:00:00\",\"2022-04-08T15:00:00\",\"2022-04-08T15:00:00\",\"2022-04-08T15:00:00\",\"2022-04-08T15:00:00\",\"2022-04-08T15:00:00\",\"2022-04-08T15:00:00\",\"2022-04-08T15:00:00\",\"2022-04-08T15:00:00\",\"2022-04-08T15:00:00\",\"2022-04-08T15:00:00\",\"2022-04-08T16:00:00\",\"2022-04-08T16:00:00\",\"2022-04-08T16:00:00\",\"2022-04-08T16:00:00\",\"2022-04-08T16:00:00\",\"2022-04-08T16:00:00\",\"2022-04-08T16:00:00\",\"2022-04-08T16:00:00\",\"2022-04-08T16:00:00\",\"2022-04-08T16:00:00\",\"2022-04-08T16:00:00\",\"2022-04-08T16:00:00\",\"2022-04-08T16:00:00\",\"2022-04-08T16:00:00\",\"2022-04-08T16:00:00\",\"2022-04-08T16:00:00\",\"2022-04-11T10:00:00\",\"2022-04-11T10:00:00\",\"2022-04-11T10:00:00\",\"2022-04-11T10:00:00\",\"2022-04-11T10:00:00\",\"2022-04-11T10:00:00\",\"2022-04-11T10:00:00\",\"2022-04-11T10:00:00\",\"2022-04-11T10:00:00\",\"2022-04-11T10:00:00\",\"2022-04-11T10:00:00\",\"2022-04-11T10:00:00\",\"2022-04-11T11:00:00\",\"2022-04-11T11:00:00\",\"2022-04-11T11:00:00\",\"2022-04-11T11:00:00\",\"2022-04-11T11:00:00\",\"2022-04-11T11:00:00\",\"2022-04-11T11:00:00\",\"2022-04-11T11:00:00\",\"2022-04-11T11:00:00\",\"2022-04-11T11:00:00\",\"2022-04-11T11:00:00\",\"2022-04-11T11:00:00\",\"2022-04-11T11:00:00\",\"2022-04-11T11:00:00\",\"2022-04-11T12:00:00\",\"2022-04-11T12:00:00\",\"2022-04-11T12:00:00\",\"2022-04-11T12:00:00\",\"2022-04-11T12:00:00\",\"2022-04-11T12:00:00\",\"2022-04-11T12:00:00\",\"2022-04-11T12:00:00\",\"2022-04-11T12:00:00\",\"2022-04-11T12:00:00\",\"2022-04-11T12:00:00\",\"2022-04-11T12:00:00\",\"2022-04-11T12:00:00\",\"2022-04-11T12:00:00\",\"2022-04-11T12:00:00\",\"2022-04-11T12:00:00\",\"2022-04-11T13:00:00\",\"2022-04-11T13:00:00\",\"2022-04-11T13:00:00\",\"2022-04-11T13:00:00\",\"2022-04-11T13:00:00\",\"2022-04-11T13:00:00\",\"2022-04-11T13:00:00\",\"2022-04-11T13:00:00\",\"2022-04-11T13:00:00\",\"2022-04-11T13:00:00\",\"2022-04-11T13:00:00\",\"2022-04-11T13:00:00\",\"2022-04-11T13:00:00\",\"2022-04-11T13:00:00\",\"2022-04-11T13:00:00\",\"2022-04-11T13:00:00\",\"2022-04-11T14:00:00\",\"2022-04-11T14:00:00\",\"2022-04-11T14:00:00\",\"2022-04-11T14:00:00\",\"2022-04-11T14:00:00\",\"2022-04-11T14:00:00\",\"2022-04-11T14:00:00\",\"2022-04-11T14:00:00\",\"2022-04-11T14:00:00\",\"2022-04-11T14:00:00\",\"2022-04-11T14:00:00\",\"2022-04-11T14:00:00\",\"2022-04-11T14:00:00\",\"2022-04-11T14:00:00\",\"2022-04-11T14:00:00\",\"2022-04-11T14:00:00\",\"2022-04-11T15:00:00\",\"2022-04-11T15:00:00\",\"2022-04-11T15:00:00\",\"2022-04-11T15:00:00\",\"2022-04-11T15:00:00\",\"2022-04-11T15:00:00\",\"2022-04-11T15:00:00\",\"2022-04-11T15:00:00\",\"2022-04-11T15:00:00\",\"2022-04-11T15:00:00\",\"2022-04-11T15:00:00\",\"2022-04-11T15:00:00\",\"2022-04-11T15:00:00\",\"2022-04-11T15:00:00\",\"2022-04-11T15:00:00\",\"2022-04-11T15:00:00\",\"2022-04-11T16:00:00\",\"2022-04-11T16:00:00\",\"2022-04-11T16:00:00\",\"2022-04-11T16:00:00\",\"2022-04-11T16:00:00\",\"2022-04-11T16:00:00\",\"2022-04-11T16:00:00\",\"2022-04-11T16:00:00\",\"2022-04-11T16:00:00\",\"2022-04-11T16:00:00\",\"2022-04-11T16:00:00\",\"2022-04-11T16:00:00\",\"2022-04-11T16:00:00\",\"2022-04-11T16:00:00\",\"2022-04-11T16:00:00\",\"2022-04-11T16:00:00\",\"2022-04-11T16:00:00\",\"2022-04-11T16:00:00\",\"2022-04-12T10:00:00\",\"2022-04-12T10:00:00\",\"2022-04-12T10:00:00\",\"2022-04-12T10:00:00\",\"2022-04-12T10:00:00\",\"2022-04-12T10:00:00\",\"2022-04-12T10:00:00\",\"2022-04-12T10:00:00\",\"2022-04-12T10:00:00\",\"2022-04-12T10:00:00\",\"2022-04-12T10:00:00\",\"2022-04-12T10:00:00\",\"2022-04-12T11:00:00\",\"2022-04-12T11:00:00\",\"2022-04-12T11:00:00\",\"2022-04-12T11:00:00\",\"2022-04-12T11:00:00\",\"2022-04-12T11:00:00\",\"2022-04-12T11:00:00\",\"2022-04-12T11:00:00\",\"2022-04-12T11:00:00\",\"2022-04-12T11:00:00\",\"2022-04-12T11:00:00\",\"2022-04-12T11:00:00\",\"2022-04-12T11:00:00\",\"2022-04-12T11:00:00\",\"2022-04-12T11:00:00\",\"2022-04-12T11:00:00\",\"2022-04-12T11:00:00\",\"2022-04-12T11:00:00\",\"2022-04-12T11:00:00\",\"2022-04-12T11:00:00\",\"2022-04-12T12:00:00\",\"2022-04-12T12:00:00\",\"2022-04-12T12:00:00\",\"2022-04-12T12:00:00\",\"2022-04-12T12:00:00\",\"2022-04-12T12:00:00\",\"2022-04-12T12:00:00\",\"2022-04-12T12:00:00\",\"2022-04-12T12:00:00\",\"2022-04-12T12:00:00\",\"2022-04-12T12:00:00\",\"2022-04-12T12:00:00\",\"2022-04-12T12:00:00\",\"2022-04-12T12:00:00\",\"2022-04-12T12:00:00\",\"2022-04-12T12:00:00\",\"2022-04-12T12:00:00\",\"2022-04-12T12:00:00\",\"2022-04-12T12:00:00\",\"2022-04-12T12:00:00\",\"2022-04-12T13:00:00\",\"2022-04-12T13:00:00\",\"2022-04-12T13:00:00\",\"2022-04-12T13:00:00\",\"2022-04-12T13:00:00\",\"2022-04-12T13:00:00\",\"2022-04-12T13:00:00\",\"2022-04-12T13:00:00\",\"2022-04-12T13:00:00\",\"2022-04-12T13:00:00\",\"2022-04-12T13:00:00\",\"2022-04-12T13:00:00\",\"2022-04-12T13:00:00\",\"2022-04-12T13:00:00\",\"2022-04-12T13:00:00\",\"2022-04-12T13:00:00\",\"2022-04-12T13:00:00\",\"2022-04-12T13:00:00\",\"2022-04-12T13:00:00\",\"2022-04-12T13:00:00\",\"2022-04-12T14:00:00\",\"2022-04-12T14:00:00\",\"2022-04-12T14:00:00\",\"2022-04-12T14:00:00\",\"2022-04-12T14:00:00\",\"2022-04-12T14:00:00\",\"2022-04-12T14:00:00\",\"2022-04-12T14:00:00\",\"2022-04-12T14:00:00\",\"2022-04-12T14:00:00\",\"2022-04-12T14:00:00\",\"2022-04-12T14:00:00\",\"2022-04-12T14:00:00\",\"2022-04-12T14:00:00\",\"2022-04-12T14:00:00\",\"2022-04-12T14:00:00\",\"2022-04-12T14:00:00\",\"2022-04-12T14:00:00\",\"2022-04-12T14:00:00\",\"2022-04-12T14:00:00\",\"2022-04-12T14:00:00\",\"2022-04-12T14:00:00\",\"2022-04-12T15:00:00\",\"2022-04-12T15:00:00\",\"2022-04-12T15:00:00\",\"2022-04-12T15:00:00\",\"2022-04-12T15:00:00\",\"2022-04-12T15:00:00\",\"2022-04-12T15:00:00\",\"2022-04-12T15:00:00\",\"2022-04-12T15:00:00\",\"2022-04-12T15:00:00\",\"2022-04-12T15:00:00\",\"2022-04-12T15:00:00\",\"2022-04-12T15:00:00\",\"2022-04-12T15:00:00\",\"2022-04-12T15:00:00\",\"2022-04-12T15:00:00\",\"2022-04-12T15:00:00\",\"2022-04-12T15:00:00\",\"2022-04-12T15:00:00\",\"2022-04-12T15:00:00\",\"2022-04-12T15:00:00\",\"2022-04-12T15:00:00\",\"2022-04-12T15:00:00\",\"2022-04-12T15:00:00\",\"2022-04-12T16:00:00\",\"2022-04-12T16:00:00\",\"2022-04-12T16:00:00\",\"2022-04-12T16:00:00\",\"2022-04-12T16:00:00\",\"2022-04-12T16:00:00\",\"2022-04-12T16:00:00\",\"2022-04-12T16:00:00\",\"2022-04-12T16:00:00\",\"2022-04-12T16:00:00\",\"2022-04-12T16:00:00\",\"2022-04-12T16:00:00\",\"2022-04-12T16:00:00\",\"2022-04-12T16:00:00\",\"2022-04-12T16:00:00\",\"2022-04-12T16:00:00\",\"2022-04-12T16:00:00\",\"2022-04-12T16:00:00\",\"2022-04-12T16:00:00\",\"2022-04-12T16:00:00\",\"2022-04-12T16:00:00\",\"2022-04-12T16:00:00\",\"2022-04-12T16:00:00\",\"2022-04-12T16:00:00\"],\"y\":[0.564,0.55,0.536,0.521,0.507,0.493,-0.436,-0.451,-0.465,-0.479,-0.493,-0.507,0.55,0.536,0.522,0.508,0.493,0.48,-0.45,-0.464,-0.479,-0.493,-0.507,-0.521,0.564,-0.436,0.561,0.547,0.533,0.519,0.505,0.491,0.477,-0.439,-0.453,-0.467,-0.481,-0.495,-0.509,-0.523,0.535,0.521,0.507,0.492,0.478,0.464,0.45,-0.465,-0.479,-0.494,-0.508,-0.522,-0.536,-0.55,0.564,0.549,-0.436,-0.451,0.612,0.598,0.584,0.57,0.556,0.542,0.528,0.514,0.5,-0.388,-0.402,-0.416,-0.43,-0.444,-0.458,-0.472,-0.486,-0.5,0.486,-0.514,0.629,0.616,0.602,0.588,0.574,0.56,0.546,0.532,0.518,0.504,-0.371,-0.385,-0.398,-0.412,-0.426,-0.44,-0.454,-0.468,-0.482,-0.496,0.49,-0.51,0.601,0.586,0.572,0.558,0.544,0.53,0.516,0.502,0.488,0.474,0.46,-0.4,-0.414,-0.428,-0.442,-0.456,-0.47,-0.484,-0.498,-0.512,-0.526,-0.54,0.56,0.544,0.529,-0.44,-0.456,-0.471,0.514,0.499,0.484,-0.486,-0.501,-0.517,0.501,0.485,0.455,0.44,0.425,-0.499,-0.515,-0.545,-0.56,-0.575,0.563,0.547,0.532,0.516,-0.437,-0.453,-0.468,-0.484,0.503,0.488,0.472,0.456,0.396,0.381,0.367,-0.497,-0.513,-0.528,-0.544,-0.604,-0.619,-0.633,0.567,0.551,0.535,0.519,-0.434,-0.449,-0.465,-0.481,0.547,0.531,0.515,0.499,0.484,0.468,0.452,0.437,0.377,0.363,0.349,-0.453,-0.469,-0.485,-0.501,-0.517,-0.532,-0.548,-0.563,-0.623,-0.638,-0.652,0.563,-0.437,0.625,0.61,0.594,0.579,0.563,0.548,0.532,0.516,0.501,0.439,0.425,0.41,-0.375,-0.39,-0.406,-0.421,-0.437,-0.453,-0.468,-0.484,-0.499,-0.561,-0.576,-0.591,0.485,-0.515,0.657,0.642,0.627,0.611,0.596,0.581,0.565,0.55,0.534,0.519,0.473,0.458,0.443,-0.343,-0.358,-0.373,-0.389,-0.404,-0.419,-0.435,-0.45,-0.466,-0.481,-0.527,-0.542,-0.557,0.504,0.488,-0.497,-0.512,0.655,0.64,0.625,0.609,0.594,0.579,0.563,0.548,0.532,0.517,0.501,0.486,0.471,0.456,0.441,-0.345,-0.36,-0.375,-0.391,-0.406,-0.421,-0.437,-0.452,-0.468,-0.483,-0.499,-0.514,-0.529,-0.545,-0.56,0.562,0.545,0.529,0.512,0.496,0.479,-0.438,-0.455,-0.471,-0.488,-0.505,-0.521,0.56,0.544,0.527,0.51,0.494,-0.44,-0.456,-0.473,-0.49,-0.506,0.477,-0.523,0.551,0.534,0.517,0.501,0.484,0.468,-0.449,-0.466,-0.483,-0.499,-0.516,-0.532,0.567,-0.433,0.6,0.567,0.55,0.534,0.517,0.501,-0.4,-0.433,-0.45,-0.466,-0.483,-0.499,0.485,-0.516,0.565,0.531,0.515,0.498,0.481,0.465,0.449,-0.435,-0.469,-0.486,-0.502,-0.519,-0.535,-0.551,0.548,-0.452,0.575,0.559,0.542,0.526,0.509,0.492,0.476,0.46,-0.425,-0.441,-0.458,-0.475,-0.491,-0.508,-0.524,-0.541,0.542,0.526,0.509,0.492,0.476,0.443,0.427,-0.458,-0.474,-0.491,-0.508,-0.525,-0.557,-0.574,0.559,-0.441,0.574,0.553,0.532,0.512,0.491,0.47,-0.426,-0.447,-0.468,-0.489,-0.51,-0.53,0.546,0.525,0.504,0.483,0.462,0.441,-0.454,-0.475,-0.496,-0.517,-0.538,-0.559,0.567,-0.433,0.561,0.54,0.519,0.498,0.477,0.456,0.435,-0.439,-0.46,-0.481,-0.502,-0.523,-0.544,-0.565,0.582,-0.418,0.584,0.563,0.542,0.521,0.499,0.478,0.458,0.437,-0.416,-0.437,-0.458,-0.48,-0.501,-0.522,-0.542,-0.563,0.598,0.577,0.556,0.535,0.513,0.492,0.472,0.451,-0.403,-0.423,-0.445,-0.466,-0.487,-0.508,-0.529,-0.549,0.594,0.573,0.552,0.531,0.51,0.489,0.468,0.447,-0.406,-0.427,-0.448,-0.469,-0.49,-0.511,-0.532,-0.553,0.545,0.524,0.503,0.481,0.46,0.439,0.419,0.399,-0.455,-0.476,-0.498,-0.519,-0.54,-0.561,-0.581,-0.602,0.567,-0.434,0.576,-0.424,0.553,0.53,0.507,0.484,0.462,-0.447,-0.47,-0.493,-0.516,-0.538,0.481,0.458,0.435,0.413,0.391,0.369,-0.519,-0.542,-0.565,-0.587,-0.609,-0.631,0.574,0.551,0.528,0.504,-0.426,-0.449,-0.473,-0.496,0.582,0.558,0.535,0.512,0.489,0.466,0.443,0.42,0.398,0.376,-0.418,-0.442,-0.465,-0.488,-0.511,-0.534,-0.557,-0.58,-0.602,-0.624,0.577,0.554,0.531,0.508,0.484,0.461,0.439,0.416,0.394,0.372,-0.423,-0.446,-0.469,-0.493,-0.516,-0.539,-0.562,-0.584,-0.606,-0.628,0.543,0.52,0.496,0.473,0.45,0.427,0.405,0.383,0.361,0.34,-0.457,-0.48,-0.504,-0.527,-0.55,-0.573,-0.595,-0.618,-0.639,-0.66,0.567,-0.433,0.535,0.512,0.488,0.465,0.442,0.396,0.374,0.353,0.332,0.311,-0.465,-0.488,-0.512,-0.535,-0.559,-0.604,-0.626,-0.647,-0.668,-0.689,0.582,0.559,-0.418,-0.441,0.597,0.574,0.551,0.527,0.504,0.48,0.457,0.411,0.389,0.367,0.346,0.325,-0.403,-0.426,-0.449,-0.473,-0.497,-0.52,-0.543,-0.589,-0.611,-0.633,-0.654,-0.675],\"type\":\"scatter\"}],                        {\"template\":{\"data\":{\"bar\":[{\"error_x\":{\"color\":\"#2a3f5f\"},\"error_y\":{\"color\":\"#2a3f5f\"},\"marker\":{\"line\":{\"color\":\"#E5ECF6\",\"width\":0.5},\"pattern\":{\"fillmode\":\"overlay\",\"size\":10,\"solidity\":0.2}},\"type\":\"bar\"}],\"barpolar\":[{\"marker\":{\"line\":{\"color\":\"#E5ECF6\",\"width\":0.5},\"pattern\":{\"fillmode\":\"overlay\",\"size\":10,\"solidity\":0.2}},\"type\":\"barpolar\"}],\"carpet\":[{\"aaxis\":{\"endlinecolor\":\"#2a3f5f\",\"gridcolor\":\"white\",\"linecolor\":\"white\",\"minorgridcolor\":\"white\",\"startlinecolor\":\"#2a3f5f\"},\"baxis\":{\"endlinecolor\":\"#2a3f5f\",\"gridcolor\":\"white\",\"linecolor\":\"white\",\"minorgridcolor\":\"white\",\"startlinecolor\":\"#2a3f5f\"},\"type\":\"carpet\"}],\"choropleth\":[{\"colorbar\":{\"outlinewidth\":0,\"ticks\":\"\"},\"type\":\"choropleth\"}],\"contour\":[{\"colorbar\":{\"outlinewidth\":0,\"ticks\":\"\"},\"colorscale\":[[0.0,\"#0d0887\"],[0.1111111111111111,\"#46039f\"],[0.2222222222222222,\"#7201a8\"],[0.3333333333333333,\"#9c179e\"],[0.4444444444444444,\"#bd3786\"],[0.5555555555555556,\"#d8576b\"],[0.6666666666666666,\"#ed7953\"],[0.7777777777777778,\"#fb9f3a\"],[0.8888888888888888,\"#fdca26\"],[1.0,\"#f0f921\"]],\"type\":\"contour\"}],\"contourcarpet\":[{\"colorbar\":{\"outlinewidth\":0,\"ticks\":\"\"},\"type\":\"contourcarpet\"}],\"heatmap\":[{\"colorbar\":{\"outlinewidth\":0,\"ticks\":\"\"},\"colorscale\":[[0.0,\"#0d0887\"],[0.1111111111111111,\"#46039f\"],[0.2222222222222222,\"#7201a8\"],[0.3333333333333333,\"#9c179e\"],[0.4444444444444444,\"#bd3786\"],[0.5555555555555556,\"#d8576b\"],[0.6666666666666666,\"#ed7953\"],[0.7777777777777778,\"#fb9f3a\"],[0.8888888888888888,\"#fdca26\"],[1.0,\"#f0f921\"]],\"type\":\"heatmap\"}],\"heatmapgl\":[{\"colorbar\":{\"outlinewidth\":0,\"ticks\":\"\"},\"colorscale\":[[0.0,\"#0d0887\"],[0.1111111111111111,\"#46039f\"],[0.2222222222222222,\"#7201a8\"],[0.3333333333333333,\"#9c179e\"],[0.4444444444444444,\"#bd3786\"],[0.5555555555555556,\"#d8576b\"],[0.6666666666666666,\"#ed7953\"],[0.7777777777777778,\"#fb9f3a\"],[0.8888888888888888,\"#fdca26\"],[1.0,\"#f0f921\"]],\"type\":\"heatmapgl\"}],\"histogram\":[{\"marker\":{\"pattern\":{\"fillmode\":\"overlay\",\"size\":10,\"solidity\":0.2}},\"type\":\"histogram\"}],\"histogram2d\":[{\"colorbar\":{\"outlinewidth\":0,\"ticks\":\"\"},\"colorscale\":[[0.0,\"#0d0887\"],[0.1111111111111111,\"#46039f\"],[0.2222222222222222,\"#7201a8\"],[0.3333333333333333,\"#9c179e\"],[0.4444444444444444,\"#bd3786\"],[0.5555555555555556,\"#d8576b\"],[0.6666666666666666,\"#ed7953\"],[0.7777777777777778,\"#fb9f3a\"],[0.8888888888888888,\"#fdca26\"],[1.0,\"#f0f921\"]],\"type\":\"histogram2d\"}],\"histogram2dcontour\":[{\"colorbar\":{\"outlinewidth\":0,\"ticks\":\"\"},\"colorscale\":[[0.0,\"#0d0887\"],[0.1111111111111111,\"#46039f\"],[0.2222222222222222,\"#7201a8\"],[0.3333333333333333,\"#9c179e\"],[0.4444444444444444,\"#bd3786\"],[0.5555555555555556,\"#d8576b\"],[0.6666666666666666,\"#ed7953\"],[0.7777777777777778,\"#fb9f3a\"],[0.8888888888888888,\"#fdca26\"],[1.0,\"#f0f921\"]],\"type\":\"histogram2dcontour\"}],\"mesh3d\":[{\"colorbar\":{\"outlinewidth\":0,\"ticks\":\"\"},\"type\":\"mesh3d\"}],\"parcoords\":[{\"line\":{\"colorbar\":{\"outlinewidth\":0,\"ticks\":\"\"}},\"type\":\"parcoords\"}],\"pie\":[{\"automargin\":true,\"type\":\"pie\"}],\"scatter\":[{\"marker\":{\"colorbar\":{\"outlinewidth\":0,\"ticks\":\"\"}},\"type\":\"scatter\"}],\"scatter3d\":[{\"line\":{\"colorbar\":{\"outlinewidth\":0,\"ticks\":\"\"}},\"marker\":{\"colorbar\":{\"outlinewidth\":0,\"ticks\":\"\"}},\"type\":\"scatter3d\"}],\"scattercarpet\":[{\"marker\":{\"colorbar\":{\"outlinewidth\":0,\"ticks\":\"\"}},\"type\":\"scattercarpet\"}],\"scattergeo\":[{\"marker\":{\"colorbar\":{\"outlinewidth\":0,\"ticks\":\"\"}},\"type\":\"scattergeo\"}],\"scattergl\":[{\"marker\":{\"colorbar\":{\"outlinewidth\":0,\"ticks\":\"\"}},\"type\":\"scattergl\"}],\"scattermapbox\":[{\"marker\":{\"colorbar\":{\"outlinewidth\":0,\"ticks\":\"\"}},\"type\":\"scattermapbox\"}],\"scatterpolar\":[{\"marker\":{\"colorbar\":{\"outlinewidth\":0,\"ticks\":\"\"}},\"type\":\"scatterpolar\"}],\"scatterpolargl\":[{\"marker\":{\"colorbar\":{\"outlinewidth\":0,\"ticks\":\"\"}},\"type\":\"scatterpolargl\"}],\"scatterternary\":[{\"marker\":{\"colorbar\":{\"outlinewidth\":0,\"ticks\":\"\"}},\"type\":\"scatterternary\"}],\"surface\":[{\"colorbar\":{\"outlinewidth\":0,\"ticks\":\"\"},\"colorscale\":[[0.0,\"#0d0887\"],[0.1111111111111111,\"#46039f\"],[0.2222222222222222,\"#7201a8\"],[0.3333333333333333,\"#9c179e\"],[0.4444444444444444,\"#bd3786\"],[0.5555555555555556,\"#d8576b\"],[0.6666666666666666,\"#ed7953\"],[0.7777777777777778,\"#fb9f3a\"],[0.8888888888888888,\"#fdca26\"],[1.0,\"#f0f921\"]],\"type\":\"surface\"}],\"table\":[{\"cells\":{\"fill\":{\"color\":\"#EBF0F8\"},\"line\":{\"color\":\"white\"}},\"header\":{\"fill\":{\"color\":\"#C8D4E3\"},\"line\":{\"color\":\"white\"}},\"type\":\"table\"}]},\"layout\":{\"annotationdefaults\":{\"arrowcolor\":\"#2a3f5f\",\"arrowhead\":0,\"arrowwidth\":1},\"autotypenumbers\":\"strict\",\"coloraxis\":{\"colorbar\":{\"outlinewidth\":0,\"ticks\":\"\"}},\"colorscale\":{\"diverging\":[[0,\"#8e0152\"],[0.1,\"#c51b7d\"],[0.2,\"#de77ae\"],[0.3,\"#f1b6da\"],[0.4,\"#fde0ef\"],[0.5,\"#f7f7f7\"],[0.6,\"#e6f5d0\"],[0.7,\"#b8e186\"],[0.8,\"#7fbc41\"],[0.9,\"#4d9221\"],[1,\"#276419\"]],\"sequential\":[[0.0,\"#0d0887\"],[0.1111111111111111,\"#46039f\"],[0.2222222222222222,\"#7201a8\"],[0.3333333333333333,\"#9c179e\"],[0.4444444444444444,\"#bd3786\"],[0.5555555555555556,\"#d8576b\"],[0.6666666666666666,\"#ed7953\"],[0.7777777777777778,\"#fb9f3a\"],[0.8888888888888888,\"#fdca26\"],[1.0,\"#f0f921\"]],\"sequentialminus\":[[0.0,\"#0d0887\"],[0.1111111111111111,\"#46039f\"],[0.2222222222222222,\"#7201a8\"],[0.3333333333333333,\"#9c179e\"],[0.4444444444444444,\"#bd3786\"],[0.5555555555555556,\"#d8576b\"],[0.6666666666666666,\"#ed7953\"],[0.7777777777777778,\"#fb9f3a\"],[0.8888888888888888,\"#fdca26\"],[1.0,\"#f0f921\"]]},\"colorway\":[\"#636efa\",\"#EF553B\",\"#00cc96\",\"#ab63fa\",\"#FFA15A\",\"#19d3f3\",\"#FF6692\",\"#B6E880\",\"#FF97FF\",\"#FECB52\"],\"font\":{\"color\":\"#2a3f5f\"},\"geo\":{\"bgcolor\":\"white\",\"lakecolor\":\"white\",\"landcolor\":\"#E5ECF6\",\"showlakes\":true,\"showland\":true,\"subunitcolor\":\"white\"},\"hoverlabel\":{\"align\":\"left\"},\"hovermode\":\"closest\",\"mapbox\":{\"style\":\"light\"},\"paper_bgcolor\":\"white\",\"plot_bgcolor\":\"#E5ECF6\",\"polar\":{\"angularaxis\":{\"gridcolor\":\"white\",\"linecolor\":\"white\",\"ticks\":\"\"},\"bgcolor\":\"#E5ECF6\",\"radialaxis\":{\"gridcolor\":\"white\",\"linecolor\":\"white\",\"ticks\":\"\"}},\"scene\":{\"xaxis\":{\"backgroundcolor\":\"#E5ECF6\",\"gridcolor\":\"white\",\"gridwidth\":2,\"linecolor\":\"white\",\"showbackground\":true,\"ticks\":\"\",\"zerolinecolor\":\"white\"},\"yaxis\":{\"backgroundcolor\":\"#E5ECF6\",\"gridcolor\":\"white\",\"gridwidth\":2,\"linecolor\":\"white\",\"showbackground\":true,\"ticks\":\"\",\"zerolinecolor\":\"white\"},\"zaxis\":{\"backgroundcolor\":\"#E5ECF6\",\"gridcolor\":\"white\",\"gridwidth\":2,\"linecolor\":\"white\",\"showbackground\":true,\"ticks\":\"\",\"zerolinecolor\":\"white\"}},\"shapedefaults\":{\"line\":{\"color\":\"#2a3f5f\"}},\"ternary\":{\"aaxis\":{\"gridcolor\":\"white\",\"linecolor\":\"white\",\"ticks\":\"\"},\"baxis\":{\"gridcolor\":\"white\",\"linecolor\":\"white\",\"ticks\":\"\"},\"bgcolor\":\"#E5ECF6\",\"caxis\":{\"gridcolor\":\"white\",\"linecolor\":\"white\",\"ticks\":\"\"}},\"title\":{\"x\":0.05},\"xaxis\":{\"automargin\":true,\"gridcolor\":\"white\",\"linecolor\":\"white\",\"ticks\":\"\",\"title\":{\"standoff\":15},\"zerolinecolor\":\"white\",\"zerolinewidth\":2},\"yaxis\":{\"automargin\":true,\"gridcolor\":\"white\",\"linecolor\":\"white\",\"ticks\":\"\",\"title\":{\"standoff\":15},\"zerolinecolor\":\"white\",\"zerolinewidth\":2}}},\"xaxis\":{\"rangeslider\":{\"visible\":false},\"rangebreaks\":[{\"bounds\":[\"sat\",\"mon\"]},{\"bounds\":[16.1,9.5],\"pattern\":\"hour\"}]},\"title\":{\"text\":\"Stock Analysis\"},\"yaxis\":{\"title\":{\"text\":\"TSLA Stock\"}}},                        {\"responsive\": true}                    ).then(function(){\n",
       "                            \n",
       "var gd = document.getElementById('3d0b44ae-4de7-4add-9583-b46c87f6b2cf');\n",
       "var x = new MutationObserver(function (mutations, observer) {{\n",
       "        var display = window.getComputedStyle(gd).display;\n",
       "        if (!display || display === 'none') {{\n",
       "            console.log([gd, 'removed!']);\n",
       "            Plotly.purge(gd);\n",
       "            observer.disconnect();\n",
       "        }}\n",
       "}});\n",
       "\n",
       "// Listen for the removal of the full notebook cells\n",
       "var notebookContainer = gd.closest('#notebook-container');\n",
       "if (notebookContainer) {{\n",
       "    x.observe(notebookContainer, {childList: true});\n",
       "}}\n",
       "\n",
       "// Listen for the clearing of the current output cell\n",
       "var outputEl = gd.closest('.output');\n",
       "if (outputEl) {{\n",
       "    x.observe(outputEl, {childList: true});\n",
       "}}\n",
       "\n",
       "                        })                };                });            </script>        </div>"
      ]
     },
     "metadata": {},
     "output_type": "display_data"
    }
   ],
   "source": [
    "plot_line(df, value='delta', show_afterhours=False)"
   ]
  },
  {
   "cell_type": "code",
   "execution_count": 179,
   "id": "a4a06744-1ae8-4e80-9b2f-40e993e01717",
   "metadata": {},
   "outputs": [
    {
     "data": {
      "application/vnd.plotly.v1+json": {
       "config": {
        "plotlyServerURL": "https://plot.ly"
       },
       "data": [
        {
         "type": "scatter",
         "x": [
          "2022-04-06T10:00:00",
          "2022-04-06T10:00:00",
          "2022-04-06T10:00:00",
          "2022-04-06T10:00:00",
          "2022-04-06T10:00:00",
          "2022-04-06T10:00:00",
          "2022-04-06T10:00:00",
          "2022-04-06T10:00:00",
          "2022-04-06T10:00:00",
          "2022-04-06T10:00:00",
          "2022-04-06T10:00:00",
          "2022-04-06T10:00:00",
          "2022-04-06T11:00:00",
          "2022-04-06T11:00:00",
          "2022-04-06T11:00:00",
          "2022-04-06T11:00:00",
          "2022-04-06T11:00:00",
          "2022-04-06T11:00:00",
          "2022-04-06T11:00:00",
          "2022-04-06T11:00:00",
          "2022-04-06T11:00:00",
          "2022-04-06T11:00:00",
          "2022-04-06T11:00:00",
          "2022-04-06T11:00:00",
          "2022-04-06T11:00:00",
          "2022-04-06T11:00:00",
          "2022-04-06T12:00:00",
          "2022-04-06T12:00:00",
          "2022-04-06T12:00:00",
          "2022-04-06T12:00:00",
          "2022-04-06T12:00:00",
          "2022-04-06T12:00:00",
          "2022-04-06T12:00:00",
          "2022-04-06T12:00:00",
          "2022-04-06T12:00:00",
          "2022-04-06T12:00:00",
          "2022-04-06T12:00:00",
          "2022-04-06T12:00:00",
          "2022-04-06T12:00:00",
          "2022-04-06T12:00:00",
          "2022-04-06T13:00:00",
          "2022-04-06T13:00:00",
          "2022-04-06T13:00:00",
          "2022-04-06T13:00:00",
          "2022-04-06T13:00:00",
          "2022-04-06T13:00:00",
          "2022-04-06T13:00:00",
          "2022-04-06T13:00:00",
          "2022-04-06T13:00:00",
          "2022-04-06T13:00:00",
          "2022-04-06T13:00:00",
          "2022-04-06T13:00:00",
          "2022-04-06T13:00:00",
          "2022-04-06T13:00:00",
          "2022-04-06T13:00:00",
          "2022-04-06T13:00:00",
          "2022-04-06T13:00:00",
          "2022-04-06T13:00:00",
          "2022-04-06T14:00:00",
          "2022-04-06T14:00:00",
          "2022-04-06T14:00:00",
          "2022-04-06T14:00:00",
          "2022-04-06T14:00:00",
          "2022-04-06T14:00:00",
          "2022-04-06T14:00:00",
          "2022-04-06T14:00:00",
          "2022-04-06T14:00:00",
          "2022-04-06T14:00:00",
          "2022-04-06T14:00:00",
          "2022-04-06T14:00:00",
          "2022-04-06T14:00:00",
          "2022-04-06T14:00:00",
          "2022-04-06T14:00:00",
          "2022-04-06T14:00:00",
          "2022-04-06T14:00:00",
          "2022-04-06T14:00:00",
          "2022-04-06T14:00:00",
          "2022-04-06T14:00:00",
          "2022-04-06T15:00:00",
          "2022-04-06T15:00:00",
          "2022-04-06T15:00:00",
          "2022-04-06T15:00:00",
          "2022-04-06T15:00:00",
          "2022-04-06T15:00:00",
          "2022-04-06T15:00:00",
          "2022-04-06T15:00:00",
          "2022-04-06T15:00:00",
          "2022-04-06T15:00:00",
          "2022-04-06T15:00:00",
          "2022-04-06T15:00:00",
          "2022-04-06T15:00:00",
          "2022-04-06T15:00:00",
          "2022-04-06T15:00:00",
          "2022-04-06T15:00:00",
          "2022-04-06T15:00:00",
          "2022-04-06T15:00:00",
          "2022-04-06T15:00:00",
          "2022-04-06T15:00:00",
          "2022-04-06T15:00:00",
          "2022-04-06T15:00:00",
          "2022-04-06T16:00:00",
          "2022-04-06T16:00:00",
          "2022-04-06T16:00:00",
          "2022-04-06T16:00:00",
          "2022-04-06T16:00:00",
          "2022-04-06T16:00:00",
          "2022-04-06T16:00:00",
          "2022-04-06T16:00:00",
          "2022-04-06T16:00:00",
          "2022-04-06T16:00:00",
          "2022-04-06T16:00:00",
          "2022-04-06T16:00:00",
          "2022-04-06T16:00:00",
          "2022-04-06T16:00:00",
          "2022-04-06T16:00:00",
          "2022-04-06T16:00:00",
          "2022-04-06T16:00:00",
          "2022-04-06T16:00:00",
          "2022-04-06T16:00:00",
          "2022-04-06T16:00:00",
          "2022-04-06T16:00:00",
          "2022-04-06T16:00:00",
          "2022-04-07T10:00:00",
          "2022-04-07T10:00:00",
          "2022-04-07T10:00:00",
          "2022-04-07T10:00:00",
          "2022-04-07T10:00:00",
          "2022-04-07T10:00:00",
          "2022-04-07T10:00:00",
          "2022-04-07T10:00:00",
          "2022-04-07T10:00:00",
          "2022-04-07T10:00:00",
          "2022-04-07T10:00:00",
          "2022-04-07T10:00:00",
          "2022-04-07T11:00:00",
          "2022-04-07T11:00:00",
          "2022-04-07T11:00:00",
          "2022-04-07T11:00:00",
          "2022-04-07T11:00:00",
          "2022-04-07T11:00:00",
          "2022-04-07T11:00:00",
          "2022-04-07T11:00:00",
          "2022-04-07T11:00:00",
          "2022-04-07T11:00:00",
          "2022-04-07T11:00:00",
          "2022-04-07T11:00:00",
          "2022-04-07T11:00:00",
          "2022-04-07T11:00:00",
          "2022-04-07T11:00:00",
          "2022-04-07T11:00:00",
          "2022-04-07T11:00:00",
          "2022-04-07T11:00:00",
          "2022-04-07T12:00:00",
          "2022-04-07T12:00:00",
          "2022-04-07T12:00:00",
          "2022-04-07T12:00:00",
          "2022-04-07T12:00:00",
          "2022-04-07T12:00:00",
          "2022-04-07T12:00:00",
          "2022-04-07T12:00:00",
          "2022-04-07T12:00:00",
          "2022-04-07T12:00:00",
          "2022-04-07T12:00:00",
          "2022-04-07T12:00:00",
          "2022-04-07T12:00:00",
          "2022-04-07T12:00:00",
          "2022-04-07T12:00:00",
          "2022-04-07T12:00:00",
          "2022-04-07T12:00:00",
          "2022-04-07T12:00:00",
          "2022-04-07T12:00:00",
          "2022-04-07T12:00:00",
          "2022-04-07T12:00:00",
          "2022-04-07T12:00:00",
          "2022-04-07T13:00:00",
          "2022-04-07T13:00:00",
          "2022-04-07T13:00:00",
          "2022-04-07T13:00:00",
          "2022-04-07T13:00:00",
          "2022-04-07T13:00:00",
          "2022-04-07T13:00:00",
          "2022-04-07T13:00:00",
          "2022-04-07T13:00:00",
          "2022-04-07T13:00:00",
          "2022-04-07T13:00:00",
          "2022-04-07T13:00:00",
          "2022-04-07T13:00:00",
          "2022-04-07T13:00:00",
          "2022-04-07T13:00:00",
          "2022-04-07T13:00:00",
          "2022-04-07T13:00:00",
          "2022-04-07T13:00:00",
          "2022-04-07T13:00:00",
          "2022-04-07T13:00:00",
          "2022-04-07T13:00:00",
          "2022-04-07T13:00:00",
          "2022-04-07T13:00:00",
          "2022-04-07T13:00:00",
          "2022-04-07T14:00:00",
          "2022-04-07T14:00:00",
          "2022-04-07T14:00:00",
          "2022-04-07T14:00:00",
          "2022-04-07T14:00:00",
          "2022-04-07T14:00:00",
          "2022-04-07T14:00:00",
          "2022-04-07T14:00:00",
          "2022-04-07T14:00:00",
          "2022-04-07T14:00:00",
          "2022-04-07T14:00:00",
          "2022-04-07T14:00:00",
          "2022-04-07T14:00:00",
          "2022-04-07T14:00:00",
          "2022-04-07T14:00:00",
          "2022-04-07T14:00:00",
          "2022-04-07T14:00:00",
          "2022-04-07T14:00:00",
          "2022-04-07T14:00:00",
          "2022-04-07T14:00:00",
          "2022-04-07T14:00:00",
          "2022-04-07T14:00:00",
          "2022-04-07T14:00:00",
          "2022-04-07T14:00:00",
          "2022-04-07T14:00:00",
          "2022-04-07T14:00:00",
          "2022-04-07T15:00:00",
          "2022-04-07T15:00:00",
          "2022-04-07T15:00:00",
          "2022-04-07T15:00:00",
          "2022-04-07T15:00:00",
          "2022-04-07T15:00:00",
          "2022-04-07T15:00:00",
          "2022-04-07T15:00:00",
          "2022-04-07T15:00:00",
          "2022-04-07T15:00:00",
          "2022-04-07T15:00:00",
          "2022-04-07T15:00:00",
          "2022-04-07T15:00:00",
          "2022-04-07T15:00:00",
          "2022-04-07T15:00:00",
          "2022-04-07T15:00:00",
          "2022-04-07T15:00:00",
          "2022-04-07T15:00:00",
          "2022-04-07T15:00:00",
          "2022-04-07T15:00:00",
          "2022-04-07T15:00:00",
          "2022-04-07T15:00:00",
          "2022-04-07T15:00:00",
          "2022-04-07T15:00:00",
          "2022-04-07T15:00:00",
          "2022-04-07T15:00:00",
          "2022-04-07T15:00:00",
          "2022-04-07T15:00:00",
          "2022-04-07T15:00:00",
          "2022-04-07T15:00:00",
          "2022-04-07T16:00:00",
          "2022-04-07T16:00:00",
          "2022-04-07T16:00:00",
          "2022-04-07T16:00:00",
          "2022-04-07T16:00:00",
          "2022-04-07T16:00:00",
          "2022-04-07T16:00:00",
          "2022-04-07T16:00:00",
          "2022-04-07T16:00:00",
          "2022-04-07T16:00:00",
          "2022-04-07T16:00:00",
          "2022-04-07T16:00:00",
          "2022-04-07T16:00:00",
          "2022-04-07T16:00:00",
          "2022-04-07T16:00:00",
          "2022-04-07T16:00:00",
          "2022-04-07T16:00:00",
          "2022-04-07T16:00:00",
          "2022-04-07T16:00:00",
          "2022-04-07T16:00:00",
          "2022-04-07T16:00:00",
          "2022-04-07T16:00:00",
          "2022-04-07T16:00:00",
          "2022-04-07T16:00:00",
          "2022-04-07T16:00:00",
          "2022-04-07T16:00:00",
          "2022-04-07T16:00:00",
          "2022-04-07T16:00:00",
          "2022-04-07T16:00:00",
          "2022-04-07T16:00:00",
          "2022-04-08T10:00:00",
          "2022-04-08T10:00:00",
          "2022-04-08T10:00:00",
          "2022-04-08T10:00:00",
          "2022-04-08T10:00:00",
          "2022-04-08T10:00:00",
          "2022-04-08T10:00:00",
          "2022-04-08T10:00:00",
          "2022-04-08T10:00:00",
          "2022-04-08T10:00:00",
          "2022-04-08T10:00:00",
          "2022-04-08T10:00:00",
          "2022-04-08T11:00:00",
          "2022-04-08T11:00:00",
          "2022-04-08T11:00:00",
          "2022-04-08T11:00:00",
          "2022-04-08T11:00:00",
          "2022-04-08T11:00:00",
          "2022-04-08T11:00:00",
          "2022-04-08T11:00:00",
          "2022-04-08T11:00:00",
          "2022-04-08T11:00:00",
          "2022-04-08T11:00:00",
          "2022-04-08T11:00:00",
          "2022-04-08T12:00:00",
          "2022-04-08T12:00:00",
          "2022-04-08T12:00:00",
          "2022-04-08T12:00:00",
          "2022-04-08T12:00:00",
          "2022-04-08T12:00:00",
          "2022-04-08T12:00:00",
          "2022-04-08T12:00:00",
          "2022-04-08T12:00:00",
          "2022-04-08T12:00:00",
          "2022-04-08T12:00:00",
          "2022-04-08T12:00:00",
          "2022-04-08T12:00:00",
          "2022-04-08T12:00:00",
          "2022-04-08T13:00:00",
          "2022-04-08T13:00:00",
          "2022-04-08T13:00:00",
          "2022-04-08T13:00:00",
          "2022-04-08T13:00:00",
          "2022-04-08T13:00:00",
          "2022-04-08T13:00:00",
          "2022-04-08T13:00:00",
          "2022-04-08T13:00:00",
          "2022-04-08T13:00:00",
          "2022-04-08T13:00:00",
          "2022-04-08T13:00:00",
          "2022-04-08T13:00:00",
          "2022-04-08T13:00:00",
          "2022-04-08T14:00:00",
          "2022-04-08T14:00:00",
          "2022-04-08T14:00:00",
          "2022-04-08T14:00:00",
          "2022-04-08T14:00:00",
          "2022-04-08T14:00:00",
          "2022-04-08T14:00:00",
          "2022-04-08T14:00:00",
          "2022-04-08T14:00:00",
          "2022-04-08T14:00:00",
          "2022-04-08T14:00:00",
          "2022-04-08T14:00:00",
          "2022-04-08T14:00:00",
          "2022-04-08T14:00:00",
          "2022-04-08T14:00:00",
          "2022-04-08T14:00:00",
          "2022-04-08T15:00:00",
          "2022-04-08T15:00:00",
          "2022-04-08T15:00:00",
          "2022-04-08T15:00:00",
          "2022-04-08T15:00:00",
          "2022-04-08T15:00:00",
          "2022-04-08T15:00:00",
          "2022-04-08T15:00:00",
          "2022-04-08T15:00:00",
          "2022-04-08T15:00:00",
          "2022-04-08T15:00:00",
          "2022-04-08T15:00:00",
          "2022-04-08T15:00:00",
          "2022-04-08T15:00:00",
          "2022-04-08T15:00:00",
          "2022-04-08T15:00:00",
          "2022-04-08T16:00:00",
          "2022-04-08T16:00:00",
          "2022-04-08T16:00:00",
          "2022-04-08T16:00:00",
          "2022-04-08T16:00:00",
          "2022-04-08T16:00:00",
          "2022-04-08T16:00:00",
          "2022-04-08T16:00:00",
          "2022-04-08T16:00:00",
          "2022-04-08T16:00:00",
          "2022-04-08T16:00:00",
          "2022-04-08T16:00:00",
          "2022-04-08T16:00:00",
          "2022-04-08T16:00:00",
          "2022-04-08T16:00:00",
          "2022-04-08T16:00:00",
          "2022-04-11T10:00:00",
          "2022-04-11T10:00:00",
          "2022-04-11T10:00:00",
          "2022-04-11T10:00:00",
          "2022-04-11T10:00:00",
          "2022-04-11T10:00:00",
          "2022-04-11T10:00:00",
          "2022-04-11T10:00:00",
          "2022-04-11T10:00:00",
          "2022-04-11T10:00:00",
          "2022-04-11T10:00:00",
          "2022-04-11T10:00:00",
          "2022-04-11T11:00:00",
          "2022-04-11T11:00:00",
          "2022-04-11T11:00:00",
          "2022-04-11T11:00:00",
          "2022-04-11T11:00:00",
          "2022-04-11T11:00:00",
          "2022-04-11T11:00:00",
          "2022-04-11T11:00:00",
          "2022-04-11T11:00:00",
          "2022-04-11T11:00:00",
          "2022-04-11T11:00:00",
          "2022-04-11T11:00:00",
          "2022-04-11T11:00:00",
          "2022-04-11T11:00:00",
          "2022-04-11T12:00:00",
          "2022-04-11T12:00:00",
          "2022-04-11T12:00:00",
          "2022-04-11T12:00:00",
          "2022-04-11T12:00:00",
          "2022-04-11T12:00:00",
          "2022-04-11T12:00:00",
          "2022-04-11T12:00:00",
          "2022-04-11T12:00:00",
          "2022-04-11T12:00:00",
          "2022-04-11T12:00:00",
          "2022-04-11T12:00:00",
          "2022-04-11T12:00:00",
          "2022-04-11T12:00:00",
          "2022-04-11T12:00:00",
          "2022-04-11T12:00:00",
          "2022-04-11T13:00:00",
          "2022-04-11T13:00:00",
          "2022-04-11T13:00:00",
          "2022-04-11T13:00:00",
          "2022-04-11T13:00:00",
          "2022-04-11T13:00:00",
          "2022-04-11T13:00:00",
          "2022-04-11T13:00:00",
          "2022-04-11T13:00:00",
          "2022-04-11T13:00:00",
          "2022-04-11T13:00:00",
          "2022-04-11T13:00:00",
          "2022-04-11T13:00:00",
          "2022-04-11T13:00:00",
          "2022-04-11T13:00:00",
          "2022-04-11T13:00:00",
          "2022-04-11T14:00:00",
          "2022-04-11T14:00:00",
          "2022-04-11T14:00:00",
          "2022-04-11T14:00:00",
          "2022-04-11T14:00:00",
          "2022-04-11T14:00:00",
          "2022-04-11T14:00:00",
          "2022-04-11T14:00:00",
          "2022-04-11T14:00:00",
          "2022-04-11T14:00:00",
          "2022-04-11T14:00:00",
          "2022-04-11T14:00:00",
          "2022-04-11T14:00:00",
          "2022-04-11T14:00:00",
          "2022-04-11T14:00:00",
          "2022-04-11T14:00:00",
          "2022-04-11T15:00:00",
          "2022-04-11T15:00:00",
          "2022-04-11T15:00:00",
          "2022-04-11T15:00:00",
          "2022-04-11T15:00:00",
          "2022-04-11T15:00:00",
          "2022-04-11T15:00:00",
          "2022-04-11T15:00:00",
          "2022-04-11T15:00:00",
          "2022-04-11T15:00:00",
          "2022-04-11T15:00:00",
          "2022-04-11T15:00:00",
          "2022-04-11T15:00:00",
          "2022-04-11T15:00:00",
          "2022-04-11T15:00:00",
          "2022-04-11T15:00:00",
          "2022-04-11T16:00:00",
          "2022-04-11T16:00:00",
          "2022-04-11T16:00:00",
          "2022-04-11T16:00:00",
          "2022-04-11T16:00:00",
          "2022-04-11T16:00:00",
          "2022-04-11T16:00:00",
          "2022-04-11T16:00:00",
          "2022-04-11T16:00:00",
          "2022-04-11T16:00:00",
          "2022-04-11T16:00:00",
          "2022-04-11T16:00:00",
          "2022-04-11T16:00:00",
          "2022-04-11T16:00:00",
          "2022-04-11T16:00:00",
          "2022-04-11T16:00:00",
          "2022-04-11T16:00:00",
          "2022-04-11T16:00:00",
          "2022-04-12T10:00:00",
          "2022-04-12T10:00:00",
          "2022-04-12T10:00:00",
          "2022-04-12T10:00:00",
          "2022-04-12T10:00:00",
          "2022-04-12T10:00:00",
          "2022-04-12T10:00:00",
          "2022-04-12T10:00:00",
          "2022-04-12T10:00:00",
          "2022-04-12T10:00:00",
          "2022-04-12T10:00:00",
          "2022-04-12T10:00:00",
          "2022-04-12T11:00:00",
          "2022-04-12T11:00:00",
          "2022-04-12T11:00:00",
          "2022-04-12T11:00:00",
          "2022-04-12T11:00:00",
          "2022-04-12T11:00:00",
          "2022-04-12T11:00:00",
          "2022-04-12T11:00:00",
          "2022-04-12T11:00:00",
          "2022-04-12T11:00:00",
          "2022-04-12T11:00:00",
          "2022-04-12T11:00:00",
          "2022-04-12T11:00:00",
          "2022-04-12T11:00:00",
          "2022-04-12T11:00:00",
          "2022-04-12T11:00:00",
          "2022-04-12T11:00:00",
          "2022-04-12T11:00:00",
          "2022-04-12T11:00:00",
          "2022-04-12T11:00:00",
          "2022-04-12T12:00:00",
          "2022-04-12T12:00:00",
          "2022-04-12T12:00:00",
          "2022-04-12T12:00:00",
          "2022-04-12T12:00:00",
          "2022-04-12T12:00:00",
          "2022-04-12T12:00:00",
          "2022-04-12T12:00:00",
          "2022-04-12T12:00:00",
          "2022-04-12T12:00:00",
          "2022-04-12T12:00:00",
          "2022-04-12T12:00:00",
          "2022-04-12T12:00:00",
          "2022-04-12T12:00:00",
          "2022-04-12T12:00:00",
          "2022-04-12T12:00:00",
          "2022-04-12T12:00:00",
          "2022-04-12T12:00:00",
          "2022-04-12T12:00:00",
          "2022-04-12T12:00:00",
          "2022-04-12T13:00:00",
          "2022-04-12T13:00:00",
          "2022-04-12T13:00:00",
          "2022-04-12T13:00:00",
          "2022-04-12T13:00:00",
          "2022-04-12T13:00:00",
          "2022-04-12T13:00:00",
          "2022-04-12T13:00:00",
          "2022-04-12T13:00:00",
          "2022-04-12T13:00:00",
          "2022-04-12T13:00:00",
          "2022-04-12T13:00:00",
          "2022-04-12T13:00:00",
          "2022-04-12T13:00:00",
          "2022-04-12T13:00:00",
          "2022-04-12T13:00:00",
          "2022-04-12T13:00:00",
          "2022-04-12T13:00:00",
          "2022-04-12T13:00:00",
          "2022-04-12T13:00:00",
          "2022-04-12T14:00:00",
          "2022-04-12T14:00:00",
          "2022-04-12T14:00:00",
          "2022-04-12T14:00:00",
          "2022-04-12T14:00:00",
          "2022-04-12T14:00:00",
          "2022-04-12T14:00:00",
          "2022-04-12T14:00:00",
          "2022-04-12T14:00:00",
          "2022-04-12T14:00:00",
          "2022-04-12T14:00:00",
          "2022-04-12T14:00:00",
          "2022-04-12T14:00:00",
          "2022-04-12T14:00:00",
          "2022-04-12T14:00:00",
          "2022-04-12T14:00:00",
          "2022-04-12T14:00:00",
          "2022-04-12T14:00:00",
          "2022-04-12T14:00:00",
          "2022-04-12T14:00:00",
          "2022-04-12T14:00:00",
          "2022-04-12T14:00:00",
          "2022-04-12T15:00:00",
          "2022-04-12T15:00:00",
          "2022-04-12T15:00:00",
          "2022-04-12T15:00:00",
          "2022-04-12T15:00:00",
          "2022-04-12T15:00:00",
          "2022-04-12T15:00:00",
          "2022-04-12T15:00:00",
          "2022-04-12T15:00:00",
          "2022-04-12T15:00:00",
          "2022-04-12T15:00:00",
          "2022-04-12T15:00:00",
          "2022-04-12T15:00:00",
          "2022-04-12T15:00:00",
          "2022-04-12T15:00:00",
          "2022-04-12T15:00:00",
          "2022-04-12T15:00:00",
          "2022-04-12T15:00:00",
          "2022-04-12T15:00:00",
          "2022-04-12T15:00:00",
          "2022-04-12T15:00:00",
          "2022-04-12T15:00:00",
          "2022-04-12T15:00:00",
          "2022-04-12T15:00:00",
          "2022-04-12T16:00:00",
          "2022-04-12T16:00:00",
          "2022-04-12T16:00:00",
          "2022-04-12T16:00:00",
          "2022-04-12T16:00:00",
          "2022-04-12T16:00:00",
          "2022-04-12T16:00:00",
          "2022-04-12T16:00:00",
          "2022-04-12T16:00:00",
          "2022-04-12T16:00:00",
          "2022-04-12T16:00:00",
          "2022-04-12T16:00:00",
          "2022-04-12T16:00:00",
          "2022-04-12T16:00:00",
          "2022-04-12T16:00:00",
          "2022-04-12T16:00:00",
          "2022-04-12T16:00:00",
          "2022-04-12T16:00:00",
          "2022-04-12T16:00:00",
          "2022-04-12T16:00:00",
          "2022-04-12T16:00:00",
          "2022-04-12T16:00:00",
          "2022-04-12T16:00:00",
          "2022-04-12T16:00:00"
         ],
         "y": [
          17.35,
          16.95,
          16.55,
          16.14,
          15.73,
          15.32,
          -15.39,
          -15.89,
          -16.36,
          -16.84,
          -17.31,
          -17.76,
          16.88,
          16.48,
          16.07,
          15.66,
          15.25,
          14.85,
          -15.8,
          -16.27,
          -16.76,
          -17.22,
          -17.67,
          -18.16,
          17.28,
          -15.3,
          17.19,
          16.79,
          16.38,
          15.98,
          15.57,
          15.16,
          14.75,
          -15.39,
          -15.88,
          -16.34,
          -16.84,
          -17.29,
          -17.74,
          -18.23,
          16.3,
          15.89,
          15.48,
          15.07,
          14.67,
          14.26,
          13.85,
          -16.14,
          -16.62,
          -17.08,
          -17.53,
          -18.02,
          -18.46,
          -18.91,
          17.1,
          16.7,
          -15.17,
          -15.66,
          18.76,
          18.37,
          17.97,
          17.57,
          17.17,
          16.77,
          16.36,
          15.95,
          15.55,
          -13.76,
          -14.25,
          -14.74,
          -15.21,
          -15.71,
          -16.17,
          -16.64,
          -17.13,
          -17.59,
          15.14,
          -18.06,
          19.35,
          18.97,
          18.58,
          18.19,
          17.79,
          17.39,
          16.98,
          16.58,
          16.17,
          15.76,
          -13.26,
          -13.73,
          -14.2,
          -14.7,
          -15.18,
          -15.66,
          -16.15,
          -16.61,
          -17.11,
          -17.56,
          15.35,
          -18.01,
          18.36,
          17.97,
          17.57,
          17.17,
          16.76,
          16.36,
          15.95,
          15.54,
          15.13,
          14.73,
          14.32,
          -14.1,
          -14.6,
          -15.07,
          -15.56,
          -16.03,
          -16.5,
          -17,
          -17.46,
          -17.92,
          -18.39,
          -18.84,
          16.33,
          15.91,
          15.49,
          -14.43,
          -14.9,
          -15.38,
          15.07,
          14.65,
          14.23,
          -15.86,
          -16.33,
          -16.79,
          14.44,
          14.02,
          13.18,
          12.76,
          12.35,
          -15.98,
          -16.44,
          -17.35,
          -17.79,
          -18.23,
          16.12,
          15.71,
          15.29,
          14.87,
          -14.06,
          -14.55,
          -15.02,
          -15.5,
          14.25,
          13.83,
          13.41,
          12.99,
          11.34,
          10.93,
          10.53,
          -15.61,
          -16.07,
          -16.54,
          -16.98,
          -18.71,
          -19.11,
          -19.51,
          15.93,
          15.51,
          15.09,
          14.67,
          -13.7,
          -14.18,
          -14.65,
          -15.14,
          15.32,
          14.9,
          14.48,
          14.06,
          13.64,
          13.22,
          12.8,
          12.38,
          10.75,
          10.35,
          9.96,
          -14.21,
          -14.68,
          -15.16,
          -15.63,
          -16.1,
          -16.56,
          -17,
          -17.45,
          -19.11,
          -19.51,
          -19.87,
          15.74,
          -13.72,
          17.68,
          17.28,
          16.88,
          16.47,
          16.06,
          15.64,
          15.22,
          14.8,
          14.38,
          12.7,
          12.28,
          11.87,
          -12.06,
          -12.54,
          -13.03,
          -13.51,
          -13.99,
          -14.48,
          -14.94,
          -15.43,
          -15.9,
          -17.72,
          -18.15,
          -18.57,
          13.96,
          -16.36,
          18.68,
          18.3,
          17.91,
          17.51,
          17.1,
          16.69,
          16.28,
          15.86,
          15.44,
          15.02,
          13.76,
          13.34,
          12.92,
          -11.19,
          -11.65,
          -12.14,
          -12.62,
          -13.11,
          -13.59,
          -14.06,
          -14.55,
          -15.02,
          -15.51,
          -16.91,
          -17.34,
          -17.81,
          14.6,
          14.18,
          -15.98,
          -16.43,
          18.62,
          18.23,
          17.84,
          17.44,
          17.04,
          16.63,
          16.21,
          15.79,
          15.38,
          14.96,
          14.53,
          14.11,
          13.69,
          13.27,
          12.85,
          -11.23,
          -11.71,
          -12.19,
          -12.67,
          -13.16,
          -13.64,
          -14.12,
          -14.61,
          -15.08,
          -15.56,
          -16.03,
          -16.49,
          -16.96,
          -17.4,
          -17.85,
          14.42,
          14.02,
          13.62,
          13.21,
          12.8,
          12.4,
          -12.51,
          -12.97,
          -13.42,
          -13.88,
          -14.32,
          -14.77,
          14.44,
          14.04,
          13.63,
          13.23,
          12.82,
          -12.62,
          -13.08,
          -13.52,
          -13.98,
          -14.42,
          12.41,
          -14.87,
          14.17,
          13.77,
          13.36,
          12.96,
          12.55,
          12.14,
          -12.84,
          -13.29,
          -13.75,
          -14.2,
          -14.64,
          -15.08,
          14.57,
          -12.38,
          15.49,
          14.7,
          14.3,
          13.89,
          13.49,
          13.08,
          -11.6,
          -12.52,
          -12.98,
          -13.43,
          -13.89,
          -14.34,
          12.68,
          -14.78,
          14.49,
          13.69,
          13.28,
          12.88,
          12.47,
          12.06,
          11.66,
          -12.45,
          -13.36,
          -13.82,
          -14.26,
          -14.71,
          -15.15,
          -15.57,
          14.09,
          -12.91,
          14.8,
          14.4,
          14,
          13.59,
          13.19,
          12.78,
          12.37,
          11.97,
          -12.19,
          -12.65,
          -13.11,
          -13.56,
          -14.02,
          -14.46,
          -14.9,
          -15.33,
          13.87,
          13.46,
          13.06,
          12.65,
          12.24,
          11.44,
          11.03,
          -12.98,
          -13.43,
          -13.89,
          -14.33,
          -14.77,
          -15.63,
          -16.05,
          14.27,
          -12.52,
          10.08,
          9.74,
          9.38,
          9.03,
          8.68,
          8.32,
          -8.11,
          -8.49,
          -8.87,
          -9.25,
          -9.62,
          -9.99,
          9.55,
          9.19,
          8.84,
          8.49,
          8.13,
          7.78,
          -8.58,
          -8.95,
          -9.33,
          -9.7,
          -10.07,
          -10.41,
          9.89,
          -8.19,
          9.78,
          9.43,
          9.08,
          8.73,
          8.37,
          8.02,
          7.67,
          -8.29,
          -8.67,
          -9.04,
          -9.42,
          -9.78,
          -10.15,
          -10.5,
          10.13,
          -7.91,
          10.16,
          9.81,
          9.46,
          9.11,
          8.76,
          8.4,
          8.05,
          7.7,
          -7.88,
          -8.26,
          -8.64,
          -9.02,
          -9.4,
          -9.76,
          -10.12,
          -10.47,
          10.42,
          10.07,
          9.73,
          9.38,
          9.02,
          8.67,
          8.32,
          7.96,
          -7.65,
          -8.03,
          -8.41,
          -8.8,
          -9.17,
          -9.55,
          -9.91,
          -10.28,
          10.35,
          10.01,
          9.66,
          9.31,
          8.95,
          8.6,
          8.25,
          7.9,
          -7.71,
          -8.09,
          -8.47,
          -8.85,
          -9.23,
          -9.6,
          -9.98,
          -10.33,
          9.43,
          9.08,
          8.73,
          8.37,
          8.02,
          7.67,
          7.32,
          6.98,
          -8.51,
          -8.87,
          -9.26,
          -9.62,
          -9.99,
          -10.34,
          -10.68,
          -11.01,
          9.78,
          -8.12,
          8.95,
          -7.06,
          8.61,
          8.27,
          7.93,
          7.59,
          7.25,
          -7.43,
          -7.79,
          -8.15,
          -8.5,
          -8.84,
          7.38,
          7.04,
          6.7,
          6.37,
          6.04,
          5.71,
          -8.37,
          -8.72,
          -9.05,
          -9.38,
          -9.7,
          -10,
          8.75,
          8.41,
          8.07,
          7.73,
          -6.94,
          -7.31,
          -7.67,
          -8.03,
          8.87,
          8.53,
          8.19,
          7.85,
          7.51,
          7.17,
          6.83,
          6.49,
          6.16,
          5.83,
          -6.84,
          -7.19,
          -7.56,
          -7.92,
          -8.27,
          -8.62,
          -8.96,
          -9.29,
          -9.59,
          -9.91,
          8.8,
          8.46,
          8.12,
          7.78,
          7.44,
          7.1,
          6.76,
          6.42,
          6.09,
          5.76,
          -6.9,
          -7.26,
          -7.62,
          -7.98,
          -8.33,
          -8.68,
          -9,
          -9.34,
          -9.66,
          -9.96,
          8.24,
          7.9,
          7.56,
          7.22,
          6.88,
          6.54,
          6.2,
          5.87,
          5.55,
          5.24,
          -7.38,
          -7.73,
          -8.09,
          -8.44,
          -8.78,
          -9.12,
          -9.44,
          -9.74,
          -10.03,
          -10.32,
          8.58,
          -7.02,
          8.07,
          7.73,
          7.39,
          7.05,
          6.71,
          6.04,
          5.71,
          5.39,
          5.08,
          4.77,
          -7.44,
          -7.81,
          -8.16,
          -8.51,
          -8.84,
          -9.48,
          -9.79,
          -10.09,
          -10.37,
          -10.63,
          8.75,
          8.41,
          -6.72,
          -7.08,
          8.99,
          8.66,
          8.32,
          7.98,
          7.64,
          7.29,
          6.95,
          6.28,
          5.95,
          5.62,
          5.31,
          5,
          -6.5,
          -6.87,
          -7.24,
          -7.6,
          -7.96,
          -8.3,
          -8.65,
          -9.31,
          -9.63,
          -9.93,
          -10.21,
          -10.47
         ]
        }
       ],
       "layout": {
        "autosize": true,
        "template": {
         "data": {
          "bar": [
           {
            "error_x": {
             "color": "#2a3f5f"
            },
            "error_y": {
             "color": "#2a3f5f"
            },
            "marker": {
             "line": {
              "color": "#E5ECF6",
              "width": 0.5
             },
             "pattern": {
              "fillmode": "overlay",
              "size": 10,
              "solidity": 0.2
             }
            },
            "type": "bar"
           }
          ],
          "barpolar": [
           {
            "marker": {
             "line": {
              "color": "#E5ECF6",
              "width": 0.5
             },
             "pattern": {
              "fillmode": "overlay",
              "size": 10,
              "solidity": 0.2
             }
            },
            "type": "barpolar"
           }
          ],
          "carpet": [
           {
            "aaxis": {
             "endlinecolor": "#2a3f5f",
             "gridcolor": "white",
             "linecolor": "white",
             "minorgridcolor": "white",
             "startlinecolor": "#2a3f5f"
            },
            "baxis": {
             "endlinecolor": "#2a3f5f",
             "gridcolor": "white",
             "linecolor": "white",
             "minorgridcolor": "white",
             "startlinecolor": "#2a3f5f"
            },
            "type": "carpet"
           }
          ],
          "choropleth": [
           {
            "colorbar": {
             "outlinewidth": 0,
             "ticks": ""
            },
            "type": "choropleth"
           }
          ],
          "contour": [
           {
            "colorbar": {
             "outlinewidth": 0,
             "ticks": ""
            },
            "colorscale": [
             [
              0,
              "#0d0887"
             ],
             [
              0.1111111111111111,
              "#46039f"
             ],
             [
              0.2222222222222222,
              "#7201a8"
             ],
             [
              0.3333333333333333,
              "#9c179e"
             ],
             [
              0.4444444444444444,
              "#bd3786"
             ],
             [
              0.5555555555555556,
              "#d8576b"
             ],
             [
              0.6666666666666666,
              "#ed7953"
             ],
             [
              0.7777777777777778,
              "#fb9f3a"
             ],
             [
              0.8888888888888888,
              "#fdca26"
             ],
             [
              1,
              "#f0f921"
             ]
            ],
            "type": "contour"
           }
          ],
          "contourcarpet": [
           {
            "colorbar": {
             "outlinewidth": 0,
             "ticks": ""
            },
            "type": "contourcarpet"
           }
          ],
          "heatmap": [
           {
            "colorbar": {
             "outlinewidth": 0,
             "ticks": ""
            },
            "colorscale": [
             [
              0,
              "#0d0887"
             ],
             [
              0.1111111111111111,
              "#46039f"
             ],
             [
              0.2222222222222222,
              "#7201a8"
             ],
             [
              0.3333333333333333,
              "#9c179e"
             ],
             [
              0.4444444444444444,
              "#bd3786"
             ],
             [
              0.5555555555555556,
              "#d8576b"
             ],
             [
              0.6666666666666666,
              "#ed7953"
             ],
             [
              0.7777777777777778,
              "#fb9f3a"
             ],
             [
              0.8888888888888888,
              "#fdca26"
             ],
             [
              1,
              "#f0f921"
             ]
            ],
            "type": "heatmap"
           }
          ],
          "heatmapgl": [
           {
            "colorbar": {
             "outlinewidth": 0,
             "ticks": ""
            },
            "colorscale": [
             [
              0,
              "#0d0887"
             ],
             [
              0.1111111111111111,
              "#46039f"
             ],
             [
              0.2222222222222222,
              "#7201a8"
             ],
             [
              0.3333333333333333,
              "#9c179e"
             ],
             [
              0.4444444444444444,
              "#bd3786"
             ],
             [
              0.5555555555555556,
              "#d8576b"
             ],
             [
              0.6666666666666666,
              "#ed7953"
             ],
             [
              0.7777777777777778,
              "#fb9f3a"
             ],
             [
              0.8888888888888888,
              "#fdca26"
             ],
             [
              1,
              "#f0f921"
             ]
            ],
            "type": "heatmapgl"
           }
          ],
          "histogram": [
           {
            "marker": {
             "pattern": {
              "fillmode": "overlay",
              "size": 10,
              "solidity": 0.2
             }
            },
            "type": "histogram"
           }
          ],
          "histogram2d": [
           {
            "colorbar": {
             "outlinewidth": 0,
             "ticks": ""
            },
            "colorscale": [
             [
              0,
              "#0d0887"
             ],
             [
              0.1111111111111111,
              "#46039f"
             ],
             [
              0.2222222222222222,
              "#7201a8"
             ],
             [
              0.3333333333333333,
              "#9c179e"
             ],
             [
              0.4444444444444444,
              "#bd3786"
             ],
             [
              0.5555555555555556,
              "#d8576b"
             ],
             [
              0.6666666666666666,
              "#ed7953"
             ],
             [
              0.7777777777777778,
              "#fb9f3a"
             ],
             [
              0.8888888888888888,
              "#fdca26"
             ],
             [
              1,
              "#f0f921"
             ]
            ],
            "type": "histogram2d"
           }
          ],
          "histogram2dcontour": [
           {
            "colorbar": {
             "outlinewidth": 0,
             "ticks": ""
            },
            "colorscale": [
             [
              0,
              "#0d0887"
             ],
             [
              0.1111111111111111,
              "#46039f"
             ],
             [
              0.2222222222222222,
              "#7201a8"
             ],
             [
              0.3333333333333333,
              "#9c179e"
             ],
             [
              0.4444444444444444,
              "#bd3786"
             ],
             [
              0.5555555555555556,
              "#d8576b"
             ],
             [
              0.6666666666666666,
              "#ed7953"
             ],
             [
              0.7777777777777778,
              "#fb9f3a"
             ],
             [
              0.8888888888888888,
              "#fdca26"
             ],
             [
              1,
              "#f0f921"
             ]
            ],
            "type": "histogram2dcontour"
           }
          ],
          "mesh3d": [
           {
            "colorbar": {
             "outlinewidth": 0,
             "ticks": ""
            },
            "type": "mesh3d"
           }
          ],
          "parcoords": [
           {
            "line": {
             "colorbar": {
              "outlinewidth": 0,
              "ticks": ""
             }
            },
            "type": "parcoords"
           }
          ],
          "pie": [
           {
            "automargin": true,
            "type": "pie"
           }
          ],
          "scatter": [
           {
            "marker": {
             "colorbar": {
              "outlinewidth": 0,
              "ticks": ""
             }
            },
            "type": "scatter"
           }
          ],
          "scatter3d": [
           {
            "line": {
             "colorbar": {
              "outlinewidth": 0,
              "ticks": ""
             }
            },
            "marker": {
             "colorbar": {
              "outlinewidth": 0,
              "ticks": ""
             }
            },
            "type": "scatter3d"
           }
          ],
          "scattercarpet": [
           {
            "marker": {
             "colorbar": {
              "outlinewidth": 0,
              "ticks": ""
             }
            },
            "type": "scattercarpet"
           }
          ],
          "scattergeo": [
           {
            "marker": {
             "colorbar": {
              "outlinewidth": 0,
              "ticks": ""
             }
            },
            "type": "scattergeo"
           }
          ],
          "scattergl": [
           {
            "marker": {
             "colorbar": {
              "outlinewidth": 0,
              "ticks": ""
             }
            },
            "type": "scattergl"
           }
          ],
          "scattermapbox": [
           {
            "marker": {
             "colorbar": {
              "outlinewidth": 0,
              "ticks": ""
             }
            },
            "type": "scattermapbox"
           }
          ],
          "scatterpolar": [
           {
            "marker": {
             "colorbar": {
              "outlinewidth": 0,
              "ticks": ""
             }
            },
            "type": "scatterpolar"
           }
          ],
          "scatterpolargl": [
           {
            "marker": {
             "colorbar": {
              "outlinewidth": 0,
              "ticks": ""
             }
            },
            "type": "scatterpolargl"
           }
          ],
          "scatterternary": [
           {
            "marker": {
             "colorbar": {
              "outlinewidth": 0,
              "ticks": ""
             }
            },
            "type": "scatterternary"
           }
          ],
          "surface": [
           {
            "colorbar": {
             "outlinewidth": 0,
             "ticks": ""
            },
            "colorscale": [
             [
              0,
              "#0d0887"
             ],
             [
              0.1111111111111111,
              "#46039f"
             ],
             [
              0.2222222222222222,
              "#7201a8"
             ],
             [
              0.3333333333333333,
              "#9c179e"
             ],
             [
              0.4444444444444444,
              "#bd3786"
             ],
             [
              0.5555555555555556,
              "#d8576b"
             ],
             [
              0.6666666666666666,
              "#ed7953"
             ],
             [
              0.7777777777777778,
              "#fb9f3a"
             ],
             [
              0.8888888888888888,
              "#fdca26"
             ],
             [
              1,
              "#f0f921"
             ]
            ],
            "type": "surface"
           }
          ],
          "table": [
           {
            "cells": {
             "fill": {
              "color": "#EBF0F8"
             },
             "line": {
              "color": "white"
             }
            },
            "header": {
             "fill": {
              "color": "#C8D4E3"
             },
             "line": {
              "color": "white"
             }
            },
            "type": "table"
           }
          ]
         },
         "layout": {
          "annotationdefaults": {
           "arrowcolor": "#2a3f5f",
           "arrowhead": 0,
           "arrowwidth": 1
          },
          "autotypenumbers": "strict",
          "coloraxis": {
           "colorbar": {
            "outlinewidth": 0,
            "ticks": ""
           }
          },
          "colorscale": {
           "diverging": [
            [
             0,
             "#8e0152"
            ],
            [
             0.1,
             "#c51b7d"
            ],
            [
             0.2,
             "#de77ae"
            ],
            [
             0.3,
             "#f1b6da"
            ],
            [
             0.4,
             "#fde0ef"
            ],
            [
             0.5,
             "#f7f7f7"
            ],
            [
             0.6,
             "#e6f5d0"
            ],
            [
             0.7,
             "#b8e186"
            ],
            [
             0.8,
             "#7fbc41"
            ],
            [
             0.9,
             "#4d9221"
            ],
            [
             1,
             "#276419"
            ]
           ],
           "sequential": [
            [
             0,
             "#0d0887"
            ],
            [
             0.1111111111111111,
             "#46039f"
            ],
            [
             0.2222222222222222,
             "#7201a8"
            ],
            [
             0.3333333333333333,
             "#9c179e"
            ],
            [
             0.4444444444444444,
             "#bd3786"
            ],
            [
             0.5555555555555556,
             "#d8576b"
            ],
            [
             0.6666666666666666,
             "#ed7953"
            ],
            [
             0.7777777777777778,
             "#fb9f3a"
            ],
            [
             0.8888888888888888,
             "#fdca26"
            ],
            [
             1,
             "#f0f921"
            ]
           ],
           "sequentialminus": [
            [
             0,
             "#0d0887"
            ],
            [
             0.1111111111111111,
             "#46039f"
            ],
            [
             0.2222222222222222,
             "#7201a8"
            ],
            [
             0.3333333333333333,
             "#9c179e"
            ],
            [
             0.4444444444444444,
             "#bd3786"
            ],
            [
             0.5555555555555556,
             "#d8576b"
            ],
            [
             0.6666666666666666,
             "#ed7953"
            ],
            [
             0.7777777777777778,
             "#fb9f3a"
            ],
            [
             0.8888888888888888,
             "#fdca26"
            ],
            [
             1,
             "#f0f921"
            ]
           ]
          },
          "colorway": [
           "#636efa",
           "#EF553B",
           "#00cc96",
           "#ab63fa",
           "#FFA15A",
           "#19d3f3",
           "#FF6692",
           "#B6E880",
           "#FF97FF",
           "#FECB52"
          ],
          "font": {
           "color": "#2a3f5f"
          },
          "geo": {
           "bgcolor": "white",
           "lakecolor": "white",
           "landcolor": "#E5ECF6",
           "showlakes": true,
           "showland": true,
           "subunitcolor": "white"
          },
          "hoverlabel": {
           "align": "left"
          },
          "hovermode": "closest",
          "mapbox": {
           "style": "light"
          },
          "paper_bgcolor": "white",
          "plot_bgcolor": "#E5ECF6",
          "polar": {
           "angularaxis": {
            "gridcolor": "white",
            "linecolor": "white",
            "ticks": ""
           },
           "bgcolor": "#E5ECF6",
           "radialaxis": {
            "gridcolor": "white",
            "linecolor": "white",
            "ticks": ""
           }
          },
          "scene": {
           "xaxis": {
            "backgroundcolor": "#E5ECF6",
            "gridcolor": "white",
            "gridwidth": 2,
            "linecolor": "white",
            "showbackground": true,
            "ticks": "",
            "zerolinecolor": "white"
           },
           "yaxis": {
            "backgroundcolor": "#E5ECF6",
            "gridcolor": "white",
            "gridwidth": 2,
            "linecolor": "white",
            "showbackground": true,
            "ticks": "",
            "zerolinecolor": "white"
           },
           "zaxis": {
            "backgroundcolor": "#E5ECF6",
            "gridcolor": "white",
            "gridwidth": 2,
            "linecolor": "white",
            "showbackground": true,
            "ticks": "",
            "zerolinecolor": "white"
           }
          },
          "shapedefaults": {
           "line": {
            "color": "#2a3f5f"
           }
          },
          "ternary": {
           "aaxis": {
            "gridcolor": "white",
            "linecolor": "white",
            "ticks": ""
           },
           "baxis": {
            "gridcolor": "white",
            "linecolor": "white",
            "ticks": ""
           },
           "bgcolor": "#E5ECF6",
           "caxis": {
            "gridcolor": "white",
            "linecolor": "white",
            "ticks": ""
           }
          },
          "title": {
           "x": 0.05
          },
          "xaxis": {
           "automargin": true,
           "gridcolor": "white",
           "linecolor": "white",
           "ticks": "",
           "title": {
            "standoff": 15
           },
           "zerolinecolor": "white",
           "zerolinewidth": 2
          },
          "yaxis": {
           "automargin": true,
           "gridcolor": "white",
           "linecolor": "white",
           "ticks": "",
           "title": {
            "standoff": 15
           },
           "zerolinecolor": "white",
           "zerolinewidth": 2
          }
         }
        },
        "title": {
         "text": "Stock Analysis"
        },
        "xaxis": {
         "autorange": true,
         "range": [
          "2022-04-06 10:00",
          "2022-04-12 16:00"
         ],
         "rangebreaks": [
          {
           "bounds": [
            "sat",
            "mon"
           ]
          },
          {
           "bounds": [
            16.1,
            9.5
           ],
           "pattern": "hour"
          }
         ],
         "rangeslider": {
          "visible": false,
          "yaxis": {}
         },
         "type": "date"
        },
        "yaxis": {
         "autorange": true,
         "range": [
          -22.04888888888889,
          21.52888888888889
         ],
         "title": {
          "text": "TSLA Stock"
         },
         "type": "linear"
        }
       }
      },
      "image/png": "[encoded data removed]",
      "text/html": [
       "<div>                            <div id=\"ea3151b5-3290-4beb-9869-2d4974c47377\" class=\"plotly-graph-div\" style=\"height:525px; width:100%;\"></div>            <script type=\"text/javascript\">                require([\"plotly\"], function(Plotly) {                    window.PLOTLYENV=window.PLOTLYENV || {};                                    if (document.getElementById(\"ea3151b5-3290-4beb-9869-2d4974c47377\")) {                    Plotly.newPlot(                        \"ea3151b5-3290-4beb-9869-2d4974c47377\",                        [{\"x\":[\"2022-04-06T10:00:00\",\"2022-04-06T10:00:00\",\"2022-04-06T10:00:00\",\"2022-04-06T10:00:00\",\"2022-04-06T10:00:00\",\"2022-04-06T10:00:00\",\"2022-04-06T10:00:00\",\"2022-04-06T10:00:00\",\"2022-04-06T10:00:00\",\"2022-04-06T10:00:00\",\"2022-04-06T10:00:00\",\"2022-04-06T10:00:00\",\"2022-04-06T11:00:00\",\"2022-04-06T11:00:00\",\"2022-04-06T11:00:00\",\"2022-04-06T11:00:00\",\"2022-04-06T11:00:00\",\"2022-04-06T11:00:00\",\"2022-04-06T11:00:00\",\"2022-04-06T11:00:00\",\"2022-04-06T11:00:00\",\"2022-04-06T11:00:00\",\"2022-04-06T11:00:00\",\"2022-04-06T11:00:00\",\"2022-04-06T11:00:00\",\"2022-04-06T11:00:00\",\"2022-04-06T12:00:00\",\"2022-04-06T12:00:00\",\"2022-04-06T12:00:00\",\"2022-04-06T12:00:00\",\"2022-04-06T12:00:00\",\"2022-04-06T12:00:00\",\"2022-04-06T12:00:00\",\"2022-04-06T12:00:00\",\"2022-04-06T12:00:00\",\"2022-04-06T12:00:00\",\"2022-04-06T12:00:00\",\"2022-04-06T12:00:00\",\"2022-04-06T12:00:00\",\"2022-04-06T12:00:00\",\"2022-04-06T13:00:00\",\"2022-04-06T13:00:00\",\"2022-04-06T13:00:00\",\"2022-04-06T13:00:00\",\"2022-04-06T13:00:00\",\"2022-04-06T13:00:00\",\"2022-04-06T13:00:00\",\"2022-04-06T13:00:00\",\"2022-04-06T13:00:00\",\"2022-04-06T13:00:00\",\"2022-04-06T13:00:00\",\"2022-04-06T13:00:00\",\"2022-04-06T13:00:00\",\"2022-04-06T13:00:00\",\"2022-04-06T13:00:00\",\"2022-04-06T13:00:00\",\"2022-04-06T13:00:00\",\"2022-04-06T13:00:00\",\"2022-04-06T14:00:00\",\"2022-04-06T14:00:00\",\"2022-04-06T14:00:00\",\"2022-04-06T14:00:00\",\"2022-04-06T14:00:00\",\"2022-04-06T14:00:00\",\"2022-04-06T14:00:00\",\"2022-04-06T14:00:00\",\"2022-04-06T14:00:00\",\"2022-04-06T14:00:00\",\"2022-04-06T14:00:00\",\"2022-04-06T14:00:00\",\"2022-04-06T14:00:00\",\"2022-04-06T14:00:00\",\"2022-04-06T14:00:00\",\"2022-04-06T14:00:00\",\"2022-04-06T14:00:00\",\"2022-04-06T14:00:00\",\"2022-04-06T14:00:00\",\"2022-04-06T14:00:00\",\"2022-04-06T15:00:00\",\"2022-04-06T15:00:00\",\"2022-04-06T15:00:00\",\"2022-04-06T15:00:00\",\"2022-04-06T15:00:00\",\"2022-04-06T15:00:00\",\"2022-04-06T15:00:00\",\"2022-04-06T15:00:00\",\"2022-04-06T15:00:00\",\"2022-04-06T15:00:00\",\"2022-04-06T15:00:00\",\"2022-04-06T15:00:00\",\"2022-04-06T15:00:00\",\"2022-04-06T15:00:00\",\"2022-04-06T15:00:00\",\"2022-04-06T15:00:00\",\"2022-04-06T15:00:00\",\"2022-04-06T15:00:00\",\"2022-04-06T15:00:00\",\"2022-04-06T15:00:00\",\"2022-04-06T15:00:00\",\"2022-04-06T15:00:00\",\"2022-04-06T16:00:00\",\"2022-04-06T16:00:00\",\"2022-04-06T16:00:00\",\"2022-04-06T16:00:00\",\"2022-04-06T16:00:00\",\"2022-04-06T16:00:00\",\"2022-04-06T16:00:00\",\"2022-04-06T16:00:00\",\"2022-04-06T16:00:00\",\"2022-04-06T16:00:00\",\"2022-04-06T16:00:00\",\"2022-04-06T16:00:00\",\"2022-04-06T16:00:00\",\"2022-04-06T16:00:00\",\"2022-04-06T16:00:00\",\"2022-04-06T16:00:00\",\"2022-04-06T16:00:00\",\"2022-04-06T16:00:00\",\"2022-04-06T16:00:00\",\"2022-04-06T16:00:00\",\"2022-04-06T16:00:00\",\"2022-04-06T16:00:00\",\"2022-04-07T10:00:00\",\"2022-04-07T10:00:00\",\"2022-04-07T10:00:00\",\"2022-04-07T10:00:00\",\"2022-04-07T10:00:00\",\"2022-04-07T10:00:00\",\"2022-04-07T10:00:00\",\"2022-04-07T10:00:00\",\"2022-04-07T10:00:00\",\"2022-04-07T10:00:00\",\"2022-04-07T10:00:00\",\"2022-04-07T10:00:00\",\"2022-04-07T11:00:00\",\"2022-04-07T11:00:00\",\"2022-04-07T11:00:00\",\"2022-04-07T11:00:00\",\"2022-04-07T11:00:00\",\"2022-04-07T11:00:00\",\"2022-04-07T11:00:00\",\"2022-04-07T11:00:00\",\"2022-04-07T11:00:00\",\"2022-04-07T11:00:00\",\"2022-04-07T11:00:00\",\"2022-04-07T11:00:00\",\"2022-04-07T11:00:00\",\"2022-04-07T11:00:00\",\"2022-04-07T11:00:00\",\"2022-04-07T11:00:00\",\"2022-04-07T11:00:00\",\"2022-04-07T11:00:00\",\"2022-04-07T12:00:00\",\"2022-04-07T12:00:00\",\"2022-04-07T12:00:00\",\"2022-04-07T12:00:00\",\"2022-04-07T12:00:00\",\"2022-04-07T12:00:00\",\"2022-04-07T12:00:00\",\"2022-04-07T12:00:00\",\"2022-04-07T12:00:00\",\"2022-04-07T12:00:00\",\"2022-04-07T12:00:00\",\"2022-04-07T12:00:00\",\"2022-04-07T12:00:00\",\"2022-04-07T12:00:00\",\"2022-04-07T12:00:00\",\"2022-04-07T12:00:00\",\"2022-04-07T12:00:00\",\"2022-04-07T12:00:00\",\"2022-04-07T12:00:00\",\"2022-04-07T12:00:00\",\"2022-04-07T12:00:00\",\"2022-04-07T12:00:00\",\"2022-04-07T13:00:00\",\"2022-04-07T13:00:00\",\"2022-04-07T13:00:00\",\"2022-04-07T13:00:00\",\"2022-04-07T13:00:00\",\"2022-04-07T13:00:00\",\"2022-04-07T13:00:00\",\"2022-04-07T13:00:00\",\"2022-04-07T13:00:00\",\"2022-04-07T13:00:00\",\"2022-04-07T13:00:00\",\"2022-04-07T13:00:00\",\"2022-04-07T13:00:00\",\"2022-04-07T13:00:00\",\"2022-04-07T13:00:00\",\"2022-04-07T13:00:00\",\"2022-04-07T13:00:00\",\"2022-04-07T13:00:00\",\"2022-04-07T13:00:00\",\"2022-04-07T13:00:00\",\"2022-04-07T13:00:00\",\"2022-04-07T13:00:00\",\"2022-04-07T13:00:00\",\"2022-04-07T13:00:00\",\"2022-04-07T14:00:00\",\"2022-04-07T14:00:00\",\"2022-04-07T14:00:00\",\"2022-04-07T14:00:00\",\"2022-04-07T14:00:00\",\"2022-04-07T14:00:00\",\"2022-04-07T14:00:00\",\"2022-04-07T14:00:00\",\"2022-04-07T14:00:00\",\"2022-04-07T14:00:00\",\"2022-04-07T14:00:00\",\"2022-04-07T14:00:00\",\"2022-04-07T14:00:00\",\"2022-04-07T14:00:00\",\"2022-04-07T14:00:00\",\"2022-04-07T14:00:00\",\"2022-04-07T14:00:00\",\"2022-04-07T14:00:00\",\"2022-04-07T14:00:00\",\"2022-04-07T14:00:00\",\"2022-04-07T14:00:00\",\"2022-04-07T14:00:00\",\"2022-04-07T14:00:00\",\"2022-04-07T14:00:00\",\"2022-04-07T14:00:00\",\"2022-04-07T14:00:00\",\"2022-04-07T15:00:00\",\"2022-04-07T15:00:00\",\"2022-04-07T15:00:00\",\"2022-04-07T15:00:00\",\"2022-04-07T15:00:00\",\"2022-04-07T15:00:00\",\"2022-04-07T15:00:00\",\"2022-04-07T15:00:00\",\"2022-04-07T15:00:00\",\"2022-04-07T15:00:00\",\"2022-04-07T15:00:00\",\"2022-04-07T15:00:00\",\"2022-04-07T15:00:00\",\"2022-04-07T15:00:00\",\"2022-04-07T15:00:00\",\"2022-04-07T15:00:00\",\"2022-04-07T15:00:00\",\"2022-04-07T15:00:00\",\"2022-04-07T15:00:00\",\"2022-04-07T15:00:00\",\"2022-04-07T15:00:00\",\"2022-04-07T15:00:00\",\"2022-04-07T15:00:00\",\"2022-04-07T15:00:00\",\"2022-04-07T15:00:00\",\"2022-04-07T15:00:00\",\"2022-04-07T15:00:00\",\"2022-04-07T15:00:00\",\"2022-04-07T15:00:00\",\"2022-04-07T15:00:00\",\"2022-04-07T16:00:00\",\"2022-04-07T16:00:00\",\"2022-04-07T16:00:00\",\"2022-04-07T16:00:00\",\"2022-04-07T16:00:00\",\"2022-04-07T16:00:00\",\"2022-04-07T16:00:00\",\"2022-04-07T16:00:00\",\"2022-04-07T16:00:00\",\"2022-04-07T16:00:00\",\"2022-04-07T16:00:00\",\"2022-04-07T16:00:00\",\"2022-04-07T16:00:00\",\"2022-04-07T16:00:00\",\"2022-04-07T16:00:00\",\"2022-04-07T16:00:00\",\"2022-04-07T16:00:00\",\"2022-04-07T16:00:00\",\"2022-04-07T16:00:00\",\"2022-04-07T16:00:00\",\"2022-04-07T16:00:00\",\"2022-04-07T16:00:00\",\"2022-04-07T16:00:00\",\"2022-04-07T16:00:00\",\"2022-04-07T16:00:00\",\"2022-04-07T16:00:00\",\"2022-04-07T16:00:00\",\"2022-04-07T16:00:00\",\"2022-04-07T16:00:00\",\"2022-04-07T16:00:00\",\"2022-04-08T10:00:00\",\"2022-04-08T10:00:00\",\"2022-04-08T10:00:00\",\"2022-04-08T10:00:00\",\"2022-04-08T10:00:00\",\"2022-04-08T10:00:00\",\"2022-04-08T10:00:00\",\"2022-04-08T10:00:00\",\"2022-04-08T10:00:00\",\"2022-04-08T10:00:00\",\"2022-04-08T10:00:00\",\"2022-04-08T10:00:00\",\"2022-04-08T11:00:00\",\"2022-04-08T11:00:00\",\"2022-04-08T11:00:00\",\"2022-04-08T11:00:00\",\"2022-04-08T11:00:00\",\"2022-04-08T11:00:00\",\"2022-04-08T11:00:00\",\"2022-04-08T11:00:00\",\"2022-04-08T11:00:00\",\"2022-04-08T11:00:00\",\"2022-04-08T11:00:00\",\"2022-04-08T11:00:00\",\"2022-04-08T12:00:00\",\"2022-04-08T12:00:00\",\"2022-04-08T12:00:00\",\"2022-04-08T12:00:00\",\"2022-04-08T12:00:00\",\"2022-04-08T12:00:00\",\"2022-04-08T12:00:00\",\"2022-04-08T12:00:00\",\"2022-04-08T12:00:00\",\"2022-04-08T12:00:00\",\"2022-04-08T12:00:00\",\"2022-04-08T12:00:00\",\"2022-04-08T12:00:00\",\"2022-04-08T12:00:00\",\"2022-04-08T13:00:00\",\"2022-04-08T13:00:00\",\"2022-04-08T13:00:00\",\"2022-04-08T13:00:00\",\"2022-04-08T13:00:00\",\"2022-04-08T13:00:00\",\"2022-04-08T13:00:00\",\"2022-04-08T13:00:00\",\"2022-04-08T13:00:00\",\"2022-04-08T13:00:00\",\"2022-04-08T13:00:00\",\"2022-04-08T13:00:00\",\"2022-04-08T13:00:00\",\"2022-04-08T13:00:00\",\"2022-04-08T14:00:00\",\"2022-04-08T14:00:00\",\"2022-04-08T14:00:00\",\"2022-04-08T14:00:00\",\"2022-04-08T14:00:00\",\"2022-04-08T14:00:00\",\"2022-04-08T14:00:00\",\"2022-04-08T14:00:00\",\"2022-04-08T14:00:00\",\"2022-04-08T14:00:00\",\"2022-04-08T14:00:00\",\"2022-04-08T14:00:00\",\"2022-04-08T14:00:00\",\"2022-04-08T14:00:00\",\"2022-04-08T14:00:00\",\"2022-04-08T14:00:00\",\"2022-04-08T15:00:00\",\"2022-04-08T15:00:00\",\"2022-04-08T15:00:00\",\"2022-04-08T15:00:00\",\"2022-04-08T15:00:00\",\"2022-04-08T15:00:00\",\"2022-04-08T15:00:00\",\"2022-04-08T15:00:00\",\"2022-04-08T15:00:00\",\"2022-04-08T15:00:00\",\"2022-04-08T15:00:00\",\"2022-04-08T15:00:00\",\"2022-04-08T15:00:00\",\"2022-04-08T15:00:00\",\"2022-04-08T15:00:00\",\"2022-04-08T15:00:00\",\"2022-04-08T16:00:00\",\"2022-04-08T16:00:00\",\"2022-04-08T16:00:00\",\"2022-04-08T16:00:00\",\"2022-04-08T16:00:00\",\"2022-04-08T16:00:00\",\"2022-04-08T16:00:00\",\"2022-04-08T16:00:00\",\"2022-04-08T16:00:00\",\"2022-04-08T16:00:00\",\"2022-04-08T16:00:00\",\"2022-04-08T16:00:00\",\"2022-04-08T16:00:00\",\"2022-04-08T16:00:00\",\"2022-04-08T16:00:00\",\"2022-04-08T16:00:00\",\"2022-04-11T10:00:00\",\"2022-04-11T10:00:00\",\"2022-04-11T10:00:00\",\"2022-04-11T10:00:00\",\"2022-04-11T10:00:00\",\"2022-04-11T10:00:00\",\"2022-04-11T10:00:00\",\"2022-04-11T10:00:00\",\"2022-04-11T10:00:00\",\"2022-04-11T10:00:00\",\"2022-04-11T10:00:00\",\"2022-04-11T10:00:00\",\"2022-04-11T11:00:00\",\"2022-04-11T11:00:00\",\"2022-04-11T11:00:00\",\"2022-04-11T11:00:00\",\"2022-04-11T11:00:00\",\"2022-04-11T11:00:00\",\"2022-04-11T11:00:00\",\"2022-04-11T11:00:00\",\"2022-04-11T11:00:00\",\"2022-04-11T11:00:00\",\"2022-04-11T11:00:00\",\"2022-04-11T11:00:00\",\"2022-04-11T11:00:00\",\"2022-04-11T11:00:00\",\"2022-04-11T12:00:00\",\"2022-04-11T12:00:00\",\"2022-04-11T12:00:00\",\"2022-04-11T12:00:00\",\"2022-04-11T12:00:00\",\"2022-04-11T12:00:00\",\"2022-04-11T12:00:00\",\"2022-04-11T12:00:00\",\"2022-04-11T12:00:00\",\"2022-04-11T12:00:00\",\"2022-04-11T12:00:00\",\"2022-04-11T12:00:00\",\"2022-04-11T12:00:00\",\"2022-04-11T12:00:00\",\"2022-04-11T12:00:00\",\"2022-04-11T12:00:00\",\"2022-04-11T13:00:00\",\"2022-04-11T13:00:00\",\"2022-04-11T13:00:00\",\"2022-04-11T13:00:00\",\"2022-04-11T13:00:00\",\"2022-04-11T13:00:00\",\"2022-04-11T13:00:00\",\"2022-04-11T13:00:00\",\"2022-04-11T13:00:00\",\"2022-04-11T13:00:00\",\"2022-04-11T13:00:00\",\"2022-04-11T13:00:00\",\"2022-04-11T13:00:00\",\"2022-04-11T13:00:00\",\"2022-04-11T13:00:00\",\"2022-04-11T13:00:00\",\"2022-04-11T14:00:00\",\"2022-04-11T14:00:00\",\"2022-04-11T14:00:00\",\"2022-04-11T14:00:00\",\"2022-04-11T14:00:00\",\"2022-04-11T14:00:00\",\"2022-04-11T14:00:00\",\"2022-04-11T14:00:00\",\"2022-04-11T14:00:00\",\"2022-04-11T14:00:00\",\"2022-04-11T14:00:00\",\"2022-04-11T14:00:00\",\"2022-04-11T14:00:00\",\"2022-04-11T14:00:00\",\"2022-04-11T14:00:00\",\"2022-04-11T14:00:00\",\"2022-04-11T15:00:00\",\"2022-04-11T15:00:00\",\"2022-04-11T15:00:00\",\"2022-04-11T15:00:00\",\"2022-04-11T15:00:00\",\"2022-04-11T15:00:00\",\"2022-04-11T15:00:00\",\"2022-04-11T15:00:00\",\"2022-04-11T15:00:00\",\"2022-04-11T15:00:00\",\"2022-04-11T15:00:00\",\"2022-04-11T15:00:00\",\"2022-04-11T15:00:00\",\"2022-04-11T15:00:00\",\"2022-04-11T15:00:00\",\"2022-04-11T15:00:00\",\"2022-04-11T16:00:00\",\"2022-04-11T16:00:00\",\"2022-04-11T16:00:00\",\"2022-04-11T16:00:00\",\"2022-04-11T16:00:00\",\"2022-04-11T16:00:00\",\"2022-04-11T16:00:00\",\"2022-04-11T16:00:00\",\"2022-04-11T16:00:00\",\"2022-04-11T16:00:00\",\"2022-04-11T16:00:00\",\"2022-04-11T16:00:00\",\"2022-04-11T16:00:00\",\"2022-04-11T16:00:00\",\"2022-04-11T16:00:00\",\"2022-04-11T16:00:00\",\"2022-04-11T16:00:00\",\"2022-04-11T16:00:00\",\"2022-04-12T10:00:00\",\"2022-04-12T10:00:00\",\"2022-04-12T10:00:00\",\"2022-04-12T10:00:00\",\"2022-04-12T10:00:00\",\"2022-04-12T10:00:00\",\"2022-04-12T10:00:00\",\"2022-04-12T10:00:00\",\"2022-04-12T10:00:00\",\"2022-04-12T10:00:00\",\"2022-04-12T10:00:00\",\"2022-04-12T10:00:00\",\"2022-04-12T11:00:00\",\"2022-04-12T11:00:00\",\"2022-04-12T11:00:00\",\"2022-04-12T11:00:00\",\"2022-04-12T11:00:00\",\"2022-04-12T11:00:00\",\"2022-04-12T11:00:00\",\"2022-04-12T11:00:00\",\"2022-04-12T11:00:00\",\"2022-04-12T11:00:00\",\"2022-04-12T11:00:00\",\"2022-04-12T11:00:00\",\"2022-04-12T11:00:00\",\"2022-04-12T11:00:00\",\"2022-04-12T11:00:00\",\"2022-04-12T11:00:00\",\"2022-04-12T11:00:00\",\"2022-04-12T11:00:00\",\"2022-04-12T11:00:00\",\"2022-04-12T11:00:00\",\"2022-04-12T12:00:00\",\"2022-04-12T12:00:00\",\"2022-04-12T12:00:00\",\"2022-04-12T12:00:00\",\"2022-04-12T12:00:00\",\"2022-04-12T12:00:00\",\"2022-04-12T12:00:00\",\"2022-04-12T12:00:00\",\"2022-04-12T12:00:00\",\"2022-04-12T12:00:00\",\"2022-04-12T12:00:00\",\"2022-04-12T12:00:00\",\"2022-04-12T12:00:00\",\"2022-04-12T12:00:00\",\"2022-04-12T12:00:00\",\"2022-04-12T12:00:00\",\"2022-04-12T12:00:00\",\"2022-04-12T12:00:00\",\"2022-04-12T12:00:00\",\"2022-04-12T12:00:00\",\"2022-04-12T13:00:00\",\"2022-04-12T13:00:00\",\"2022-04-12T13:00:00\",\"2022-04-12T13:00:00\",\"2022-04-12T13:00:00\",\"2022-04-12T13:00:00\",\"2022-04-12T13:00:00\",\"2022-04-12T13:00:00\",\"2022-04-12T13:00:00\",\"2022-04-12T13:00:00\",\"2022-04-12T13:00:00\",\"2022-04-12T13:00:00\",\"2022-04-12T13:00:00\",\"2022-04-12T13:00:00\",\"2022-04-12T13:00:00\",\"2022-04-12T13:00:00\",\"2022-04-12T13:00:00\",\"2022-04-12T13:00:00\",\"2022-04-12T13:00:00\",\"2022-04-12T13:00:00\",\"2022-04-12T14:00:00\",\"2022-04-12T14:00:00\",\"2022-04-12T14:00:00\",\"2022-04-12T14:00:00\",\"2022-04-12T14:00:00\",\"2022-04-12T14:00:00\",\"2022-04-12T14:00:00\",\"2022-04-12T14:00:00\",\"2022-04-12T14:00:00\",\"2022-04-12T14:00:00\",\"2022-04-12T14:00:00\",\"2022-04-12T14:00:00\",\"2022-04-12T14:00:00\",\"2022-04-12T14:00:00\",\"2022-04-12T14:00:00\",\"2022-04-12T14:00:00\",\"2022-04-12T14:00:00\",\"2022-04-12T14:00:00\",\"2022-04-12T14:00:00\",\"2022-04-12T14:00:00\",\"2022-04-12T14:00:00\",\"2022-04-12T14:00:00\",\"2022-04-12T15:00:00\",\"2022-04-12T15:00:00\",\"2022-04-12T15:00:00\",\"2022-04-12T15:00:00\",\"2022-04-12T15:00:00\",\"2022-04-12T15:00:00\",\"2022-04-12T15:00:00\",\"2022-04-12T15:00:00\",\"2022-04-12T15:00:00\",\"2022-04-12T15:00:00\",\"2022-04-12T15:00:00\",\"2022-04-12T15:00:00\",\"2022-04-12T15:00:00\",\"2022-04-12T15:00:00\",\"2022-04-12T15:00:00\",\"2022-04-12T15:00:00\",\"2022-04-12T15:00:00\",\"2022-04-12T15:00:00\",\"2022-04-12T15:00:00\",\"2022-04-12T15:00:00\",\"2022-04-12T15:00:00\",\"2022-04-12T15:00:00\",\"2022-04-12T15:00:00\",\"2022-04-12T15:00:00\",\"2022-04-12T16:00:00\",\"2022-04-12T16:00:00\",\"2022-04-12T16:00:00\",\"2022-04-12T16:00:00\",\"2022-04-12T16:00:00\",\"2022-04-12T16:00:00\",\"2022-04-12T16:00:00\",\"2022-04-12T16:00:00\",\"2022-04-12T16:00:00\",\"2022-04-12T16:00:00\",\"2022-04-12T16:00:00\",\"2022-04-12T16:00:00\",\"2022-04-12T16:00:00\",\"2022-04-12T16:00:00\",\"2022-04-12T16:00:00\",\"2022-04-12T16:00:00\",\"2022-04-12T16:00:00\",\"2022-04-12T16:00:00\",\"2022-04-12T16:00:00\",\"2022-04-12T16:00:00\",\"2022-04-12T16:00:00\",\"2022-04-12T16:00:00\",\"2022-04-12T16:00:00\",\"2022-04-12T16:00:00\"],\"y\":[17.35,16.95,16.55,16.14,15.73,15.32,-15.39,-15.89,-16.36,-16.84,-17.31,-17.76,16.88,16.48,16.07,15.66,15.25,14.85,-15.8,-16.27,-16.76,-17.22,-17.67,-18.16,17.28,-15.3,17.19,16.79,16.38,15.98,15.57,15.16,14.75,-15.39,-15.88,-16.34,-16.84,-17.29,-17.74,-18.23,16.3,15.89,15.48,15.07,14.67,14.26,13.85,-16.14,-16.62,-17.08,-17.53,-18.02,-18.46,-18.91,17.1,16.7,-15.17,-15.66,18.76,18.37,17.97,17.57,17.17,16.77,16.36,15.95,15.55,-13.76,-14.25,-14.74,-15.21,-15.71,-16.17,-16.64,-17.13,-17.59,15.14,-18.06,19.35,18.97,18.58,18.19,17.79,17.39,16.98,16.58,16.17,15.76,-13.26,-13.73,-14.2,-14.7,-15.18,-15.66,-16.15,-16.61,-17.11,-17.56,15.35,-18.01,18.36,17.97,17.57,17.17,16.76,16.36,15.95,15.54,15.13,14.73,14.32,-14.1,-14.6,-15.07,-15.56,-16.03,-16.5,-17.0,-17.46,-17.92,-18.39,-18.84,16.33,15.91,15.49,-14.43,-14.9,-15.38,15.07,14.65,14.23,-15.86,-16.33,-16.79,14.44,14.02,13.18,12.76,12.35,-15.98,-16.44,-17.35,-17.79,-18.23,16.12,15.71,15.29,14.87,-14.06,-14.55,-15.02,-15.5,14.25,13.83,13.41,12.99,11.34,10.93,10.53,-15.61,-16.07,-16.54,-16.98,-18.71,-19.11,-19.51,15.93,15.51,15.09,14.67,-13.7,-14.18,-14.65,-15.14,15.32,14.9,14.48,14.06,13.64,13.22,12.8,12.38,10.75,10.35,9.96,-14.21,-14.68,-15.16,-15.63,-16.1,-16.56,-17.0,-17.45,-19.11,-19.51,-19.87,15.74,-13.72,17.68,17.28,16.88,16.47,16.06,15.64,15.22,14.8,14.38,12.7,12.28,11.87,-12.06,-12.54,-13.03,-13.51,-13.99,-14.48,-14.94,-15.43,-15.9,-17.72,-18.15,-18.57,13.96,-16.36,18.68,18.3,17.91,17.51,17.1,16.69,16.28,15.86,15.44,15.02,13.76,13.34,12.92,-11.19,-11.65,-12.14,-12.62,-13.11,-13.59,-14.06,-14.55,-15.02,-15.51,-16.91,-17.34,-17.81,14.6,14.18,-15.98,-16.43,18.62,18.23,17.84,17.44,17.04,16.63,16.21,15.79,15.38,14.96,14.53,14.11,13.69,13.27,12.85,-11.23,-11.71,-12.19,-12.67,-13.16,-13.64,-14.12,-14.61,-15.08,-15.56,-16.03,-16.49,-16.96,-17.4,-17.85,14.42,14.02,13.62,13.21,12.8,12.4,-12.51,-12.97,-13.42,-13.88,-14.32,-14.77,14.44,14.04,13.63,13.23,12.82,-12.62,-13.08,-13.52,-13.98,-14.42,12.41,-14.87,14.17,13.77,13.36,12.96,12.55,12.14,-12.84,-13.29,-13.75,-14.2,-14.64,-15.08,14.57,-12.38,15.49,14.7,14.3,13.89,13.49,13.08,-11.6,-12.52,-12.98,-13.43,-13.89,-14.34,12.68,-14.78,14.49,13.69,13.28,12.88,12.47,12.06,11.66,-12.45,-13.36,-13.82,-14.26,-14.71,-15.15,-15.57,14.09,-12.91,14.8,14.4,14.0,13.59,13.19,12.78,12.37,11.97,-12.19,-12.65,-13.11,-13.56,-14.02,-14.46,-14.9,-15.33,13.87,13.46,13.06,12.65,12.24,11.44,11.03,-12.98,-13.43,-13.89,-14.33,-14.77,-15.63,-16.05,14.27,-12.52,10.08,9.74,9.38,9.03,8.68,8.32,-8.11,-8.49,-8.87,-9.25,-9.62,-9.99,9.55,9.19,8.84,8.49,8.13,7.78,-8.58,-8.95,-9.33,-9.7,-10.07,-10.41,9.89,-8.19,9.78,9.43,9.08,8.73,8.37,8.02,7.67,-8.29,-8.67,-9.04,-9.42,-9.78,-10.15,-10.5,10.13,-7.91,10.16,9.81,9.46,9.11,8.76,8.4,8.05,7.7,-7.88,-8.26,-8.64,-9.02,-9.4,-9.76,-10.12,-10.47,10.42,10.07,9.73,9.38,9.02,8.67,8.32,7.96,-7.65,-8.03,-8.41,-8.8,-9.17,-9.55,-9.91,-10.28,10.35,10.01,9.66,9.31,8.95,8.6,8.25,7.9,-7.71,-8.09,-8.47,-8.85,-9.23,-9.6,-9.98,-10.33,9.43,9.08,8.73,8.37,8.02,7.67,7.32,6.98,-8.51,-8.87,-9.26,-9.62,-9.99,-10.34,-10.68,-11.01,9.78,-8.12,8.95,-7.06,8.61,8.27,7.93,7.59,7.25,-7.43,-7.79,-8.15,-8.5,-8.84,7.38,7.04,6.7,6.37,6.04,5.71,-8.37,-8.72,-9.05,-9.38,-9.7,-10.0,8.75,8.41,8.07,7.73,-6.94,-7.31,-7.67,-8.03,8.87,8.53,8.19,7.85,7.51,7.17,6.83,6.49,6.16,5.83,-6.84,-7.19,-7.56,-7.92,-8.27,-8.62,-8.96,-9.29,-9.59,-9.91,8.8,8.46,8.12,7.78,7.44,7.1,6.76,6.42,6.09,5.76,-6.9,-7.26,-7.62,-7.98,-8.33,-8.68,-9.0,-9.34,-9.66,-9.96,8.24,7.9,7.56,7.22,6.88,6.54,6.2,5.87,5.55,5.24,-7.38,-7.73,-8.09,-8.44,-8.78,-9.12,-9.44,-9.74,-10.03,-10.32,8.58,-7.02,8.07,7.73,7.39,7.05,6.71,6.04,5.71,5.39,5.08,4.77,-7.44,-7.81,-8.16,-8.51,-8.84,-9.48,-9.79,-10.09,-10.37,-10.63,8.75,8.41,-6.72,-7.08,8.99,8.66,8.32,7.98,7.64,7.29,6.95,6.28,5.95,5.62,5.31,5.0,-6.5,-6.87,-7.24,-7.6,-7.96,-8.3,-8.65,-9.31,-9.63,-9.93,-10.21,-10.47],\"type\":\"scatter\"}],                        {\"template\":{\"data\":{\"bar\":[{\"error_x\":{\"color\":\"#2a3f5f\"},\"error_y\":{\"color\":\"#2a3f5f\"},\"marker\":{\"line\":{\"color\":\"#E5ECF6\",\"width\":0.5},\"pattern\":{\"fillmode\":\"overlay\",\"size\":10,\"solidity\":0.2}},\"type\":\"bar\"}],\"barpolar\":[{\"marker\":{\"line\":{\"color\":\"#E5ECF6\",\"width\":0.5},\"pattern\":{\"fillmode\":\"overlay\",\"size\":10,\"solidity\":0.2}},\"type\":\"barpolar\"}],\"carpet\":[{\"aaxis\":{\"endlinecolor\":\"#2a3f5f\",\"gridcolor\":\"white\",\"linecolor\":\"white\",\"minorgridcolor\":\"white\",\"startlinecolor\":\"#2a3f5f\"},\"baxis\":{\"endlinecolor\":\"#2a3f5f\",\"gridcolor\":\"white\",\"linecolor\":\"white\",\"minorgridcolor\":\"white\",\"startlinecolor\":\"#2a3f5f\"},\"type\":\"carpet\"}],\"choropleth\":[{\"colorbar\":{\"outlinewidth\":0,\"ticks\":\"\"},\"type\":\"choropleth\"}],\"contour\":[{\"colorbar\":{\"outlinewidth\":0,\"ticks\":\"\"},\"colorscale\":[[0.0,\"#0d0887\"],[0.1111111111111111,\"#46039f\"],[0.2222222222222222,\"#7201a8\"],[0.3333333333333333,\"#9c179e\"],[0.4444444444444444,\"#bd3786\"],[0.5555555555555556,\"#d8576b\"],[0.6666666666666666,\"#ed7953\"],[0.7777777777777778,\"#fb9f3a\"],[0.8888888888888888,\"#fdca26\"],[1.0,\"#f0f921\"]],\"type\":\"contour\"}],\"contourcarpet\":[{\"colorbar\":{\"outlinewidth\":0,\"ticks\":\"\"},\"type\":\"contourcarpet\"}],\"heatmap\":[{\"colorbar\":{\"outlinewidth\":0,\"ticks\":\"\"},\"colorscale\":[[0.0,\"#0d0887\"],[0.1111111111111111,\"#46039f\"],[0.2222222222222222,\"#7201a8\"],[0.3333333333333333,\"#9c179e\"],[0.4444444444444444,\"#bd3786\"],[0.5555555555555556,\"#d8576b\"],[0.6666666666666666,\"#ed7953\"],[0.7777777777777778,\"#fb9f3a\"],[0.8888888888888888,\"#fdca26\"],[1.0,\"#f0f921\"]],\"type\":\"heatmap\"}],\"heatmapgl\":[{\"colorbar\":{\"outlinewidth\":0,\"ticks\":\"\"},\"colorscale\":[[0.0,\"#0d0887\"],[0.1111111111111111,\"#46039f\"],[0.2222222222222222,\"#7201a8\"],[0.3333333333333333,\"#9c179e\"],[0.4444444444444444,\"#bd3786\"],[0.5555555555555556,\"#d8576b\"],[0.6666666666666666,\"#ed7953\"],[0.7777777777777778,\"#fb9f3a\"],[0.8888888888888888,\"#fdca26\"],[1.0,\"#f0f921\"]],\"type\":\"heatmapgl\"}],\"histogram\":[{\"marker\":{\"pattern\":{\"fillmode\":\"overlay\",\"size\":10,\"solidity\":0.2}},\"type\":\"histogram\"}],\"histogram2d\":[{\"colorbar\":{\"outlinewidth\":0,\"ticks\":\"\"},\"colorscale\":[[0.0,\"#0d0887\"],[0.1111111111111111,\"#46039f\"],[0.2222222222222222,\"#7201a8\"],[0.3333333333333333,\"#9c179e\"],[0.4444444444444444,\"#bd3786\"],[0.5555555555555556,\"#d8576b\"],[0.6666666666666666,\"#ed7953\"],[0.7777777777777778,\"#fb9f3a\"],[0.8888888888888888,\"#fdca26\"],[1.0,\"#f0f921\"]],\"type\":\"histogram2d\"}],\"histogram2dcontour\":[{\"colorbar\":{\"outlinewidth\":0,\"ticks\":\"\"},\"colorscale\":[[0.0,\"#0d0887\"],[0.1111111111111111,\"#46039f\"],[0.2222222222222222,\"#7201a8\"],[0.3333333333333333,\"#9c179e\"],[0.4444444444444444,\"#bd3786\"],[0.5555555555555556,\"#d8576b\"],[0.6666666666666666,\"#ed7953\"],[0.7777777777777778,\"#fb9f3a\"],[0.8888888888888888,\"#fdca26\"],[1.0,\"#f0f921\"]],\"type\":\"histogram2dcontour\"}],\"mesh3d\":[{\"colorbar\":{\"outlinewidth\":0,\"ticks\":\"\"},\"type\":\"mesh3d\"}],\"parcoords\":[{\"line\":{\"colorbar\":{\"outlinewidth\":0,\"ticks\":\"\"}},\"type\":\"parcoords\"}],\"pie\":[{\"automargin\":true,\"type\":\"pie\"}],\"scatter\":[{\"marker\":{\"colorbar\":{\"outlinewidth\":0,\"ticks\":\"\"}},\"type\":\"scatter\"}],\"scatter3d\":[{\"line\":{\"colorbar\":{\"outlinewidth\":0,\"ticks\":\"\"}},\"marker\":{\"colorbar\":{\"outlinewidth\":0,\"ticks\":\"\"}},\"type\":\"scatter3d\"}],\"scattercarpet\":[{\"marker\":{\"colorbar\":{\"outlinewidth\":0,\"ticks\":\"\"}},\"type\":\"scattercarpet\"}],\"scattergeo\":[{\"marker\":{\"colorbar\":{\"outlinewidth\":0,\"ticks\":\"\"}},\"type\":\"scattergeo\"}],\"scattergl\":[{\"marker\":{\"colorbar\":{\"outlinewidth\":0,\"ticks\":\"\"}},\"type\":\"scattergl\"}],\"scattermapbox\":[{\"marker\":{\"colorbar\":{\"outlinewidth\":0,\"ticks\":\"\"}},\"type\":\"scattermapbox\"}],\"scatterpolar\":[{\"marker\":{\"colorbar\":{\"outlinewidth\":0,\"ticks\":\"\"}},\"type\":\"scatterpolar\"}],\"scatterpolargl\":[{\"marker\":{\"colorbar\":{\"outlinewidth\":0,\"ticks\":\"\"}},\"type\":\"scatterpolargl\"}],\"scatterternary\":[{\"marker\":{\"colorbar\":{\"outlinewidth\":0,\"ticks\":\"\"}},\"type\":\"scatterternary\"}],\"surface\":[{\"colorbar\":{\"outlinewidth\":0,\"ticks\":\"\"},\"colorscale\":[[0.0,\"#0d0887\"],[0.1111111111111111,\"#46039f\"],[0.2222222222222222,\"#7201a8\"],[0.3333333333333333,\"#9c179e\"],[0.4444444444444444,\"#bd3786\"],[0.5555555555555556,\"#d8576b\"],[0.6666666666666666,\"#ed7953\"],[0.7777777777777778,\"#fb9f3a\"],[0.8888888888888888,\"#fdca26\"],[1.0,\"#f0f921\"]],\"type\":\"surface\"}],\"table\":[{\"cells\":{\"fill\":{\"color\":\"#EBF0F8\"},\"line\":{\"color\":\"white\"}},\"header\":{\"fill\":{\"color\":\"#C8D4E3\"},\"line\":{\"color\":\"white\"}},\"type\":\"table\"}]},\"layout\":{\"annotationdefaults\":{\"arrowcolor\":\"#2a3f5f\",\"arrowhead\":0,\"arrowwidth\":1},\"autotypenumbers\":\"strict\",\"coloraxis\":{\"colorbar\":{\"outlinewidth\":0,\"ticks\":\"\"}},\"colorscale\":{\"diverging\":[[0,\"#8e0152\"],[0.1,\"#c51b7d\"],[0.2,\"#de77ae\"],[0.3,\"#f1b6da\"],[0.4,\"#fde0ef\"],[0.5,\"#f7f7f7\"],[0.6,\"#e6f5d0\"],[0.7,\"#b8e186\"],[0.8,\"#7fbc41\"],[0.9,\"#4d9221\"],[1,\"#276419\"]],\"sequential\":[[0.0,\"#0d0887\"],[0.1111111111111111,\"#46039f\"],[0.2222222222222222,\"#7201a8\"],[0.3333333333333333,\"#9c179e\"],[0.4444444444444444,\"#bd3786\"],[0.5555555555555556,\"#d8576b\"],[0.6666666666666666,\"#ed7953\"],[0.7777777777777778,\"#fb9f3a\"],[0.8888888888888888,\"#fdca26\"],[1.0,\"#f0f921\"]],\"sequentialminus\":[[0.0,\"#0d0887\"],[0.1111111111111111,\"#46039f\"],[0.2222222222222222,\"#7201a8\"],[0.3333333333333333,\"#9c179e\"],[0.4444444444444444,\"#bd3786\"],[0.5555555555555556,\"#d8576b\"],[0.6666666666666666,\"#ed7953\"],[0.7777777777777778,\"#fb9f3a\"],[0.8888888888888888,\"#fdca26\"],[1.0,\"#f0f921\"]]},\"colorway\":[\"#636efa\",\"#EF553B\",\"#00cc96\",\"#ab63fa\",\"#FFA15A\",\"#19d3f3\",\"#FF6692\",\"#B6E880\",\"#FF97FF\",\"#FECB52\"],\"font\":{\"color\":\"#2a3f5f\"},\"geo\":{\"bgcolor\":\"white\",\"lakecolor\":\"white\",\"landcolor\":\"#E5ECF6\",\"showlakes\":true,\"showland\":true,\"subunitcolor\":\"white\"},\"hoverlabel\":{\"align\":\"left\"},\"hovermode\":\"closest\",\"mapbox\":{\"style\":\"light\"},\"paper_bgcolor\":\"white\",\"plot_bgcolor\":\"#E5ECF6\",\"polar\":{\"angularaxis\":{\"gridcolor\":\"white\",\"linecolor\":\"white\",\"ticks\":\"\"},\"bgcolor\":\"#E5ECF6\",\"radialaxis\":{\"gridcolor\":\"white\",\"linecolor\":\"white\",\"ticks\":\"\"}},\"scene\":{\"xaxis\":{\"backgroundcolor\":\"#E5ECF6\",\"gridcolor\":\"white\",\"gridwidth\":2,\"linecolor\":\"white\",\"showbackground\":true,\"ticks\":\"\",\"zerolinecolor\":\"white\"},\"yaxis\":{\"backgroundcolor\":\"#E5ECF6\",\"gridcolor\":\"white\",\"gridwidth\":2,\"linecolor\":\"white\",\"showbackground\":true,\"ticks\":\"\",\"zerolinecolor\":\"white\"},\"zaxis\":{\"backgroundcolor\":\"#E5ECF6\",\"gridcolor\":\"white\",\"gridwidth\":2,\"linecolor\":\"white\",\"showbackground\":true,\"ticks\":\"\",\"zerolinecolor\":\"white\"}},\"shapedefaults\":{\"line\":{\"color\":\"#2a3f5f\"}},\"ternary\":{\"aaxis\":{\"gridcolor\":\"white\",\"linecolor\":\"white\",\"ticks\":\"\"},\"baxis\":{\"gridcolor\":\"white\",\"linecolor\":\"white\",\"ticks\":\"\"},\"bgcolor\":\"#E5ECF6\",\"caxis\":{\"gridcolor\":\"white\",\"linecolor\":\"white\",\"ticks\":\"\"}},\"title\":{\"x\":0.05},\"xaxis\":{\"automargin\":true,\"gridcolor\":\"white\",\"linecolor\":\"white\",\"ticks\":\"\",\"title\":{\"standoff\":15},\"zerolinecolor\":\"white\",\"zerolinewidth\":2},\"yaxis\":{\"automargin\":true,\"gridcolor\":\"white\",\"linecolor\":\"white\",\"ticks\":\"\",\"title\":{\"standoff\":15},\"zerolinecolor\":\"white\",\"zerolinewidth\":2}}},\"xaxis\":{\"rangeslider\":{\"visible\":false},\"rangebreaks\":[{\"bounds\":[\"sat\",\"mon\"]},{\"bounds\":[16.1,9.5],\"pattern\":\"hour\"}]},\"title\":{\"text\":\"Stock Analysis\"},\"yaxis\":{\"title\":{\"text\":\"TSLA Stock\"}}},                        {\"responsive\": true}                    ).then(function(){\n",
       "                            \n",
       "var gd = document.getElementById('ea3151b5-3290-4beb-9869-2d4974c47377');\n",
       "var x = new MutationObserver(function (mutations, observer) {{\n",
       "        var display = window.getComputedStyle(gd).display;\n",
       "        if (!display || display === 'none') {{\n",
       "            console.log([gd, 'removed!']);\n",
       "            Plotly.purge(gd);\n",
       "            observer.disconnect();\n",
       "        }}\n",
       "}});\n",
       "\n",
       "// Listen for the removal of the full notebook cells\n",
       "var notebookContainer = gd.closest('#notebook-container');\n",
       "if (notebookContainer) {{\n",
       "    x.observe(notebookContainer, {childList: true});\n",
       "}}\n",
       "\n",
       "// Listen for the clearing of the current output cell\n",
       "var outputEl = gd.closest('.output');\n",
       "if (outputEl) {{\n",
       "    x.observe(outputEl, {childList: true});\n",
       "}}\n",
       "\n",
       "                        })                };                });            </script>        </div>"
      ]
     },
     "metadata": {},
     "output_type": "display_data"
    }
   ],
   "source": [
    "plot_line(df, value='beta', show_afterhours=False)"
   ]
  }
 ],
 "metadata": {
  "kernelspec": {
   "display_name": "Python 3 (ipykernel)",
   "language": "python",
   "name": "python3"
  },
  "language_info": {
   "codemirror_mode": {
    "name": "ipython",
    "version": 3
   },
   "file_extension": ".py",
   "mimetype": "text/x-python",
   "name": "python",
   "nbconvert_exporter": "python",
   "pygments_lexer": "ipython3",
   "version": "3.8.12"
  }
 },
 "nbformat": 4,
 "nbformat_minor": 5
}
