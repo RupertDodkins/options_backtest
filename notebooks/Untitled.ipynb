{
 "cells": [
  {
   "cell_type": "code",
   "execution_count": 1,
   "id": "763f0dd6-8fde-41ff-96b2-3ebaa015c797",
   "metadata": {},
   "outputs": [],
   "source": [
    "import sys\n",
    "sys.path.append('/Users/dodkins/PythonProjects/stocks/options_testing/options_testing')"
   ]
  },
  {
   "cell_type": "code",
   "execution_count": 4,
   "id": "92b416a8-efd6-44fc-bd32-56e4fc045d14",
   "metadata": {},
   "outputs": [],
   "source": [
    "from robinhood import get_options_plays\n",
    "from yahoo import get_tsla \n",
    "from plots import plot"
   ]
  },
  {
   "cell_type": "code",
   "execution_count": 3,
   "id": "ee8580ac-6002-4c8d-83c2-3fc0cd695fff",
   "metadata": {},
   "outputs": [
    {
     "name": "stdout",
     "output_type": "stream",
     "text": [
      "         open      close expiration   strike option_type quantity filled  \\\n",
      "0   8/26/2022   9/1/2022  9/16/2022  $271.67        Call      1.0 -31.04   \n",
      "1   8/26/2022   9/1/2022  9/16/2022  $271.67        Call      1.0 -31.04   \n",
      "2   8/26/2022          0  9/16/2022  $271.67        Call      1.0 -31.04   \n",
      "3   8/26/2022  8/26/2022  8/26/2022     $290        Call      1.0   8.03   \n",
      "4   8/26/2022  8/26/2022  8/26/2022     $290        Call      1.0   8.03   \n",
      "5   8/26/2022  8/26/2022  8/26/2022     $290        Call      1.0   8.03   \n",
      "6   8/26/2022  8/29/2022   9/2/2022  $301.67        Call      1.0   2.81   \n",
      "7   8/26/2022  8/29/2022   9/2/2022  $301.67        Call      1.0   2.81   \n",
      "8   8/26/2022  8/29/2022   9/2/2022  $301.67        Call      1.0   2.81   \n",
      "9   8/29/2022  8/30/2022   9/2/2022     $280        Call      1.0   8.66   \n",
      "10  8/29/2022  8/30/2022   9/2/2022     $280        Call      1.0   8.66   \n",
      "11  8/29/2022  8/30/2022   9/2/2022     $280        Call      1.0   8.66   \n",
      "12  8/30/2022  8/31/2022   9/2/2022     $270         Put      1.0   1.56   \n",
      "13  8/30/2022  8/31/2022   9/2/2022  $268.33         Put      1.0  -1.31   \n",
      "14  8/30/2022   9/1/2022   9/2/2022  $271.67        Call      1.0  10.58   \n",
      "15  8/30/2022   9/1/2022   9/2/2022  $271.67        Call      1.0  10.58   \n",
      "16  8/30/2022   9/1/2022   9/2/2022  $273.33        Call      1.0   8.69   \n",
      "17   9/1/2022          0  9/16/2022     $265        Call      1.0 -13.87   \n",
      "18   9/1/2022          0  9/16/2022     $265        Call      1.0 -13.87   \n",
      "19   9/1/2022   9/2/2022   9/2/2022     $265        Call      1.0   5.82   \n",
      "20   9/1/2022          0   9/2/2022     $265        Call      1.0   5.82   \n",
      "21   9/1/2022          0   9/2/2022     $280        Call      1.0   0.97   \n",
      "22   9/2/2022          0   9/9/2022     $265        Call      1.0  15.05   \n",
      "\n",
      "   closed    P/L  \n",
      "0  -10.31 -20.73  \n",
      "1  -10.31 -20.73  \n",
      "2     NaN    NaN  \n",
      "3    0.46   7.57  \n",
      "4    0.46   7.57  \n",
      "5    0.46   7.57  \n",
      "6    1.37   1.44  \n",
      "7    1.37   1.44  \n",
      "8    1.37   1.44  \n",
      "9    5.58   3.08  \n",
      "10   5.58   3.08  \n",
      "11   5.02   3.64  \n",
      "12   1.95  -0.39  \n",
      "13  -1.59   0.28  \n",
      "14   2.41   8.17  \n",
      "15   2.41   8.17  \n",
      "16   3.38   5.31  \n",
      "17    NaN    NaN  \n",
      "18    NaN    NaN  \n",
      "19   12.1  -6.28  \n",
      "20    NaN    NaN  \n",
      "21    NaN    NaN  \n",
      "22    NaN    NaN  \n"
     ]
    },
    {
     "name": "stderr",
     "output_type": "stream",
     "text": [
      "/Users/dodkins/PythonProjects/stocks/options_testing/options_testing/robinhood.py:37: ParserWarning: Length of header or names does not match length of data. This leads to a loss of data with index_col=False.\n",
      "  df = pd.read_csv(transactions_file_loc, index_col=False)\n"
     ]
    },
    {
     "data": {
      "text/plain": [
       "<AxesSubplot:>"
      ]
     },
     "execution_count": 3,
     "metadata": {},
     "output_type": "execute_result"
    },
    {
     "data": {
      "image/png": "[encoded data removed]",
      "text/plain": [
       "<Figure size 432x288 with 1 Axes>"
      ]
     },
     "metadata": {
      "needs_background": "light"
     },
     "output_type": "display_data"
    }
   ],
   "source": [
    "option_plays = get_options_plays()\n",
    "print(option_plays)\n",
    "option_plays['P/L'].cumsum().plot()"
   ]
  },
  {
   "cell_type": "code",
   "execution_count": 5,
   "id": "053081b6-40a6-4b26-8ba5-c4bcd8ee6a96",
   "metadata": {},
   "outputs": [],
   "source": [
    "tsla = get_tsla('8/26/2022')"
   ]
  },
  {
   "cell_type": "code",
   "execution_count": null,
   "id": "c1921ae4-a0a4-424f-9932-e8958b7604cc",
   "metadata": {},
   "outputs": [],
   "source": [
    "plot_candles(tsla)"
   ]
  }
 ],
 "metadata": {
  "kernelspec": {
   "display_name": "Python 3 (ipykernel)",
   "language": "python",
   "name": "python3"
  },
  "language_info": {
   "codemirror_mode": {
    "name": "ipython",
    "version": 3
   },
   "file_extension": ".py",
   "mimetype": "text/x-python",
   "name": "python",
   "nbconvert_exporter": "python",
   "pygments_lexer": "ipython3",
   "version": "3.8.12"
  }
 },
 "nbformat": 4,
 "nbformat_minor": 5
}
