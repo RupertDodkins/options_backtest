{
 "cells": [
  {
   "cell_type": "markdown",
   "metadata": {},
   "source": [
    "![QuantConnect Logo](https://cdn.quantconnect.com/web/i/icon.png)\n",
    "<hr>"
   ]
  },
  {
   "cell_type": "code",
   "execution_count": 1,
   "metadata": {},
   "outputs": [],
   "source": [
    "%matplotlib inline\n",
    "%load_ext autoreload\n",
    "%autoreload 2"
   ]
  },
  {
   "cell_type": "code",
   "execution_count": 36,
   "metadata": {},
   "outputs": [],
   "source": [
    "import quantconnect\n",
    "from utils import aggregate, concat_dfs, get_start_price\n",
    "from technical_analysis import get_poc\n",
    "# from strategies import measure_period_profit\n",
    "# from strategies import add_expirations"
   ]
  },
  {
   "cell_type": "code",
   "execution_count": 37,
   "metadata": {},
   "outputs": [],
   "source": [
    "qbw = quantconnect.QuantBookWrapper({'qb':QuantBook(),'Resolution':Resolution,'OptionRight':OptionRight})"
   ]
  },
  {
   "cell_type": "code",
   "execution_count": 38,
   "metadata": {},
   "outputs": [],
   "source": [
    "qb = QuantBook()\n",
    "tsla = qb.AddEquity(\"TSLA\")\n",
    "equity_symbol = tsla.Symbol"
   ]
  },
  {
   "cell_type": "code",
   "execution_count": 39,
   "metadata": {},
   "outputs": [],
   "source": [
    "tsla = qbw.get_tsla(3000)"
   ]
  },
  {
   "cell_type": "code",
   "execution_count": 41,
   "metadata": {},
   "outputs": [],
   "source": [
    "from pandas.api.types import is_datetime64_any_dtype as is_datetime"
   ]
  },
  {
   "cell_type": "code",
   "execution_count": 42,
   "metadata": {},
   "outputs": [],
   "source": [
    "def get_available(start=(2022, 8, 25), right_abrev='c'):\n",
    "    if isinstance(start, tuple):\n",
    "        start = datetime(*start)\n",
    "    contract_symbols = qb.OptionChainProvider.GetOptionContractList(equity_symbol, start)\n",
    "    if right_abrev == 'c':\n",
    "        right = OptionRight.Call\n",
    "    else:\n",
    "        right = OptionRight.Put\n",
    "\n",
    "    options = [(s.ID.Date, s.ID.StrikePrice) for s in contract_symbols if s.ID.OptionRight == right]\n",
    "    df = pd.DataFrame(data=options, columns=['expiry', 'strike'])\n",
    "    df['days_since_start'] = df['expiry'] - start\n",
    "    df = df.sort_values('strike').sort_values('days_since_start')\n",
    "\n",
    "    return df"
   ]
  },
  {
   "cell_type": "code",
   "execution_count": null,
   "metadata": {},
   "outputs": [],
   "source": [
    "def get_start_price(df, g, expiration):\n",
    "    options_create = g.underlying_open.first()\n",
    "    df = df.merge(options_create, left_on=['year' ,expiration], right_on=['year' ,expiration], suffixes=('', '_b'))\n",
    "    df = df.rename(columns={'underlying_open_b': 'start_price'})\n",
    "    return df"
   ]
  },
  {
   "cell_type": "code",
   "execution_count": null,
   "metadata": {},
   "outputs": [],
   "source": [
    "def add_expirations(df, expiration):\n",
    "    df['date'] = df.index if is_datetime(df.index) else pd.to_datetime(df.index)\n",
    "    df = df.reset_index(drop=True)\n",
    "    df['week'] = df['date'].dt.week\n",
    "    df['year'] = df['date'].dt.year\n",
    "    if expiration == 'month':\n",
    "        df['month'] = df['week'] // 4\n",
    "    g = df.groupby(['year', expiration])\n",
    "    options_exp = g.date.last()\n",
    "    options_exp.iloc[-1] += timedelta(days=4 - options_exp.iloc[-1].weekday())  # make final expiry a friday\n",
    "    df = df.merge(options_exp, left_on=['year', expiration], right_on=['year', expiration], suffixes=('', '_expiration'))\n",
    "    df['dte'] = (df['date_expiration'] - df['date'])/pd.Timedelta(1.0, unit='D')\n",
    "\n",
    "    return df, g"
   ]
  },
  {
   "cell_type": "code",
   "execution_count": 56,
   "metadata": {},
   "outputs": [],
   "source": [
    "def measure_period_profit(df, strategy, expiration='week', update_freq='candle', poc_window=0):\n",
    "    df = df.rename(columns={'open': 'underlying_open', 'high': 'underlying_high',\n",
    "                        'low': 'underlying_low', 'close': 'underlying_close'})\n",
    "    df['strategy_open'] = 0\n",
    "    df['strategy_close'] = 0\n",
    "    df['hourly_profit'] = 0\n",
    "    df, g = add_expirations(df, expiration=expiration)\n",
    "    \n",
    "    if update_freq == 'candle':\n",
    "        if poc_window:\n",
    "            df = concat_dfs(df, get_poc(df, poc_window))\n",
    "            guide = 'poc'\n",
    "        else:\n",
    "            guide = 'underlying_open'\n",
    "    elif update_freq == 'once':\n",
    "        df = concat_dfs(df, get_start_price(df, g, expiration))\n",
    "        guide = 'start_price'\n",
    "\n",
    "    df = strategy.get_strikes(df, guide)\n",
    "    legs = [l.split('_strike')[0] for l in strategy.legs]\n",
    "    for leg in legs:\n",
    "        df[leg+'_open'] = 0\n",
    "        df[leg+'_close'] = 0\n",
    "    \n",
    "    # print(df.head())\n",
    "    for ih, (date, candle) in enumerate(df.iterrows()):\n",
    "        # df.at[ih, 'strategy_open'], df.at[ih, 'strategy_close'] = strategy.candle_profit(candle)\n",
    "        legs_open, legs_close = strategy.candle_profit(candle, combine_legs=False)\n",
    "        df.at[ih, 'strategy_open'], df.at[ih, 'strategy_close'] = np.sum(legs_open),  np.sum(legs_close)\n",
    "        for leg, open, close in zip(legs, legs_open, legs_close):\n",
    "            df.at[ih, leg+'_open'] = open\n",
    "            df.at[ih, leg+'_close'] = close\n",
    "\n",
    "    df['hourly_profit'] = -df['strategy_close'].diff()\n",
    "    # df['hourly_profit'][df['new_option']] = df['strategy_open'] - df['strategy_close']\n",
    "    df.loc[df.new_option.array, 'hourly_profit'] = df['strategy_open'] - df['strategy_close']\n",
    "    df['running_profit'] = df['hourly_profit'].cumsum()\n",
    "\n",
    "    return df\n"
   ]
  },
  {
   "cell_type": "code",
   "execution_count": 44,
   "metadata": {},
   "outputs": [],
   "source": [
    "def option_history(strike, expiry, start=(2022, 8, 25), right_abrev='c', res_abrev='h', split_correct=(2022, 8, 25)):\n",
    "    if split_correct:\n",
    "        if start < datetime(*split_correct):\n",
    "            strike *= 3\n",
    "    expiry = expiry.replace(hour=0, minute=0)\n",
    "    start = start.replace(hour=0, minute=0)\n",
    "    contract_symbols = qb.OptionChainProvider.GetOptionContractList(equity_symbol, start)\n",
    "    if right_abrev == 'c':\n",
    "        right =  OptionRight.Call\n",
    "    else:\n",
    "        right =  OptionRight.Put\n",
    "    if res_abrev == 'h':\n",
    "        resolution = Resolution.Hour\n",
    "    else:\n",
    "        raise NotImplementedError\n",
    "\n",
    "    options = [s for s in contract_symbols if s.ID.OptionRight == right and s.ID.StrikePrice == strike and s.ID.Date == expiry]\n",
    "    if len(options) == 0:\n",
    "        print('empty options', f'strike: {strike}, expiry: {expiry}, start: {start}, right_abrev: {right_abrev}, res_abrev: {res_abrev}')\n",
    "        # start_tuple = attrgetter(*('year', 'month', 'day'))(start)\n",
    "        df = get_available(start)\n",
    "        df = df[df['expiry'] == datetime(2022,2,18)]\n",
    "        print('all options at that expiry: ', df)\n",
    "    assert len(options) == 1\n",
    "    history = qb.History(options[0], start, expiry + timedelta(days=1), resolution)\n",
    "    return history"
   ]
  },
  {
   "cell_type": "code",
   "execution_count": 45,
   "metadata": {},
   "outputs": [],
   "source": [
    "class IronCondors():\n",
    "    def __init__(self, long_offset=5, short_offset=5, wing_distance=1, use_historical=True):\n",
    "        self.long_offset = long_offset\n",
    "        self.short_offset = short_offset\n",
    "        self.wing_distance = wing_distance\n",
    "        self.legs = ['sell_call_strike', 'buy_call_strike', 'sell_put_strike', 'buy_put_strike']\n",
    "        self.use_historical = use_historical\n",
    "        self.option_history = {}\n",
    "\n",
    "    def get_strikes(self, df, guide):\n",
    "        df['sell_call_strike'] = df[guide] * (1 + self.short_offset / 100.)\n",
    "        df['buy_call_strike'] = df['sell_call_strike'] * (1 + self.wing_distance / 100.)\n",
    "        df['sell_put_strike'] = df[guide] * (1 - self.long_offset / 100.)\n",
    "        df['buy_put_strike'] = df['sell_put_strike'] * (1 - self.wing_distance / 100.)\n",
    "\n",
    "        if self.use_historical:\n",
    "            for index, row in df.iterrows():\n",
    "                for i, leg in enumerate(self.legs):\n",
    "                    meta = leg.split('_')\n",
    "                    contract = meta[1][0]\n",
    "                    if i % 2 == 0:\n",
    "                        strikes = get_available_strikes(\n",
    "                            row['date'], \n",
    "                            row['date_expiration'], contract\n",
    "                        )\n",
    "                        if row['date_expiration'] == datetime(2022,2,18):\n",
    "                            print(row['date'], strikes)\n",
    "                        if len(strikes) == 0:  # use previous in the case of misssing data\n",
    "                            strikes = np.array([df.iloc[index-1][leg]])\n",
    "                        \n",
    "                    \n",
    "                    df.at[index, leg] = strikes[np.argmin(np.abs(strikes-row[leg]))]\n",
    "        \n",
    "        df['new_option'] = (df.sell_call_strike.diff() + df.date_expiration.diff()/pd.Timedelta(1.0, unit='D')) != 0.  #+ df.right.diff()\n",
    "        return df\n",
    "\n",
    "    def candle_profit(self, candle, combine_legs=True):\n",
    "        if combine_legs:\n",
    "            open, close = 0, 0\n",
    "        else:\n",
    "            open, close = [], []\n",
    "        for leg in self.legs:\n",
    "            meta = leg.split('_')\n",
    "            contract = meta[1][0]\n",
    "            money_gained = [-1, 1][meta[0] == 'sell']\n",
    "            if self.use_historical:\n",
    "                if candle['new_option']:\n",
    "                    self.option_history[leg] = option_history(candle[leg], candle['date_expiration'], \n",
    "                                                            start=candle['date'], right_abrev=contract).droplevel([0,1,2,3])\n",
    "                    # print(candle['date'], leg.split('_strike')[0], self.option_history[leg][self.option_history[leg].index == candle['date']][['open', 'close']])\n",
    "                leg_open = self.option_history[leg][self.option_history[leg].index == candle['date']]['open'].array[0]\n",
    "                leg_close = self.option_history[leg][self.option_history[leg].index == candle['date']]['close'].array[0]\n",
    "            else:\n",
    "                leg_open = op.black_scholes(\n",
    "                    K=candle[leg], St=candle['underlying_open'], r=3, t=candle['dte']+1./24, v=53, type=contract\n",
    "                )['value']['option value']\n",
    "                leg_close = op.black_scholes(\n",
    "                    K=candle[leg], St=candle['underlying_close'], r=3, t=candle['dte'], v=53, type=contract\n",
    "                )['value']['option value']\n",
    "            leg_open *= money_gained \n",
    "            leg_close *= money_gained\n",
    "            if not combine_legs:\n",
    "                leg_open, leg_close = [leg_open], [leg_close]\n",
    "            open += leg_open\n",
    "            close += leg_close\n",
    "            # print('open', leg_open, open, np.sum(open))\n",
    "            \n",
    "        return open, close"
   ]
  },
  {
   "cell_type": "code",
   "execution_count": 46,
   "metadata": {},
   "outputs": [],
   "source": [
    "def get_available_strikes(start=(2022, 8, 25), expiration=(2022,10,14), right_abrev='c', split_correct=(2022, 8, 25)):\n",
    "    # start = datetime(*start)\n",
    "    # expiration = datetime(*expiration)\n",
    "    expiration = expiration.replace(hour=0, minute=0)\n",
    "    if start.replace(hour=0, minute=0) == expiration:\n",
    "        start -= timedelta(days=1)\n",
    "    contract_symbols = qb.OptionChainProvider.GetOptionContractList(equity_symbol, start)\n",
    "    if right_abrev == 'c':\n",
    "        right = OptionRight.Call\n",
    "    else:\n",
    "        right = OptionRight.Put\n",
    "\n",
    "    strikes = np.array([s.ID.StrikePrice for s in contract_symbols if s.ID.OptionRight == right and s.ID.Date == expiration])\n",
    "    if split_correct:\n",
    "        if start < datetime(*split_correct):\n",
    "            strikes /= 3\n",
    "\n",
    "    return strikes"
   ]
  },
  {
   "cell_type": "code",
   "execution_count": 62,
   "metadata": {},
   "outputs": [],
   "source": [
    "ic.loc[40:42][['underlying_close', 'underlying_open', 'strategy_open', 'strategy_close',\t'sell_call_open', 'sell_call_close','buy_call_open','buy_call_close','sell_put_open','sell_put_close','buy_put_open','buy_put_close']]"
   ]
  },
  {
   "cell_type": "code",
   "execution_count": 66,
   "metadata": {},
   "outputs": [],
   "source": [
    "option_history(345.0, datetime(2022,4,8), start=datetime(2022,4,8), right_abrev='p').droplevel([0,1,2,3])"
   ]
  },
  {
   "cell_type": "code",
   "execution_count": 42,
   "metadata": {},
   "outputs": [],
   "source": [
    "ic.columns"
   ]
  },
  {
   "cell_type": "code",
   "execution_count": 45,
   "metadata": {},
   "outputs": [],
   "source": [
    "ic[['underlying_open', 'sell_call_strike', 'sell_put_strike', 'sell_call_open', 'sell_put_open']]"
   ]
  },
  {
   "cell_type": "code",
   "execution_count": 26,
   "metadata": {},
   "outputs": [],
   "source": [
    "ic.iloc[30:80]"
   ]
  },
  {
   "cell_type": "code",
   "execution_count": 47,
   "metadata": {},
   "outputs": [],
   "source": [
    "from analysis import movement_vs_profit\n",
    "import plots"
   ]
  },
  {
   "cell_type": "code",
   "execution_count": 45,
   "metadata": {},
   "outputs": [],
   "source": [
    "for offsets in [7.5,15]:\n",
    "    ic_strat = IronCondors(long_offset=offsets, short_offset=offsets)\n",
    "    ic = measure_period_profit(tsla,  \n",
    "        ic_strat,\n",
    "        expiration='week',\n",
    "        update_freq='once')\n",
    "    # print(ic.head())\n",
    "    movement_vs_profit(ic)\n",
    "    plots.plot_candles_and_profit(ic, lines=ic_strat.legs)"
   ]
  },
  {
   "cell_type": "code",
   "execution_count": 54,
   "metadata": {},
   "outputs": [],
   "source": [
    "ic_strat = IronCondors(long_offset=7.5, short_offset=7.5)\n",
    "ic = measure_period_profit(tsla,  \n",
    "    ic_strat,\n",
    "    expiration='week',\n",
    "    update_freq='once')"
   ]
  },
  {
   "cell_type": "code",
   "execution_count": 55,
   "metadata": {},
   "outputs": [],
   "source": [
    "ic"
   ]
  },
  {
   "cell_type": "code",
   "execution_count": 58,
   "metadata": {},
   "outputs": [],
   "source": [
    "df = ic\n",
    "strategy = ic_strat\n",
    "legs = [l.split('_strike')[0] for l in strategy.legs]\n",
    "for leg in legs:\n",
    "    df[leg+'_open'] = 0\n",
    "    df[leg+'_close'] = 0\n",
    "\n",
    "# print(df.head())\n",
    "for ih, (date, candle) in enumerate(df.iterrows()):\n",
    "    # df.at[ih, 'strategy_open'], df.at[ih, 'strategy_close'] = strategy.candle_profit(candle)\n",
    "    legs_open, legs_close = strategy.candle_profit(candle, combine_legs=False)\n",
    "    df.at[ih, 'strategy_open'], df.at[ih, 'strategy_close'] = np.sum(legs_open),  np.sum(legs_close)\n",
    "    for leg, open, close in zip(legs, legs_open, legs_close):\n",
    "        df.at[ih, leg+'_open'] = open\n",
    "        df.at[ih, leg+'_close'] = close"
   ]
  },
  {
   "cell_type": "code",
   "execution_count": 59,
   "metadata": {},
   "outputs": [],
   "source": [
    "df['hourly_profit'] = -df['strategy_close'].diff()\n",
    "# df['hourly_profit'][df['new_option']] = df['strategy_open'] - df['strategy_close']\n",
    "df.loc[df.new_option.array, 'hourly_profit'] = df['strategy_open'] - df['strategy_close']\n",
    "df['running_profit'] = df['hourly_profit'].cumsum()"
   ]
  },
  {
   "cell_type": "code",
   "execution_count": 60,
   "metadata": {},
   "outputs": [],
   "source": [
    "ic = df"
   ]
  },
  {
   "cell_type": "code",
   "execution_count": 61,
   "metadata": {},
   "outputs": [],
   "source": [
    "movement_vs_profit(ic)\n",
    "plots.plot_candles_and_profit(ic, lines=ic_strat.legs)"
   ]
  },
  {
   "cell_type": "code",
   "execution_count": 62,
   "metadata": {},
   "outputs": [],
   "source": [
    "for offsets in [10,15]:\n",
    "    ic_strat = IronCondors(long_offset=offsets, short_offset=offsets)\n",
    "    ic = measure_period_profit(tsla,  \n",
    "        ic_strat,\n",
    "        expiration='week',\n",
    "        update_freq='once')\n",
    "    # print(ic.head())\n",
    "    movement_vs_profit(ic)\n",
    "    plots.plot_candles_and_profit(ic, lines=ic_strat.legs)"
   ]
  },
  {
   "cell_type": "code",
   "execution_count": 63,
   "metadata": {},
   "outputs": [],
   "source": [
    "for offsets in [20]:\n",
    "    ic_strat = IronCondors(long_offset=offsets, short_offset=offsets)\n",
    "    ic = measure_period_profit(tsla,  \n",
    "        ic_strat,\n",
    "        expiration='week',\n",
    "        update_freq='once')\n",
    "    # print(ic.head())\n",
    "    movement_vs_profit(ic)\n",
    "    plots.plot_candles_and_profit(ic, lines=ic_strat.legs)"
   ]
  },
  {
   "cell_type": "code",
   "execution_count": 65,
   "metadata": {},
   "outputs": [],
   "source": [
    "ic.iloc[200:250]"
   ]
  },
  {
   "cell_type": "code",
   "execution_count": 69,
   "metadata": {},
   "outputs": [],
   "source": [
    "ic.loc[350:400][[\n",
    "    'underlying_close', 'underlying_open', 'strategy_open', 'strategy_close',\t\n",
    "    #'sell_call_open', 'sell_call_close','buy_call_open','buy_call_close', 'sell_put_open','sell_put_close','buy_put_open','buy_put_close', \n",
    "    'date', 'dte',\n",
    "    'running_profit'\n",
    "    ]]"
   ]
  },
  {
   "cell_type": "code",
   "execution_count": 70,
   "metadata": {},
   "outputs": [],
   "source": [
    "ic.iloc[371]"
   ]
  },
  {
   "cell_type": "code",
   "execution_count": 76,
   "metadata": {},
   "outputs": [],
   "source": [
    "option_history(185., datetime(2021,5,7), start=datetime(2021, 5, 3), right_abrev='p').iloc[:5]"
   ]
  },
  {
   "cell_type": "code",
   "execution_count": 77,
   "metadata": {},
   "outputs": [],
   "source": [
    "option_history(190., datetime(2021,5,7), start=datetime(2021, 5, 3), right_abrev='p').iloc[:5]"
   ]
  },
  {
   "cell_type": "code",
   "execution_count": 78,
   "metadata": {},
   "outputs": [],
   "source": [
    "option_history(180., datetime(2021,5,7), start=datetime(2021, 5, 3), right_abrev='p').iloc[:5]"
   ]
  },
  {
   "cell_type": "code",
   "execution_count": 81,
   "metadata": {},
   "outputs": [],
   "source": [
    "plots.plot_candles_and_profit(ic, lines=ic_strat.legs, metric='strategy_open')"
   ]
  },
  {
   "cell_type": "code",
   "execution_count": 25,
   "metadata": {},
   "outputs": [],
   "source": [
    "ic.iloc[30:80]"
   ]
  },
  {
   "cell_type": "code",
   "execution_count": 21,
   "metadata": {},
   "outputs": [],
   "source": [
    "plots.plot_candles_and_profit(ic, lines=ic_strat.legs, show_afterhours=True)"
   ]
  },
  {
   "cell_type": "code",
   "execution_count": 22,
   "metadata": {},
   "outputs": [],
   "source": [
    "import plots"
   ]
  },
  {
   "cell_type": "code",
   "execution_count": 23,
   "metadata": {},
   "outputs": [],
   "source": [
    "plots.plot_candles_and_profit(ic, lines=ic_strat.legs)"
   ]
  },
  {
   "cell_type": "code",
   "execution_count": 24,
   "metadata": {},
   "outputs": [],
   "source": [
    "ic.iloc[75:100]"
   ]
  },
  {
   "cell_type": "code",
   "execution_count": null,
   "metadata": {},
   "outputs": [],
   "source": [
    "ic_strat = IronCondors()\n",
    "ic = measure_period_profit(tsla,  \n",
    "    ic_strat,\n",
    "    expiration='month',\n",
    "    update_freq='once')\n",
    "ic\n",
    "movement_vs_profit(ic)\n",
    "plots.plot_candles_and_profit(ic, lines=ic_strat.legs)"
   ]
  },
  {
   "cell_type": "code",
   "execution_count": 27,
   "metadata": {},
   "outputs": [],
   "source": [
    "df =get_available((2022,3,23))"
   ]
  },
  {
   "cell_type": "code",
   "execution_count": 36,
   "metadata": {},
   "outputs": [],
   "source": [
    "df.sort_values('days_since_start')[100:150]"
   ]
  },
  {
   "cell_type": "code",
   "execution_count": 31,
   "metadata": {},
   "outputs": [],
   "source": [
    "plots.scatter_heatmap(df['strike'].array, df['days_since_start'].dt.days.array)"
   ]
  },
  {
   "cell_type": "code",
   "execution_count": 37,
   "metadata": {},
   "outputs": [],
   "source": [
    "df, g = add_expirations(tsla, expiration='month')"
   ]
  },
  {
   "cell_type": "code",
   "execution_count": 44,
   "metadata": {},
   "outputs": [],
   "source": [
    "def add_expirations(df, expiration):\n",
    "    df['date'] = df.index if is_datetime(df.index) else pd.to_datetime(df.index)\n",
    "    df = df.reset_index(drop=True)\n",
    "    df['week'] = df['date'].dt.week\n",
    "    if expiration == 'month':\n",
    "        df['month'] = df['week'] // 4\n",
    "    g = df.groupby(expiration)\n",
    "    options_exp = g.date.last()\n",
    "    options_exp.iloc[-1] += timedelta(days=4 - options_exp.iloc[-1].weekday())  # make final expiry a friday\n",
    "    df = df.merge(options_exp, left_on=expiration, right_on=expiration, suffixes=('', '_expiration'))\n",
    "    df['dte'] = (df['date_expiration'] - df['date'])/pd.Timedelta(1.0, unit='D')\n",
    "\n",
    "    return df, g"
   ]
  },
  {
   "cell_type": "code",
   "execution_count": 42,
   "metadata": {},
   "outputs": [],
   "source": [
    "from pandas.api.types import is_datetime64_any_dtype as is_datetime"
   ]
  },
  {
   "cell_type": "code",
   "execution_count": 45,
   "metadata": {},
   "outputs": [],
   "source": [
    "df, g = add_expirations(tsla, expiration='month')\n",
    "df[:50]"
   ]
  },
  {
   "cell_type": "code",
   "execution_count": 46,
   "metadata": {},
   "outputs": [],
   "source": [
    "ic_strat = IronCondors()\n",
    "ic = measure_period_profit(tsla,  \n",
    "    ic_strat,\n",
    "    expiration='month',\n",
    "    update_freq='once')\n",
    "ic\n",
    "movement_vs_profit(ic)\n",
    "plots.plot_candles_and_profit(ic, lines=ic_strat.legs, show_afterhours=False)"
   ]
  },
  {
   "cell_type": "code",
   "execution_count": 47,
   "metadata": {},
   "outputs": [],
   "source": [
    "plots.plot_candles_and_profit(ic, lines=ic_strat.legs, show_afterhours=False)"
   ]
  },
  {
   "cell_type": "code",
   "execution_count": 48,
   "metadata": {},
   "outputs": [],
   "source": [
    "ic_strat = IronCondors(20,20)\n",
    "ic = measure_period_profit(tsla,  \n",
    "    ic_strat,\n",
    "    expiration='month',\n",
    "    update_freq='once')\n",
    "ic\n",
    "movement_vs_profit(ic)\n",
    "plots.plot_candles_and_profit(ic, lines=ic_strat.legs, show_afterhours=False)"
   ]
  },
  {
   "cell_type": "code",
   "execution_count": 49,
   "metadata": {},
   "outputs": [],
   "source": [
    "ic_strat = IronCondors(10,10, 5)\n",
    "ic = measure_period_profit(tsla,  \n",
    "    ic_strat,\n",
    "    expiration='month',\n",
    "    update_freq='once')\n",
    "ic\n",
    "movement_vs_profit(ic)\n",
    "plots.plot_candles_and_profit(ic, lines=ic_strat.legs, show_afterhours=False)"
   ]
  },
  {
   "cell_type": "code",
   "execution_count": 51,
   "metadata": {},
   "outputs": [],
   "source": [
    "ic_strat = IronCondors(10,10, 5)\n",
    "ic = measure_period_profit(tsla,  \n",
    "    ic_strat,\n",
    "    expiration='month',\n",
    "    update_freq='candle')\n",
    "ic\n",
    "movement_vs_profit(ic)\n",
    "plots.plot_candles_and_profit(ic, lines=ic_strat.legs, show_afterhours=False)"
   ]
  },
  {
   "cell_type": "code",
   "execution_count": 62,
   "metadata": {},
   "outputs": [],
   "source": [
    "df = get_available((2022,9,28))\n",
    "df.sort_values('days_since_start')[:50].sort_values('strike')"
   ]
  },
  {
   "cell_type": "code",
   "execution_count": 52,
   "metadata": {},
   "outputs": [],
   "source": [
    "ic_strat = IronCondors(10,10, 5)\n",
    "ic = measure_period_profit(tsla[:800],  \n",
    "    ic_strat,\n",
    "    expiration='month',\n",
    "    update_freq='candle')\n",
    "ic\n",
    "movement_vs_profit(ic)\n",
    "plots.plot_candles_and_profit(ic, lines=ic_strat.legs, show_afterhours=False)"
   ]
  },
  {
   "cell_type": "code",
   "execution_count": 63,
   "metadata": {},
   "outputs": [],
   "source": [
    "ic_strat = IronCondors(10,10, 5)\n",
    "ic = measure_period_profit(tsla[:800],  \n",
    "    ic_strat,\n",
    "    expiration='month',\n",
    "    update_freq='candle',\n",
    "    poc_window=30)\n",
    "ic\n",
    "movement_vs_profit(ic)\n",
    "plots.plot_candles_and_profit(ic, lines=ic_strat.legs, show_afterhours=False)"
   ]
  }
 ],
 "metadata": {
  "kernelspec": {
   "display_name": "Python 3 (ipykernel)",
   "language": "python",
   "name": "python3"
  },
  "language_info": {
   "codemirror_mode": {
    "name": "ipython",
    "version": 3
   },
   "file_extension": ".py",
   "mimetype": "text/x-python",
   "name": "python",
   "nbconvert_exporter": "python",
   "pygments_lexer": "ipython3",
   "version": "3.8.12"
  },
  "vscode": {
   "interpreter": {
    "hash": "3d597f4c481aa0f25dceb95d2a0067e73c0966dcbd003d741d821a7208527ecf"
   }
  }
 },
 "nbformat": 4,
 "nbformat_minor": 4
}
